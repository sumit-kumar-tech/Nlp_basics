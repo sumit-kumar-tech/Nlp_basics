{
 "cells": [
  {
   "cell_type": "code",
   "execution_count": 1,
   "metadata": {},
   "outputs": [],
   "source": [
    "# it works on NN arcticture (cbow, skipgram) ----> small data ----> cbow, large data -----> skipgram\n",
    "# It capture the sementic meaning\n",
    "# low dimension of collection\n",
    "# computation time is low\n",
    "# dense vector\n",
    "# over fitting problem not occure in this"
   ]
  },
  {
   "cell_type": "code",
   "execution_count": 8,
   "metadata": {},
   "outputs": [],
   "source": [
    "import gensim\n",
    "from gensim.models import word2vec, keyedvectors"
   ]
  },
  {
   "cell_type": "code",
   "execution_count": 5,
   "metadata": {},
   "outputs": [],
   "source": [
    "model = keyedvectors.load_word2vec_format('GoogleNews-vectors-negative300.bin', binary=True)"
   ]
  },
  {
   "cell_type": "code",
   "execution_count": 13,
   "metadata": {},
   "outputs": [
    {
     "data": {
      "text/plain": [
       "array([-3.67187500e-01, -1.21582031e-01,  2.85156250e-01,  8.15429688e-02,\n",
       "        3.19824219e-02, -3.19824219e-02,  1.34765625e-01, -2.73437500e-01,\n",
       "        9.46044922e-03, -1.07421875e-01,  2.48046875e-01, -6.05468750e-01,\n",
       "        5.02929688e-02,  2.98828125e-01,  9.57031250e-02,  1.39648438e-01,\n",
       "       -5.41992188e-02,  2.91015625e-01,  2.85156250e-01,  1.51367188e-01,\n",
       "       -2.89062500e-01, -3.46679688e-02,  1.81884766e-02, -3.92578125e-01,\n",
       "        2.46093750e-01,  2.51953125e-01, -9.86328125e-02,  3.22265625e-01,\n",
       "        4.49218750e-01, -1.36718750e-01, -2.34375000e-01,  4.12597656e-02,\n",
       "       -2.15820312e-01,  1.69921875e-01,  2.56347656e-02,  1.50146484e-02,\n",
       "       -3.75976562e-02,  6.95800781e-03,  4.00390625e-01,  2.09960938e-01,\n",
       "        1.17675781e-01, -4.19921875e-02,  2.34375000e-01,  2.03125000e-01,\n",
       "       -1.86523438e-01, -2.46093750e-01,  3.12500000e-01, -2.59765625e-01,\n",
       "       -1.06933594e-01,  1.04003906e-01, -1.79687500e-01,  5.71289062e-02,\n",
       "       -7.41577148e-03, -5.59082031e-02,  7.61718750e-02, -4.14062500e-01,\n",
       "       -3.65234375e-01, -3.35937500e-01, -1.54296875e-01, -2.39257812e-01,\n",
       "       -3.73046875e-01,  2.27355957e-03, -3.51562500e-01,  8.64257812e-02,\n",
       "        1.26953125e-01,  2.21679688e-01, -9.86328125e-02,  1.08886719e-01,\n",
       "        3.65234375e-01, -5.66406250e-02,  5.66406250e-02, -1.09375000e-01,\n",
       "       -1.66992188e-01, -4.54101562e-02, -2.00195312e-01, -1.22558594e-01,\n",
       "        1.31835938e-01, -1.31835938e-01,  1.03027344e-01, -3.41796875e-01,\n",
       "       -1.57226562e-01,  2.04101562e-01,  4.39453125e-02,  2.44140625e-01,\n",
       "       -3.19824219e-02,  3.20312500e-01, -4.41894531e-02,  1.08398438e-01,\n",
       "       -4.98046875e-02, -9.52148438e-03,  2.46093750e-01, -5.59082031e-02,\n",
       "        4.07714844e-02, -1.78222656e-02, -2.95410156e-02,  1.65039062e-01,\n",
       "        5.03906250e-01, -2.81250000e-01,  9.81445312e-02,  1.80664062e-02,\n",
       "       -1.83593750e-01,  2.53906250e-01,  2.25585938e-01,  1.63574219e-02,\n",
       "        1.81640625e-01,  1.38671875e-01,  3.33984375e-01,  1.39648438e-01,\n",
       "        1.45874023e-02, -2.89306641e-02, -8.39843750e-02,  1.50390625e-01,\n",
       "        1.67968750e-01,  2.28515625e-01,  3.59375000e-01,  1.22558594e-01,\n",
       "       -3.28125000e-01, -1.56250000e-01,  2.77343750e-01,  1.77001953e-02,\n",
       "       -1.46484375e-01, -4.51660156e-03, -4.46777344e-02,  1.75781250e-01,\n",
       "       -3.75000000e-01,  1.16699219e-01, -1.39648438e-01,  2.55859375e-01,\n",
       "       -1.96289062e-01, -2.57568359e-02, -5.41992188e-02, -2.51464844e-02,\n",
       "       -1.93359375e-01, -3.17382812e-02, -8.74023438e-02, -1.32812500e-01,\n",
       "       -2.12402344e-02,  4.33593750e-01, -5.20019531e-02,  3.46679688e-02,\n",
       "        8.00781250e-02,  3.41796875e-02,  1.99218750e-01, -2.39257812e-02,\n",
       "       -2.37304688e-01,  1.93359375e-01,  7.32421875e-02, -2.87109375e-01,\n",
       "        1.25000000e-01,  8.44726562e-02,  1.30859375e-01, -2.19726562e-01,\n",
       "       -1.61132812e-01, -2.63671875e-01, -5.46875000e-01, -2.96875000e-01,\n",
       "        3.44238281e-02, -2.87109375e-01, -1.93359375e-01, -1.61132812e-01,\n",
       "       -3.84765625e-01, -2.14843750e-01, -6.22558594e-03, -1.27929688e-01,\n",
       "       -1.00097656e-01, -6.21093750e-01,  3.78906250e-01, -4.58984375e-01,\n",
       "        1.44531250e-01, -9.13085938e-02, -3.08593750e-01,  2.23632812e-01,\n",
       "        7.86132812e-02, -2.16796875e-01,  8.78906250e-02, -1.66992188e-01,\n",
       "        1.14746094e-02, -2.53906250e-01, -6.25000000e-02,  6.04248047e-03,\n",
       "        1.56250000e-01,  4.37500000e-01, -2.23632812e-01, -2.32421875e-01,\n",
       "        2.75390625e-01,  2.39257812e-01,  4.49218750e-02, -7.51953125e-02,\n",
       "        5.74218750e-01, -2.61230469e-02, -1.21582031e-01,  2.44140625e-01,\n",
       "       -3.37890625e-01,  8.59375000e-02, -7.71484375e-02,  4.85839844e-02,\n",
       "        1.43554688e-01,  4.25781250e-01, -4.29687500e-02, -1.08398438e-01,\n",
       "        1.19628906e-01, -1.91406250e-01, -2.12890625e-01, -2.87109375e-01,\n",
       "       -1.14746094e-01, -2.04101562e-01, -2.06298828e-02, -2.53906250e-01,\n",
       "        8.25195312e-02, -3.97949219e-02, -1.57226562e-01,  1.34765625e-01,\n",
       "        2.08007812e-01, -1.78710938e-01, -2.00195312e-02, -8.34960938e-02,\n",
       "       -1.20605469e-01,  4.29687500e-02, -1.94335938e-01, -1.32812500e-01,\n",
       "       -2.17285156e-02, -2.35351562e-01, -3.63281250e-01,  1.51367188e-01,\n",
       "        9.32617188e-02,  1.63085938e-01,  1.02050781e-01, -4.27734375e-01,\n",
       "        2.83203125e-01,  2.74658203e-04, -3.20312500e-01,  1.68457031e-02,\n",
       "        4.06250000e-01, -5.24902344e-02,  7.91015625e-02, -1.41601562e-01,\n",
       "        5.27343750e-01, -1.26953125e-01,  4.74609375e-01, -6.64062500e-02,\n",
       "        3.41796875e-01, -1.78710938e-01,  3.69140625e-01, -2.05078125e-01,\n",
       "        5.82885742e-03, -1.84570312e-01, -8.88671875e-02, -1.81640625e-01,\n",
       "       -4.80957031e-02,  4.39453125e-01,  2.12890625e-01, -3.07617188e-02,\n",
       "        9.32617188e-02,  2.40234375e-01,  2.39257812e-01,  2.51953125e-01,\n",
       "       -1.98974609e-02,  1.24511719e-01, -4.73632812e-02, -2.13623047e-02,\n",
       "        3.12500000e-02,  3.05175781e-02,  2.79296875e-01,  9.08203125e-02,\n",
       "       -2.02148438e-01, -2.19726562e-02, -2.63671875e-01,  8.78906250e-02,\n",
       "       -1.07421875e-01, -2.49023438e-01, -1.22070312e-02,  1.73828125e-01,\n",
       "       -9.91210938e-02,  7.27539062e-02,  2.59765625e-01, -4.60937500e-01,\n",
       "        3.59375000e-01, -2.25585938e-01,  1.87988281e-02, -2.19726562e-01,\n",
       "       -2.08984375e-01, -1.51367188e-01,  8.64257812e-02,  1.11694336e-02,\n",
       "        6.93359375e-02, -2.99072266e-02,  1.43554688e-01,  1.89453125e-01,\n",
       "       -1.32812500e-01,  4.72656250e-01, -1.40625000e-01, -2.52685547e-02,\n",
       "        1.91406250e-01, -2.63671875e-01, -1.39648438e-01,  1.09375000e-01,\n",
       "        1.97753906e-02,  2.49023438e-01, -1.42578125e-01,  4.15039062e-02],\n",
       "      dtype=float32)"
      ]
     },
     "execution_count": 13,
     "metadata": {},
     "output_type": "execute_result"
    }
   ],
   "source": [
    "model['cricket']"
   ]
  },
  {
   "cell_type": "code",
   "execution_count": 20,
   "metadata": {},
   "outputs": [
    {
     "data": {
      "text/plain": [
       "[('woman', 0.7664012908935547),\n",
       " ('boy', 0.6824870705604553),\n",
       " ('teenager', 0.6586930155754089),\n",
       " ('teenage_girl', 0.6147903203964233),\n",
       " ('girl', 0.5921714305877686),\n",
       " ('suspected_purse_snatcher', 0.5716364979743958),\n",
       " ('robber', 0.5585118532180786),\n",
       " ('Robbery_suspect', 0.5584409832954407),\n",
       " ('teen_ager', 0.5549196004867554),\n",
       " ('men', 0.5489763021469116)]"
      ]
     },
     "execution_count": 20,
     "metadata": {},
     "output_type": "execute_result"
    }
   ],
   "source": [
    "model.most_similar('man')"
   ]
  },
  {
   "cell_type": "code",
   "execution_count": 21,
   "metadata": {},
   "outputs": [
    {
     "data": {
      "text/plain": [
       "0.76640123"
      ]
     },
     "execution_count": 21,
     "metadata": {},
     "output_type": "execute_result"
    }
   ],
   "source": [
    "model.similarity('man','woman')"
   ]
  },
  {
   "cell_type": "code",
   "execution_count": 23,
   "metadata": {},
   "outputs": [
    {
     "data": {
      "text/plain": [
       "0.008337107"
      ]
     },
     "execution_count": 23,
     "metadata": {},
     "output_type": "execute_result"
    }
   ],
   "source": [
    "model.similarity('man','php')"
   ]
  },
  {
   "cell_type": "code",
   "execution_count": 24,
   "metadata": {},
   "outputs": [
    {
     "data": {
      "text/plain": [
       "'sumit'"
      ]
     },
     "execution_count": 24,
     "metadata": {},
     "output_type": "execute_result"
    }
   ],
   "source": [
    "model.doesnt_match(['PHP','Python','sumit'])"
   ]
  },
  {
   "cell_type": "code",
   "execution_count": 27,
   "metadata": {},
   "outputs": [],
   "source": [
    "vec = model['king'] - model['man'] + model['queen']"
   ]
  },
  {
   "cell_type": "code",
   "execution_count": 28,
   "metadata": {},
   "outputs": [
    {
     "data": {
      "text/plain": [
       "[('queen', 0.8422121405601501),\n",
       " ('king', 0.8070623278617859),\n",
       " ('queens', 0.6293326020240784),\n",
       " ('monarch', 0.6233264803886414),\n",
       " ('kings', 0.5990484356880188),\n",
       " ('princess', 0.5685815215110779),\n",
       " ('royal', 0.55137038230896),\n",
       " ('princes', 0.5398682951927185),\n",
       " ('NYC_anglophiles_aflutter', 0.5370354652404785),\n",
       " ('Queen_Consort', 0.5246095061302185)]"
      ]
     },
     "execution_count": 28,
     "metadata": {},
     "output_type": "execute_result"
    }
   ],
   "source": [
    "model.most_similar([vec])"
   ]
  },
  {
   "cell_type": "markdown",
   "metadata": {},
   "source": [
    "# Training your own model"
   ]
  },
  {
   "cell_type": "code",
   "execution_count": 1,
   "metadata": {},
   "outputs": [],
   "source": [
    "import numpy as np\n",
    "import pandas as pd\n",
    "import gensim\n",
    "import os\n",
    "import nltk"
   ]
  },
  {
   "cell_type": "code",
   "execution_count": 2,
   "metadata": {},
   "outputs": [
    {
     "name": "stderr",
     "output_type": "stream",
     "text": [
      "[nltk_data] Downloading collection 'all'\n",
      "[nltk_data]    | \n",
      "[nltk_data]    | Downloading package abc to\n",
      "[nltk_data]    |     /Users/sumitkumar/nltk_data...\n",
      "[nltk_data]    |   Package abc is already up-to-date!\n",
      "[nltk_data]    | Downloading package alpino to\n",
      "[nltk_data]    |     /Users/sumitkumar/nltk_data...\n",
      "[nltk_data]    |   Package alpino is already up-to-date!\n",
      "[nltk_data]    | Downloading package averaged_perceptron_tagger to\n",
      "[nltk_data]    |     /Users/sumitkumar/nltk_data...\n",
      "[nltk_data]    |   Package averaged_perceptron_tagger is already up-\n",
      "[nltk_data]    |       to-date!\n",
      "[nltk_data]    | Downloading package averaged_perceptron_tagger_eng to\n",
      "[nltk_data]    |     /Users/sumitkumar/nltk_data...\n",
      "[nltk_data]    |   Package averaged_perceptron_tagger_eng is already\n",
      "[nltk_data]    |       up-to-date!\n",
      "[nltk_data]    | Downloading package averaged_perceptron_tagger_ru to\n",
      "[nltk_data]    |     /Users/sumitkumar/nltk_data...\n",
      "[nltk_data]    |   Package averaged_perceptron_tagger_ru is already\n",
      "[nltk_data]    |       up-to-date!\n",
      "[nltk_data]    | Downloading package averaged_perceptron_tagger_rus to\n",
      "[nltk_data]    |     /Users/sumitkumar/nltk_data...\n",
      "[nltk_data]    |   Package averaged_perceptron_tagger_rus is already\n",
      "[nltk_data]    |       up-to-date!\n",
      "[nltk_data]    | Downloading package basque_grammars to\n",
      "[nltk_data]    |     /Users/sumitkumar/nltk_data...\n",
      "[nltk_data]    |   Package basque_grammars is already up-to-date!\n",
      "[nltk_data]    | Downloading package bcp47 to\n",
      "[nltk_data]    |     /Users/sumitkumar/nltk_data...\n",
      "[nltk_data]    |   Package bcp47 is already up-to-date!\n",
      "[nltk_data]    | Downloading package biocreative_ppi to\n",
      "[nltk_data]    |     /Users/sumitkumar/nltk_data...\n",
      "[nltk_data]    |   Package biocreative_ppi is already up-to-date!\n",
      "[nltk_data]    | Downloading package bllip_wsj_no_aux to\n",
      "[nltk_data]    |     /Users/sumitkumar/nltk_data...\n",
      "[nltk_data]    |   Package bllip_wsj_no_aux is already up-to-date!\n",
      "[nltk_data]    | Downloading package book_grammars to\n",
      "[nltk_data]    |     /Users/sumitkumar/nltk_data...\n",
      "[nltk_data]    |   Package book_grammars is already up-to-date!\n",
      "[nltk_data]    | Downloading package brown to\n",
      "[nltk_data]    |     /Users/sumitkumar/nltk_data...\n",
      "[nltk_data]    |   Package brown is already up-to-date!\n",
      "[nltk_data]    | Downloading package brown_tei to\n",
      "[nltk_data]    |     /Users/sumitkumar/nltk_data...\n",
      "[nltk_data]    |   Package brown_tei is already up-to-date!\n",
      "[nltk_data]    | Downloading package cess_cat to\n",
      "[nltk_data]    |     /Users/sumitkumar/nltk_data...\n",
      "[nltk_data]    |   Package cess_cat is already up-to-date!\n",
      "[nltk_data]    | Downloading package cess_esp to\n",
      "[nltk_data]    |     /Users/sumitkumar/nltk_data...\n",
      "[nltk_data]    |   Package cess_esp is already up-to-date!\n",
      "[nltk_data]    | Downloading package chat80 to\n",
      "[nltk_data]    |     /Users/sumitkumar/nltk_data...\n",
      "[nltk_data]    |   Package chat80 is already up-to-date!\n",
      "[nltk_data]    | Downloading package city_database to\n",
      "[nltk_data]    |     /Users/sumitkumar/nltk_data...\n",
      "[nltk_data]    |   Package city_database is already up-to-date!\n",
      "[nltk_data]    | Downloading package cmudict to\n",
      "[nltk_data]    |     /Users/sumitkumar/nltk_data...\n",
      "[nltk_data]    |   Package cmudict is already up-to-date!\n",
      "[nltk_data]    | Downloading package comparative_sentences to\n",
      "[nltk_data]    |     /Users/sumitkumar/nltk_data...\n",
      "[nltk_data]    |   Package comparative_sentences is already up-to-\n",
      "[nltk_data]    |       date!\n",
      "[nltk_data]    | Downloading package comtrans to\n",
      "[nltk_data]    |     /Users/sumitkumar/nltk_data...\n",
      "[nltk_data]    |   Package comtrans is already up-to-date!\n",
      "[nltk_data]    | Downloading package conll2000 to\n",
      "[nltk_data]    |     /Users/sumitkumar/nltk_data...\n",
      "[nltk_data]    |   Package conll2000 is already up-to-date!\n",
      "[nltk_data]    | Downloading package conll2002 to\n",
      "[nltk_data]    |     /Users/sumitkumar/nltk_data...\n",
      "[nltk_data]    |   Package conll2002 is already up-to-date!\n",
      "[nltk_data]    | Downloading package conll2007 to\n",
      "[nltk_data]    |     /Users/sumitkumar/nltk_data...\n",
      "[nltk_data]    |   Package conll2007 is already up-to-date!\n",
      "[nltk_data]    | Downloading package crubadan to\n",
      "[nltk_data]    |     /Users/sumitkumar/nltk_data...\n",
      "[nltk_data]    |   Package crubadan is already up-to-date!\n",
      "[nltk_data]    | Downloading package dependency_treebank to\n",
      "[nltk_data]    |     /Users/sumitkumar/nltk_data...\n",
      "[nltk_data]    |   Package dependency_treebank is already up-to-date!\n",
      "[nltk_data]    | Downloading package dolch to\n",
      "[nltk_data]    |     /Users/sumitkumar/nltk_data...\n",
      "[nltk_data]    |   Package dolch is already up-to-date!\n",
      "[nltk_data]    | Downloading package europarl_raw to\n",
      "[nltk_data]    |     /Users/sumitkumar/nltk_data...\n",
      "[nltk_data]    |   Package europarl_raw is already up-to-date!\n",
      "[nltk_data]    | Downloading package extended_omw to\n",
      "[nltk_data]    |     /Users/sumitkumar/nltk_data...\n",
      "[nltk_data]    |   Package extended_omw is already up-to-date!\n",
      "[nltk_data]    | Downloading package floresta to\n",
      "[nltk_data]    |     /Users/sumitkumar/nltk_data...\n",
      "[nltk_data]    |   Package floresta is already up-to-date!\n",
      "[nltk_data]    | Downloading package framenet_v15 to\n",
      "[nltk_data]    |     /Users/sumitkumar/nltk_data...\n",
      "[nltk_data]    |   Package framenet_v15 is already up-to-date!\n",
      "[nltk_data]    | Downloading package framenet_v17 to\n",
      "[nltk_data]    |     /Users/sumitkumar/nltk_data...\n",
      "[nltk_data]    |   Package framenet_v17 is already up-to-date!\n",
      "[nltk_data]    | Downloading package gazetteers to\n",
      "[nltk_data]    |     /Users/sumitkumar/nltk_data...\n",
      "[nltk_data]    |   Package gazetteers is already up-to-date!\n",
      "[nltk_data]    | Downloading package genesis to\n",
      "[nltk_data]    |     /Users/sumitkumar/nltk_data...\n",
      "[nltk_data]    |   Package genesis is already up-to-date!\n",
      "[nltk_data]    | Downloading package gutenberg to\n",
      "[nltk_data]    |     /Users/sumitkumar/nltk_data...\n",
      "[nltk_data]    |   Package gutenberg is already up-to-date!\n",
      "[nltk_data]    | Downloading package ieer to\n",
      "[nltk_data]    |     /Users/sumitkumar/nltk_data...\n",
      "[nltk_data]    |   Package ieer is already up-to-date!\n",
      "[nltk_data]    | Downloading package inaugural to\n",
      "[nltk_data]    |     /Users/sumitkumar/nltk_data...\n",
      "[nltk_data]    |   Package inaugural is already up-to-date!\n",
      "[nltk_data]    | Downloading package indian to\n",
      "[nltk_data]    |     /Users/sumitkumar/nltk_data...\n",
      "[nltk_data]    |   Package indian is already up-to-date!\n",
      "[nltk_data]    | Downloading package jeita to\n",
      "[nltk_data]    |     /Users/sumitkumar/nltk_data...\n",
      "[nltk_data]    |   Package jeita is already up-to-date!\n",
      "[nltk_data]    | Downloading package kimmo to\n",
      "[nltk_data]    |     /Users/sumitkumar/nltk_data...\n",
      "[nltk_data]    |   Package kimmo is already up-to-date!\n",
      "[nltk_data]    | Downloading package knbc to\n",
      "[nltk_data]    |     /Users/sumitkumar/nltk_data...\n",
      "[nltk_data]    |   Package knbc is already up-to-date!\n",
      "[nltk_data]    | Downloading package large_grammars to\n",
      "[nltk_data]    |     /Users/sumitkumar/nltk_data...\n",
      "[nltk_data]    |   Package large_grammars is already up-to-date!\n",
      "[nltk_data]    | Downloading package lin_thesaurus to\n",
      "[nltk_data]    |     /Users/sumitkumar/nltk_data...\n",
      "[nltk_data]    |   Package lin_thesaurus is already up-to-date!\n",
      "[nltk_data]    | Downloading package mac_morpho to\n",
      "[nltk_data]    |     /Users/sumitkumar/nltk_data...\n",
      "[nltk_data]    |   Package mac_morpho is already up-to-date!\n",
      "[nltk_data]    | Downloading package machado to\n",
      "[nltk_data]    |     /Users/sumitkumar/nltk_data...\n",
      "[nltk_data]    |   Package machado is already up-to-date!\n",
      "[nltk_data]    | Downloading package masc_tagged to\n",
      "[nltk_data]    |     /Users/sumitkumar/nltk_data...\n",
      "[nltk_data]    |   Package masc_tagged is already up-to-date!\n",
      "[nltk_data]    | Downloading package maxent_ne_chunker to\n",
      "[nltk_data]    |     /Users/sumitkumar/nltk_data...\n",
      "[nltk_data]    |   Package maxent_ne_chunker is already up-to-date!\n",
      "[nltk_data]    | Downloading package maxent_ne_chunker_tab to\n",
      "[nltk_data]    |     /Users/sumitkumar/nltk_data...\n",
      "[nltk_data]    |   Package maxent_ne_chunker_tab is already up-to-\n",
      "[nltk_data]    |       date!\n",
      "[nltk_data]    | Downloading package maxent_treebank_pos_tagger to\n",
      "[nltk_data]    |     /Users/sumitkumar/nltk_data...\n",
      "[nltk_data]    |   Package maxent_treebank_pos_tagger is already up-\n",
      "[nltk_data]    |       to-date!\n",
      "[nltk_data]    | Downloading package maxent_treebank_pos_tagger_tab to\n",
      "[nltk_data]    |     /Users/sumitkumar/nltk_data...\n",
      "[nltk_data]    |   Package maxent_treebank_pos_tagger_tab is already\n",
      "[nltk_data]    |       up-to-date!\n",
      "[nltk_data]    | Downloading package moses_sample to\n",
      "[nltk_data]    |     /Users/sumitkumar/nltk_data...\n",
      "[nltk_data]    |   Package moses_sample is already up-to-date!\n",
      "[nltk_data]    | Downloading package movie_reviews to\n",
      "[nltk_data]    |     /Users/sumitkumar/nltk_data...\n",
      "[nltk_data]    |   Package movie_reviews is already up-to-date!\n",
      "[nltk_data]    | Downloading package mte_teip5 to\n",
      "[nltk_data]    |     /Users/sumitkumar/nltk_data...\n",
      "[nltk_data]    |   Package mte_teip5 is already up-to-date!\n",
      "[nltk_data]    | Downloading package mwa_ppdb to\n",
      "[nltk_data]    |     /Users/sumitkumar/nltk_data...\n",
      "[nltk_data]    |   Package mwa_ppdb is already up-to-date!\n",
      "[nltk_data]    | Downloading package names to\n",
      "[nltk_data]    |     /Users/sumitkumar/nltk_data...\n",
      "[nltk_data]    |   Package names is already up-to-date!\n",
      "[nltk_data]    | Downloading package nombank.1.0 to\n",
      "[nltk_data]    |     /Users/sumitkumar/nltk_data...\n",
      "[nltk_data]    |   Package nombank.1.0 is already up-to-date!\n",
      "[nltk_data]    | Downloading package nonbreaking_prefixes to\n",
      "[nltk_data]    |     /Users/sumitkumar/nltk_data...\n",
      "[nltk_data]    |   Package nonbreaking_prefixes is already up-to-date!\n",
      "[nltk_data]    | Downloading package nps_chat to\n",
      "[nltk_data]    |     /Users/sumitkumar/nltk_data...\n",
      "[nltk_data]    |   Package nps_chat is already up-to-date!\n",
      "[nltk_data]    | Downloading package omw to\n",
      "[nltk_data]    |     /Users/sumitkumar/nltk_data...\n",
      "[nltk_data]    |   Package omw is already up-to-date!\n",
      "[nltk_data]    | Downloading package omw-1.4 to\n",
      "[nltk_data]    |     /Users/sumitkumar/nltk_data...\n",
      "[nltk_data]    |   Package omw-1.4 is already up-to-date!\n",
      "[nltk_data]    | Downloading package opinion_lexicon to\n",
      "[nltk_data]    |     /Users/sumitkumar/nltk_data...\n",
      "[nltk_data]    |   Package opinion_lexicon is already up-to-date!\n",
      "[nltk_data]    | Downloading package panlex_swadesh to\n",
      "[nltk_data]    |     /Users/sumitkumar/nltk_data...\n",
      "[nltk_data]    |   Package panlex_swadesh is already up-to-date!\n",
      "[nltk_data]    | Downloading package paradigms to\n",
      "[nltk_data]    |     /Users/sumitkumar/nltk_data...\n",
      "[nltk_data]    |   Package paradigms is already up-to-date!\n",
      "[nltk_data]    | Downloading package pe08 to\n",
      "[nltk_data]    |     /Users/sumitkumar/nltk_data...\n",
      "[nltk_data]    |   Package pe08 is already up-to-date!\n",
      "[nltk_data]    | Downloading package perluniprops to\n",
      "[nltk_data]    |     /Users/sumitkumar/nltk_data...\n",
      "[nltk_data]    |   Package perluniprops is already up-to-date!\n",
      "[nltk_data]    | Downloading package pil to\n",
      "[nltk_data]    |     /Users/sumitkumar/nltk_data...\n",
      "[nltk_data]    |   Package pil is already up-to-date!\n",
      "[nltk_data]    | Downloading package pl196x to\n",
      "[nltk_data]    |     /Users/sumitkumar/nltk_data...\n",
      "[nltk_data]    |   Package pl196x is already up-to-date!\n",
      "[nltk_data]    | Downloading package porter_test to\n",
      "[nltk_data]    |     /Users/sumitkumar/nltk_data...\n",
      "[nltk_data]    |   Package porter_test is already up-to-date!\n",
      "[nltk_data]    | Downloading package ppattach to\n",
      "[nltk_data]    |     /Users/sumitkumar/nltk_data...\n",
      "[nltk_data]    |   Package ppattach is already up-to-date!\n",
      "[nltk_data]    | Downloading package problem_reports to\n",
      "[nltk_data]    |     /Users/sumitkumar/nltk_data...\n",
      "[nltk_data]    |   Package problem_reports is already up-to-date!\n",
      "[nltk_data]    | Downloading package product_reviews_1 to\n",
      "[nltk_data]    |     /Users/sumitkumar/nltk_data...\n",
      "[nltk_data]    |   Package product_reviews_1 is already up-to-date!\n",
      "[nltk_data]    | Downloading package product_reviews_2 to\n",
      "[nltk_data]    |     /Users/sumitkumar/nltk_data...\n",
      "[nltk_data]    |   Package product_reviews_2 is already up-to-date!\n",
      "[nltk_data]    | Downloading package propbank to\n",
      "[nltk_data]    |     /Users/sumitkumar/nltk_data...\n",
      "[nltk_data]    |   Package propbank is already up-to-date!\n",
      "[nltk_data]    | Downloading package pros_cons to\n",
      "[nltk_data]    |     /Users/sumitkumar/nltk_data...\n",
      "[nltk_data]    |   Package pros_cons is already up-to-date!\n",
      "[nltk_data]    | Downloading package ptb to\n",
      "[nltk_data]    |     /Users/sumitkumar/nltk_data...\n",
      "[nltk_data]    |   Package ptb is already up-to-date!\n",
      "[nltk_data]    | Downloading package punkt to\n",
      "[nltk_data]    |     /Users/sumitkumar/nltk_data...\n",
      "[nltk_data]    |   Package punkt is already up-to-date!\n",
      "[nltk_data]    | Downloading package punkt_tab to\n",
      "[nltk_data]    |     /Users/sumitkumar/nltk_data...\n",
      "[nltk_data]    |   Package punkt_tab is already up-to-date!\n",
      "[nltk_data]    | Downloading package qc to\n",
      "[nltk_data]    |     /Users/sumitkumar/nltk_data...\n",
      "[nltk_data]    |   Package qc is already up-to-date!\n",
      "[nltk_data]    | Downloading package reuters to\n",
      "[nltk_data]    |     /Users/sumitkumar/nltk_data...\n",
      "[nltk_data]    |   Package reuters is already up-to-date!\n",
      "[nltk_data]    | Downloading package rslp to\n",
      "[nltk_data]    |     /Users/sumitkumar/nltk_data...\n",
      "[nltk_data]    |   Package rslp is already up-to-date!\n",
      "[nltk_data]    | Downloading package rte to\n",
      "[nltk_data]    |     /Users/sumitkumar/nltk_data...\n",
      "[nltk_data]    |   Package rte is already up-to-date!\n",
      "[nltk_data]    | Downloading package sample_grammars to\n",
      "[nltk_data]    |     /Users/sumitkumar/nltk_data...\n",
      "[nltk_data]    |   Package sample_grammars is already up-to-date!\n",
      "[nltk_data]    | Downloading package semcor to\n",
      "[nltk_data]    |     /Users/sumitkumar/nltk_data...\n",
      "[nltk_data]    |   Package semcor is already up-to-date!\n",
      "[nltk_data]    | Downloading package senseval to\n",
      "[nltk_data]    |     /Users/sumitkumar/nltk_data...\n",
      "[nltk_data]    |   Package senseval is already up-to-date!\n",
      "[nltk_data]    | Downloading package sentence_polarity to\n",
      "[nltk_data]    |     /Users/sumitkumar/nltk_data...\n",
      "[nltk_data]    |   Package sentence_polarity is already up-to-date!\n",
      "[nltk_data]    | Downloading package sentiwordnet to\n",
      "[nltk_data]    |     /Users/sumitkumar/nltk_data...\n",
      "[nltk_data]    |   Package sentiwordnet is already up-to-date!\n",
      "[nltk_data]    | Downloading package shakespeare to\n",
      "[nltk_data]    |     /Users/sumitkumar/nltk_data...\n",
      "[nltk_data]    |   Package shakespeare is already up-to-date!\n",
      "[nltk_data]    | Downloading package sinica_treebank to\n",
      "[nltk_data]    |     /Users/sumitkumar/nltk_data...\n",
      "[nltk_data]    |   Package sinica_treebank is already up-to-date!\n",
      "[nltk_data]    | Downloading package smultron to\n",
      "[nltk_data]    |     /Users/sumitkumar/nltk_data...\n",
      "[nltk_data]    |   Package smultron is already up-to-date!\n",
      "[nltk_data]    | Downloading package snowball_data to\n",
      "[nltk_data]    |     /Users/sumitkumar/nltk_data...\n",
      "[nltk_data]    |   Package snowball_data is already up-to-date!\n",
      "[nltk_data]    | Downloading package spanish_grammars to\n",
      "[nltk_data]    |     /Users/sumitkumar/nltk_data...\n",
      "[nltk_data]    |   Package spanish_grammars is already up-to-date!\n",
      "[nltk_data]    | Downloading package state_union to\n",
      "[nltk_data]    |     /Users/sumitkumar/nltk_data...\n",
      "[nltk_data]    |   Package state_union is already up-to-date!\n",
      "[nltk_data]    | Downloading package stopwords to\n",
      "[nltk_data]    |     /Users/sumitkumar/nltk_data...\n",
      "[nltk_data]    |   Package stopwords is already up-to-date!\n",
      "[nltk_data]    | Downloading package subjectivity to\n",
      "[nltk_data]    |     /Users/sumitkumar/nltk_data...\n",
      "[nltk_data]    |   Package subjectivity is already up-to-date!\n",
      "[nltk_data]    | Downloading package swadesh to\n",
      "[nltk_data]    |     /Users/sumitkumar/nltk_data...\n",
      "[nltk_data]    |   Package swadesh is already up-to-date!\n",
      "[nltk_data]    | Downloading package switchboard to\n",
      "[nltk_data]    |     /Users/sumitkumar/nltk_data...\n",
      "[nltk_data]    |   Package switchboard is already up-to-date!\n",
      "[nltk_data]    | Downloading package tagsets to\n",
      "[nltk_data]    |     /Users/sumitkumar/nltk_data...\n",
      "[nltk_data]    |   Package tagsets is already up-to-date!\n",
      "[nltk_data]    | Downloading package tagsets_json to\n",
      "[nltk_data]    |     /Users/sumitkumar/nltk_data...\n",
      "[nltk_data]    |   Package tagsets_json is already up-to-date!\n",
      "[nltk_data]    | Downloading package timit to\n",
      "[nltk_data]    |     /Users/sumitkumar/nltk_data...\n",
      "[nltk_data]    |   Package timit is already up-to-date!\n",
      "[nltk_data]    | Downloading package toolbox to\n",
      "[nltk_data]    |     /Users/sumitkumar/nltk_data...\n",
      "[nltk_data]    |   Package toolbox is already up-to-date!\n",
      "[nltk_data]    | Downloading package treebank to\n",
      "[nltk_data]    |     /Users/sumitkumar/nltk_data...\n",
      "[nltk_data]    |   Package treebank is already up-to-date!\n",
      "[nltk_data]    | Downloading package twitter_samples to\n",
      "[nltk_data]    |     /Users/sumitkumar/nltk_data...\n",
      "[nltk_data]    |   Package twitter_samples is already up-to-date!\n",
      "[nltk_data]    | Downloading package udhr to\n",
      "[nltk_data]    |     /Users/sumitkumar/nltk_data...\n",
      "[nltk_data]    |   Package udhr is already up-to-date!\n",
      "[nltk_data]    | Downloading package udhr2 to\n",
      "[nltk_data]    |     /Users/sumitkumar/nltk_data...\n",
      "[nltk_data]    |   Package udhr2 is already up-to-date!\n",
      "[nltk_data]    | Downloading package unicode_samples to\n",
      "[nltk_data]    |     /Users/sumitkumar/nltk_data...\n",
      "[nltk_data]    |   Package unicode_samples is already up-to-date!\n",
      "[nltk_data]    | Downloading package universal_tagset to\n",
      "[nltk_data]    |     /Users/sumitkumar/nltk_data...\n",
      "[nltk_data]    |   Package universal_tagset is already up-to-date!\n",
      "[nltk_data]    | Downloading package universal_treebanks_v20 to\n",
      "[nltk_data]    |     /Users/sumitkumar/nltk_data...\n",
      "[nltk_data]    |   Package universal_treebanks_v20 is already up-to-\n",
      "[nltk_data]    |       date!\n",
      "[nltk_data]    | Downloading package vader_lexicon to\n",
      "[nltk_data]    |     /Users/sumitkumar/nltk_data...\n",
      "[nltk_data]    |   Package vader_lexicon is already up-to-date!\n",
      "[nltk_data]    | Downloading package verbnet to\n",
      "[nltk_data]    |     /Users/sumitkumar/nltk_data...\n",
      "[nltk_data]    |   Package verbnet is already up-to-date!\n",
      "[nltk_data]    | Downloading package verbnet3 to\n",
      "[nltk_data]    |     /Users/sumitkumar/nltk_data...\n",
      "[nltk_data]    |   Package verbnet3 is already up-to-date!\n",
      "[nltk_data]    | Downloading package webtext to\n",
      "[nltk_data]    |     /Users/sumitkumar/nltk_data...\n",
      "[nltk_data]    |   Package webtext is already up-to-date!\n",
      "[nltk_data]    | Downloading package wmt15_eval to\n",
      "[nltk_data]    |     /Users/sumitkumar/nltk_data...\n",
      "[nltk_data]    |   Package wmt15_eval is already up-to-date!\n",
      "[nltk_data]    | Downloading package word2vec_sample to\n",
      "[nltk_data]    |     /Users/sumitkumar/nltk_data...\n",
      "[nltk_data]    |   Package word2vec_sample is already up-to-date!\n",
      "[nltk_data]    | Downloading package wordnet to\n",
      "[nltk_data]    |     /Users/sumitkumar/nltk_data...\n",
      "[nltk_data]    |   Package wordnet is already up-to-date!\n",
      "[nltk_data]    | Downloading package wordnet2021 to\n",
      "[nltk_data]    |     /Users/sumitkumar/nltk_data...\n",
      "[nltk_data]    |   Package wordnet2021 is already up-to-date!\n",
      "[nltk_data]    | Downloading package wordnet2022 to\n",
      "[nltk_data]    |     /Users/sumitkumar/nltk_data...\n",
      "[nltk_data]    |   Package wordnet2022 is already up-to-date!\n",
      "[nltk_data]    | Downloading package wordnet31 to\n",
      "[nltk_data]    |     /Users/sumitkumar/nltk_data...\n",
      "[nltk_data]    |   Package wordnet31 is already up-to-date!\n",
      "[nltk_data]    | Downloading package wordnet_ic to\n",
      "[nltk_data]    |     /Users/sumitkumar/nltk_data...\n",
      "[nltk_data]    |   Package wordnet_ic is already up-to-date!\n",
      "[nltk_data]    | Downloading package words to\n",
      "[nltk_data]    |     /Users/sumitkumar/nltk_data...\n",
      "[nltk_data]    |   Package words is already up-to-date!\n",
      "[nltk_data]    | Downloading package ycoe to\n",
      "[nltk_data]    |     /Users/sumitkumar/nltk_data...\n",
      "[nltk_data]    |   Package ycoe is already up-to-date!\n",
      "[nltk_data]    | \n",
      "[nltk_data]  Done downloading collection all\n"
     ]
    },
    {
     "data": {
      "text/plain": [
       "True"
      ]
     },
     "execution_count": 2,
     "metadata": {},
     "output_type": "execute_result"
    }
   ],
   "source": [
    "nltk.download('all')"
   ]
  },
  {
   "cell_type": "code",
   "execution_count": 48,
   "metadata": {},
   "outputs": [],
   "source": [
    "from nltk.corpus import stopwords\n",
    "\n",
    "# stopwords.words('english')"
   ]
  },
  {
   "cell_type": "code",
   "execution_count": 49,
   "metadata": {},
   "outputs": [],
   "source": [
    "import nltk\n",
    "from nltk import sent_tokenize\n",
    "from gensim.utils import simple_preprocess\n",
    "\n",
    "story = []\n",
    "\n",
    "for filename in os.listdir('data'):\n",
    "    file_path = os.path.join('data', filename)\n",
    "\n",
    "    try:\n",
    "        # Try to open the file with a more tolerant encoding\n",
    "        with open(file_path, 'r', encoding='ISO-8859-1') as f:\n",
    "            corpus = f.read()\n",
    "\n",
    "        # Removing stopwords\n",
    "        stop_words_set = set(stopwords.words('english'))  # Using a set for faster lookups\n",
    "        new_text = [word for word in corpus.split() if word.lower() not in stop_words_set]\n",
    "        corpus = \" \".join(new_text)   \n",
    "\n",
    "        # Tokenize into sentences and preprocess each one\n",
    "        raw_sentences = sent_tokenize(corpus)\n",
    "        for sentence in raw_sentences:\n",
    "            story.append(simple_preprocess(sentence))\n",
    "\n",
    "    except UnicodeDecodeError as e:\n",
    "        print(f\"Error reading {filename}: {e}\")"
   ]
  },
  {
   "cell_type": "code",
   "execution_count": 50,
   "metadata": {},
   "outputs": [
    {
     "data": {
      "text/plain": [
       "[['george',\n",
       "  'martin',\n",
       "  'dance',\n",
       "  'dragons',\n",
       "  'book',\n",
       "  'five',\n",
       "  'song',\n",
       "  'ice',\n",
       "  'fire',\n",
       "  'dedication',\n",
       "  'one',\n",
       "  'fans',\n",
       "  'lodey',\n",
       "  'trebla',\n",
       "  'stego',\n",
       "  'pod',\n",
       "  'caress',\n",
       "  'yags',\n",
       "  'ray',\n",
       "  'mr',\n",
       "  'kate',\n",
       "  'chataya',\n",
       "  'mormont',\n",
       "  'mich',\n",
       "  'jamie',\n",
       "  'vanessa',\n",
       "  'ro',\n",
       "  'stubby',\n",
       "  'louise',\n",
       "  'agravaine',\n",
       "  'wert',\n",
       "  'malt',\n",
       "  'jo',\n",
       "  'mouse',\n",
       "  'telisiane',\n",
       "  'blackfyre',\n",
       "  'bronn',\n",
       "  'stone',\n",
       "  'coyote',\n",
       "  'daughter',\n",
       "  'rest',\n",
       "  'madmen',\n",
       "  'wild',\n",
       "  'women',\n",
       "  'brotherhood',\n",
       "  'without',\n",
       "  'banners',\n",
       "  'website',\n",
       "  'wizards',\n",
       "  'elio',\n",
       "  'linda',\n",
       "  'lords',\n",
       "  'westeros',\n",
       "  'winter',\n",
       "  'fabio',\n",
       "  'wic',\n",
       "  'gibbs',\n",
       "  'dragonstone',\n",
       "  'started',\n",
       "  'men',\n",
       "  'women',\n",
       "  'asshai',\n",
       "  'spain',\n",
       "  'sang',\n",
       "  'us',\n",
       "  'bear',\n",
       "  'maiden',\n",
       "  'fair',\n",
       "  'fabulous',\n",
       "  'fans',\n",
       "  'italy',\n",
       "  'gave',\n",
       "  'much',\n",
       "  'wine',\n",
       "  'readers',\n",
       "  'finland',\n",
       "  'germany',\n",
       "  'brazil',\n",
       "  'portugal',\n",
       "  'france',\n",
       "  'netherlands',\n",
       "  'distant',\n",
       "  'lands',\n",
       "  'you',\n",
       "  've',\n",
       "  'waiting',\n",
       "  'dance',\n",
       "  'friends',\n",
       "  'fans',\n",
       "  'yet',\n",
       "  'meet',\n",
       "  'thanks',\n",
       "  'patience',\n",
       "  'contents',\n",
       "  'dedication',\n",
       "  'cavil',\n",
       "  'chronology',\n",
       "  'prologue',\n",
       "  'tyrion',\n",
       "  'daenerys',\n",
       "  'jon',\n",
       "  'bran',\n",
       "  'tyrion',\n",
       "  'merchant',\n",
       "  'man',\n",
       "  'jon',\n",
       "  'tyrion',\n",
       "  'davos',\n",
       "  'jon',\n",
       "  'daenerys',\n",
       "  'reek',\n",
       "  'bran',\n",
       "  'tyrion',\n",
       "  'davos',\n",
       "  'daenerys',\n",
       "  'jon',\n",
       "  'tyrion',\n",
       "  'davos',\n",
       "  'reek',\n",
       "  'jon',\n",
       "  'tyrion',\n",
       "  'daenerys',\n",
       "  'lost',\n",
       "  'lord',\n",
       "  'windblown',\n",
       "  'wayward',\n",
       "  'bride',\n",
       "  'tyrion',\n",
       "  'jon',\n",
       "  'davos',\n",
       "  'daenerys',\n",
       "  'melisandre',\n",
       "  'reek',\n",
       "  'tyrion',\n",
       "  'bran',\n",
       "  'jon',\n",
       "  'daenerys',\n",
       "  'prince',\n",
       "  'winterfell',\n",
       "  'watcher',\n",
       "  'jon',\n",
       "  'tyrion',\n",
       "  'turncloak',\n",
       "  'king',\n",
       "  'prize',\n",
       "  'daenerys',\n",
       "  'jon',\n",
       "  'blind',\n",
       "  'girl',\n",
       "  'ghost',\n",
       "  'winterfell',\n",
       "  'tyrion',\n",
       "  'jaime',\n",
       "  'jon',\n",
       "  'daenerys',\n",
       "  'theon',\n",
       "  'daenerys',\n",
       "  'jon',\n",
       "  'cersei',\n",
       "  'queensguard',\n",
       "  'iron',\n",
       "  'suitor',\n",
       "  'tyrion',\n",
       "  'jon',\n",
       "  'discarded',\n",
       "  'knight',\n",
       "  'spurned',\n",
       "  'suitor',\n",
       "  'griffin',\n",
       "  'reborn',\n",
       "  'sacrifice',\n",
       "  'victarion',\n",
       "  'ugly',\n",
       "  'little',\n",
       "  'girl',\n",
       "  'cersei',\n",
       "  'tyrion',\n",
       "  'kingbreaker',\n",
       "  'dragontamer',\n",
       "  'jon',\n",
       "  'queen',\n",
       "  'hand',\n",
       "  'daenerys',\n",
       "  'epilogue',\n",
       "  'westeros',\n",
       "  'boy',\n",
       "  'king',\n",
       "  'king',\n",
       "  'wall',\n",
       "  'king',\n",
       "  'isles',\n",
       "  'north',\n",
       "  'houses',\n",
       "  'great',\n",
       "  'small',\n",
       "  'house',\n",
       "  'arryn',\n",
       "  'house',\n",
       "  'baratheon',\n",
       "  'house',\n",
       "  'frey',\n",
       "  'house',\n",
       "  'lannister',\n",
       "  'house',\n",
       "  'martell',\n",
       "  'house',\n",
       "  'stark',\n",
       "  'house',\n",
       "  'tully',\n",
       "  'house',\n",
       "  'tyrell',\n",
       "  'sworn',\n",
       "  'brothers',\n",
       "  'night',\n",
       "  'watch',\n",
       "  'wildlings',\n",
       "  'free',\n",
       "  'folk',\n",
       "  'beyond',\n",
       "  'wall',\n",
       "  'essos',\n",
       "  'beyond',\n",
       "  'narrow',\n",
       "  'sea',\n",
       "  'braavos',\n",
       "  'old',\n",
       "  'volantis',\n",
       "  'slaver',\n",
       "  'bay',\n",
       "  'queen',\n",
       "  'across',\n",
       "  'water',\n",
       "  'sellswords',\n",
       "  'men',\n",
       "  'women',\n",
       "  'free',\n",
       "  'companies',\n",
       "  'acknowledgments',\n",
       "  'author',\n",
       "  'type',\n",
       "  'george',\n",
       "  'martin',\n",
       "  'copyright',\n",
       "  'cavil',\n",
       "  'chronology',\n",
       "  'books',\n",
       "  'know'],\n",
       " ['reminder', 'may', 'order'],\n",
       " ['book', 'hold', 'hands', 'fifth', 'volume', 'song', 'ice', 'fire'],\n",
       " ['fourth', 'volume', 'feast', 'crows'],\n",
       " ['however',\n",
       "  'volume',\n",
       "  'follow',\n",
       "  'one',\n",
       "  'traditional',\n",
       "  'sense',\n",
       "  'much',\n",
       "  'run',\n",
       "  'tandem',\n",
       "  'it'],\n",
       " ['dance',\n",
       "  'feast',\n",
       "  'take',\n",
       "  'story',\n",
       "  'immediately',\n",
       "  'events',\n",
       "  'third',\n",
       "  'volume',\n",
       "  'series',\n",
       "  'storm',\n",
       "  'swords'],\n",
       " ['whereas',\n",
       "  'feast',\n",
       "  'focused',\n",
       "  'events',\n",
       "  'around',\n",
       "  'king',\n",
       "  'landing',\n",
       "  'iron',\n",
       "  'islands',\n",
       "  'dorne',\n",
       "  'dance',\n",
       "  'takes',\n",
       "  'us',\n",
       "  'north',\n",
       "  'castle',\n",
       "  'black',\n",
       "  'wall',\n",
       "  'and',\n",
       "  'beyond',\n",
       "  'across',\n",
       "  'narrow',\n",
       "  'sea',\n",
       "  'pentos',\n",
       "  'slaver',\n",
       "  'bay',\n",
       "  'pick',\n",
       "  'tales',\n",
       "  'tyrion',\n",
       "  'lannister',\n",
       "  'jon',\n",
       "  'snow',\n",
       "  'daenerys',\n",
       "  'targaryen',\n",
       "  'characters',\n",
       "  'see',\n",
       "  'preceding',\n",
       "  'volume'],\n",
       " ['rather',\n",
       "  'sequential',\n",
       "  'two',\n",
       "  'books',\n",
       "  'parallel',\n",
       "  'divided',\n",
       "  'geographically',\n",
       "  'rather',\n",
       "  'chronologically'],\n",
       " ['point'],\n",
       " ['dance',\n",
       "  'dragons',\n",
       "  'longer',\n",
       "  'book',\n",
       "  'feast',\n",
       "  'crows',\n",
       "  'covers',\n",
       "  'longer',\n",
       "  'time',\n",
       "  'period'],\n",
       " ['latter',\n",
       "  'half',\n",
       "  'volume',\n",
       "  'notice',\n",
       "  'certain',\n",
       "  'viewpoint',\n",
       "  'characters',\n",
       "  'feast',\n",
       "  'crows',\n",
       "  'popping',\n",
       "  'again'],\n",
       " ['means',\n",
       "  'think',\n",
       "  'means',\n",
       "  'narrative',\n",
       "  'moved',\n",
       "  'past',\n",
       "  'time',\n",
       "  'frame',\n",
       "  'feast',\n",
       "  'two',\n",
       "  'streams',\n",
       "  'rejoined',\n",
       "  'other'],\n",
       " ['next', 'up', 'winds', 'winter'],\n",
       " ['wherein',\n",
       "  'hope',\n",
       "  'everybody',\n",
       "  'shivering',\n",
       "  'together',\n",
       "  'george',\n",
       "  'martin',\n",
       "  'april',\n",
       "  'prologue',\n",
       "  'night',\n",
       "  'rank',\n",
       "  'smell',\n",
       "  'man'],\n",
       " ['warg',\n",
       "  'stopped',\n",
       "  'beneath',\n",
       "  'tree',\n",
       "  'sniffed',\n",
       "  'grey',\n",
       "  'brown',\n",
       "  'fur',\n",
       "  'dappled',\n",
       "  'shadow'],\n",
       " ['sigh',\n",
       "  'piney',\n",
       "  'wind',\n",
       "  'brought',\n",
       "  'man',\n",
       "  'scent',\n",
       "  'him',\n",
       "  'fainter',\n",
       "  'smells',\n",
       "  'spoke',\n",
       "  'fox',\n",
       "  'hare',\n",
       "  'seal',\n",
       "  'stag',\n",
       "  'even',\n",
       "  'wolf'],\n",
       " ['man',\n",
       "  'smells',\n",
       "  'too',\n",
       "  'warg',\n",
       "  'knew',\n",
       "  'stink',\n",
       "  'old',\n",
       "  'skins',\n",
       "  'dead',\n",
       "  'sour',\n",
       "  'near',\n",
       "  'drowned',\n",
       "  'beneath',\n",
       "  'stronger',\n",
       "  'scents',\n",
       "  'smoke',\n",
       "  'blood',\n",
       "  'rot'],\n",
       " ['man', 'stripped', 'skins', 'beasts', 'wore', 'hides', 'hair'],\n",
       " ['wargs', 'fear', 'man', 'wolves', 'do'],\n",
       " ['hate',\n",
       "  'hunger',\n",
       "  'coiled',\n",
       "  'belly',\n",
       "  'gave',\n",
       "  'low',\n",
       "  'growl',\n",
       "  'calling',\n",
       "  'one',\n",
       "  'eyed',\n",
       "  'brother',\n",
       "  'small',\n",
       "  'sly',\n",
       "  'sister'],\n",
       " ['raced', 'trees', 'packmates', 'followed', 'hard', 'heels'],\n",
       " ['caught', 'scent', 'well'],\n",
       " ['ran', 'saw', 'eyes', 'glimpsed', 'ahead'],\n",
       " ['breath', 'pack', 'puffed', 'warm', 'white', 'long', 'grey', 'jaws'],\n",
       " ['ice', 'frozen', 'paws', 'hard', 'stone', 'hunt', 'now', 'prey', 'ahead'],\n",
       " ['flesh', 'warg', 'thought', 'meat'],\n",
       " ['man', 'alone', 'feeble', 'thing'],\n",
       " ['big', 'strong', 'good', 'sharp', 'eyes', 'dull', 'ear', 'deaf', 'smells'],\n",
       " ['deer',\n",
       "  'elk',\n",
       "  'even',\n",
       "  'hares',\n",
       "  'faster',\n",
       "  'bears',\n",
       "  'boars',\n",
       "  'fiercer',\n",
       "  'fight'],\n",
       " ['men', 'packs', 'dangerous'],\n",
       " ['wolves',\n",
       "  'closed',\n",
       "  'prey',\n",
       "  'warg',\n",
       "  'heard',\n",
       "  'wailing',\n",
       "  'pup',\n",
       "  'crust',\n",
       "  'last',\n",
       "  'night',\n",
       "  'snow',\n",
       "  'breaking',\n",
       "  'clumsy',\n",
       "  'man',\n",
       "  'paws',\n",
       "  'rattle',\n",
       "  'hardskins',\n",
       "  'long',\n",
       "  'grey',\n",
       "  'claws',\n",
       "  'men',\n",
       "  'carried'],\n",
       " ['swords', 'voice', 'inside', 'whispered', 'spears'],\n",
       " ['trees', 'grown', 'icy', 'teeth', 'snarling', 'bare', 'brown', 'branches'],\n",
       " ['one', 'eye', 'ripped', 'undergrowth', 'spraying', 'snow'],\n",
       " ['packmates', 'followed'],\n",
       " ['hill', 'slope', 'beyond', 'wood', 'opened', 'men', 'there'],\n",
       " ['one', 'female'],\n",
       " ['fur', 'wrapped', 'bundle', 'clutched', 'pup'],\n",
       " ['leave', 'last', 'voice', 'whispered', 'males', 'danger'],\n",
       " ['roaring', 'men', 'did', 'warg', 'could', 'smell', 'terror'],\n",
       " ['one', 'wooden', 'tooth', 'tall', 'was'],\n",
       " ['flung', 'it', 'hand', 'shaking', 'tooth', 'sailed', 'high'],\n",
       " ['pack', 'them'],\n",
       " ['one',\n",
       "  'eyed',\n",
       "  'brother',\n",
       "  'knocked',\n",
       "  'tooth',\n",
       "  'thrower',\n",
       "  'back',\n",
       "  'snowdrift',\n",
       "  'tore',\n",
       "  'throat',\n",
       "  'struggled'],\n",
       " ['sister', 'slipped', 'behind', 'male', 'took', 'rear'],\n",
       " ['left', 'female', 'pup', 'him'],\n",
       " ['tooth',\n",
       "  'too',\n",
       "  'little',\n",
       "  'one',\n",
       "  'made',\n",
       "  'bone',\n",
       "  'dropped',\n",
       "  'warg',\n",
       "  'jaws',\n",
       "  'closed',\n",
       "  'around',\n",
       "  'leg'],\n",
       " ['fell', 'wrapped', 'arms', 'around', 'noisy', 'pup'],\n",
       " ['underneath', 'furs', 'female', 'skin', 'bones', 'dugs', 'full', 'milk'],\n",
       " ['sweetest', 'meat', 'pup'],\n",
       " ['wolf', 'saved', 'choicest', 'parts', 'brother'],\n",
       " ['around',\n",
       "  'carcasses',\n",
       "  'frozen',\n",
       "  'snow',\n",
       "  'turned',\n",
       "  'pink',\n",
       "  'red',\n",
       "  'pack',\n",
       "  'filled',\n",
       "  'bellies'],\n",
       " ['leagues',\n",
       "  'away',\n",
       "  'one',\n",
       "  'room',\n",
       "  'hut',\n",
       "  'mud',\n",
       "  'straw',\n",
       "  'thatched',\n",
       "  'roof',\n",
       "  'smoke',\n",
       "  'hole',\n",
       "  'floor',\n",
       "  'hard',\n",
       "  'packed',\n",
       "  'earth',\n",
       "  'varamyr',\n",
       "  'shivered',\n",
       "  'coughed',\n",
       "  'licked',\n",
       "  'lips'],\n",
       " ['eyes',\n",
       "  'red',\n",
       "  'lips',\n",
       "  'cracked',\n",
       "  'throat',\n",
       "  'dry',\n",
       "  'parched',\n",
       "  'taste',\n",
       "  'blood',\n",
       "  'fat',\n",
       "  'filled',\n",
       "  'mouth',\n",
       "  'even',\n",
       "  'swollen',\n",
       "  'belly',\n",
       "  'cried',\n",
       "  'nourishment'],\n",
       " ['child', 'flesh', 'thought', 'remembering', 'bump'],\n",
       " ['human', 'meat'],\n",
       " ['sunk', 'low', 'hunger', 'human', 'meat'],\n",
       " ['could', 'almost', 'hear', 'haggon', 'growling', 'him'],\n",
       " ['men',\n",
       "  'may',\n",
       "  'eat',\n",
       "  'flesh',\n",
       "  'beasts',\n",
       "  'beasts',\n",
       "  'flesh',\n",
       "  'men',\n",
       "  'man',\n",
       "  'eats',\n",
       "  'flesh',\n",
       "  'man',\n",
       "  'abomination',\n",
       "  'abomination'],\n",
       " ['always', 'haggon', 'favorite', 'word'],\n",
       " ['abomination', 'abomination', 'abomination'],\n",
       " ['eat',\n",
       "  'human',\n",
       "  'meat',\n",
       "  'abomination',\n",
       "  'mate',\n",
       "  'wolf',\n",
       "  'wolf',\n",
       "  'abomination',\n",
       "  'seize',\n",
       "  'body',\n",
       "  'another',\n",
       "  'man',\n",
       "  'worst',\n",
       "  'abomination',\n",
       "  'all'],\n",
       " ['haggon', 'weak', 'afraid', 'power'],\n",
       " ['died', 'weeping', 'alone', 'ripped', 'second', 'life', 'him'],\n",
       " ['varamyr', 'devoured', 'heart', 'himself'],\n",
       " ['taught',\n",
       "  'much',\n",
       "  'more',\n",
       "  'last',\n",
       "  'thing',\n",
       "  'learned',\n",
       "  'taste',\n",
       "  'human',\n",
       "  'flesh'],\n",
       " ['wolf', 'though'],\n",
       " ['never', 'eaten', 'meat', 'men', 'human', 'teeth'],\n",
       " ['would', 'grudge', 'pack', 'feast', 'however'],\n",
       " ['wolves',\n",
       "  'famished',\n",
       "  'was',\n",
       "  'gaunt',\n",
       "  'cold',\n",
       "  'hungry',\n",
       "  'prey',\n",
       "  'two',\n",
       "  'men',\n",
       "  'woman',\n",
       "  'babe',\n",
       "  'arms',\n",
       "  'fleeing',\n",
       "  'defeat',\n",
       "  'death'],\n",
       " ['would', 'perished', 'soon', 'case', 'exposure', 'starvation'],\n",
       " ['way', 'better', 'quicker'],\n",
       " ['mercy'],\n",
       " ['mercy', 'said', 'aloud'],\n",
       " ['throat', 'raw', 'felt', 'good', 'hear', 'human', 'voice', 'even', 'own'],\n",
       " ['air',\n",
       "  'smelled',\n",
       "  'mold',\n",
       "  'damp',\n",
       "  'ground',\n",
       "  'cold',\n",
       "  'hard',\n",
       "  'fire',\n",
       "  'giving',\n",
       "  'smoke',\n",
       "  'heat'],\n",
       " ['moved',\n",
       "  'close',\n",
       "  'flames',\n",
       "  'dared',\n",
       "  'coughing',\n",
       "  'shivering',\n",
       "  'turns',\n",
       "  'side',\n",
       "  'throbbing',\n",
       "  'wound',\n",
       "  'opened'],\n",
       " ['blood', 'soaked', 'breeches', 'knee', 'dried', 'hard', 'brown', 'crust'],\n",
       " ['thistle', 'warned', 'might', 'happen'],\n",
       " ['sewed',\n",
       "  'best',\n",
       "  'could',\n",
       "  'she',\n",
       "  'said',\n",
       "  'but',\n",
       "  'need',\n",
       "  'rest',\n",
       "  'let',\n",
       "  'mend',\n",
       "  'flesh',\n",
       "  'tear',\n",
       "  'open',\n",
       "  'again',\n",
       "  'thistle',\n",
       "  'last',\n",
       "  'companions',\n",
       "  'spearwife',\n",
       "  'tough',\n",
       "  'old',\n",
       "  'root',\n",
       "  'warty',\n",
       "  'windburnt',\n",
       "  'wrinkled'],\n",
       " ['others', 'deserted', 'along', 'way'],\n",
       " ['one',\n",
       "  'one',\n",
       "  'fell',\n",
       "  'behind',\n",
       "  'forged',\n",
       "  'ahead',\n",
       "  'making',\n",
       "  'old',\n",
       "  'villages',\n",
       "  'milkwater',\n",
       "  'hardhome',\n",
       "  'lonely',\n",
       "  'death',\n",
       "  'woods'],\n",
       " ['varamyr', 'know', 'could', 'care'],\n",
       " ['taken', 'one', 'chance'],\n",
       " ['one', 'twins', 'big', 'man', 'scarred', 'face', 'youth', 'red', 'hair'],\n",
       " ['afraid', 'though'],\n",
       " ['one', 'others', 'might', 'realized', 'happening'],\n",
       " ['would', 'turned', 'killed', 'him'],\n",
       " ['haggon', 'words', 'haunted', 'him', 'chance', 'passed'],\n",
       " ['battle',\n",
       "  'thousands',\n",
       "  'struggling',\n",
       "  'forest',\n",
       "  'hungry',\n",
       "  'frightened',\n",
       "  'fleeing',\n",
       "  'carnage',\n",
       "  'descended',\n",
       "  'wall'],\n",
       " ['talked',\n",
       "  'returning',\n",
       "  'homes',\n",
       "  'they',\n",
       "  'abandoned',\n",
       "  'others',\n",
       "  'mounting',\n",
       "  'second',\n",
       "  'assault',\n",
       "  'upon',\n",
       "  'gate',\n",
       "  'lost',\n",
       "  'notion',\n",
       "  'go',\n",
       "  'do'],\n",
       " ['escaped',\n",
       "  'black',\n",
       "  'cloaked',\n",
       "  'crows',\n",
       "  'knights',\n",
       "  'grey',\n",
       "  'steel',\n",
       "  'relentless',\n",
       "  'enemies',\n",
       "  'stalked',\n",
       "  'now'],\n",
       " ['every', 'day', 'left', 'corpses', 'trails'],\n",
       " ['died', 'hunger', 'cold', 'sickness'],\n",
       " ['others',\n",
       "  'slain',\n",
       "  'brothers',\n",
       "  'in',\n",
       "  'arms',\n",
       "  'marched',\n",
       "  'south',\n",
       "  'mance',\n",
       "  'rayder',\n",
       "  'king',\n",
       "  'beyond',\n",
       "  'the',\n",
       "  'wall'],\n",
       " ['mance',\n",
       "  'fallen',\n",
       "  'survivors',\n",
       "  'told',\n",
       "  'despairing',\n",
       "  'voices',\n",
       "  'mance',\n",
       "  'taken',\n",
       "  'mance',\n",
       "  'dead'],\n",
       " ['harma',\n",
       "  'dead',\n",
       "  'mance',\n",
       "  'captured',\n",
       "  'rest',\n",
       "  'run',\n",
       "  'left',\n",
       "  'us',\n",
       "  'thistle',\n",
       "  'claimed',\n",
       "  'sewing',\n",
       "  'wound'],\n",
       " ['tormund', 'weeper', 'sixskins', 'brave', 'raiders'],\n",
       " ['now', 'know', 'me', 'varamyr', 'realized', 'then', 'she'],\n",
       " ['without', 'beasts', 'look', 'like', 'great', 'man'],\n",
       " ['varamyr', 'six', 'skins', 'broke', 'bread', 'mance', 'rayder'],\n",
       " ['named', 'varamyr', 'ten'],\n",
       " ['name', 'fit', 'lord', 'name', 'songs', 'mighty', 'name', 'fearsome'],\n",
       " ['yet', 'run', 'crows', 'like', 'frightened', 'rabbit'],\n",
       " ['terrible',\n",
       "  'lord',\n",
       "  'varamyr',\n",
       "  'gone',\n",
       "  'craven',\n",
       "  'could',\n",
       "  'bear',\n",
       "  'know',\n",
       "  'that',\n",
       "  'told',\n",
       "  'spearwife',\n",
       "  'name',\n",
       "  'haggon'],\n",
       " ['afterward', 'wondered', 'name', 'come', 'lips', 'might', 'chosen'],\n",
       " ['ate', 'heart', 'drank', 'blood', 'still', 'haunts', 'me'],\n",
       " ['one',\n",
       "  'day',\n",
       "  'fled',\n",
       "  'rider',\n",
       "  'came',\n",
       "  'galloping',\n",
       "  'woods',\n",
       "  'gaunt',\n",
       "  'white',\n",
       "  'horse',\n",
       "  'shouting',\n",
       "  'make',\n",
       "  'milkwater',\n",
       "  'weeper',\n",
       "  'gathering',\n",
       "  'warriors',\n",
       "  'cross',\n",
       "  'bridge',\n",
       "  'skulls',\n",
       "  'take',\n",
       "  'shadow',\n",
       "  'tower'],\n",
       " ['many', 'followed', 'him', 'not'],\n",
       " ['later',\n",
       "  'dour',\n",
       "  'warrior',\n",
       "  'fur',\n",
       "  'amber',\n",
       "  'went',\n",
       "  'cookfire',\n",
       "  'cookfire',\n",
       "  'urging',\n",
       "  'survivors',\n",
       "  'head',\n",
       "  'north',\n",
       "  'take',\n",
       "  'refuge',\n",
       "  'valley',\n",
       "  'thenns'],\n",
       " ['thought',\n",
       "  'would',\n",
       "  'safe',\n",
       "  'thenns',\n",
       "  'fled',\n",
       "  'place',\n",
       "  'varamyr',\n",
       "  'never',\n",
       "  'learned',\n",
       "  'hundreds',\n",
       "  'followed',\n",
       "  'him'],\n",
       " ['hundreds',\n",
       "  'went',\n",
       "  'woods',\n",
       "  'witch',\n",
       "  'who',\n",
       "  'vision',\n",
       "  'fleet',\n",
       "  'ships',\n",
       "  'coming',\n",
       "  'carry',\n",
       "  'free',\n",
       "  'folk',\n",
       "  'south'],\n",
       " ['we',\n",
       "  'must',\n",
       "  'seek',\n",
       "  'sea',\n",
       "  'cried',\n",
       "  'mother',\n",
       "  'mole',\n",
       "  'followers',\n",
       "  'turned',\n",
       "  'east'],\n",
       " ['varamyr', 'might', 'amongst', 'he', 'stronger'],\n",
       " ['sea',\n",
       "  'grey',\n",
       "  'cold',\n",
       "  'far',\n",
       "  'away',\n",
       "  'though',\n",
       "  'knew',\n",
       "  'would',\n",
       "  'never',\n",
       "  'live',\n",
       "  'see',\n",
       "  'it'],\n",
       " ['nine', 'times', 'dead', 'dying', 'would', 'true', 'death'],\n",
       " ['squirrel',\n",
       "  'skin',\n",
       "  'cloak',\n",
       "  'remembered',\n",
       "  'knifed',\n",
       "  'squirrel',\n",
       "  'skin',\n",
       "  'cloak'],\n",
       " ['owner',\n",
       "  'dead',\n",
       "  'back',\n",
       "  'head',\n",
       "  'smashed',\n",
       "  'red',\n",
       "  'pulp',\n",
       "  'flecked',\n",
       "  'bits',\n",
       "  'bone',\n",
       "  'cloak',\n",
       "  'looked',\n",
       "  'warm',\n",
       "  'thick'],\n",
       " ['snowing', 'varamyr', 'lost', 'cloaks', 'wall'],\n",
       " ['sleeping',\n",
       "  'pelts',\n",
       "  'woolen',\n",
       "  'smallclothes',\n",
       "  'sheepskin',\n",
       "  'boots',\n",
       "  'fur',\n",
       "  'lined',\n",
       "  'gloves',\n",
       "  'store',\n",
       "  'mead',\n",
       "  'hoarded',\n",
       "  'food',\n",
       "  'hanks',\n",
       "  'hair',\n",
       "  'took',\n",
       "  'women',\n",
       "  'bedded',\n",
       "  'even',\n",
       "  'golden',\n",
       "  'arm',\n",
       "  'rings',\n",
       "  'mance',\n",
       "  'given',\n",
       "  'him',\n",
       "  'lost',\n",
       "  'left',\n",
       "  'behind'],\n",
       " ['burned', 'died', 'ran', 'half', 'mad', 'pain', 'terror'],\n",
       " ['memory', 'still', 'shamed', 'him', 'alone'],\n",
       " ['others', 'run', 'well', 'hundreds', 'them', 'thousands'],\n",
       " ['battle', 'lost'],\n",
       " ['knights',\n",
       "  'come',\n",
       "  'invincible',\n",
       "  'steel',\n",
       "  'killing',\n",
       "  'everyone',\n",
       "  'stayed',\n",
       "  'fight'],\n",
       " ['run', 'die'],\n",
       " ['death', 'easily', 'outrun', 'however'],\n",
       " ['varamyr',\n",
       "  'came',\n",
       "  'upon',\n",
       "  'dead',\n",
       "  'woman',\n",
       "  'wood',\n",
       "  'knelt',\n",
       "  'strip',\n",
       "  'cloak',\n",
       "  'her',\n",
       "  'never',\n",
       "  'saw',\n",
       "  'boy',\n",
       "  'burst',\n",
       "  'hiding',\n",
       "  'drive',\n",
       "  'long',\n",
       "  'bone',\n",
       "  'knife',\n",
       "  'side',\n",
       "  'rip',\n",
       "  'cloak',\n",
       "  'clutching',\n",
       "  'fingers'],\n",
       " ['his', 'mother', 'thistle', 'told', 'later', 'boy', 'run', 'off'],\n",
       " ['it',\n",
       "  'mother',\n",
       "  'cloak',\n",
       "  'saw',\n",
       "  'robbing',\n",
       "  'she',\n",
       "  'dead',\n",
       "  'varamyr',\n",
       "  'said',\n",
       "  'wincing',\n",
       "  'bone',\n",
       "  'needle',\n",
       "  'pierced',\n",
       "  'flesh'],\n",
       " ['someone', 'smashed', 'head'],\n",
       " ['crow', 'no', 'crow'],\n",
       " ['hornfoot', 'men'],\n",
       " ['saw', 'it', 'needle', 'pulled', 'gash', 'side', 'closed'],\n",
       " ['savages', 'who', 'left', 'tame', 'them', 'one'],\n",
       " ['mance', 'dead', 'free', 'folk', 'doomed'],\n",
       " ['thenns',\n",
       "  'giants',\n",
       "  'hornfoot',\n",
       "  'men',\n",
       "  'cave',\n",
       "  'dwellers',\n",
       "  'filed',\n",
       "  'teeth',\n",
       "  'men',\n",
       "  'western',\n",
       "  'shore',\n",
       "  'chariots',\n",
       "  'bone',\n",
       "  'doomed',\n",
       "  'well'],\n",
       " ['even', 'crows'],\n",
       " ['might',\n",
       "  'know',\n",
       "  'yet',\n",
       "  'black',\n",
       "  'cloaked',\n",
       "  'bastards',\n",
       "  'would',\n",
       "  'perish',\n",
       "  'rest'],\n",
       " ['enemy', 'coming'],\n",
       " ['haggon', 'rough', 'voice', 'echoed', 'head'],\n",
       " ['you',\n",
       "  'die',\n",
       "  'dozen',\n",
       "  'deaths',\n",
       "  'boy',\n",
       "  'every',\n",
       "  'one',\n",
       "  'hurt',\n",
       "  'true',\n",
       "  'death',\n",
       "  'comes',\n",
       "  'live',\n",
       "  'again'],\n",
       " ['second',\n",
       "  'life',\n",
       "  'simpler',\n",
       "  'sweeter',\n",
       "  'say',\n",
       "  'varamyr',\n",
       "  'sixskins',\n",
       "  'would',\n",
       "  'know',\n",
       "  'truth',\n",
       "  'soon',\n",
       "  'enough'],\n",
       " ['could',\n",
       "  'taste',\n",
       "  'true',\n",
       "  'death',\n",
       "  'smoke',\n",
       "  'hung',\n",
       "  'acrid',\n",
       "  'air',\n",
       "  'feel',\n",
       "  'heat',\n",
       "  'beneath',\n",
       "  'fingers',\n",
       "  'slipped',\n",
       "  'hand',\n",
       "  'clothes',\n",
       "  'touch',\n",
       "  'wound'],\n",
       " ['chill', 'too', 'though', 'deep', 'bones'],\n",
       " ['time', 'would', 'cold', 'killed', 'him'],\n",
       " ['last', 'death', 'fire'],\n",
       " ['burned'],\n",
       " ['first',\n",
       "  'confusion',\n",
       "  'thought',\n",
       "  'archer',\n",
       "  'wall',\n",
       "  'pierced',\n",
       "  'flaming',\n",
       "  'arrow',\n",
       "  'fire',\n",
       "  'inside',\n",
       "  'him',\n",
       "  'consuming',\n",
       "  'him'],\n",
       " ['pain', 'varamyr', 'died', 'nine', 'times', 'before'],\n",
       " ['died',\n",
       "  'spear',\n",
       "  'thrust',\n",
       "  'bear',\n",
       "  'teeth',\n",
       "  'throat',\n",
       "  'wash',\n",
       "  'blood',\n",
       "  'brought',\n",
       "  'forth',\n",
       "  'stillborn',\n",
       "  'cub'],\n",
       " ['died', 'first', 'death', 'six', 'father', 'axe', 'crashed', 'skull'],\n",
       " ['even',\n",
       "  'agonizing',\n",
       "  'fire',\n",
       "  'guts',\n",
       "  'crackling',\n",
       "  'along',\n",
       "  'wings',\n",
       "  'devouring',\n",
       "  'him'],\n",
       " ['tried',\n",
       "  'fly',\n",
       "  'it',\n",
       "  'terror',\n",
       "  'fanned',\n",
       "  'flames',\n",
       "  'made',\n",
       "  'burn',\n",
       "  'hotter'],\n",
       " ['one',\n",
       "  'moment',\n",
       "  'soaring',\n",
       "  'wall',\n",
       "  'eagle',\n",
       "  'eyes',\n",
       "  'marking',\n",
       "  'movements',\n",
       "  'men',\n",
       "  'below'],\n",
       " ['flames',\n",
       "  'turned',\n",
       "  'heart',\n",
       "  'blackened',\n",
       "  'cinder',\n",
       "  'sent',\n",
       "  'spirit',\n",
       "  'screaming',\n",
       "  'back',\n",
       "  'skin',\n",
       "  'little',\n",
       "  'he',\n",
       "  'gone',\n",
       "  'mad'],\n",
       " ['even', 'memory', 'enough', 'make', 'shudder'],\n",
       " ['noticed', 'fire', 'gone', 'out'],\n",
       " ['grey',\n",
       "  'and',\n",
       "  'black',\n",
       "  'tangle',\n",
       "  'charred',\n",
       "  'wood',\n",
       "  'remained',\n",
       "  'embers',\n",
       "  'glowing',\n",
       "  'ashes'],\n",
       " ['there', 'still', 'smoke', 'needs', 'wood'],\n",
       " ['gritting',\n",
       "  'teeth',\n",
       "  'pain',\n",
       "  'varamyr',\n",
       "  'crept',\n",
       "  'pile',\n",
       "  'broken',\n",
       "  'branches',\n",
       "  'thistle',\n",
       "  'gathered',\n",
       "  'went',\n",
       "  'hunting',\n",
       "  'tossed',\n",
       "  'sticks',\n",
       "  'onto',\n",
       "  'ashes'],\n",
       " ['catch', 'croaked'],\n",
       " ['burn',\n",
       "  'blew',\n",
       "  'upon',\n",
       "  'embers',\n",
       "  'said',\n",
       "  'wordless',\n",
       "  'prayer',\n",
       "  'nameless',\n",
       "  'gods',\n",
       "  'wood',\n",
       "  'hill',\n",
       "  'field'],\n",
       " ['gods', 'gave', 'answer'],\n",
       " ['while', 'smoke', 'ceased', 'rise', 'well'],\n",
       " ['already', 'little', 'hut', 'growing', 'colder'],\n",
       " ['varamyr', 'flint', 'tinder', 'dry', 'kindling'],\n",
       " ['would', 'never', 'get', 'fire', 'burning', 'again', 'himself'],\n",
       " ['thistle', 'called', 'out', 'voice', 'hoarse', 'edged', 'pain'],\n",
       " ['thistle',\n",
       "  'chin',\n",
       "  'pointed',\n",
       "  'nose',\n",
       "  'flat',\n",
       "  'mole',\n",
       "  'one',\n",
       "  'cheek',\n",
       "  'four',\n",
       "  'dark',\n",
       "  'hairs',\n",
       "  'growing',\n",
       "  'it'],\n",
       " ['ugly',\n",
       "  'face',\n",
       "  'hard',\n",
       "  'yet',\n",
       "  'would',\n",
       "  'given',\n",
       "  'much',\n",
       "  'glimpse',\n",
       "  'door',\n",
       "  'hut'],\n",
       " ['taken', 'left'],\n",
       " ['long', 'gone'],\n",
       " ['two', 'days'],\n",
       " ['three'],\n",
       " ['varamyr', 'uncertain'],\n",
       " ['dark',\n",
       "  'inside',\n",
       "  'hut',\n",
       "  'drifting',\n",
       "  'sleep',\n",
       "  'never',\n",
       "  'quite',\n",
       "  'sure',\n",
       "  'day',\n",
       "  'night',\n",
       "  'outside'],\n",
       " ['wait', 'she', 'said'],\n",
       " ['back',\n",
       "  'food',\n",
       "  'like',\n",
       "  'fool',\n",
       "  'he',\n",
       "  'waited',\n",
       "  'dreaming',\n",
       "  'haggon',\n",
       "  'bump',\n",
       "  'wrongs',\n",
       "  'done',\n",
       "  'long',\n",
       "  'life',\n",
       "  'days',\n",
       "  'nights',\n",
       "  'passed',\n",
       "  'thistle',\n",
       "  'returned'],\n",
       " ['won', 'coming', 'back'],\n",
       " ['varamyr', 'wondered', 'given', 'away'],\n",
       " ['could', 'tell', 'thinking', 'looking', 'him', 'muttered', 'fever', 'dream'],\n",
       " ['abomination', 'heard', 'haggon', 'saying'],\n",
       " ['almost', 'here', 'room'],\n",
       " ['she', 'ugly', 'spearwife', 'varamyr', 'told', 'him'],\n",
       " ['great', 'man'],\n",
       " ['varamyr', 'warg', 'skinchanger', 'right', 'live', 'die', 'one', 'answered'],\n",
       " ['one', 'there'],\n",
       " ['thistle', 'gone'],\n",
       " ['abandoned', 'him', 'rest'],\n",
       " ['mother', 'abandoned', 'well'],\n",
       " ['cried', 'bump', 'never', 'cried', 'me'],\n",
       " ['morning',\n",
       "  'father',\n",
       "  'pulled',\n",
       "  'bed',\n",
       "  'deliver',\n",
       "  'haggon',\n",
       "  'would',\n",
       "  'even',\n",
       "  'look',\n",
       "  'him'],\n",
       " ['shrieked',\n",
       "  'kicked',\n",
       "  'dragged',\n",
       "  'woods',\n",
       "  'father',\n",
       "  'slapped',\n",
       "  'told',\n",
       "  'quiet'],\n",
       " ['you', 'belong', 'kind', 'said', 'flung', 'haggon', 'feet'],\n",
       " ['wrong', 'varamyr', 'thought', 'shivering'],\n",
       " ['haggon', 'taught', 'much', 'more'],\n",
       " ['taught',\n",
       "  'hunt',\n",
       "  'fish',\n",
       "  'butcher',\n",
       "  'carcass',\n",
       "  'bone',\n",
       "  'fish',\n",
       "  'find',\n",
       "  'way',\n",
       "  'woods'],\n",
       " ['taught',\n",
       "  'way',\n",
       "  'warg',\n",
       "  'secrets',\n",
       "  'skinchanger',\n",
       "  'though',\n",
       "  'gift',\n",
       "  'stronger',\n",
       "  'own'],\n",
       " ['years',\n",
       "  'later',\n",
       "  'tried',\n",
       "  'find',\n",
       "  'parents',\n",
       "  'tell',\n",
       "  'lump',\n",
       "  'become',\n",
       "  'great',\n",
       "  'varamyr',\n",
       "  'sixskins',\n",
       "  'dead',\n",
       "  'burned'],\n",
       " ['gone', 'trees', 'streams', 'gone', 'rocks', 'earth'],\n",
       " ['gone', 'dirt', 'ashes'],\n",
       " ['woods', 'witch', 'told', 'mother', 'day', 'bump', 'died'],\n",
       " ['lump', 'want', 'clod', 'earth'],\n",
       " ['boy',\n",
       "  'dreamed',\n",
       "  'day',\n",
       "  'bards',\n",
       "  'would',\n",
       "  'sing',\n",
       "  'deeds',\n",
       "  'pretty',\n",
       "  'girls',\n",
       "  'would',\n",
       "  'kiss',\n",
       "  'him'],\n",
       " ['grown', 'king', 'beyond', 'the', 'wall', 'lump', 'promised', 'himself'],\n",
       " ['never', 'had', 'come', 'close'],\n",
       " ['varamyr', 'sixskins', 'name', 'men', 'feared'],\n",
       " ['rode',\n",
       "  'battle',\n",
       "  'back',\n",
       "  'snow',\n",
       "  'bear',\n",
       "  'thirteen',\n",
       "  'feet',\n",
       "  'tall',\n",
       "  'kept',\n",
       "  'three',\n",
       "  'wolves',\n",
       "  'shadowcat',\n",
       "  'thrall',\n",
       "  'sat',\n",
       "  'right',\n",
       "  'hand',\n",
       "  'mance',\n",
       "  'rayder'],\n",
       " ['mance', 'brought', 'place'],\n",
       " ['listened'],\n",
       " ['slipped', 'inside', 'bear', 'torn', 'pieces'],\n",
       " ['mance', 'varamyr', 'sixskins', 'lord', 'sorts'],\n",
       " ['lived',\n",
       "  'alone',\n",
       "  'hall',\n",
       "  'moss',\n",
       "  'mud',\n",
       "  'hewn',\n",
       "  'logs',\n",
       "  'haggon',\n",
       "  'attended',\n",
       "  'beasts'],\n",
       " ['dozen',\n",
       "  'villages',\n",
       "  'homage',\n",
       "  'bread',\n",
       "  'salt',\n",
       "  'cider',\n",
       "  'offering',\n",
       "  'fruit',\n",
       "  'orchards',\n",
       "  'vegetables',\n",
       "  'gardens'],\n",
       " ['meat', 'got', 'himself'],\n",
       " ['whenever',\n",
       "  'desired',\n",
       "  'woman',\n",
       "  'sent',\n",
       "  'shadowcat',\n",
       "  'stalk',\n",
       "  'her',\n",
       "  'whatever',\n",
       "  'girl',\n",
       "  'he',\n",
       "  'cast',\n",
       "  'eye',\n",
       "  'upon',\n",
       "  'would',\n",
       "  'follow',\n",
       "  'meekly',\n",
       "  'bed'],\n",
       " ['came', 'weeping', 'aye', 'still', 'came'],\n",
       " ['varamyr',\n",
       "  'gave',\n",
       "  'seed',\n",
       "  'took',\n",
       "  'hank',\n",
       "  'hair',\n",
       "  'remember',\n",
       "  'by',\n",
       "  'sent',\n",
       "  'back'],\n",
       " ['time',\n",
       "  'time',\n",
       "  'village',\n",
       "  'hero',\n",
       "  'would',\n",
       "  'come',\n",
       "  'spear',\n",
       "  'hand',\n",
       "  'slay',\n",
       "  'beastling',\n",
       "  'save',\n",
       "  'sister',\n",
       "  'lover',\n",
       "  'daughter'],\n",
       " ['killed', 'never', 'harmed', 'women'],\n",
       " ['even', 'blessed', 'children'],\n",
       " ['runts'],\n",
       " ['small', 'puny', 'things', 'like', 'lump', 'one', 'gift'],\n",
       " ['fear', 'drove', 'feet', 'reeling'],\n",
       " ['holding',\n",
       "  'side',\n",
       "  'staunch',\n",
       "  'seep',\n",
       "  'blood',\n",
       "  'wound',\n",
       "  'varamyr',\n",
       "  'lurched',\n",
       "  'door',\n",
       "  'swept',\n",
       "  'aside',\n",
       "  'ragged',\n",
       "  'skin',\n",
       "  'covered',\n",
       "  'face',\n",
       "  'wall',\n",
       "  'white'],\n",
       " ['snow'],\n",
       " ['wonder', 'grown', 'dark', 'smoky', 'inside'],\n",
       " ['falling', 'snow', 'buried', 'hut'],\n",
       " ['varamyr',\n",
       "  'pushed',\n",
       "  'it',\n",
       "  'snow',\n",
       "  'crumbled',\n",
       "  'gave',\n",
       "  'way',\n",
       "  'still',\n",
       "  'soft',\n",
       "  'wet'],\n",
       " ['outside',\n",
       "  'night',\n",
       "  'white',\n",
       "  'death',\n",
       "  'pale',\n",
       "  'thin',\n",
       "  'clouds',\n",
       "  'danced',\n",
       "  'attendance',\n",
       "  'silver',\n",
       "  'moon',\n",
       "  'thousand',\n",
       "  'stars',\n",
       "  'watched',\n",
       "  'coldly'],\n",
       " ['could',\n",
       "  'see',\n",
       "  'humped',\n",
       "  'shapes',\n",
       "  'huts',\n",
       "  'buried',\n",
       "  'beneath',\n",
       "  'drifts',\n",
       "  'snow',\n",
       "  'beyond',\n",
       "  'pale',\n",
       "  'shadow',\n",
       "  'weirwood',\n",
       "  'armored',\n",
       "  'ice'],\n",
       " ['south',\n",
       "  'west',\n",
       "  'hills',\n",
       "  'vast',\n",
       "  'white',\n",
       "  'wilderness',\n",
       "  'nothing',\n",
       "  'moved',\n",
       "  'except',\n",
       "  'blowing',\n",
       "  'snow'],\n",
       " ['thistle',\n",
       "  'varamyr',\n",
       "  'called',\n",
       "  'feebly',\n",
       "  'wondering',\n",
       "  'far',\n",
       "  'could',\n",
       "  'gone'],\n",
       " ['thistle'],\n",
       " ['woman'],\n",
       " ['you', 'far', 'away', 'wolf', 'gave', 'howl'],\n",
       " ['shiver', 'went', 'varamyr'],\n",
       " ['knew', 'howl', 'well', 'lump', 'known', 'mother', 'voice'],\n",
       " ['one', 'eye'],\n",
       " ['oldest', 'three', 'biggest', 'fiercest'],\n",
       " ['stalker',\n",
       "  'leaner',\n",
       "  'quicker',\n",
       "  'younger',\n",
       "  'sly',\n",
       "  'cunning',\n",
       "  'went',\n",
       "  'fear',\n",
       "  'one',\n",
       "  'eye'],\n",
       " ['old', 'wolf', 'fearless', 'relentless', 'savage'],\n",
       " ['varamyr', 'lost', 'control', 'beasts', 'agony', 'eagle', 'death'],\n",
       " ['shadowcat',\n",
       "  'raced',\n",
       "  'woods',\n",
       "  'whilst',\n",
       "  'snow',\n",
       "  'bear',\n",
       "  'turned',\n",
       "  'claws',\n",
       "  'around',\n",
       "  'her',\n",
       "  'ripping',\n",
       "  'apart',\n",
       "  'four',\n",
       "  'men',\n",
       "  'falling',\n",
       "  'spear'],\n",
       " ['would', 'slain', 'varamyr', 'come', 'within', 'reach'],\n",
       " ['bear',\n",
       "  'hated',\n",
       "  'him',\n",
       "  'raged',\n",
       "  'time',\n",
       "  'wore',\n",
       "  'skin',\n",
       "  'climbed',\n",
       "  'upon',\n",
       "  'back'],\n",
       " ['wolves', 'though', 'brothers'],\n",
       " ['pack'],\n",
       " ['many',\n",
       "  'cold',\n",
       "  'night',\n",
       "  'slept',\n",
       "  'wolves',\n",
       "  'shaggy',\n",
       "  'bodies',\n",
       "  'piled',\n",
       "  'around',\n",
       "  'help',\n",
       "  'keep',\n",
       "  'warm'],\n",
       " ['die',\n",
       "  'feast',\n",
       "  'upon',\n",
       "  'flesh',\n",
       "  'leave',\n",
       "  'bones',\n",
       "  'greet',\n",
       "  'thaw',\n",
       "  'come',\n",
       "  'spring'],\n",
       " ['thought', 'queerly', 'comforting'],\n",
       " ['wolves', 'often', 'foraged', 'roamed', 'seemed', 'fitting', 'feed', 'end'],\n",
       " ['might',\n",
       "  'well',\n",
       "  'begin',\n",
       "  'second',\n",
       "  'life',\n",
       "  'tearing',\n",
       "  'warm',\n",
       "  'dead',\n",
       "  'flesh',\n",
       "  'corpse'],\n",
       " ['dogs',\n",
       "  'easiest',\n",
       "  'beasts',\n",
       "  'bond',\n",
       "  'with',\n",
       "  'lived',\n",
       "  'close',\n",
       "  'men',\n",
       "  'almost',\n",
       "  'human'],\n",
       " ['slipping',\n",
       "  'dog',\n",
       "  'skin',\n",
       "  'like',\n",
       "  'putting',\n",
       "  'old',\n",
       "  'boot',\n",
       "  'leather',\n",
       "  'softened',\n",
       "  'wear'],\n",
       " ['boot',\n",
       "  'shaped',\n",
       "  'accept',\n",
       "  'foot',\n",
       "  'dog',\n",
       "  'shaped',\n",
       "  'accept',\n",
       "  'collar',\n",
       "  'even',\n",
       "  'collar',\n",
       "  'human',\n",
       "  'eye',\n",
       "  'could',\n",
       "  'see'],\n",
       " ['wolves', 'harder'],\n",
       " ['man',\n",
       "  'might',\n",
       "  'befriend',\n",
       "  'wolf',\n",
       "  'even',\n",
       "  'break',\n",
       "  'wolf',\n",
       "  'man',\n",
       "  'could',\n",
       "  'truly',\n",
       "  'tame',\n",
       "  'wolf'],\n",
       " ['wolves', 'women', 'wed', 'life', 'haggon', 'often', 'said'],\n",
       " ['you', 'take', 'one', 'that', 'marriage'],\n",
       " ['wolf', 'part', 'day', 'on', 'you', 're', 'part', 'him'],\n",
       " ['change', 'beasts', 'best', 'left', 'alone', 'hunter', 'declared'],\n",
       " ['cats', 'vain', 'cruel', 'always', 'ready', 'turn', 'you'],\n",
       " ['elk',\n",
       "  'deer',\n",
       "  'prey',\n",
       "  'wear',\n",
       "  'skins',\n",
       "  'long',\n",
       "  'even',\n",
       "  'bravest',\n",
       "  'man',\n",
       "  'became',\n",
       "  'coward'],\n",
       " ['bears', 'boars', 'badgers', 'weasels', 'haggon', 'hold', 'such'],\n",
       " ['some', 'skins', 'never', 'want', 'wear', 'boy'],\n",
       " ['won', 'like', 'you', 'become', 'birds', 'worst', 'hear', 'tell', 'it'],\n",
       " ['men', 'meant', 'leave', 'earth'],\n",
       " ['spend', 'much', 'time', 'clouds', 'never', 'want', 'come', 'back', 'again'],\n",
       " ['know', 'skinchangers', 'who', 've', 'tried', 'hawks', 'owls', 'ravens'],\n",
       " ['even',\n",
       "  'skins',\n",
       "  'sit',\n",
       "  'moony',\n",
       "  'staring',\n",
       "  'bloody',\n",
       "  'blue',\n",
       "  'skinchangers',\n",
       "  'felt',\n",
       "  'same',\n",
       "  'however'],\n",
       " ['once', 'lump', 'ten', 'haggon', 'taken', 'gathering', 'such'],\n",
       " ['wargs',\n",
       "  'numerous',\n",
       "  'company',\n",
       "  'wolf',\n",
       "  'brothers',\n",
       "  'boy',\n",
       "  'found',\n",
       "  'others',\n",
       "  'stranger',\n",
       "  'fascinating'],\n",
       " ['borroq',\n",
       "  'looked',\n",
       "  'much',\n",
       "  'like',\n",
       "  'boar',\n",
       "  'lacked',\n",
       "  'tusks',\n",
       "  'orell',\n",
       "  'eagle',\n",
       "  'briar',\n",
       "  'shadowcat',\n",
       "  'the',\n",
       "  'moment',\n",
       "  'saw',\n",
       "  'them',\n",
       "  'lump',\n",
       "  'wanted',\n",
       "  'shadowcat',\n",
       "  'own',\n",
       "  'goat',\n",
       "  'woman',\n",
       "  'grisella',\n",
       "  'none',\n",
       "  'strong',\n",
       "  'varamyr',\n",
       "  'sixskins',\n",
       "  'though',\n",
       "  'even',\n",
       "  'haggon',\n",
       "  'tall',\n",
       "  'grim',\n",
       "  'hands',\n",
       "  'hard',\n",
       "  'stone'],\n",
       " ['hunter',\n",
       "  'died',\n",
       "  'weeping',\n",
       "  'varamyr',\n",
       "  'took',\n",
       "  'greyskin',\n",
       "  'him',\n",
       "  'driving',\n",
       "  'claim',\n",
       "  'beast',\n",
       "  'own'],\n",
       " ['second', 'life', 'you', 'old', 'man'],\n",
       " ['varamyr', 'threeskins', 'he', 'called', 'back', 'then'],\n",
       " ['greyskin',\n",
       "  'made',\n",
       "  'four',\n",
       "  'though',\n",
       "  'old',\n",
       "  'wolf',\n",
       "  'frail',\n",
       "  'almost',\n",
       "  'toothless',\n",
       "  'soon',\n",
       "  'followed',\n",
       "  'haggon',\n",
       "  'death'],\n",
       " ['varamyr',\n",
       "  'could',\n",
       "  'take',\n",
       "  'beast',\n",
       "  'wanted',\n",
       "  'bend',\n",
       "  'will',\n",
       "  'make',\n",
       "  'flesh',\n",
       "  'own'],\n",
       " ['dog', 'wolf', 'bear', 'badger', 'thistle', 'thought'],\n",
       " ['haggon',\n",
       "  'would',\n",
       "  'call',\n",
       "  'abomination',\n",
       "  'blackest',\n",
       "  'sin',\n",
       "  'all',\n",
       "  'haggon',\n",
       "  'dead',\n",
       "  'devoured',\n",
       "  'burned'],\n",
       " ['mance', 'would', 'cursed', 'well', 'mance', 'slain', 'captured'],\n",
       " ['one', 'ever', 'know'],\n",
       " ['thistle', 'spearwife', 'varamyr', 'sixskins', 'dead'],\n",
       " ['gift', 'would', 'perish', 'body', 'expected'],\n",
       " ['would',\n",
       "  'lose',\n",
       "  'wolves',\n",
       "  'live',\n",
       "  'rest',\n",
       "  'days',\n",
       "  'scrawny',\n",
       "  'warty',\n",
       "  'woman',\n",
       "  'would',\n",
       "  'live'],\n",
       " ['comes', 'back'],\n",
       " ['still', 'strong', 'enough', 'take', 'her'],\n",
       " ['wave', 'dizziness', 'washed', 'varamyr'],\n",
       " ['found', 'upon', 'knees', 'hands', 'buried', 'snowdrift'],\n",
       " ['scooped',\n",
       "  'fistful',\n",
       "  'snow',\n",
       "  'filled',\n",
       "  'mouth',\n",
       "  'it',\n",
       "  'rubbing',\n",
       "  'beard',\n",
       "  'cracked',\n",
       "  'lips',\n",
       "  'sucking',\n",
       "  'moisture'],\n",
       " ['water',\n",
       "  'cold',\n",
       "  'could',\n",
       "  'barely',\n",
       "  'bring',\n",
       "  'swallow',\n",
       "  'realized',\n",
       "  'hot',\n",
       "  'was'],\n",
       " ['snowmelt', 'made', 'hungrier'],\n",
       " ['food', 'belly', 'craved', 'water'],\n",
       " ['snow',\n",
       "  'stopped',\n",
       "  'falling',\n",
       "  'wind',\n",
       "  'rising',\n",
       "  'filling',\n",
       "  'air',\n",
       "  'crystal',\n",
       "  'slashing',\n",
       "  'face',\n",
       "  'struggled',\n",
       "  'drifts',\n",
       "  'wound',\n",
       "  'side',\n",
       "  'opening',\n",
       "  'closing',\n",
       "  'again'],\n",
       " ['breath', 'made', 'ragged', 'white', 'cloud'],\n",
       " ['reached',\n",
       "  'weirwood',\n",
       "  'tree',\n",
       "  'found',\n",
       "  'fallen',\n",
       "  'branch',\n",
       "  'long',\n",
       "  'enough',\n",
       "  'use',\n",
       "  'crutch'],\n",
       " ['leaning', 'heavily', 'upon', 'it', 'staggered', 'toward', 'nearest', 'hut'],\n",
       " ['perhaps',\n",
       "  'villagers',\n",
       "  'forgotten',\n",
       "  'something',\n",
       "  'fled',\n",
       "  'sack',\n",
       "  'apples',\n",
       "  'dried',\n",
       "  'meat',\n",
       "  'anything',\n",
       "  'keep',\n",
       "  'alive',\n",
       "  'thistle',\n",
       "  'returned'],\n",
       " ['almost', 'crutch', 'snapped', 'beneath', 'weight', 'legs', 'went', 'him'],\n",
       " ['long',\n",
       "  'sprawled',\n",
       "  'blood',\n",
       "  'reddening',\n",
       "  'snow',\n",
       "  'varamyr',\n",
       "  'could',\n",
       "  'said'],\n",
       " ['snow', 'bury', 'me'],\n",
       " ['would', 'peaceful', 'death'],\n",
       " ['say', 'feel', 'warm', 'near', 'end', 'warm', 'sleepy'],\n",
       " ['would',\n",
       "  'good',\n",
       "  'feel',\n",
       "  'warm',\n",
       "  'again',\n",
       "  'though',\n",
       "  'made',\n",
       "  'sad',\n",
       "  'think',\n",
       "  'would',\n",
       "  'never',\n",
       "  'see',\n",
       "  'green',\n",
       "  'lands',\n",
       "  'warm',\n",
       "  'lands',\n",
       "  'beyond',\n",
       "  'wall',\n",
       "  'mance',\n",
       "  'used',\n",
       "  'sing',\n",
       "  'about'],\n",
       " ['the', 'world', 'beyond', 'wall', 'kind', 'haggon', 'used', 'say'],\n",
       " ['the', 'free', 'folk', 'fear', 'skinchangers', 'honor', 'us', 'well'],\n",
       " ['south',\n",
       "  'wall',\n",
       "  'kneelers',\n",
       "  'hunt',\n",
       "  'us',\n",
       "  'butcher',\n",
       "  'us',\n",
       "  'like',\n",
       "  'pigs',\n",
       "  'warned',\n",
       "  'me',\n",
       "  'varamyr',\n",
       "  'thought',\n",
       "  'showed',\n",
       "  'eastwatch',\n",
       "  'too'],\n",
       " ['could', 'ten'],\n",
       " ['haggon',\n",
       "  'traded',\n",
       "  'dozen',\n",
       "  'strings',\n",
       "  'amber',\n",
       "  'sled',\n",
       "  'piled',\n",
       "  'high',\n",
       "  'pelts',\n",
       "  'six',\n",
       "  'skins',\n",
       "  'wine',\n",
       "  'block',\n",
       "  'salt',\n",
       "  'copper',\n",
       "  'kettle'],\n",
       " ['eastwatch',\n",
       "  'better',\n",
       "  'place',\n",
       "  'trade',\n",
       "  'castle',\n",
       "  'black',\n",
       "  'ships',\n",
       "  'came',\n",
       "  'laden',\n",
       "  'goods',\n",
       "  'fabled',\n",
       "  'lands',\n",
       "  'beyond',\n",
       "  'sea'],\n",
       " ['crows',\n",
       "  'knew',\n",
       "  'haggon',\n",
       "  'hunter',\n",
       "  'friend',\n",
       "  'night',\n",
       "  'watch',\n",
       "  'welcomed',\n",
       "  'news',\n",
       "  'brought',\n",
       "  'life',\n",
       "  'beyond',\n",
       "  'wall'],\n",
       " ['knew', 'skinchanger', 'too', 'one', 'spoke', 'that'],\n",
       " ['eastwatch',\n",
       "  'by',\n",
       "  'the',\n",
       "  'sea',\n",
       "  'boy',\n",
       "  'he',\n",
       "  'first',\n",
       "  'began',\n",
       "  'dream',\n",
       "  'warm',\n",
       "  'south'],\n",
       " ['varamyr', 'could', 'feel', 'snowflakes', 'melting', 'brow'],\n",
       " ['bad', 'burning'],\n",
       " ['let', 'sleep', 'never', 'wake', 'let', 'begin', 'second', 'life'],\n",
       " ['wolves', 'close', 'now'],\n",
       " ['could', 'feel', 'them'],\n",
       " ['would',\n",
       "  'leave',\n",
       "  'feeble',\n",
       "  'flesh',\n",
       "  'behind',\n",
       "  'become',\n",
       "  'one',\n",
       "  'them',\n",
       "  'hunting',\n",
       "  'night',\n",
       "  'howling',\n",
       "  'moon'],\n",
       " ['warg', 'would', 'become', 'true', 'wolf'],\n",
       " ['which', 'though'],\n",
       " ['sly'],\n",
       " ['haggon',\n",
       "  'would',\n",
       "  'called',\n",
       "  'abomination',\n",
       "  'varamyr',\n",
       "  'often',\n",
       "  'slipped',\n",
       "  'inside',\n",
       "  'skin',\n",
       "  'mounted',\n",
       "  'one',\n",
       "  'eye'],\n",
       " ['want', 'spend', 'new', 'life', 'bitch', 'though', 'unless', 'choice'],\n",
       " ['stalker',\n",
       "  'might',\n",
       "  'suit',\n",
       "  'better',\n",
       "  'younger',\n",
       "  'male',\n",
       "  'though',\n",
       "  'one',\n",
       "  'eye',\n",
       "  'larger',\n",
       "  'fiercer',\n",
       "  'one',\n",
       "  'eye',\n",
       "  'took',\n",
       "  'sly',\n",
       "  'whenever',\n",
       "  'went',\n",
       "  'heat'],\n",
       " ['they', 'say', 'forget', 'haggon', 'told', 'him', 'weeks', 'death'],\n",
       " ['when',\n",
       "  'man',\n",
       "  'flesh',\n",
       "  'dies',\n",
       "  'spirit',\n",
       "  'lives',\n",
       "  'inside',\n",
       "  'beast',\n",
       "  'every',\n",
       "  'day',\n",
       "  'memory',\n",
       "  'fades',\n",
       "  'beast',\n",
       "  'becomes',\n",
       "  'little',\n",
       "  'less',\n",
       "  'warg',\n",
       "  'little',\n",
       "  'wolf',\n",
       "  'nothing',\n",
       "  'man',\n",
       "  'left',\n",
       "  'beast',\n",
       "  'remains',\n",
       "  'varamyr',\n",
       "  'knew',\n",
       "  'truth',\n",
       "  'that'],\n",
       " ['claimed',\n",
       "  'eagle',\n",
       "  'orell',\n",
       "  'could',\n",
       "  'feel',\n",
       "  'skinchanger',\n",
       "  'raging',\n",
       "  'presence'],\n",
       " ['orell',\n",
       "  'slain',\n",
       "  'turncloak',\n",
       "  'crow',\n",
       "  'jon',\n",
       "  'snow',\n",
       "  'hate',\n",
       "  'killer',\n",
       "  'strong',\n",
       "  'varamyr',\n",
       "  'found',\n",
       "  'hating',\n",
       "  'beastling',\n",
       "  'boy',\n",
       "  'well'],\n",
       " ['known',\n",
       "  'snow',\n",
       "  'moment',\n",
       "  'saw',\n",
       "  'great',\n",
       "  'white',\n",
       "  'direwolf',\n",
       "  'stalking',\n",
       "  'silent',\n",
       "  'side'],\n",
       " ['one', 'skinchanger', 'always', 'sense', 'another'],\n",
       " ['mance', 'let', 'take', 'direwolf'],\n",
       " ['would', 'second', 'life', 'worthy', 'king'],\n",
       " ['could', 'done', 'it', 'doubt'],\n",
       " ['gift',\n",
       "  'strong',\n",
       "  'snow',\n",
       "  'youth',\n",
       "  'untaught',\n",
       "  'still',\n",
       "  'fighting',\n",
       "  'nature',\n",
       "  'gloried',\n",
       "  'it'],\n",
       " ['varamyr',\n",
       "  'could',\n",
       "  'see',\n",
       "  'weirwood',\n",
       "  'red',\n",
       "  'eyes',\n",
       "  'staring',\n",
       "  'white',\n",
       "  'trunk'],\n",
       " ['gods', 'weighing', 'me'],\n",
       " ['shiver', 'went', 'him'],\n",
       " ['done', 'bad', 'things', 'terrible', 'things'],\n",
       " ['stolen', 'killed', 'raped'],\n",
       " ['gorged',\n",
       "  'human',\n",
       "  'flesh',\n",
       "  'lapped',\n",
       "  'blood',\n",
       "  'dying',\n",
       "  'men',\n",
       "  'gushed',\n",
       "  'red',\n",
       "  'hot',\n",
       "  'torn',\n",
       "  'throats'],\n",
       " ['stalked',\n",
       "  'foes',\n",
       "  'woods',\n",
       "  'fallen',\n",
       "  'slept',\n",
       "  'clawed',\n",
       "  'entrails',\n",
       "  'bellies',\n",
       "  'scattered',\n",
       "  'across',\n",
       "  'muddy',\n",
       "  'earth'],\n",
       " ['sweet', 'meat', 'tasted'],\n",
       " ['that', 'beast', 'me', 'said', 'hoarse', 'whisper'],\n",
       " ['that', 'gift', 'gave', 'me', 'gods', 'made', 'reply'],\n",
       " ['breath', 'hung', 'pale', 'misty', 'air'],\n",
       " ['could', 'feel', 'ice', 'forming', 'beard'],\n",
       " ['varamyr', 'sixskins', 'closed', 'eyes'],\n",
       " ['dreamt',\n",
       "  'old',\n",
       "  'dream',\n",
       "  'hovel',\n",
       "  'sea',\n",
       "  'three',\n",
       "  'dogs',\n",
       "  'whimpering',\n",
       "  'woman',\n",
       "  'tears'],\n",
       " ['bump'],\n",
       " ['weeps', 'bump', 'never', 'wept', 'me'],\n",
       " ['lump',\n",
       "  'born',\n",
       "  'month',\n",
       "  'proper',\n",
       "  'time',\n",
       "  'sick',\n",
       "  'often',\n",
       "  'one',\n",
       "  'expected',\n",
       "  'live'],\n",
       " ['mother', 'waited', 'almost', 'four', 'give', 'proper', 'name', 'late'],\n",
       " ['whole',\n",
       "  'village',\n",
       "  'taken',\n",
       "  'calling',\n",
       "  'lump',\n",
       "  'name',\n",
       "  'sister',\n",
       "  'meha',\n",
       "  'given',\n",
       "  'still',\n",
       "  'mother',\n",
       "  'belly'],\n",
       " ['meha',\n",
       "  'given',\n",
       "  'bump',\n",
       "  'name',\n",
       "  'well',\n",
       "  'lump',\n",
       "  'little',\n",
       "  'brother',\n",
       "  'born',\n",
       "  'proper',\n",
       "  'time',\n",
       "  'big',\n",
       "  'red',\n",
       "  'robust',\n",
       "  'sucking',\n",
       "  'greedily',\n",
       "  'mother',\n",
       "  'teats'],\n",
       " ['going', 'name', 'father'],\n",
       " ['bump', 'died', 'though'],\n",
       " ['died', 'two', 'six', 'three', 'days', 'nameday'],\n",
       " ['your',\n",
       "  'little',\n",
       "  'one',\n",
       "  'gods',\n",
       "  'now',\n",
       "  'woods',\n",
       "  'witch',\n",
       "  'told',\n",
       "  'mother',\n",
       "  'wept'],\n",
       " ['he', 'll', 'never', 'hurt', 'again', 'never', 'hunger', 'never', 'cry'],\n",
       " ['gods', 'taken', 'earth', 'trees'],\n",
       " ['gods', 'around', 'us', 'rocks', 'streams', 'birds', 'beasts'],\n",
       " ['bump', 'gone', 'join', 'them'],\n",
       " ['he',\n",
       "  'll',\n",
       "  'world',\n",
       "  'that',\n",
       "  'it',\n",
       "  'old',\n",
       "  'woman',\n",
       "  'words',\n",
       "  'gone',\n",
       "  'lump',\n",
       "  'like',\n",
       "  'knife'],\n",
       " ['bump', 'sees'],\n",
       " ['watching', 'me'],\n",
       " ['knows'],\n",
       " ['lump',\n",
       "  'could',\n",
       "  'hide',\n",
       "  'him',\n",
       "  'could',\n",
       "  'slip',\n",
       "  'behind',\n",
       "  'mother',\n",
       "  'skirts',\n",
       "  'run',\n",
       "  'dogs',\n",
       "  'escape',\n",
       "  'father',\n",
       "  'fury'],\n",
       " ['dogs'],\n",
       " ['loptail', 'sniff', 'growler'],\n",
       " ['good', 'dogs'],\n",
       " ['friends'],\n",
       " ['father',\n",
       "  'found',\n",
       "  'dogs',\n",
       "  'sniffing',\n",
       "  'round',\n",
       "  'bump',\n",
       "  'body',\n",
       "  'way',\n",
       "  'knowing',\n",
       "  'done',\n",
       "  'it',\n",
       "  'took',\n",
       "  'axe',\n",
       "  'three'],\n",
       " ['hands',\n",
       "  'shook',\n",
       "  'badly',\n",
       "  'took',\n",
       "  'two',\n",
       "  'blows',\n",
       "  'silence',\n",
       "  'sniff',\n",
       "  'four',\n",
       "  'put',\n",
       "  'growler',\n",
       "  'down'],\n",
       " ['smell',\n",
       "  'blood',\n",
       "  'hung',\n",
       "  'heavy',\n",
       "  'air',\n",
       "  'sounds',\n",
       "  'dying',\n",
       "  'dogs',\n",
       "  'made',\n",
       "  'terrible',\n",
       "  'hear',\n",
       "  'yet',\n",
       "  'loptail',\n",
       "  'still',\n",
       "  'came',\n",
       "  'father',\n",
       "  'called',\n",
       "  'him'],\n",
       " ['oldest', 'dog', 'training', 'overcame', 'terror'],\n",
       " ['time', 'lump', 'slipped', 'inside', 'skin', 'late'],\n",
       " ['no',\n",
       "  'father',\n",
       "  'please',\n",
       "  'tried',\n",
       "  'say',\n",
       "  'dogs',\n",
       "  'cannot',\n",
       "  'speak',\n",
       "  'tongues',\n",
       "  'men',\n",
       "  'emerged',\n",
       "  'piteous',\n",
       "  'whine'],\n",
       " ['axe',\n",
       "  'crashed',\n",
       "  'middle',\n",
       "  'old',\n",
       "  'dog',\n",
       "  'skull',\n",
       "  'inside',\n",
       "  'hovel',\n",
       "  'boy',\n",
       "  'let',\n",
       "  'scream'],\n",
       " ['knew'],\n",
       " ['two', 'days', 'later', 'father', 'dragged', 'woods'],\n",
       " ['brought', 'axe', 'lump', 'thought', 'meant', 'put', 'way', 'done', 'dogs'],\n",
       " ['instead', 'he', 'given', 'haggon'],\n",
       " ['varamyr', 'woke', 'suddenly', 'violently', 'whole', 'body', 'shaking'],\n",
       " ['get', 'up', 'voice', 'screaming', 'get', 'up', 'go'],\n",
       " ['hundreds', 'them', 'snow', 'covered', 'stiff', 'white', 'blanket'],\n",
       " ['cold'],\n",
       " ['tried', 'move', 'found', 'hand', 'frozen', 'ground'],\n",
       " ['left', 'skin', 'behind', 'tore', 'loose'],\n",
       " ['get',\n",
       "  'up',\n",
       "  'screamed',\n",
       "  'again',\n",
       "  'they',\n",
       "  're',\n",
       "  'coming',\n",
       "  'thistle',\n",
       "  'returned',\n",
       "  'him'],\n",
       " ['shoulders', 'shaking', 'him', 'shouting', 'face'],\n",
       " ['varamyr',\n",
       "  'could',\n",
       "  'smell',\n",
       "  'breath',\n",
       "  'feel',\n",
       "  'warmth',\n",
       "  'upon',\n",
       "  'cheeks',\n",
       "  'gone',\n",
       "  'numb',\n",
       "  'cold'],\n",
       " ['now', 'thought', 'now', 'die'],\n",
       " ['summoned',\n",
       "  'strength',\n",
       "  'still',\n",
       "  'him',\n",
       "  'leapt',\n",
       "  'skin',\n",
       "  'forced',\n",
       "  'inside',\n",
       "  'her'],\n",
       " ['thistle', 'arched', 'back', 'screamed'],\n",
       " ['abomination'],\n",
       " ['her', 'him', 'haggon'],\n",
       " ['never', 'knew'],\n",
       " ['old', 'flesh', 'fell', 'back', 'snowdrift', 'fingers', 'loosened'],\n",
       " ['spear', 'wife', 'twisted', 'violently', 'shrieking'],\n",
       " ['shadowcat',\n",
       "  'used',\n",
       "  'fight',\n",
       "  'wildly',\n",
       "  'snow',\n",
       "  'bear',\n",
       "  'gone',\n",
       "  'half',\n",
       "  'mad',\n",
       "  'time',\n",
       "  'snapping',\n",
       "  'trees',\n",
       "  'rocks',\n",
       "  'empty',\n",
       "  'air',\n",
       "  'worse'],\n",
       " ['get', 'out', 'get', 'out', 'heard', 'mouth', 'shouting'],\n",
       " ['body',\n",
       "  'staggered',\n",
       "  'fell',\n",
       "  'rose',\n",
       "  'again',\n",
       "  'hands',\n",
       "  'flailed',\n",
       "  'legs',\n",
       "  'jerked',\n",
       "  'way',\n",
       "  'grotesque',\n",
       "  'dance',\n",
       "  'spirit',\n",
       "  'fought',\n",
       "  'flesh'],\n",
       " ['sucked',\n",
       "  'mouthful',\n",
       "  'frigid',\n",
       "  'air',\n",
       "  'varamyr',\n",
       "  'half',\n",
       "  'heartbeat',\n",
       "  'glory',\n",
       "  'taste',\n",
       "  'strength',\n",
       "  'young',\n",
       "  'body',\n",
       "  'teeth',\n",
       "  'snapped',\n",
       "  'together',\n",
       "  'filled',\n",
       "  'mouth',\n",
       "  'blood'],\n",
       " ['raised', 'hands', 'face'],\n",
       " ['tried', 'push', 'again', 'hands', 'would', 'obey', 'clawing', 'eyes'],\n",
       " ['abomination', 'remembered', 'drowning', 'blood', 'pain', 'madness'],\n",
       " ['tried', 'scream', 'spat', 'tongue', 'out'],\n",
       " ['white', 'world', 'turned', 'fell', 'away'],\n",
       " ['moment',\n",
       "  'inside',\n",
       "  'weirwood',\n",
       "  'gazing',\n",
       "  'carved',\n",
       "  'red',\n",
       "  'eyes',\n",
       "  'dying',\n",
       "  'man',\n",
       "  'twitched',\n",
       "  'feebly',\n",
       "  'ground',\n",
       "  'madwoman',\n",
       "  'danced',\n",
       "  'blind',\n",
       "  'bloody',\n",
       "  'underneath',\n",
       "  'moon',\n",
       "  'weeping',\n",
       "  'red',\n",
       "  'tears',\n",
       "  'ripping',\n",
       "  'clothes'],\n",
       " ['gone', 'rising', 'melting', 'spirit', 'borne', 'cold', 'wind'],\n",
       " ['snow', 'clouds', 'sparrow', 'squirrel', 'oak'],\n",
       " ['horned',\n",
       "  'owl',\n",
       "  'flew',\n",
       "  'silently',\n",
       "  'trees',\n",
       "  'hunting',\n",
       "  'hare',\n",
       "  'varamyr',\n",
       "  'inside',\n",
       "  'owl',\n",
       "  'inside',\n",
       "  'hare',\n",
       "  'inside',\n",
       "  'trees'],\n",
       " ['deep',\n",
       "  'frozen',\n",
       "  'ground',\n",
       "  'earthworms',\n",
       "  'burrowed',\n",
       "  'blindly',\n",
       "  'dark',\n",
       "  'well'],\n",
       " ['wood', 'everything', 'that', 'it', 'thought', 'exulting'],\n",
       " ['hundred', 'ravens', 'took', 'air', 'cawing', 'felt', 'pass'],\n",
       " ['great', 'elk', 'trumpeted', 'unsettling', 'children', 'clinging', 'back'],\n",
       " ['sleeping', 'direwolf', 'raised', 'head', 'snarl', 'empty', 'air'],\n",
       " ['hearts',\n",
       "  'could',\n",
       "  'beat',\n",
       "  'passed',\n",
       "  'on',\n",
       "  'searching',\n",
       "  'own',\n",
       "  'one',\n",
       "  'eye',\n",
       "  'sly',\n",
       "  'stalker',\n",
       "  'pack'],\n",
       " ['wolves', 'would', 'save', 'him', 'told', 'himself'],\n",
       " ['last', 'thought', 'man'],\n",
       " ['true',\n",
       "  'death',\n",
       "  'came',\n",
       "  'suddenly',\n",
       "  'felt',\n",
       "  'shock',\n",
       "  'cold',\n",
       "  'plunged',\n",
       "  'icy',\n",
       "  'waters',\n",
       "  'frozen',\n",
       "  'lake'],\n",
       " ['found',\n",
       "  'rushing',\n",
       "  'moonlit',\n",
       "  'snows',\n",
       "  'packmates',\n",
       "  'close',\n",
       "  'behind',\n",
       "  'him'],\n",
       " ['half', 'world', 'dark'],\n",
       " ['one', 'eye', 'knew'],\n",
       " ['bayed', 'sly', 'stalker', 'gave', 'echo'],\n",
       " ['reached', 'crest', 'wolves', 'paused'],\n",
       " ['thistle',\n",
       "  'remembered',\n",
       "  'part',\n",
       "  'grieved',\n",
       "  'lost',\n",
       "  'another',\n",
       "  'part',\n",
       "  'he',\n",
       "  'done'],\n",
       " ['below', 'world', 'turned', 'ice'],\n",
       " ['fingers', 'frost', 'crept', 'slowly', 'weirwood', 'reaching', 'other'],\n",
       " ['empty', 'village', 'longer', 'empty'],\n",
       " ['blue', 'eyed', 'shadows', 'walked', 'amongst', 'mounds', 'snow'],\n",
       " ['wore', 'brown', 'wore', 'black', 'naked', 'flesh', 'gone', 'white', 'snow'],\n",
       " ['wind',\n",
       "  'sighing',\n",
       "  'hills',\n",
       "  'heavy',\n",
       "  'scents',\n",
       "  'dead',\n",
       "  'flesh',\n",
       "  'dry',\n",
       "  'blood',\n",
       "  'skins',\n",
       "  'stank',\n",
       "  'mold',\n",
       "  'rot',\n",
       "  'urine'],\n",
       " ['sly', 'gave', 'growl', 'bared', 'teeth', 'ruff', 'bristling'],\n",
       " ['men'],\n",
       " ['prey'],\n",
       " ['these'],\n",
       " ['things', 'moved', 'live'],\n",
       " ['one', 'one', 'raised', 'heads', 'toward', 'three', 'wolves', 'hill'],\n",
       " ['last', 'look', 'thing', 'thistle'],\n",
       " ['wore',\n",
       "  'wool',\n",
       "  'fur',\n",
       "  'leather',\n",
       "  'wore',\n",
       "  'coat',\n",
       "  'hoarfrost',\n",
       "  'crackled',\n",
       "  'moved',\n",
       "  'glistened',\n",
       "  'moonlight'],\n",
       " ['pale',\n",
       "  'pink',\n",
       "  'icicles',\n",
       "  'hung',\n",
       "  'fingertips',\n",
       "  'ten',\n",
       "  'long',\n",
       "  'knives',\n",
       "  'frozen',\n",
       "  'blood'],\n",
       " ['pits',\n",
       "  'eyes',\n",
       "  'been',\n",
       "  'pale',\n",
       "  'blue',\n",
       "  'light',\n",
       "  'flickering',\n",
       "  'lending',\n",
       "  'coarse',\n",
       "  'features',\n",
       "  'eerie',\n",
       "  'beauty',\n",
       "  'never',\n",
       "  'known',\n",
       "  'life'],\n",
       " ['sees', 'me'],\n",
       " ['tyrion', 'drank', 'way', 'across', 'narrow', 'sea'],\n",
       " ['ship',\n",
       "  'small',\n",
       "  'cabin',\n",
       "  'smaller',\n",
       "  'captain',\n",
       "  'would',\n",
       "  'allow',\n",
       "  'abovedecks'],\n",
       " ['rocking',\n",
       "  'deck',\n",
       "  'beneath',\n",
       "  'feet',\n",
       "  'made',\n",
       "  'stomach',\n",
       "  'heave',\n",
       "  'wretched',\n",
       "  'food',\n",
       "  'tasted',\n",
       "  'even',\n",
       "  'worse',\n",
       "  'retched',\n",
       "  'back',\n",
       "  'up'],\n",
       " ['need',\n",
       "  'salt',\n",
       "  'beef',\n",
       "  'hard',\n",
       "  'cheese',\n",
       "  'bread',\n",
       "  'crawling',\n",
       "  'worms',\n",
       "  'wine',\n",
       "  'nourish',\n",
       "  'him'],\n",
       " ['red', 'sour', 'strong'],\n",
       " ['sometimes', 'heaved', 'wine', 'too', 'always', 'more'],\n",
       " ['the', 'world', 'full', 'wine', 'muttered', 'dankness', 'cabin'],\n",
       " ['father', 'never', 'use', 'drunkards', 'matter'],\n",
       " ['father', 'dead'],\n",
       " ['he', 'killed', 'him'],\n",
       " ['bolt', 'belly', 'lord', 'you'],\n",
       " ['better',\n",
       "  'crossbow',\n",
       "  'would',\n",
       "  'put',\n",
       "  'cock',\n",
       "  'made',\n",
       "  'with',\n",
       "  'bloody',\n",
       "  'bastard'],\n",
       " ['belowdecks', 'neither', 'night', 'day'],\n",
       " ['tyrion',\n",
       "  'marked',\n",
       "  'time',\n",
       "  'comings',\n",
       "  'goings',\n",
       "  'cabin',\n",
       "  'boy',\n",
       "  'brought',\n",
       "  'meals',\n",
       "  'eat'],\n",
       " ['boy', 'always', 'brought', 'brush', 'bucket', 'too', 'clean', 'up'],\n",
       " ['is',\n",
       "  'dornish',\n",
       "  'wine',\n",
       "  'tyrion',\n",
       "  'asked',\n",
       "  'once',\n",
       "  'pulled',\n",
       "  'stopper',\n",
       "  'skin'],\n",
       " ['it', 'reminds', 'certain', 'snake', 'knew'],\n",
       " ['droll',\n",
       "  'fellow',\n",
       "  'till',\n",
       "  'mountain',\n",
       "  'fell',\n",
       "  'him',\n",
       "  'cabin',\n",
       "  'boy',\n",
       "  'answer'],\n",
       " ['ugly',\n",
       "  'boy',\n",
       "  'though',\n",
       "  'admittedly',\n",
       "  'comely',\n",
       "  'certain',\n",
       "  'dwarf',\n",
       "  'half',\n",
       "  'nose',\n",
       "  'scar',\n",
       "  'eye',\n",
       "  'chin'],\n",
       " ['have', 'offended', 'you', 'tyrion', 'asked', 'boy', 'scrubbing'],\n",
       " ['were', 'commanded', 'talk', 'me'],\n",
       " ['dwarf', 'diddle', 'mother', 'went', 'unanswered', 'too'],\n",
       " ['where', 'sailing'],\n",
       " ['tell',\n",
       "  'that',\n",
       "  'jaime',\n",
       "  'made',\n",
       "  'mention',\n",
       "  'free',\n",
       "  'cities',\n",
       "  'never',\n",
       "  'said',\n",
       "  'one'],\n",
       " ['is', 'braavos'],\n",
       " ['tyrosh'],\n",
       " ['myr', 'tyrion', 'would', 'sooner', 'gone', 'dorne'],\n",
       " ['myrcella', 'older', 'tommen', 'dornish', 'law', 'iron', 'throne', 'hers'],\n",
       " ['help', 'claim', 'rights', 'prince', 'oberyn', 'suggested'],\n",
       " ['oberyn',\n",
       "  'dead',\n",
       "  'though',\n",
       "  'head',\n",
       "  'smashed',\n",
       "  'bloody',\n",
       "  'ruin',\n",
       "  'armored',\n",
       "  'fist',\n",
       "  'ser',\n",
       "  'gregor',\n",
       "  'clegane'],\n",
       " ['without',\n",
       "  'red',\n",
       "  'viper',\n",
       "  'urge',\n",
       "  'on',\n",
       "  'would',\n",
       "  'doran',\n",
       "  'martell',\n",
       "  'even',\n",
       "  'consider',\n",
       "  'chancy',\n",
       "  'scheme'],\n",
       " ['might', 'clap', 'chains', 'instead', 'hand', 'back', 'sweet', 'sister'],\n",
       " ['wall', 'might', 'safer'],\n",
       " ['old',\n",
       "  'bear',\n",
       "  'mormont',\n",
       "  'said',\n",
       "  'night',\n",
       "  'watch',\n",
       "  'need',\n",
       "  'men',\n",
       "  'like',\n",
       "  'tyrion'],\n",
       " ['mormont', 'might', 'dead', 'though'],\n",
       " ['slynt', 'may', 'lord', 'commander'],\n",
       " ['butcher', 'son', 'like', 'forgotten', 'sent', 'wall'],\n",
       " ['really',\n",
       "  'want',\n",
       "  'spend',\n",
       "  'rest',\n",
       "  'life',\n",
       "  'eating',\n",
       "  'salt',\n",
       "  'beef',\n",
       "  'porridge',\n",
       "  'murderers',\n",
       "  'thieves'],\n",
       " ['rest', 'life', 'would', 'last', 'long'],\n",
       " ['janos', 'slynt', 'would', 'see', 'that'],\n",
       " ['cabin', 'boy', 'wet', 'brush', 'scrubbed', 'manfully'],\n",
       " ['have', 'ever', 'visited', 'pleasure', 'houses', 'lys', 'dwarf', 'inquired'],\n",
       " ['might',\n",
       "  'whores',\n",
       "  'go',\n",
       "  'tyrion',\n",
       "  'could',\n",
       "  'seem',\n",
       "  'recall',\n",
       "  'valyrian',\n",
       "  'word',\n",
       "  'whore',\n",
       "  'case',\n",
       "  'late'],\n",
       " ['boy', 'tossed', 'brush', 'back', 'bucket', 'took', 'leave'],\n",
       " ['wine', 'blurred', 'wits'],\n",
       " ['learned',\n",
       "  'read',\n",
       "  'high',\n",
       "  'valyrian',\n",
       "  'maester',\n",
       "  'knee',\n",
       "  'though',\n",
       "  'spoke',\n",
       "  'nine',\n",
       "  'free',\n",
       "  'cities',\n",
       "  'well',\n",
       "  'much',\n",
       "  'dialect',\n",
       "  'nine',\n",
       "  'dialects',\n",
       "  'way',\n",
       "  'becoming',\n",
       "  'separate',\n",
       "  'tongues'],\n",
       " ['tyrion', 'braavosi', 'smattering', 'myrish'],\n",
       " ['tyrosh',\n",
       "  'able',\n",
       "  'curse',\n",
       "  'gods',\n",
       "  'call',\n",
       "  'man',\n",
       "  'cheat',\n",
       "  'order',\n",
       "  'ale',\n",
       "  'thanks',\n",
       "  'sellsword',\n",
       "  'known',\n",
       "  'rock'],\n",
       " ['least', 'dorne', 'speak', 'common', 'tongue'],\n",
       " ['like',\n",
       "  'dornish',\n",
       "  'food',\n",
       "  'dornish',\n",
       "  'law',\n",
       "  'dornish',\n",
       "  'speech',\n",
       "  'spiced',\n",
       "  'flavors',\n",
       "  'rhoyne',\n",
       "  'man',\n",
       "  'could',\n",
       "  'comprehend',\n",
       "  'it'],\n",
       " ['dorne', 'yes', 'dorne', 'me'],\n",
       " ['crawled', 'bunk', 'clutching', 'thought', 'like', 'child', 'doll'],\n",
       " ['sleep', 'never', 'come', 'easily', 'tyrion', 'lannister'],\n",
       " ['aboard',\n",
       "  'ship',\n",
       "  'seldom',\n",
       "  'came',\n",
       "  'all',\n",
       "  'though',\n",
       "  'time',\n",
       "  'time',\n",
       "  'managed',\n",
       "  'drink',\n",
       "  'sufficient',\n",
       "  'wine',\n",
       "  'pass',\n",
       "  'while'],\n",
       " ['least', 'dream'],\n",
       " ['dreamed', 'enough', 'one', 'small', 'life'],\n",
       " ['follies', 'love', 'justice', 'friendship', 'glory'],\n",
       " ['well', 'dream', 'tall'],\n",
       " ['beyond', 'reach', 'tyrion', 'knew', 'now'],\n",
       " ['know', 'whores', 'go'],\n",
       " ['wherever', 'whores', 'go', 'father', 'said'],\n",
       " ['last', 'words', 'words', 'were'],\n",
       " ['crossbow',\n",
       "  'thrummed',\n",
       "  'lord',\n",
       "  'tywin',\n",
       "  'sat',\n",
       "  'back',\n",
       "  'down',\n",
       "  'tyrion',\n",
       "  'lannister',\n",
       "  'found',\n",
       "  'waddling',\n",
       "  'darkness',\n",
       "  'varys',\n",
       "  'side'],\n",
       " ['must',\n",
       "  'clambered',\n",
       "  'back',\n",
       "  'shaft',\n",
       "  'two',\n",
       "  'hundred',\n",
       "  'thirty',\n",
       "  'rungs',\n",
       "  'orange',\n",
       "  'embers',\n",
       "  'glowed',\n",
       "  'mouth',\n",
       "  'iron',\n",
       "  'dragon'],\n",
       " ['remembered', 'none', 'it'],\n",
       " ['sound', 'crossbow', 'made', 'stink', 'father', 'bowels', 'opening'],\n",
       " ['even', 'dying', 'found', 'way', 'shit', 'me'],\n",
       " ['varys',\n",
       "  'escorted',\n",
       "  'tunnels',\n",
       "  'never',\n",
       "  'spoke',\n",
       "  'emerged',\n",
       "  'beside',\n",
       "  'blackwater',\n",
       "  'tyrion',\n",
       "  'famous',\n",
       "  'victory',\n",
       "  'lost',\n",
       "  'nose'],\n",
       " ['dwarf',\n",
       "  'turned',\n",
       "  'eunuch',\n",
       "  'said',\n",
       "  've',\n",
       "  'killed',\n",
       "  'father',\n",
       "  'tone',\n",
       "  'man',\n",
       "  'might',\n",
       "  'use',\n",
       "  'say',\n",
       "  've',\n",
       "  'stubbed',\n",
       "  'toe',\n",
       "  'master',\n",
       "  'whisperers',\n",
       "  'dressed',\n",
       "  'begging',\n",
       "  'brother',\n",
       "  'moth',\n",
       "  'eaten',\n",
       "  'robe',\n",
       "  'brown',\n",
       "  'roughspun',\n",
       "  'cowl',\n",
       "  'shadowed',\n",
       "  'smooth',\n",
       "  'fat',\n",
       "  'cheeks',\n",
       "  'bald',\n",
       "  'round',\n",
       "  'head'],\n",
       " ['you', 'climbed', 'ladder', 'said', 'reproachfully'],\n",
       " ['wherever', 'whores', 'go', 'tyrion', 'warned', 'father', 'say', 'word'],\n",
       " ['loosed', 'would', 'seen', 'threats', 'empty'],\n",
       " ['would', 'taken', 'crossbow', 'hands', 'took', 'tysha', 'arms'],\n",
       " ['rising', 'killed', 'him'],\n",
       " ['killed', 'shae', 'too', 'confessed', 'varys'],\n",
       " ['you', 'knew', 'was', 'did'],\n",
       " ['never', 'knew', 'was', 'varys', 'tittered'],\n",
       " ['and', 'do', 'killed', 'eunuch', 'well'],\n",
       " ['little', 'blood', 'hands', 'would', 'matter'],\n",
       " ['could', 'say', 'stayed', 'dagger'],\n",
       " ['gratitude'],\n",
       " ['varys', 'saved', 'headsman', 'sword', 'jaime', 'compelled', 'him'],\n",
       " ['jaime', 'no', 'better', 'think', 'jaime'],\n",
       " ['found', 'fresh', 'skin', 'wine', 'instead', 'sucked', 'woman', 'breast'],\n",
       " ['sour',\n",
       "  'red',\n",
       "  'ran',\n",
       "  'chin',\n",
       "  'soaked',\n",
       "  'soiled',\n",
       "  'tunic',\n",
       "  'one',\n",
       "  'wearing',\n",
       "  'cell'],\n",
       " ['deck',\n",
       "  'swaying',\n",
       "  'beneath',\n",
       "  'feet',\n",
       "  'tried',\n",
       "  'rise',\n",
       "  'lifted',\n",
       "  'sideways',\n",
       "  'smashed',\n",
       "  'hard',\n",
       "  'bulkhead'],\n",
       " ['storm', 'realized', 'else', 'even', 'drunker', 'knew'],\n",
       " ['retched', 'wine', 'lay', 'while', 'wondering', 'ship', 'would', 'sink'],\n",
       " ['vengeance', 'father'],\n",
       " ['father', 'made', 'hand'],\n",
       " ['such', 'wages', 'kinslayer', 'said', 'wind', 'howled', 'outside'],\n",
       " ['seem',\n",
       "  'fair',\n",
       "  'drown',\n",
       "  'cabin',\n",
       "  'boy',\n",
       "  'captain',\n",
       "  'rest',\n",
       "  'something',\n",
       "  'done',\n",
       "  'gods',\n",
       "  'ever',\n",
       "  'fair'],\n",
       " ['around', 'then', 'darkness', 'gulped', 'down'],\n",
       " ['stirred',\n",
       "  'again',\n",
       "  'head',\n",
       "  'felt',\n",
       "  'like',\n",
       "  'burst',\n",
       "  'ship',\n",
       "  'spinning',\n",
       "  'round',\n",
       "  'dizzy',\n",
       "  'circles',\n",
       "  'though',\n",
       "  'captain',\n",
       "  'insisting',\n",
       "  'they',\n",
       "  'come',\n",
       "  'port'],\n",
       " ['tyrion',\n",
       "  'told',\n",
       "  'quiet',\n",
       "  'kicked',\n",
       "  'feebly',\n",
       "  'huge',\n",
       "  'bald',\n",
       "  'sailor',\n",
       "  'tucked',\n",
       "  'one',\n",
       "  'arm',\n",
       "  'carried',\n",
       "  'squirming',\n",
       "  'hold',\n",
       "  'empty',\n",
       "  'wine',\n",
       "  'cask',\n",
       "  'awaited',\n",
       "  'him'],\n",
       " ['squat', 'little', 'cask', 'tight', 'fit', 'even', 'dwarf'],\n",
       " ['tyrion', 'pissed', 'struggles', 'good', 'did'],\n",
       " ['crammed', 'face', 'first', 'cask', 'knees', 'pushed', 'ears'],\n",
       " ['stub',\n",
       "  'nose',\n",
       "  'itched',\n",
       "  'horribly',\n",
       "  'arms',\n",
       "  'pinned',\n",
       "  'tightly',\n",
       "  'could',\n",
       "  'reach',\n",
       "  'scratch',\n",
       "  'it'],\n",
       " ['palanquin', 'fit', 'man', 'stature', 'thought', 'hammered', 'shut', 'lid'],\n",
       " ['could', 'hear', 'voices', 'shouting', 'hoisted', 'up'],\n",
       " ['every', 'bounce', 'cracked', 'head', 'bottom', 'cask'],\n",
       " ['world',\n",
       "  'went',\n",
       "  'round',\n",
       "  'round',\n",
       "  'cask',\n",
       "  'rolled',\n",
       "  'downward',\n",
       "  'stopped',\n",
       "  'crash',\n",
       "  'made',\n",
       "  'want',\n",
       "  'scream'],\n",
       " ['another', 'cask', 'slammed', 'his', 'tyrion', 'bit', 'tongue'],\n",
       " ['longest',\n",
       "  'journey',\n",
       "  'ever',\n",
       "  'taken',\n",
       "  'though',\n",
       "  'could',\n",
       "  'lasted',\n",
       "  'half',\n",
       "  'hour'],\n",
       " ['lifted',\n",
       "  'lowered',\n",
       "  'rolled',\n",
       "  'stacked',\n",
       "  'upended',\n",
       "  'righted',\n",
       "  'rolled',\n",
       "  'again'],\n",
       " ['wooden',\n",
       "  'staves',\n",
       "  'heard',\n",
       "  'men',\n",
       "  'shouting',\n",
       "  'horse',\n",
       "  'whickered',\n",
       "  'nearby'],\n",
       " ['stunted',\n",
       "  'legs',\n",
       "  'began',\n",
       "  'cramp',\n",
       "  'soon',\n",
       "  'hurt',\n",
       "  'badly',\n",
       "  'forgot',\n",
       "  'hammering',\n",
       "  'head'],\n",
       " ['ended', 'begun', 'another', 'roll', 'left', 'dizzy', 'jouncing'],\n",
       " ['outside', 'strange', 'voices', 'speaking', 'tongue', 'know'],\n",
       " ['someone',\n",
       "  'started',\n",
       "  'pounding',\n",
       "  'top',\n",
       "  'cask',\n",
       "  'lid',\n",
       "  'cracked',\n",
       "  'open',\n",
       "  'suddenly'],\n",
       " ['light', 'came', 'flooding', 'in', 'cool', 'air', 'well'],\n",
       " ['tyrion',\n",
       "  'gasped',\n",
       "  'greedily',\n",
       "  'tried',\n",
       "  'stand',\n",
       "  'managed',\n",
       "  'knock',\n",
       "  'cask',\n",
       "  'sideways',\n",
       "  'spill',\n",
       "  'onto',\n",
       "  'hard',\n",
       "  'packed',\n",
       "  'earthen',\n",
       "  'floor'],\n",
       " ['loomed',\n",
       "  'grotesque',\n",
       "  'fat',\n",
       "  'man',\n",
       "  'forked',\n",
       "  'yellow',\n",
       "  'beard',\n",
       "  'holding',\n",
       "  'wooden',\n",
       "  'mallet',\n",
       "  'iron',\n",
       "  'chisel'],\n",
       " ['bedrobe',\n",
       "  'large',\n",
       "  'enough',\n",
       "  'serve',\n",
       "  'tourney',\n",
       "  'pavilion',\n",
       "  'loosely',\n",
       "  'knotted',\n",
       "  'belt',\n",
       "  'come',\n",
       "  'undone',\n",
       "  'exposing',\n",
       "  'huge',\n",
       "  'white',\n",
       "  'belly',\n",
       "  'pair',\n",
       "  'heavy',\n",
       "  'breasts',\n",
       "  'sagged',\n",
       "  'like',\n",
       "  'sacks',\n",
       "  'suet',\n",
       "  'covered',\n",
       "  'coarse',\n",
       "  'yellow',\n",
       "  'hair'],\n",
       " ['reminded',\n",
       "  'tyrion',\n",
       "  'dead',\n",
       "  'sea',\n",
       "  'cow',\n",
       "  'washed',\n",
       "  'caverns',\n",
       "  'casterly',\n",
       "  'rock'],\n",
       " ['fat', 'man', 'looked', 'smiled'],\n",
       " ['drunken', 'dwarf', 'said', 'common', 'tongue', 'westeros'],\n",
       " ['rotting', 'sea', 'cow', 'tyrion', 'mouth', 'full', 'blood'],\n",
       " ['spat', 'fat', 'man', 'feet'],\n",
       " ['long',\n",
       "  'dim',\n",
       "  'cellar',\n",
       "  'barrel',\n",
       "  'vaulted',\n",
       "  'ceilings',\n",
       "  'stone',\n",
       "  'walls',\n",
       "  'spotted',\n",
       "  'nitre'],\n",
       " ['casks',\n",
       "  'wine',\n",
       "  'ale',\n",
       "  'surrounded',\n",
       "  'them',\n",
       "  'enough',\n",
       "  'drink',\n",
       "  'see',\n",
       "  'thirsty',\n",
       "  'dwarf',\n",
       "  'safely',\n",
       "  'night'],\n",
       " ['life'],\n",
       " ['you', 'insolent'],\n",
       " ['like',\n",
       "  'dwarf',\n",
       "  'fat',\n",
       "  'man',\n",
       "  'laughed',\n",
       "  'flesh',\n",
       "  'bounced',\n",
       "  'vigorously',\n",
       "  'tyrion',\n",
       "  'afraid',\n",
       "  'might',\n",
       "  'fall',\n",
       "  'crush',\n",
       "  'him'],\n",
       " ['are', 'hungry', 'little', 'friend'],\n",
       " ['weary', 'thirsty', 'tyrion', 'struggled', 'knees'],\n",
       " ['and', 'filthy', 'fat', 'man', 'sniffed'],\n",
       " ['bath', 'first', 'so'],\n",
       " ['food', 'soft', 'bed', 'yes'],\n",
       " ['servants',\n",
       "  'shall',\n",
       "  'see',\n",
       "  'it',\n",
       "  'host',\n",
       "  'put',\n",
       "  'mallet',\n",
       "  'chisel',\n",
       "  'aside'],\n",
       " ['my', 'house', 'yours'],\n",
       " ['friend',\n",
       "  'friend',\n",
       "  'across',\n",
       "  'water',\n",
       "  'friend',\n",
       "  'illyrio',\n",
       "  'mopatis',\n",
       "  'yes',\n",
       "  'friend',\n",
       "  'varys',\n",
       "  'spider',\n",
       "  'someone',\n",
       "  'trust',\n",
       "  'far',\n",
       "  'throw',\n",
       "  'him'],\n",
       " ['fat', 'man', 'made', 'good', 'promised', 'bath', 'though'],\n",
       " ['sooner',\n",
       "  'tyrion',\n",
       "  'lower',\n",
       "  'hot',\n",
       "  'water',\n",
       "  'close',\n",
       "  'eyes',\n",
       "  'fast',\n",
       "  'asleep'],\n",
       " ['woke',\n",
       "  'naked',\n",
       "  'goose',\n",
       "  'down',\n",
       "  'feather',\n",
       "  'bed',\n",
       "  'soft',\n",
       "  'felt',\n",
       "  'swallowed',\n",
       "  'cloud'],\n",
       " ['tongue', 'growing', 'hair', 'throat', 'raw', 'cock', 'hard', 'iron', 'bar'],\n",
       " ['rolled',\n",
       "  'bed',\n",
       "  'found',\n",
       "  'chamber',\n",
       "  'pot',\n",
       "  'commenced',\n",
       "  'filling',\n",
       "  'it',\n",
       "  'groan',\n",
       "  'pleasure'],\n",
       " ['room', 'dim', 'bars', 'yellow', 'sunlight', 'showing', 'slats', 'shutters'],\n",
       " ['tyrion',\n",
       "  'shook',\n",
       "  'last',\n",
       "  'drops',\n",
       "  'waddled',\n",
       "  'patterned',\n",
       "  'myrish',\n",
       "  'carpets',\n",
       "  'soft',\n",
       "  'new',\n",
       "  'spring',\n",
       "  'grass'],\n",
       " ['awkwardly',\n",
       "  'climbed',\n",
       "  'window',\n",
       "  'seat',\n",
       "  'flung',\n",
       "  'shutters',\n",
       "  'open',\n",
       "  'see',\n",
       "  'varys',\n",
       "  'gods',\n",
       "  'sent',\n",
       "  'him'],\n",
       " ['beneath',\n",
       "  'window',\n",
       "  'six',\n",
       "  'cherry',\n",
       "  'trees',\n",
       "  'stood',\n",
       "  'sentinel',\n",
       "  'around',\n",
       "  'marble',\n",
       "  'pool',\n",
       "  'slender',\n",
       "  'branches',\n",
       "  'bare',\n",
       "  'brown'],\n",
       " ['naked',\n",
       "  'boy',\n",
       "  'stood',\n",
       "  'water',\n",
       "  'poised',\n",
       "  'duel',\n",
       "  'bravo',\n",
       "  'blade',\n",
       "  'hand'],\n",
       " ['lithe',\n",
       "  'handsome',\n",
       "  'older',\n",
       "  'sixteen',\n",
       "  'straight',\n",
       "  'blond',\n",
       "  'hair',\n",
       "  'brushed',\n",
       "  'shoulders'],\n",
       " ['lifelike',\n",
       "  'seem',\n",
       "  'took',\n",
       "  'dwarf',\n",
       "  'long',\n",
       "  'moment',\n",
       "  'realize',\n",
       "  'made',\n",
       "  'painted',\n",
       "  'marble',\n",
       "  'though',\n",
       "  'sword',\n",
       "  'shimmered',\n",
       "  'like',\n",
       "  'true',\n",
       "  'steel'],\n",
       " ['across',\n",
       "  'pool',\n",
       "  'stood',\n",
       "  'brick',\n",
       "  'wall',\n",
       "  'twelve',\n",
       "  'feet',\n",
       "  'high',\n",
       "  'iron',\n",
       "  'spikes',\n",
       "  'along',\n",
       "  'top'],\n",
       " ['beyond', 'city'],\n",
       " ['sea', 'tiled', 'rooftops', 'crowded', 'close', 'around', 'bay'],\n",
       " ['saw',\n",
       "  'square',\n",
       "  'brick',\n",
       "  'towers',\n",
       "  'great',\n",
       "  'red',\n",
       "  'temple',\n",
       "  'distant',\n",
       "  'manse',\n",
       "  'upon',\n",
       "  'hill'],\n",
       " ['far', 'distance', 'sunlight', 'shimmered', 'deep', 'water'],\n",
       " ['fishing',\n",
       "  'boats',\n",
       "  'moving',\n",
       "  'across',\n",
       "  'bay',\n",
       "  'sails',\n",
       "  'rippling',\n",
       "  'wind',\n",
       "  'could',\n",
       "  'see',\n",
       "  'masts',\n",
       "  'larger',\n",
       "  'ships',\n",
       "  'poking',\n",
       "  'along',\n",
       "  'shore'],\n",
       " ['surely', 'one', 'bound', 'dorne', 'eastwatch', 'by', 'the', 'sea'],\n",
       " ['means', 'pay', 'passage', 'though', 'made', 'pull', 'oar'],\n",
       " ['suppose',\n",
       "  'could',\n",
       "  'sign',\n",
       "  'cabin',\n",
       "  'boy',\n",
       "  'earn',\n",
       "  'way',\n",
       "  'letting',\n",
       "  'crew',\n",
       "  'bugger',\n",
       "  'narrow',\n",
       "  'sea'],\n",
       " ['wondered', 'was'],\n",
       " ['even', 'air', 'smells', 'different', 'here'],\n",
       " ['strange',\n",
       "  'spices',\n",
       "  'scented',\n",
       "  'chilly',\n",
       "  'autumn',\n",
       "  'wind',\n",
       "  'could',\n",
       "  'hear',\n",
       "  'faint',\n",
       "  'cries',\n",
       "  'drifting',\n",
       "  'wall',\n",
       "  'streets',\n",
       "  'beyond'],\n",
       " ['sounded',\n",
       "  'something',\n",
       "  'like',\n",
       "  'valyrian',\n",
       "  'recognize',\n",
       "  'one',\n",
       "  'word',\n",
       "  'five'],\n",
       " ['braavos', 'concluded', 'tyrosh'],\n",
       " ['bare',\n",
       "  'branches',\n",
       "  'chill',\n",
       "  'air',\n",
       "  'argued',\n",
       "  'lys',\n",
       "  'myr',\n",
       "  'volantis',\n",
       "  'well'],\n",
       " ['heard',\n",
       "  'door',\n",
       "  'opening',\n",
       "  'behind',\n",
       "  'him',\n",
       "  'tyrion',\n",
       "  'turned',\n",
       "  'confront',\n",
       "  'fat',\n",
       "  'host'],\n",
       " ['this', 'pentos', 'yes', 'just', 'so'],\n",
       " ['else', 'pentos'],\n",
       " ['well', 'king', 'landing', 'much', 'could', 'said', 'it'],\n",
       " ['where', 'whores', 'go', 'heard', 'ask'],\n",
       " ['whores', 'found', 'brothels', 'here', 'westeros'],\n",
       " ['need', 'such', 'little', 'friend'],\n",
       " ['choose', 'amongst', 'servingwomen'],\n",
       " ['none', 'dare', 'refuse', 'you', 'slaves', 'dwarf', 'asked', 'pointedly'],\n",
       " ['fat',\n",
       "  'man',\n",
       "  'stroked',\n",
       "  'one',\n",
       "  'prongs',\n",
       "  'oiled',\n",
       "  'yellow',\n",
       "  'beard',\n",
       "  'gesture',\n",
       "  'tyrion',\n",
       "  'found',\n",
       "  'remarkably',\n",
       "  'obscene'],\n",
       " ['slavery',\n",
       "  'forbidden',\n",
       "  'pentos',\n",
       "  'terms',\n",
       "  'treaty',\n",
       "  'braavosi',\n",
       "  'imposed',\n",
       "  'us',\n",
       "  'hundred',\n",
       "  'years',\n",
       "  'ago'],\n",
       " ['still', 'refuse', 'you', 'illyrio', 'gave', 'ponderous', 'half', 'bow'],\n",
       " ['but', 'little', 'friend', 'must', 'excuse', 'me'],\n",
       " ['honor',\n",
       "  'magister',\n",
       "  'great',\n",
       "  'city',\n",
       "  'prince',\n",
       "  'summoned',\n",
       "  'us',\n",
       "  'session',\n",
       "  'smiled',\n",
       "  'showing',\n",
       "  'mouth',\n",
       "  'full',\n",
       "  'crooked',\n",
       "  'yellow',\n",
       "  'teeth'],\n",
       " ['explore',\n",
       "  'manse',\n",
       "  'grounds',\n",
       "  'like',\n",
       "  'account',\n",
       "  'stray',\n",
       "  'beyond',\n",
       "  'walls'],\n",
       " ['best', 'man', 'knows', 'here', 'were'],\n",
       " ['gone', 'somewhere', 'time', 'enough', 'speak', 'evening'],\n",
       " ['little',\n",
       "  'friend',\n",
       "  'shall',\n",
       "  'eat',\n",
       "  'drink',\n",
       "  'make',\n",
       "  'great',\n",
       "  'plans',\n",
       "  'yes',\n",
       "  'yes',\n",
       "  'fat',\n",
       "  'friend',\n",
       "  'tyrion',\n",
       "  'replied'],\n",
       " ['thinks', 'use', 'profit'],\n",
       " ['profit', 'merchant', 'princes', 'free', 'cities'],\n",
       " ['spice',\n",
       "  'soldiers',\n",
       "  'cheese',\n",
       "  'lords',\n",
       "  'lord',\n",
       "  'father',\n",
       "  'called',\n",
       "  'them',\n",
       "  'contempt'],\n",
       " ['day',\n",
       "  'ever',\n",
       "  'dawn',\n",
       "  'illyrio',\n",
       "  'mopatis',\n",
       "  'saw',\n",
       "  'profit',\n",
       "  'dead',\n",
       "  'dwarf',\n",
       "  'live',\n",
       "  'one',\n",
       "  'tyrion',\n",
       "  'would',\n",
       "  'find',\n",
       "  'packed',\n",
       "  'another',\n",
       "  'wine',\n",
       "  'cask',\n",
       "  'dusk'],\n",
       " ['would', 'well', 'gone', 'day', 'arrives'],\n",
       " ['would',\n",
       "  'arrive',\n",
       "  'doubt',\n",
       "  'cersei',\n",
       "  'like',\n",
       "  'forget',\n",
       "  'him',\n",
       "  'even',\n",
       "  'jaime',\n",
       "  'might',\n",
       "  'vexed',\n",
       "  'find',\n",
       "  'quarrel',\n",
       "  'father',\n",
       "  'belly'],\n",
       " ['light',\n",
       "  'wind',\n",
       "  'riffling',\n",
       "  'waters',\n",
       "  'pool',\n",
       "  'below',\n",
       "  'around',\n",
       "  'naked',\n",
       "  'swordsman'],\n",
       " ['reminded',\n",
       "  'tysha',\n",
       "  'would',\n",
       "  'riffle',\n",
       "  'hair',\n",
       "  'false',\n",
       "  'spring',\n",
       "  'marriage',\n",
       "  'helped',\n",
       "  'father',\n",
       "  'guardsmen',\n",
       "  'rape',\n",
       "  'her'],\n",
       " ['thinking', 'guardsmen', 'flight', 'trying', 'recall', 'many', 'been'],\n",
       " ['would', 'think', 'might', 'remember', 'that', 'no'],\n",
       " ['dozen'],\n",
       " ['score'],\n",
       " ['hundred'],\n",
       " ['could', 'say'],\n",
       " ['grown',\n",
       "  'men',\n",
       "  'tall',\n",
       "  'strong',\n",
       "  'though',\n",
       "  'men',\n",
       "  'tall',\n",
       "  'dwarf',\n",
       "  'thirteen',\n",
       "  'years'],\n",
       " ['tysha', 'knew', 'number'],\n",
       " ['given', 'silver', 'stag', 'would', 'need', 'count', 'coins'],\n",
       " ['silver', 'gold', 'me'],\n",
       " ['father', 'insisted', 'pay', 'too'],\n",
       " ['lannister', 'always', 'pays', 'debts'],\n",
       " ['wherever',\n",
       "  'whores',\n",
       "  'go',\n",
       "  'heard',\n",
       "  'lord',\n",
       "  'tywin',\n",
       "  'say',\n",
       "  'more',\n",
       "  'bowstring',\n",
       "  'thrummed'],\n",
       " ['magister', 'invited', 'explore', 'manse'],\n",
       " ['found',\n",
       "  'clean',\n",
       "  'clothes',\n",
       "  'cedar',\n",
       "  'chest',\n",
       "  'inlaid',\n",
       "  'lapis',\n",
       "  'mother',\n",
       "  'of',\n",
       "  'pearl'],\n",
       " ['clothes', 'made', 'small', 'boy', 'realized', 'struggled', 'them'],\n",
       " ['fabrics',\n",
       "  'rich',\n",
       "  'enough',\n",
       "  'little',\n",
       "  'musty',\n",
       "  'cut',\n",
       "  'long',\n",
       "  'legs',\n",
       "  'short',\n",
       "  'arms',\n",
       "  'collar',\n",
       "  'would',\n",
       "  'turned',\n",
       "  'face',\n",
       "  'black',\n",
       "  'joffrey',\n",
       "  'somehow',\n",
       "  'contrived',\n",
       "  'get',\n",
       "  'fastened'],\n",
       " ['moths', 'too'],\n",
       " ['least', 'stink', 'vomit'],\n",
       " ['tyrion',\n",
       "  'began',\n",
       "  'explorations',\n",
       "  'kitchen',\n",
       "  'two',\n",
       "  'fat',\n",
       "  'women',\n",
       "  'potboy',\n",
       "  'watched',\n",
       "  'warily',\n",
       "  'helped',\n",
       "  'cheese',\n",
       "  'bread',\n",
       "  'figs'],\n",
       " ['good', 'morrow', 'you', 'fair', 'ladies', 'said', 'bow'],\n",
       " ['do',\n",
       "  'know',\n",
       "  'whores',\n",
       "  'go',\n",
       "  'respond',\n",
       "  'repeated',\n",
       "  'question',\n",
       "  'high',\n",
       "  'valyrian',\n",
       "  'though',\n",
       "  'say',\n",
       "  'courtesan',\n",
       "  'place',\n",
       "  'whore'],\n",
       " ['younger', 'fatter', 'cook', 'gave', 'shrug', 'time'],\n",
       " ['wondered', 'would', 'took', 'hand', 'dragged', 'bedchamber'],\n",
       " ['none',\n",
       "  'dare',\n",
       "  'refuse',\n",
       "  'you',\n",
       "  'illyrio',\n",
       "  'claimed',\n",
       "  'somehow',\n",
       "  'tyrion',\n",
       "  'think',\n",
       "  'meant',\n",
       "  'two'],\n",
       " ['younger', 'woman', 'old', 'enough', 'mother', 'older', 'likely', 'mother'],\n",
       " ['near', 'fat', 'illyrio', 'teats', 'larger', 'head'],\n",
       " ['could', 'smother', 'flesh'],\n",
       " ['worse', 'ways', 'die'],\n",
       " ['way', 'lord', 'father', 'died', 'one'],\n",
       " ['made', 'shit', 'little', 'gold', 'expiring'],\n",
       " ['lord',\n",
       "  'tywin',\n",
       "  'might',\n",
       "  'niggardly',\n",
       "  'approval',\n",
       "  'affection',\n",
       "  'always',\n",
       "  'open',\n",
       "  'handed',\n",
       "  'came',\n",
       "  'coin'],\n",
       " ['thing',\n",
       "  'pitiful',\n",
       "  'dwarf',\n",
       "  'without',\n",
       "  'nose',\n",
       "  'dwarf',\n",
       "  'without',\n",
       "  'nose',\n",
       "  'gold'],\n",
       " ['tyrion',\n",
       "  'left',\n",
       "  'fat',\n",
       "  'women',\n",
       "  'loaves',\n",
       "  'kettles',\n",
       "  'went',\n",
       "  'search',\n",
       "  'cellar',\n",
       "  'illyrio',\n",
       "  'decanted',\n",
       "  'night',\n",
       "  'before'],\n",
       " ['hard', 'find'],\n",
       " ['enough',\n",
       "  'wine',\n",
       "  'keep',\n",
       "  'drunk',\n",
       "  'hundred',\n",
       "  'years',\n",
       "  'sweet',\n",
       "  'reds',\n",
       "  'reach',\n",
       "  'sour',\n",
       "  'reds',\n",
       "  'dorne',\n",
       "  'pale',\n",
       "  'pentoshi',\n",
       "  'ambers',\n",
       "  'green',\n",
       "  'nectar',\n",
       "  'myr',\n",
       "  'three',\n",
       "  'score',\n",
       "  'casks',\n",
       "  'arbor',\n",
       "  'gold',\n",
       "  'even',\n",
       "  'wines',\n",
       "  'fabled',\n",
       "  'east',\n",
       "  'qarth',\n",
       "  'yi',\n",
       "  'ti',\n",
       "  'asshai',\n",
       "  'shadow'],\n",
       " ['end',\n",
       "  'tyrion',\n",
       "  'chose',\n",
       "  'cask',\n",
       "  'strongwine',\n",
       "  'marked',\n",
       "  'private',\n",
       "  'stock',\n",
       "  'lord',\n",
       "  'runceford',\n",
       "  'redwyne',\n",
       "  'grandfather',\n",
       "  'present',\n",
       "  'lord',\n",
       "  'arbor'],\n",
       " ['taste',\n",
       "  'languorous',\n",
       "  'heady',\n",
       "  'tongue',\n",
       "  'color',\n",
       "  'purple',\n",
       "  'dark',\n",
       "  'looked',\n",
       "  'almost',\n",
       "  'black',\n",
       "  'dim',\n",
       "  'lit',\n",
       "  'cellar'],\n",
       " ['tyrion',\n",
       "  'filled',\n",
       "  'cup',\n",
       "  'flagon',\n",
       "  'good',\n",
       "  'measure',\n",
       "  'carried',\n",
       "  'gardens',\n",
       "  'drink',\n",
       "  'beneath',\n",
       "  'cherry',\n",
       "  'trees',\n",
       "  'he',\n",
       "  'seen'],\n",
       " ['happened',\n",
       "  'left',\n",
       "  'wrong',\n",
       "  'door',\n",
       "  'never',\n",
       "  'found',\n",
       "  'pool',\n",
       "  'spied',\n",
       "  'window',\n",
       "  'made',\n",
       "  'matter'],\n",
       " ['gardens', 'behind', 'manse', 'pleasant', 'far', 'extensive'],\n",
       " ['wandered', 'time', 'drinking'],\n",
       " ['walls',\n",
       "  'would',\n",
       "  'shamed',\n",
       "  'proper',\n",
       "  'castle',\n",
       "  'ornamental',\n",
       "  'iron',\n",
       "  'spikes',\n",
       "  'along',\n",
       "  'top',\n",
       "  'looked',\n",
       "  'strangely',\n",
       "  'naked',\n",
       "  'without',\n",
       "  'heads',\n",
       "  'adorn',\n",
       "  'them'],\n",
       " ['tyrion',\n",
       "  'pictured',\n",
       "  'sister',\n",
       "  'head',\n",
       "  'might',\n",
       "  'look',\n",
       "  'there',\n",
       "  'tar',\n",
       "  'golden',\n",
       "  'hair',\n",
       "  'flies',\n",
       "  'buzzing',\n",
       "  'mouth'],\n",
       " ['yes', 'jaime', 'must', 'spike', 'beside', 'her', 'decided'],\n",
       " ['one', 'must', 'ever', 'come', 'brother', 'sister'],\n",
       " ['rope', 'grapnel', 'might', 'able', 'get', 'wall'],\n",
       " ['strong', 'arms', 'weigh', 'much'],\n",
       " ['able', 'clamber', 'over', 'impale', 'spike'],\n",
       " ['search', 'rope', 'morrow', 'resolved'],\n",
       " ['saw',\n",
       "  'three',\n",
       "  'gates',\n",
       "  'wanderings',\n",
       "  'the',\n",
       "  'main',\n",
       "  'entrance',\n",
       "  'gatehouse',\n",
       "  'postern',\n",
       "  'kennels',\n",
       "  'garden',\n",
       "  'gate',\n",
       "  'hidden',\n",
       "  'behind',\n",
       "  'tangle',\n",
       "  'pale',\n",
       "  'ivy'],\n",
       " ['last', 'chained', 'others', 'guarded'],\n",
       " ['guards',\n",
       "  'plump',\n",
       "  'faces',\n",
       "  'smooth',\n",
       "  'babies',\n",
       "  'bottoms',\n",
       "  'every',\n",
       "  'man',\n",
       "  'wore',\n",
       "  'spiked',\n",
       "  'bronze',\n",
       "  'cap'],\n",
       " ['tyrion', 'knew', 'eunuchs', 'saw', 'them'],\n",
       " ['knew', 'sort', 'reputation'],\n",
       " ['feared',\n",
       "  'nothing',\n",
       "  'felt',\n",
       "  'pain',\n",
       "  'said',\n",
       "  'loyal',\n",
       "  'masters',\n",
       "  'unto',\n",
       "  'death'],\n",
       " ['could', 'make', 'good', 'use', 'hundred', 'mine', 'own', 'reflected'],\n",
       " ['pity', 'think', 'became', 'beggar'],\n",
       " ['walked',\n",
       "  'along',\n",
       "  'pillared',\n",
       "  'gallery',\n",
       "  'pointed',\n",
       "  'arch',\n",
       "  'found',\n",
       "  'tiled',\n",
       "  'courtyard',\n",
       "  'woman',\n",
       "  'washing',\n",
       "  'clothes',\n",
       "  'well'],\n",
       " ['looked',\n",
       "  'age',\n",
       "  'dull',\n",
       "  'red',\n",
       "  'hair',\n",
       "  'broad',\n",
       "  'face',\n",
       "  'dotted',\n",
       "  'freckles'],\n",
       " ['would', 'like', 'wine', 'asked', 'her'],\n",
       " ['looked', 'uncertainly'],\n",
       " ['cup',\n",
       "  'you',\n",
       "  'we',\n",
       "  'll',\n",
       "  'share',\n",
       "  'wash',\n",
       "  'erwoman',\n",
       "  'went',\n",
       "  'back',\n",
       "  'wringing',\n",
       "  'tunics',\n",
       "  'hanging',\n",
       "  'dry'],\n",
       " ['tyrion', 'settled', 'stone', 'bench', 'flagon'],\n",
       " ['tell',\n",
       "  'me',\n",
       "  'far',\n",
       "  'trust',\n",
       "  'magister',\n",
       "  'illyrio',\n",
       "  'name',\n",
       "  'made',\n",
       "  'look',\n",
       "  'up'],\n",
       " ['that', 'far', 'chuckling', 'crossed', 'stunted', 'legs', 'took', 'drink'],\n",
       " ['loath',\n",
       "  'play',\n",
       "  'whatever',\n",
       "  'part',\n",
       "  'cheesemonger',\n",
       "  'mind',\n",
       "  'me',\n",
       "  'yet',\n",
       "  'refuse',\n",
       "  'him'],\n",
       " ['gates', 'guarded'],\n",
       " ['perhaps', 'might', 'smuggle', 'skirts'],\n",
       " ['grateful', 'why', 'll', 'even', 'wed', 'you'],\n",
       " ['two', 'wives', 'already', 'three'],\n",
       " ['ah',\n",
       "  'would',\n",
       "  'live',\n",
       "  'gave',\n",
       "  'pleasant',\n",
       "  'smile',\n",
       "  'man',\n",
       "  'half',\n",
       "  'nose',\n",
       "  'could',\n",
       "  'manage'],\n",
       " ['niece', 'sunspear', 'tell', 'you'],\n",
       " ['could', 'make', 'rather', 'lot', 'mischief', 'dorne', 'myrcella'],\n",
       " ['could',\n",
       "  'set',\n",
       "  'niece',\n",
       "  'nephew',\n",
       "  'war',\n",
       "  'wouldn',\n",
       "  'droll',\n",
       "  'washerwoman',\n",
       "  'pinned',\n",
       "  'one',\n",
       "  'illyrio',\n",
       "  'tunics',\n",
       "  'large',\n",
       "  'enough',\n",
       "  'double',\n",
       "  'sail'],\n",
       " ['ashamed', 'think', 'evil', 'thoughts', 'you', 're', 'quite', 'right'],\n",
       " ['better', 'sought', 'wall', 'instead'],\n",
       " ['crimes', 'wiped', 'clean', 'man', 'joins', 'night', 'watch', 'say'],\n",
       " ['though', 'fear', 'would', 'let', 'keep', 'you', 'sweetling'],\n",
       " ['women',\n",
       "  'watch',\n",
       "  'sweet',\n",
       "  'freckly',\n",
       "  'wives',\n",
       "  'warm',\n",
       "  'bed',\n",
       "  'night',\n",
       "  'cold',\n",
       "  'winds',\n",
       "  'salted',\n",
       "  'cod',\n",
       "  'small',\n",
       "  'beer'],\n",
       " ['think',\n",
       "  'might',\n",
       "  'stand',\n",
       "  'taller',\n",
       "  'black',\n",
       "  'lady',\n",
       "  'filled',\n",
       "  'cup',\n",
       "  'again'],\n",
       " ['what', 'say'],\n",
       " ['north', 'south'],\n",
       " ['shall',\n",
       "  'atone',\n",
       "  'old',\n",
       "  'sins',\n",
       "  'make',\n",
       "  'new',\n",
       "  'ones',\n",
       "  'washerwoman',\n",
       "  'gave',\n",
       "  'one',\n",
       "  'last',\n",
       "  'glance',\n",
       "  'picked',\n",
       "  'basket',\n",
       "  'walked',\n",
       "  'away'],\n",
       " ['cannot', 'seem', 'hold', 'wife', 'long', 'tyrion', 'reflected'],\n",
       " ['somehow', 'flagon', 'gone', 'dry'],\n",
       " ['perhaps', 'stumble', 'back', 'cellars'],\n",
       " ['strongwine',\n",
       "  'making',\n",
       "  'head',\n",
       "  'spin',\n",
       "  'though',\n",
       "  'cellar',\n",
       "  'steps',\n",
       "  'steep'],\n",
       " ['where', 'whores', 'go', 'asked', 'wash', 'flapping', 'line'],\n",
       " ['perhaps', 'asked', 'washerwoman'],\n",
       " ['imply', 'you', 're', 'whore', 'dear', 'perhaps', 'know', 'go'],\n",
       " ['better', 'yet', 'asked', 'father'],\n",
       " ['wherever', 'whores', 'go', 'lord', 'tywin', 'said'],\n",
       " ['loved', 'me'],\n",
       " ['crofter', 'daughter', 'loved', 'wed', 'me', 'put', 'trust', 'me'],\n",
       " ['empty', 'flagon', 'slipped', 'hand', 'rolled', 'across', 'yard'],\n",
       " ['tyrion', 'pushed', 'bench', 'went', 'fetch', 'it'],\n",
       " ['did', 'saw', 'mushrooms', 'growing', 'cracked', 'paving', 'tile'],\n",
       " ['pale',\n",
       "  'white',\n",
       "  'were',\n",
       "  'speckles',\n",
       "  'red',\n",
       "  'ribbed',\n",
       "  'undersides',\n",
       "  'dark',\n",
       "  'blood'],\n",
       " ['dwarf', 'snapped', 'one', 'sniffed', 'it'],\n",
       " ['delicious', 'thought', 'deadly'],\n",
       " ['seven', 'mushrooms'],\n",
       " ['perhaps', 'seven', 'trying', 'tell', 'something'],\n",
       " ['picked',\n",
       "  'all',\n",
       "  'snatched',\n",
       "  'glove',\n",
       "  'line',\n",
       "  'wrapped',\n",
       "  'carefully',\n",
       "  'stuffed',\n",
       "  'pocket'],\n",
       " ['effort',\n",
       "  'made',\n",
       "  'dizzy',\n",
       "  'afterward',\n",
       "  'crawled',\n",
       "  'back',\n",
       "  'onto',\n",
       "  'bench',\n",
       "  'curled',\n",
       "  'up',\n",
       "  'shut',\n",
       "  'eyes'],\n",
       " ['woke',\n",
       "  'again',\n",
       "  'back',\n",
       "  'bedchamber',\n",
       "  'drowning',\n",
       "  'goose',\n",
       "  'down',\n",
       "  'feather',\n",
       "  'bed',\n",
       "  'blond',\n",
       "  'girl',\n",
       "  'shook',\n",
       "  'shoulder'],\n",
       " ['my', 'lord', 'said', 'your', 'bath', 'awaits'],\n",
       " ['magister',\n",
       "  'illyrio',\n",
       "  'expects',\n",
       "  'table',\n",
       "  'within',\n",
       "  'hour',\n",
       "  'tyrion',\n",
       "  'propped',\n",
       "  'pillows',\n",
       "  'head',\n",
       "  'hands'],\n",
       " ['do', 'dream', 'speak', 'common', 'tongue', 'yes', 'lord'],\n",
       " ['bought', 'please', 'king', 'blue', 'eyed', 'fair', 'young', 'willowy'],\n",
       " ['sure', 'did'],\n",
       " ['need', 'cup', 'wine', 'poured', 'him'],\n",
       " ['magister', 'illyrio', 'said', 'scrub', 'back', 'warm', 'bed'],\n",
       " ['name', 'is', 'interest', 'me'],\n",
       " ['know', 'whores', 'go', 'flushed'],\n",
       " ['whores', 'sell', 'coin', 'or', 'jewels', 'gowns', 'castles'],\n",
       " ['go', 'girl', 'could', 'grasp', 'question'],\n",
       " ['is', 'riddle', 'lord'],\n",
       " ['good', 'riddles'],\n",
       " ['tell', 'answer', 'no', 'thought'],\n",
       " ['despise', 'riddles', 'myself'],\n",
       " ['tell', 'nothing'],\n",
       " ['favor', 'part', 'interests', 'part', 'legs', 'almost', 'said'],\n",
       " ['words', 'tongue', 'somehow', 'never', 'passed', 'lips'],\n",
       " ['shae',\n",
       "  'dwarf',\n",
       "  'told',\n",
       "  'himself',\n",
       "  'little',\n",
       "  'fool',\n",
       "  'thinks',\n",
       "  'play',\n",
       "  'riddles'],\n",
       " ['truth', 'told', 'even', 'cunt', 'interest', 'much'],\n",
       " ['must', 'sick', 'dead'],\n",
       " ['you', 'mentioned', 'bath'],\n",
       " ['must',\n",
       "  'keep',\n",
       "  'great',\n",
       "  'cheesemonger',\n",
       "  'waiting',\n",
       "  'bathed',\n",
       "  'girl',\n",
       "  'washed',\n",
       "  'feet',\n",
       "  'scrubbed',\n",
       "  'back',\n",
       "  'brushed',\n",
       "  'hair'],\n",
       " ['afterward',\n",
       "  'rubbed',\n",
       "  'sweet',\n",
       "  'smelling',\n",
       "  'ointment',\n",
       "  'calves',\n",
       "  'ease',\n",
       "  'aches',\n",
       "  'dressed',\n",
       "  'boy',\n",
       "  'clothing',\n",
       "  'musty',\n",
       "  'pair',\n",
       "  'burgundy',\n",
       "  'breeches',\n",
       "  'blue',\n",
       "  'velvet',\n",
       "  'doublet',\n",
       "  'lined',\n",
       "  'cloth',\n",
       "  'of',\n",
       "  'gold'],\n",
       " ['will', 'lord', 'want', 'eaten', 'asked', 'lacing', 'boots'],\n",
       " ['no'],\n",
       " ['done', 'women', 'whores'],\n",
       " ['girl', 'took', 'disappointment', 'well', 'liking'],\n",
       " ['if',\n",
       "  'lord',\n",
       "  'would',\n",
       "  'prefer',\n",
       "  'boy',\n",
       "  'one',\n",
       "  'waiting',\n",
       "  'bed',\n",
       "  'lord',\n",
       "  'would',\n",
       "  'prefer',\n",
       "  'wife'],\n",
       " ['lord', 'would', 'prefer', 'girl', 'named', 'tysha'],\n",
       " ['only', 'knows', 'whores', 'go', 'girl', 'mouth', 'tightened'],\n",
       " ['despises', 'me', 'realized', 'despise', 'myself'],\n",
       " ['fucked',\n",
       "  'many',\n",
       "  'woman',\n",
       "  'loathed',\n",
       "  'sight',\n",
       "  'him',\n",
       "  'tyrion',\n",
       "  'lannister',\n",
       "  'doubt',\n",
       "  'others',\n",
       "  'least',\n",
       "  'grace',\n",
       "  'feign',\n",
       "  'affection'],\n",
       " ['little',\n",
       "  'honest',\n",
       "  'loathing',\n",
       "  'might',\n",
       "  'refreshing',\n",
       "  'like',\n",
       "  'tart',\n",
       "  'wine',\n",
       "  'much',\n",
       "  'sweet'],\n",
       " ['believe', 'changed', 'mind', 'told', 'her'],\n",
       " ['wait', 'abed'],\n",
       " ['naked', 'please', 'll', 'deal', 'drunk', 'fumble', 'clothing'],\n",
       " ['keep',\n",
       "  'mouth',\n",
       "  'shut',\n",
       "  'thighs',\n",
       "  'open',\n",
       "  'two',\n",
       "  'us',\n",
       "  'get',\n",
       "  'splendidly',\n",
       "  'gave',\n",
       "  'leer',\n",
       "  'hoping',\n",
       "  'taste',\n",
       "  'fear',\n",
       "  'gave',\n",
       "  'revulsion'],\n",
       " ['one', 'fears', 'dwarf'],\n",
       " ['even',\n",
       "  'lord',\n",
       "  'tywin',\n",
       "  'afraid',\n",
       "  'though',\n",
       "  'tyrion',\n",
       "  'held',\n",
       "  'crossbow',\n",
       "  'hands'],\n",
       " ['do', 'moan', 'fucked', 'asked', 'bedwarmer'],\n",
       " ['if', 'please', 'lord', 'it', 'might', 'please', 'lord', 'strangle', 'you'],\n",
       " ['that', 'served', 'last', 'whore'],\n",
       " ['think', 'master', 'would', 'object'],\n",
       " ['surely', 'not'],\n",
       " ['hundred',\n",
       "  'like',\n",
       "  'you',\n",
       "  'one',\n",
       "  'else',\n",
       "  'like',\n",
       "  'me',\n",
       "  'time',\n",
       "  'grinned',\n",
       "  'got',\n",
       "  'fear',\n",
       "  'wanted'],\n",
       " ['illyrio',\n",
       "  'reclining',\n",
       "  'padded',\n",
       "  'couch',\n",
       "  'gobbling',\n",
       "  'hot',\n",
       "  'peppers',\n",
       "  'pearl',\n",
       "  'onions',\n",
       "  'wooden',\n",
       "  'bowl'],\n",
       " ['brow',\n",
       "  'dotted',\n",
       "  'beads',\n",
       "  'sweat',\n",
       "  'pig',\n",
       "  'eyes',\n",
       "  'shining',\n",
       "  'fat',\n",
       "  'cheeks'],\n",
       " ['jewels',\n",
       "  'danced',\n",
       "  'moved',\n",
       "  'hands',\n",
       "  'onyx',\n",
       "  'opal',\n",
       "  'tiger',\n",
       "  'eye',\n",
       "  'tourmaline',\n",
       "  'ruby',\n",
       "  'amethyst',\n",
       "  'sapphire',\n",
       "  'emerald',\n",
       "  'jet',\n",
       "  'jade',\n",
       "  'black',\n",
       "  'diamond',\n",
       "  'green',\n",
       "  'pearl'],\n",
       " ['could',\n",
       "  'live',\n",
       "  'years',\n",
       "  'rings',\n",
       "  'tyrion',\n",
       "  'mused',\n",
       "  'though',\n",
       "  'need',\n",
       "  'cleaver',\n",
       "  'claim',\n",
       "  'them'],\n",
       " ['come', 'sit', 'little', 'friend', 'illyrio', 'waved', 'closer'],\n",
       " ['dwarf', 'clambered', 'onto', 'chair'],\n",
       " ['much',\n",
       "  'big',\n",
       "  'him',\n",
       "  'cushioned',\n",
       "  'throne',\n",
       "  'intended',\n",
       "  'accommodate',\n",
       "  'magister',\n",
       "  'massive',\n",
       "  'buttocks',\n",
       "  'thick',\n",
       "  'sturdy',\n",
       "  'legs',\n",
       "  'bear',\n",
       "  'weight'],\n",
       " ['tyrion',\n",
       "  'lannister',\n",
       "  'lived',\n",
       "  'life',\n",
       "  'world',\n",
       "  'big',\n",
       "  'him',\n",
       "  'manse',\n",
       "  'illyrio',\n",
       "  'mopatis',\n",
       "  'sense',\n",
       "  'disproportion',\n",
       "  'assumed',\n",
       "  'grotesque',\n",
       "  'dimensions'],\n",
       " ['mouse',\n",
       "  'mammoth',\n",
       "  'lair',\n",
       "  'mused',\n",
       "  'though',\n",
       "  'least',\n",
       "  'mammoth',\n",
       "  'keeps',\n",
       "  'good',\n",
       "  'cellar'],\n",
       " ['thought', 'made', 'thirsty'],\n",
       " ['called', 'wine'],\n",
       " ['did', 'enjoy', 'girl', 'sent', 'you', 'illyrio', 'asked'],\n",
       " ['if',\n",
       "  'wanted',\n",
       "  'girl',\n",
       "  'would',\n",
       "  'asked',\n",
       "  'one',\n",
       "  'if',\n",
       "  'failed',\n",
       "  'please',\n",
       "  'she',\n",
       "  'required',\n",
       "  'her',\n",
       "  'would',\n",
       "  'hope',\n",
       "  'so'],\n",
       " ['trained', 'lys', 'make', 'art', 'love'],\n",
       " ['king',\n",
       "  'enjoyed',\n",
       "  'greatly',\n",
       "  'kill',\n",
       "  'kings',\n",
       "  'hadn',\n",
       "  'heard',\n",
       "  'tyrion',\n",
       "  'smiled',\n",
       "  'evilly',\n",
       "  'wine',\n",
       "  'cup'],\n",
       " ['want', 'royal', 'leavings', 'as', 'wish'],\n",
       " ['let',\n",
       "  'us',\n",
       "  'eat',\n",
       "  'illyrio',\n",
       "  'clapped',\n",
       "  'hands',\n",
       "  'together',\n",
       "  'serving',\n",
       "  'men',\n",
       "  'came',\n",
       "  'running'],\n",
       " ['began', 'broth', 'crab', 'monkfish', 'cold', 'egg', 'lime', 'soup', 'well'],\n",
       " ['came',\n",
       "  'quails',\n",
       "  'honey',\n",
       "  'saddle',\n",
       "  'lamb',\n",
       "  'goose',\n",
       "  'livers',\n",
       "  'drowned',\n",
       "  'wine',\n",
       "  'buttered',\n",
       "  'parsnips',\n",
       "  'suckling',\n",
       "  'pig'],\n",
       " ['sight',\n",
       "  'made',\n",
       "  'tyrion',\n",
       "  'feel',\n",
       "  'queasy',\n",
       "  'forced',\n",
       "  'try',\n",
       "  'spoon',\n",
       "  'soup',\n",
       "  'sake',\n",
       "  'politeness',\n",
       "  'tasted',\n",
       "  'lost'],\n",
       " ['cooks', 'might', 'old', 'fat', 'knew', 'business'],\n",
       " ['never', 'eaten', 'well', 'even', 'court'],\n",
       " ['sucking',\n",
       "  'meat',\n",
       "  'bones',\n",
       "  'quail',\n",
       "  'asked',\n",
       "  'illyrio',\n",
       "  'morning',\n",
       "  'summons'],\n",
       " ['fat', 'man', 'shrugged'],\n",
       " ['there', 'troubles', 'east'],\n",
       " ['astapor', 'fallen', 'meereen'],\n",
       " ['ghiscari',\n",
       "  'slave',\n",
       "  'cities',\n",
       "  'old',\n",
       "  'world',\n",
       "  'young',\n",
       "  'suckling',\n",
       "  'pig',\n",
       "  'carved'],\n",
       " ['illyrio',\n",
       "  'reached',\n",
       "  'piece',\n",
       "  'crackling',\n",
       "  'dipped',\n",
       "  'plum',\n",
       "  'sauce',\n",
       "  'ate',\n",
       "  'fingers'],\n",
       " ['slaver',\n",
       "  'bay',\n",
       "  'long',\n",
       "  'way',\n",
       "  'pentos',\n",
       "  'tyrion',\n",
       "  'speared',\n",
       "  'goose',\n",
       "  'liver',\n",
       "  'point',\n",
       "  'knife'],\n",
       " ['man', 'cursed', 'kinslayer', 'mused', 'could', 'learn', 'like', 'hell'],\n",
       " ['this',\n",
       "  'so',\n",
       "  'illyrio',\n",
       "  'agreed',\n",
       "  'but',\n",
       "  'world',\n",
       "  'one',\n",
       "  'great',\n",
       "  'web',\n",
       "  'man',\n",
       "  'dare',\n",
       "  'touch',\n",
       "  'single',\n",
       "  'strand',\n",
       "  'lest',\n",
       "  'others',\n",
       "  'tremble'],\n",
       " ['wine', 'illyrio', 'popped', 'pepper', 'mouth'],\n",
       " ['no', 'something', 'better', 'clapped', 'hands', 'together'],\n",
       " ['sound', 'serving', 'man', 'entered', 'covered', 'dish'],\n",
       " ['placed',\n",
       "  'front',\n",
       "  'tyrion',\n",
       "  'illyrio',\n",
       "  'leaned',\n",
       "  'across',\n",
       "  'table',\n",
       "  'remove',\n",
       "  'lid'],\n",
       " ['mushrooms', 'magister', 'announced', 'smell', 'wafted', 'up'],\n",
       " ['kissed', 'garlic', 'bathed', 'butter'],\n",
       " ['told', 'taste', 'exquisite'],\n",
       " ['one', 'friend'],\n",
       " ['two',\n",
       "  'tyrion',\n",
       "  'fat',\n",
       "  'black',\n",
       "  'mushroom',\n",
       "  'halfway',\n",
       "  'mouth',\n",
       "  'something',\n",
       "  'illyrio',\n",
       "  'voice',\n",
       "  'made',\n",
       "  'stop',\n",
       "  'abruptly'],\n",
       " ['after', 'you', 'lord', 'pushed', 'dish', 'toward', 'host'],\n",
       " ['no', 'no', 'magister', 'illyrio', 'pushed', 'mushrooms', 'back'],\n",
       " ['heartbeat',\n",
       "  'seemed',\n",
       "  'mischievous',\n",
       "  'boy',\n",
       "  'peering',\n",
       "  'inside',\n",
       "  'cheese',\n",
       "  'monger',\n",
       "  'bloated',\n",
       "  'flesh'],\n",
       " ['after', 'you'],\n",
       " ['insist'],\n",
       " ['cook',\n",
       "  'made',\n",
       "  'specially',\n",
       "  'you',\n",
       "  'did',\n",
       "  'indeed',\n",
       "  'remembered',\n",
       "  'cook',\n",
       "  'flour',\n",
       "  'hands',\n",
       "  'heavy',\n",
       "  'breasts',\n",
       "  'shot',\n",
       "  'dark',\n",
       "  'blue',\n",
       "  'veins'],\n",
       " ['that',\n",
       "  'kind',\n",
       "  'her',\n",
       "  'no',\n",
       "  'tyrion',\n",
       "  'eased',\n",
       "  'mushroom',\n",
       "  'back',\n",
       "  'lake',\n",
       "  'butter',\n",
       "  'emerged'],\n",
       " ['you', 'suspicious', 'illyrio', 'smiled', 'forked', 'yellow', 'beard'],\n",
       " ['oiled',\n",
       "  'every',\n",
       "  'morning',\n",
       "  'make',\n",
       "  'gleam',\n",
       "  'like',\n",
       "  'gold',\n",
       "  'tyrion',\n",
       "  'suspected'],\n",
       " ['are', 'craven'],\n",
       " ['heard',\n",
       "  'you',\n",
       "  'in',\n",
       "  'seven',\n",
       "  'kingdoms',\n",
       "  'considered',\n",
       "  'grave',\n",
       "  'breach',\n",
       "  'hospitality',\n",
       "  'poison',\n",
       "  'guest',\n",
       "  'supper',\n",
       "  'here',\n",
       "  'well',\n",
       "  'illyrio',\n",
       "  'mopatis',\n",
       "  'reached',\n",
       "  'wine',\n",
       "  'cup'],\n",
       " ['yet',\n",
       "  'guest',\n",
       "  'plainly',\n",
       "  'wishes',\n",
       "  'end',\n",
       "  'life',\n",
       "  'why',\n",
       "  'host',\n",
       "  'must',\n",
       "  'oblige',\n",
       "  'him',\n",
       "  'no',\n",
       "  'took',\n",
       "  'gulp'],\n",
       " ['magister', 'ordello', 'poisoned', 'mushroom', 'half', 'year', 'ago'],\n",
       " ['pain', 'much', 'told'],\n",
       " ['cramping', 'gut', 'sudden', 'ache', 'behind', 'eyes', 'done'],\n",
       " ['better', 'mushroom', 'sword', 'neck', 'so'],\n",
       " ['die',\n",
       "  'taste',\n",
       "  'blood',\n",
       "  'mouth',\n",
       "  'could',\n",
       "  'butter',\n",
       "  'garlic',\n",
       "  'dwarf',\n",
       "  'studied',\n",
       "  'dish',\n",
       "  'him'],\n",
       " ['smell', 'garlic', 'butter', 'mouth', 'watering'],\n",
       " ['part', 'wanted', 'mushrooms', 'even', 'knowing', 'were'],\n",
       " ['brave',\n",
       "  'enough',\n",
       "  'take',\n",
       "  'cold',\n",
       "  'steel',\n",
       "  'belly',\n",
       "  'bite',\n",
       "  'mushroom',\n",
       "  'would',\n",
       "  'hard'],\n",
       " ['frightened', 'could', 'say'],\n",
       " ['you', 'mistake', 'me', 'heard', 'say'],\n",
       " ['is', 'so'],\n",
       " ['wonder'],\n",
       " ['would',\n",
       "  'sooner',\n",
       "  'drown',\n",
       "  'wine',\n",
       "  'say',\n",
       "  'word',\n",
       "  'shall',\n",
       "  'done',\n",
       "  'quickly'],\n",
       " ['drowning',\n",
       "  'cup',\n",
       "  'cup',\n",
       "  'wastes',\n",
       "  'time',\n",
       "  'wine',\n",
       "  'both',\n",
       "  'you',\n",
       "  'mistake',\n",
       "  'me',\n",
       "  'tyrion',\n",
       "  'said',\n",
       "  'again',\n",
       "  'loudly'],\n",
       " ['buttered', 'mushrooms', 'glistened', 'lamplight', 'dark', 'inviting'],\n",
       " ['wish', 'die', 'promise', 'you'],\n",
       " ['voice', 'trailed', 'uncertainty'],\n",
       " ['have'],\n",
       " ['life', 'live'],\n",
       " ['work', 'do'],\n",
       " ['children', 'raise', 'lands', 'rule', 'woman', 'love'],\n",
       " ['you',\n",
       "  'nothing',\n",
       "  'finished',\n",
       "  'magister',\n",
       "  'illyrio',\n",
       "  'but',\n",
       "  'change',\n",
       "  'that',\n",
       "  'plucked',\n",
       "  'mushroom',\n",
       "  'butter',\n",
       "  'chewed',\n",
       "  'lustily'],\n",
       " ['delicious', 'the', 'mushrooms', 'poisoned', 'tyrion', 'irritated'],\n",
       " ['no'],\n",
       " ['wish', 'ill', 'magister', 'illyrio', 'ate', 'another'],\n",
       " ['we', 'must', 'show', 'little', 'trust'],\n",
       " ['come', 'eat', 'clapped', 'hands', 'again'],\n",
       " ['we', 'work', 'do'],\n",
       " ['little',\n",
       "  'friend',\n",
       "  'must',\n",
       "  'keep',\n",
       "  'strength',\n",
       "  'up',\n",
       "  'serving',\n",
       "  'men',\n",
       "  'brought',\n",
       "  'heron',\n",
       "  'stuffed',\n",
       "  'figs',\n",
       "  'veal',\n",
       "  'cutlets',\n",
       "  'blanched',\n",
       "  'almond',\n",
       "  'milk',\n",
       "  'creamed',\n",
       "  'herring',\n",
       "  'candied',\n",
       "  'onions',\n",
       "  'foul',\n",
       "  'smelling',\n",
       "  'cheeses',\n",
       "  'plates',\n",
       "  'snails',\n",
       "  'sweetbreads',\n",
       "  'black',\n",
       "  'swan',\n",
       "  'plumage'],\n",
       " ['tyrion', 'refused', 'swan', 'reminded', 'supper', 'sister'],\n",
       " ['helped', 'heron', 'herring', 'though', 'sweet', 'onions'],\n",
       " ['serving', 'men', 'filled', 'wine', 'cup', 'anew', 'time', 'emptied', 'it'],\n",
       " ['you',\n",
       "  'drink',\n",
       "  'deal',\n",
       "  'wine',\n",
       "  'little',\n",
       "  'man',\n",
       "  'kinslaying',\n",
       "  'dry',\n",
       "  'work'],\n",
       " ['gives',\n",
       "  'man',\n",
       "  'thirst',\n",
       "  'fat',\n",
       "  'man',\n",
       "  'eyes',\n",
       "  'glittered',\n",
       "  'like',\n",
       "  'gemstones',\n",
       "  'fingers'],\n",
       " ['there',\n",
       "  'westeros',\n",
       "  'would',\n",
       "  'say',\n",
       "  'killing',\n",
       "  'lord',\n",
       "  'lannister',\n",
       "  'merely',\n",
       "  'good',\n",
       "  'beginning',\n",
       "  'they',\n",
       "  'best',\n",
       "  'say',\n",
       "  'sister',\n",
       "  'hearing',\n",
       "  'find',\n",
       "  'short',\n",
       "  'tongue',\n",
       "  'dwarf',\n",
       "  'tore',\n",
       "  'loaf',\n",
       "  'bread',\n",
       "  'half'],\n",
       " ['and', 'best', 'careful', 'say', 'family', 'magister'],\n",
       " ['kinslayer',\n",
       "  'no',\n",
       "  'lion',\n",
       "  'still',\n",
       "  'seemed',\n",
       "  'amuse',\n",
       "  'lord',\n",
       "  'cheese',\n",
       "  'end'],\n",
       " ['slapped', 'meaty', 'thigh', 'said', 'you', 'westerosi', 'same'],\n",
       " ['sew',\n",
       "  'beast',\n",
       "  'upon',\n",
       "  'scrap',\n",
       "  'silk',\n",
       "  'suddenly',\n",
       "  'lions',\n",
       "  'dragons',\n",
       "  'eagles'],\n",
       " ['take', 'real', 'lion', 'little', 'friend'],\n",
       " ['prince', 'keeps', 'pride', 'menagerie'],\n",
       " ['would',\n",
       "  'like',\n",
       "  'share',\n",
       "  'cage',\n",
       "  'them',\n",
       "  'lords',\n",
       "  'seven',\n",
       "  'kingdoms',\n",
       "  'make',\n",
       "  'rather',\n",
       "  'much',\n",
       "  'sigils',\n",
       "  'tyrion',\n",
       "  'admit'],\n",
       " ['very', 'well', 'conceded'],\n",
       " ['lannister', 'lion'],\n",
       " ['yet',\n",
       "  'still',\n",
       "  'father',\n",
       "  'son',\n",
       "  'jaime',\n",
       "  'cersei',\n",
       "  'mine',\n",
       "  'kill',\n",
       "  'how',\n",
       "  'odd',\n",
       "  'mention',\n",
       "  'fair',\n",
       "  'sister',\n",
       "  'said',\n",
       "  'illyrio',\n",
       "  'snails'],\n",
       " ['the',\n",
       "  'queen',\n",
       "  'offered',\n",
       "  'lordship',\n",
       "  'man',\n",
       "  'brings',\n",
       "  'head',\n",
       "  'matter',\n",
       "  'humble',\n",
       "  'birth',\n",
       "  'tyrion',\n",
       "  'expected'],\n",
       " ['if', 'mean', 'take', 'it', 'make', 'spread', 'legs', 'well'],\n",
       " ['best',\n",
       "  'part',\n",
       "  'best',\n",
       "  'part',\n",
       "  'her',\n",
       "  'that',\n",
       "  'fair',\n",
       "  'trade',\n",
       "  'would',\n",
       "  'sooner',\n",
       "  'mine',\n",
       "  'weight',\n",
       "  'gold',\n",
       "  'cheesemonger',\n",
       "  'laughed',\n",
       "  'hard',\n",
       "  'tyrion',\n",
       "  'feared',\n",
       "  'rupture'],\n",
       " ['all',\n",
       "  'gold',\n",
       "  'casterly',\n",
       "  'rock',\n",
       "  'not',\n",
       "  'the',\n",
       "  'gold',\n",
       "  'grant',\n",
       "  'you',\n",
       "  'dwarf',\n",
       "  'said',\n",
       "  'relieved',\n",
       "  'drown',\n",
       "  'gout',\n",
       "  'half',\n",
       "  'digested',\n",
       "  'eels',\n",
       "  'sweetmeats',\n",
       "  'but',\n",
       "  'rock',\n",
       "  'mine',\n",
       "  'just',\n",
       "  'so',\n",
       "  'magister',\n",
       "  'covered',\n",
       "  'mouth',\n",
       "  'belched',\n",
       "  'mighty',\n",
       "  'belch'],\n",
       " ['do', 'think', 'king', 'stannis', 'give', 'you'],\n",
       " ['told', 'great', 'one', 'law'],\n",
       " ['brother',\n",
       "  'wears',\n",
       "  'white',\n",
       "  'cloak',\n",
       "  'heir',\n",
       "  'laws',\n",
       "  'westeros',\n",
       "  'stannis',\n",
       "  'might',\n",
       "  'well',\n",
       "  'grant',\n",
       "  'casterly',\n",
       "  'rock',\n",
       "  'said',\n",
       "  'tyrion',\n",
       "  'but',\n",
       "  'small',\n",
       "  'matter',\n",
       "  'regicide',\n",
       "  'kinslaying'],\n",
       " ['would', 'shorten', 'head', 'short', 'enough', 'stand'],\n",
       " ['would',\n",
       "  'think',\n",
       "  'mean',\n",
       "  'join',\n",
       "  'lord',\n",
       "  'stannis',\n",
       "  'why',\n",
       "  'else',\n",
       "  'would',\n",
       "  'go',\n",
       "  'wall',\n",
       "  'stannis',\n",
       "  'wall',\n",
       "  'tyrion',\n",
       "  'rubbed',\n",
       "  'nose'],\n",
       " ['what',\n",
       "  'seven',\n",
       "  'bloody',\n",
       "  'hells',\n",
       "  'stannis',\n",
       "  'wall',\n",
       "  'shivering',\n",
       "  'would',\n",
       "  'think'],\n",
       " ['warmer', 'dorne'],\n",
       " ['perhaps',\n",
       "  'sailed',\n",
       "  'way',\n",
       "  'tyrion',\n",
       "  'beginning',\n",
       "  'suspect',\n",
       "  'certain',\n",
       "  'freckled',\n",
       "  'washerwoman',\n",
       "  'knew',\n",
       "  'common',\n",
       "  'speech',\n",
       "  'pretended'],\n",
       " ['my', 'niece', 'myrcella', 'dorne', 'happens'],\n",
       " ['half',\n",
       "  'mind',\n",
       "  'make',\n",
       "  'queen',\n",
       "  'illyrio',\n",
       "  'smiled',\n",
       "  'serving',\n",
       "  'men',\n",
       "  'spooned',\n",
       "  'bowls',\n",
       "  'black',\n",
       "  'cherries',\n",
       "  'sweet',\n",
       "  'cream',\n",
       "  'both'],\n",
       " ['what',\n",
       "  'poor',\n",
       "  'child',\n",
       "  'done',\n",
       "  'would',\n",
       "  'wish',\n",
       "  'dead',\n",
       "  'even',\n",
       "  'kinslayer',\n",
       "  'required',\n",
       "  'slay',\n",
       "  'kin',\n",
       "  'said',\n",
       "  'tyrion',\n",
       "  'wounded'],\n",
       " ['queen', 'her', 'said'],\n",
       " ['kill', 'her', 'cheesemonger', 'spooned', 'cherries'],\n",
       " ['in',\n",
       "  'volantis',\n",
       "  'use',\n",
       "  'coin',\n",
       "  'crown',\n",
       "  'one',\n",
       "  'face',\n",
       "  'death',\n",
       "  'head',\n",
       "  'other'],\n",
       " ['yet', 'coin'],\n",
       " ['queen', 'kill', 'her'],\n",
       " ['dorne', 'might', 'rise', 'myrcella', 'dorne', 'alone', 'enough'],\n",
       " ['clever',\n",
       "  'friend',\n",
       "  'insists',\n",
       "  'know',\n",
       "  'this',\n",
       "  'tyrion',\n",
       "  'looked',\n",
       "  'fat',\n",
       "  'man',\n",
       "  'new',\n",
       "  'interest'],\n",
       " ['right', 'counts'],\n",
       " ['queen', 'kill', 'her'],\n",
       " ['knew', 'that'],\n",
       " ['futile', 'gestures', 'remain', 'me'],\n",
       " ['one',\n",
       "  'would',\n",
       "  'make',\n",
       "  'sister',\n",
       "  'weep',\n",
       "  'bitter',\n",
       "  'tears',\n",
       "  'least',\n",
       "  'magister',\n",
       "  'illyrio',\n",
       "  'wiped',\n",
       "  'sweet',\n",
       "  'cream',\n",
       "  'mouth',\n",
       "  'back',\n",
       "  'fat',\n",
       "  'hand'],\n",
       " ['the', 'road', 'casterly', 'rock', 'go', 'dorne', 'little', 'friend'],\n",
       " ['run', 'beneath', 'wall'],\n",
       " ['yet',\n",
       "  'road',\n",
       "  'tell',\n",
       "  'you',\n",
       "  'attainted',\n",
       "  'traitor',\n",
       "  'regicide',\n",
       "  'kinslayer',\n",
       "  'talk',\n",
       "  'roads',\n",
       "  'annoyed',\n",
       "  'him'],\n",
       " ['think', 'game'],\n",
       " ['what', 'one', 'king', 'does', 'another', 'may', 'undo'],\n",
       " ['pentos', 'prince', 'friend'],\n",
       " ['presides', 'ball', 'feast', 'rides', 'city', 'palanquin', 'ivory', 'gold'],\n",
       " ['three',\n",
       "  'heralds',\n",
       "  'go',\n",
       "  'golden',\n",
       "  'scales',\n",
       "  'trade',\n",
       "  'iron',\n",
       "  'sword',\n",
       "  'war',\n",
       "  'silver',\n",
       "  'scourge',\n",
       "  'justice'],\n",
       " ['first',\n",
       "  'day',\n",
       "  'new',\n",
       "  'year',\n",
       "  'must',\n",
       "  'deflower',\n",
       "  'maid',\n",
       "  'fields',\n",
       "  'maid',\n",
       "  'seas',\n",
       "  'illyrio',\n",
       "  'leaned',\n",
       "  'forward',\n",
       "  'elbows',\n",
       "  'table'],\n",
       " ['yet',\n",
       "  'crop',\n",
       "  'fail',\n",
       "  'war',\n",
       "  'lost',\n",
       "  'cut',\n",
       "  'throat',\n",
       "  'appease',\n",
       "  'gods',\n",
       "  'choose',\n",
       "  'new',\n",
       "  'prince',\n",
       "  'amongst',\n",
       "  'forty',\n",
       "  'families',\n",
       "  'remind',\n",
       "  'never',\n",
       "  'become',\n",
       "  'prince',\n",
       "  'pentos',\n",
       "  'are',\n",
       "  'seven',\n",
       "  'kingdoms',\n",
       "  'different'],\n",
       " ['peace', 'westeros', 'justice', 'faith', 'soon', 'enough', 'food'],\n",
       " ['men',\n",
       "  'starving',\n",
       "  'sick',\n",
       "  'fear',\n",
       "  'look',\n",
       "  'savior',\n",
       "  'they',\n",
       "  'may',\n",
       "  'look',\n",
       "  'find',\n",
       "  'stannis',\n",
       "  'not',\n",
       "  'stannis'],\n",
       " ['myrcella', 'yellow', 'smile', 'widened'],\n",
       " ['another'],\n",
       " ['stronger',\n",
       "  'tommen',\n",
       "  'gentler',\n",
       "  'stannis',\n",
       "  'better',\n",
       "  'claim',\n",
       "  'girl',\n",
       "  'myrcella'],\n",
       " ['savior',\n",
       "  'come',\n",
       "  'across',\n",
       "  'sea',\n",
       "  'bind',\n",
       "  'wounds',\n",
       "  'bleeding',\n",
       "  'westeros',\n",
       "  'fine',\n",
       "  'words',\n",
       "  'tyrion',\n",
       "  'unimpressed'],\n",
       " ['words', 'wind'],\n",
       " ['bloody',\n",
       "  'savior',\n",
       "  'dragon',\n",
       "  'cheesemonger',\n",
       "  'saw',\n",
       "  'look',\n",
       "  'face',\n",
       "  'that',\n",
       "  'laughed'],\n",
       " ['dragon',\n",
       "  'three',\n",
       "  'heads',\n",
       "  'daenerys',\n",
       "  'could',\n",
       "  'hear',\n",
       "  'dead',\n",
       "  'man',\n",
       "  'coming',\n",
       "  'steps'],\n",
       " ['slow',\n",
       "  'measured',\n",
       "  'sound',\n",
       "  'footsteps',\n",
       "  'went',\n",
       "  'him',\n",
       "  'echoing',\n",
       "  'amongst',\n",
       "  'purple',\n",
       "  'pillars',\n",
       "  'hall'],\n",
       " ['daenerys',\n",
       "  'targaryen',\n",
       "  'awaited',\n",
       "  'upon',\n",
       "  'ebon',\n",
       "  'bench',\n",
       "  'made',\n",
       "  'throne'],\n",
       " ['eyes', 'soft', 'sleep', 'silver', 'gold', 'hair', 'tousled'],\n",
       " ['your',\n",
       "  'grace',\n",
       "  'said',\n",
       "  'ser',\n",
       "  'barristan',\n",
       "  'selmy',\n",
       "  'lord',\n",
       "  'commander',\n",
       "  'queensguard',\n",
       "  'there',\n",
       "  'need',\n",
       "  'see',\n",
       "  'this',\n",
       "  'he',\n",
       "  'died',\n",
       "  'me',\n",
       "  'dany',\n",
       "  'clutched',\n",
       "  'lion',\n",
       "  'pelt',\n",
       "  'chest'],\n",
       " ['underneath', 'sheer', 'white', 'linen', 'tunic', 'covered', 'midthigh'],\n",
       " ['dreaming', 'house', 'red', 'door', 'missandei', 'woke', 'her'],\n",
       " ['time', 'dress'],\n",
       " ['khaleesi', 'whispered', 'irri', 'you', 'must', 'touch', 'dead', 'man'],\n",
       " ['bad',\n",
       "  'luck',\n",
       "  'touch',\n",
       "  'dead',\n",
       "  'unless',\n",
       "  'killed',\n",
       "  'yourself',\n",
       "  'jhiqui',\n",
       "  'bigger',\n",
       "  'boned',\n",
       "  'irri',\n",
       "  'wide',\n",
       "  'hips',\n",
       "  'heavy',\n",
       "  'breasts'],\n",
       " ['that', 'known', 'it', 'known', 'irri', 'agreed'],\n",
       " ['dothraki',\n",
       "  'wise',\n",
       "  'horses',\n",
       "  'concerned',\n",
       "  'could',\n",
       "  'utter',\n",
       "  'fools',\n",
       "  'much',\n",
       "  'else'],\n",
       " ['girls', 'besides'],\n",
       " ['handmaids',\n",
       "  'age',\n",
       "  'her',\n",
       "  'women',\n",
       "  'grown',\n",
       "  'look',\n",
       "  'them',\n",
       "  'black',\n",
       "  'hair',\n",
       "  'copper',\n",
       "  'skin',\n",
       "  'almond',\n",
       "  'shaped',\n",
       "  'eyes',\n",
       "  'girls',\n",
       "  'same'],\n",
       " ['given', 'wed', 'khal', 'drogo'],\n",
       " ['drogo',\n",
       "  'given',\n",
       "  'pelt',\n",
       "  'wore',\n",
       "  'head',\n",
       "  'hide',\n",
       "  'hrakkar',\n",
       "  'white',\n",
       "  'lion',\n",
       "  'dothraki',\n",
       "  'sea'],\n",
       " ['big',\n",
       "  'musty',\n",
       "  'smell',\n",
       "  'made',\n",
       "  'feel',\n",
       "  'sun',\n",
       "  'and',\n",
       "  'stars',\n",
       "  'still',\n",
       "  'near',\n",
       "  'her'],\n",
       " ['grey', 'worm', 'appeared', 'atop', 'steps', 'first', 'torch', 'hand'],\n",
       " ['bronze', 'cap', 'crested', 'three', 'spikes'],\n",
       " ['behind',\n",
       "  'followed',\n",
       "  'four',\n",
       "  'unsullied',\n",
       "  'bearing',\n",
       "  'dead',\n",
       "  'man',\n",
       "  'shoulders'],\n",
       " ['caps',\n",
       "  'one',\n",
       "  'spike',\n",
       "  'each',\n",
       "  'faces',\n",
       "  'showed',\n",
       "  'little',\n",
       "  'might',\n",
       "  'cast',\n",
       "  'bronze',\n",
       "  'well'],\n",
       " ['laid', 'corpse', 'feet'],\n",
       " ['ser', 'barristan', 'pulled', 'back', 'bloodstained', 'shroud'],\n",
       " ['grey', 'worm', 'lowered', 'torch', 'might', 'see'],\n",
       " ['dead',\n",
       "  'man',\n",
       "  'face',\n",
       "  'smooth',\n",
       "  'hairless',\n",
       "  'though',\n",
       "  'cheeks',\n",
       "  'slashed',\n",
       "  'open',\n",
       "  'ear',\n",
       "  'ear'],\n",
       " ['tall', 'man', 'blue', 'eyed', 'fair', 'face'],\n",
       " ['child',\n",
       "  'lys',\n",
       "  'old',\n",
       "  'volantis',\n",
       "  'snatched',\n",
       "  'ship',\n",
       "  'corsairs',\n",
       "  'sold',\n",
       "  'bondage',\n",
       "  'red',\n",
       "  'astapor'],\n",
       " ['though', 'eyes', 'open', 'wounds', 'wept'],\n",
       " ['wounds', 'could', 'count'],\n",
       " ['your',\n",
       "  'grace',\n",
       "  'ser',\n",
       "  'barristan',\n",
       "  'said',\n",
       "  'there',\n",
       "  'harpy',\n",
       "  'drawn',\n",
       "  'bricks',\n",
       "  'alley',\n",
       "  'found',\n",
       "  'drawn',\n",
       "  'blood',\n",
       "  'daenerys',\n",
       "  'knew',\n",
       "  'way',\n",
       "  'now'],\n",
       " ['sons', 'harpy', 'butchery', 'night', 'kill', 'left', 'mark'],\n",
       " ['grey', 'worm', 'man', 'alone'],\n",
       " ['partner',\n",
       "  'command',\n",
       "  'unsullied',\n",
       "  'walked',\n",
       "  'streets',\n",
       "  'meereen',\n",
       "  'night',\n",
       "  'always',\n",
       "  'walked',\n",
       "  'pairs'],\n",
       " ['my',\n",
       "  'queen',\n",
       "  'replied',\n",
       "  'captain',\n",
       "  'your',\n",
       "  'servant',\n",
       "  'stalwart',\n",
       "  'shield',\n",
       "  'duty',\n",
       "  'last',\n",
       "  'night'],\n",
       " ['gone', 'certain', 'place', 'drink', 'companionship', 'certain', 'place'],\n",
       " ['mean', 'house', 'pleasure', 'grace', 'brothel'],\n",
       " ['half',\n",
       "  'freedmen',\n",
       "  'yunkai',\n",
       "  'wise',\n",
       "  'masters',\n",
       "  'famed',\n",
       "  'training',\n",
       "  'bedslaves'],\n",
       " ['way', 'seven', 'sighs'],\n",
       " ['brothels', 'sprouted', 'like', 'mushrooms', 'meereen'],\n",
       " ['know'],\n",
       " ['need', 'survive'],\n",
       " ['food',\n",
       "  'costly',\n",
       "  'every',\n",
       "  'day',\n",
       "  'whilst',\n",
       "  'price',\n",
       "  'flesh',\n",
       "  'grew',\n",
       "  'cheaper'],\n",
       " ['poorer',\n",
       "  'districts',\n",
       "  'stepped',\n",
       "  'pyramids',\n",
       "  'meereen',\n",
       "  'slaver',\n",
       "  'nobility',\n",
       "  'brothels',\n",
       "  'catering',\n",
       "  'every',\n",
       "  'conceivable',\n",
       "  'erotic',\n",
       "  'taste',\n",
       "  'knew'],\n",
       " ['even',\n",
       "  'what',\n",
       "  'could',\n",
       "  'eunuch',\n",
       "  'hope',\n",
       "  'find',\n",
       "  'brothel',\n",
       "  'even',\n",
       "  'lack',\n",
       "  'man',\n",
       "  'parts',\n",
       "  'may',\n",
       "  'still',\n",
       "  'man',\n",
       "  'heart',\n",
       "  'grace',\n",
       "  'said',\n",
       "  'grey',\n",
       "  'worm'],\n",
       " ['this',\n",
       "  'one',\n",
       "  'told',\n",
       "  'servant',\n",
       "  'stalwart',\n",
       "  'shield',\n",
       "  'sometimes',\n",
       "  'gave',\n",
       "  'coin',\n",
       "  'women',\n",
       "  'brothels',\n",
       "  'lie',\n",
       "  'hold',\n",
       "  'him',\n",
       "  'blood',\n",
       "  'dragon',\n",
       "  'weep'],\n",
       " ['stalwart', 'shield', 'said', 'dry', 'eyed'],\n",
       " ['that',\n",
       "  'name',\n",
       "  'if',\n",
       "  'please',\n",
       "  'grace',\n",
       "  'it',\n",
       "  'fine',\n",
       "  'name',\n",
       "  'good',\n",
       "  'masters',\n",
       "  'astapor',\n",
       "  'allowed',\n",
       "  'slave',\n",
       "  'soldiers',\n",
       "  'even',\n",
       "  'names'],\n",
       " ['unsullied',\n",
       "  'reclaimed',\n",
       "  'birth',\n",
       "  'names',\n",
       "  'freed',\n",
       "  'them',\n",
       "  'others',\n",
       "  'chose',\n",
       "  'new',\n",
       "  'names',\n",
       "  'themselves'],\n",
       " ['is',\n",
       "  'known',\n",
       "  'many',\n",
       "  'attackers',\n",
       "  'fell',\n",
       "  'upon',\n",
       "  'stalwart',\n",
       "  'shield',\n",
       "  'this',\n",
       "  'one',\n",
       "  'know'],\n",
       " ['many', 'six', 'more', 'said', 'ser', 'barristan'],\n",
       " ['from', 'look', 'wounds', 'swarmed', 'sides'],\n",
       " ['found', 'empty', 'scabbard'],\n",
       " ['may',\n",
       "  'wounded',\n",
       "  'attackers',\n",
       "  'dany',\n",
       "  'said',\n",
       "  'silent',\n",
       "  'prayer',\n",
       "  'somewhere',\n",
       "  'one',\n",
       "  'harpy',\n",
       "  'sons',\n",
       "  'dying',\n",
       "  'even',\n",
       "  'now',\n",
       "  'clutching',\n",
       "  'belly',\n",
       "  'writhing',\n",
       "  'pain'],\n",
       " ['why',\n",
       "  'cut',\n",
       "  'open',\n",
       "  'cheeks',\n",
       "  'like',\n",
       "  'that',\n",
       "  'gracious',\n",
       "  'queen',\n",
       "  'said',\n",
       "  'grey',\n",
       "  'worm',\n",
       "  'his',\n",
       "  'killers',\n",
       "  'forced',\n",
       "  'genitals',\n",
       "  'goat',\n",
       "  'throat',\n",
       "  'servant',\n",
       "  'stalwart',\n",
       "  'shield'],\n",
       " ['one', 'removed', 'bringing', 'here', 'could', 'feed', 'genitals'],\n",
       " ['astapori', 'left', 'neither', 'root', 'stem'],\n",
       " ['the', 'sons', 'grow', 'bolder', 'dany', 'observed'],\n",
       " ['now',\n",
       "  'limited',\n",
       "  'attacks',\n",
       "  'unarmed',\n",
       "  'freedmen',\n",
       "  'cutting',\n",
       "  'streets',\n",
       "  'breaking',\n",
       "  'homes',\n",
       "  'cover',\n",
       "  'darkness',\n",
       "  'murder',\n",
       "  'beds'],\n",
       " ['this',\n",
       "  'first',\n",
       "  'soldiers',\n",
       "  'slain',\n",
       "  'the',\n",
       "  'first',\n",
       "  'ser',\n",
       "  'barristan',\n",
       "  'warned',\n",
       "  'but',\n",
       "  'last',\n",
       "  'still',\n",
       "  'war',\n",
       "  'dany',\n",
       "  'realized',\n",
       "  'fighting',\n",
       "  'shadows'],\n",
       " ['hoped', 'respite', 'killing', 'time', 'build', 'heal'],\n",
       " ['shrugging',\n",
       "  'lion',\n",
       "  'pelt',\n",
       "  'knelt',\n",
       "  'beside',\n",
       "  'corpse',\n",
       "  'closed',\n",
       "  'dead',\n",
       "  'man',\n",
       "  'eyes',\n",
       "  'ignoring',\n",
       "  'jhiqui',\n",
       "  'gasp'],\n",
       " ['stalwart', 'shield', 'shall', 'forgotten'],\n",
       " ['washed',\n",
       "  'dressed',\n",
       "  'battle',\n",
       "  'bury',\n",
       "  'cap',\n",
       "  'shield',\n",
       "  'spears',\n",
       "  'it',\n",
       "  'shall',\n",
       "  'grace',\n",
       "  'commands',\n",
       "  'said',\n",
       "  'grey',\n",
       "  'worm'],\n",
       " ['send',\n",
       "  'men',\n",
       "  'temple',\n",
       "  'graces',\n",
       "  'ask',\n",
       "  'man',\n",
       "  'come',\n",
       "  'blue',\n",
       "  'graces',\n",
       "  'sword',\n",
       "  'wound'],\n",
       " ['spread',\n",
       "  'word',\n",
       "  'pay',\n",
       "  'good',\n",
       "  'gold',\n",
       "  'short',\n",
       "  'sword',\n",
       "  'stalwart',\n",
       "  'shield'],\n",
       " ['inquire',\n",
       "  'butchers',\n",
       "  'herdsmen',\n",
       "  'learn',\n",
       "  'gelding',\n",
       "  'goats',\n",
       "  'late',\n",
       "  'perhaps',\n",
       "  'goatherd',\n",
       "  'would',\n",
       "  'confess'],\n",
       " ['henceforth',\n",
       "  'man',\n",
       "  'mine',\n",
       "  'walks',\n",
       "  'alone',\n",
       "  'dark',\n",
       "  'these',\n",
       "  'ones',\n",
       "  'shall',\n",
       "  'obey',\n",
       "  'daenerys',\n",
       "  'pushed',\n",
       "  'hair',\n",
       "  'back'],\n",
       " ['find', 'cowards', 'me'],\n",
       " ['find',\n",
       "  'them',\n",
       "  'might',\n",
       "  'teach',\n",
       "  'harpy',\n",
       "  'sons',\n",
       "  'means',\n",
       "  'wake',\n",
       "  'dragon',\n",
       "  'grey',\n",
       "  'worm',\n",
       "  'saluted',\n",
       "  'her'],\n",
       " ['unsullied',\n",
       "  'closed',\n",
       "  'shroud',\n",
       "  'more',\n",
       "  'lifted',\n",
       "  'dead',\n",
       "  'man',\n",
       "  'onto',\n",
       "  'shoulders',\n",
       "  'bore',\n",
       "  'hall'],\n",
       " ['ser', 'barristan', 'selmy', 'remained', 'behind'],\n",
       " ['hair', 'white', 'crow', 'feet', 'corners', 'pale', 'blue', 'eyes'],\n",
       " ['yet',\n",
       "  'back',\n",
       "  'still',\n",
       "  'un',\n",
       "  'bent',\n",
       "  'years',\n",
       "  'yet',\n",
       "  'robbed',\n",
       "  'skill',\n",
       "  'arms'],\n",
       " ...]"
      ]
     },
     "execution_count": 50,
     "metadata": {},
     "output_type": "execute_result"
    }
   ],
   "source": [
    "story"
   ]
  },
  {
   "cell_type": "code",
   "execution_count": 51,
   "metadata": {},
   "outputs": [
    {
     "data": {
      "text/plain": [
       "144808"
      ]
     },
     "execution_count": 51,
     "metadata": {},
     "output_type": "execute_result"
    }
   ],
   "source": [
    "len(story)"
   ]
  },
  {
   "cell_type": "code",
   "execution_count": 52,
   "metadata": {},
   "outputs": [],
   "source": [
    "from gensim.models import Word2Vec\n",
    "\n",
    "# Initialize the Word2Vec model with the correct parameters\n",
    "model = Word2Vec(\n",
    "    # sentences=story,  # List of tokenized sentences\n",
    "    window=10,             # Context window size\n",
    "    min_count=2\n",
    ")\n",
    "\n"
   ]
  },
  {
   "cell_type": "code",
   "execution_count": 53,
   "metadata": {},
   "outputs": [],
   "source": [
    "model.build_vocab(story)"
   ]
  },
  {
   "cell_type": "code",
   "execution_count": 54,
   "metadata": {},
   "outputs": [
    {
     "data": {
      "text/plain": [
       "(4798991, 5001035)"
      ]
     },
     "execution_count": 54,
     "metadata": {},
     "output_type": "execute_result"
    }
   ],
   "source": [
    "model.train(story,total_examples=model.corpus_count, epochs=model.epochs)"
   ]
  },
  {
   "cell_type": "code",
   "execution_count": 55,
   "metadata": {},
   "outputs": [
    {
     "data": {
      "text/plain": [
       "[('stormborn', 0.8984684944152832),\n",
       " ('unburnt', 0.8469971418380737),\n",
       " ('queen', 0.8300524353981018),\n",
       " ('myrcella', 0.8282209634780884),\n",
       " ('targaryen', 0.8230838179588318),\n",
       " ('elia', 0.8110476732254028),\n",
       " ('viserys', 0.8064426779747009),\n",
       " ('loraq', 0.8044511675834656),\n",
       " ('court', 0.7970327734947205),\n",
       " ('dorne', 0.7964118719100952)]"
      ]
     },
     "execution_count": 55,
     "metadata": {},
     "output_type": "execute_result"
    }
   ],
   "source": [
    "model.wv.most_similar('daenerys')"
   ]
  },
  {
   "cell_type": "code",
   "execution_count": 56,
   "metadata": {},
   "outputs": [
    {
     "data": {
      "text/plain": [
       "0.81089205"
      ]
     },
     "execution_count": 56,
     "metadata": {},
     "output_type": "execute_result"
    }
   ],
   "source": [
    "model.wv.similarity('arya','sansa')"
   ]
  },
  {
   "cell_type": "code",
   "execution_count": 57,
   "metadata": {},
   "outputs": [
    {
     "data": {
      "text/plain": [
       "0.09821151"
      ]
     },
     "execution_count": 57,
     "metadata": {},
     "output_type": "execute_result"
    }
   ],
   "source": [
    "model.wv.similarity('arya','tywin')"
   ]
  },
  {
   "cell_type": "code",
   "execution_count": 58,
   "metadata": {},
   "outputs": [
    {
     "data": {
      "text/plain": [
       "array([[-0.05307387, -0.06053196,  0.0237551 , ..., -0.17115465,\n",
       "         0.09436142, -0.03285459],\n",
       "       [-0.03512672,  0.02912345,  0.12715743, ..., -0.15959959,\n",
       "        -0.03571011,  0.10680823],\n",
       "       [ 0.15127096,  0.10766611, -0.03375448, ...,  0.0941397 ,\n",
       "         0.01080048, -0.04050716],\n",
       "       ...,\n",
       "       [ 0.0960955 , -0.01189412, -0.0355417 , ..., -0.09876837,\n",
       "         0.07997157,  0.00390312],\n",
       "       [-0.04754916,  0.13177624,  0.09519309, ..., -0.16417658,\n",
       "         0.09383687,  0.18641241],\n",
       "       [-0.09143779,  0.08337005, -0.01305173, ..., -0.15483929,\n",
       "         0.00069844,  0.0813204 ]], dtype=float32)"
      ]
     },
     "execution_count": 58,
     "metadata": {},
     "output_type": "execute_result"
    }
   ],
   "source": [
    "model.wv.get_normed_vectors()"
   ]
  },
  {
   "cell_type": "code",
   "execution_count": 59,
   "metadata": {},
   "outputs": [
    {
     "data": {
      "text/plain": [
       "(17451, 100)"
      ]
     },
     "execution_count": 59,
     "metadata": {},
     "output_type": "execute_result"
    }
   ],
   "source": [
    "model.wv.get_normed_vectors().shape"
   ]
  },
  {
   "cell_type": "code",
   "execution_count": 60,
   "metadata": {},
   "outputs": [],
   "source": [
    "y = model.wv.index_to_key"
   ]
  },
  {
   "cell_type": "code",
   "execution_count": 61,
   "metadata": {},
   "outputs": [
    {
     "data": {
      "text/plain": [
       "['said',\n",
       " 'lord',\n",
       " 'would',\n",
       " 'one',\n",
       " 'you',\n",
       " 'ser',\n",
       " 'him',\n",
       " 'could',\n",
       " 'man',\n",
       " 'it',\n",
       " 'king',\n",
       " 'men',\n",
       " 'back',\n",
       " 'well',\n",
       " 'her',\n",
       " 'like',\n",
       " 'jon',\n",
       " 'me',\n",
       " 'them',\n",
       " 'he',\n",
       " 'that',\n",
       " 'father',\n",
       " 'the',\n",
       " 'old',\n",
       " 'hand',\n",
       " 'even',\n",
       " 'tyrion',\n",
       " 'never',\n",
       " 'see',\n",
       " 'know',\n",
       " 'made',\n",
       " 'eyes',\n",
       " 'black',\n",
       " 'told',\n",
       " 'lady',\n",
       " 'thought',\n",
       " 'time',\n",
       " 'long',\n",
       " 'might',\n",
       " 'us',\n",
       " 'come',\n",
       " 'face',\n",
       " 'still',\n",
       " 'head',\n",
       " 'red',\n",
       " 'way',\n",
       " 'boy',\n",
       " 'page',\n",
       " 'must',\n",
       " 'queen',\n",
       " 'good',\n",
       " 'two',\n",
       " 'brother',\n",
       " 'night',\n",
       " 'little',\n",
       " 'took',\n",
       " 'came',\n",
       " 'll',\n",
       " 'though',\n",
       " 'say',\n",
       " 'three',\n",
       " 'away',\n",
       " 'dead',\n",
       " 'son',\n",
       " 'no',\n",
       " 'there',\n",
       " 'blood',\n",
       " 'take',\n",
       " 'go',\n",
       " 'half',\n",
       " 'make',\n",
       " 'and',\n",
       " 'arya',\n",
       " 'saw',\n",
       " 'we',\n",
       " 'day',\n",
       " 'white',\n",
       " 'now',\n",
       " 'jaime',\n",
       " 'first',\n",
       " 'look',\n",
       " 'want',\n",
       " 'much',\n",
       " 'enough',\n",
       " 'sword',\n",
       " 'tell',\n",
       " 'girl',\n",
       " 'bran',\n",
       " 'great',\n",
       " 'looked',\n",
       " 'again',\n",
       " 'left',\n",
       " 'knew',\n",
       " 'asked',\n",
       " 'gave',\n",
       " 'maester',\n",
       " 'called',\n",
       " 'wall',\n",
       " 'every',\n",
       " 'heard',\n",
       " 'sansa',\n",
       " 'let',\n",
       " 'yet',\n",
       " 'went',\n",
       " 'turned',\n",
       " 'dany',\n",
       " 'behind',\n",
       " 'need',\n",
       " 'around',\n",
       " 'here',\n",
       " 'they',\n",
       " 'woman',\n",
       " 'another',\n",
       " 'snow',\n",
       " 'beneath',\n",
       " 'across',\n",
       " 'knight',\n",
       " 'keep',\n",
       " 'grace',\n",
       " 'found',\n",
       " 'gold',\n",
       " 'last',\n",
       " 'cersei',\n",
       " 'castle',\n",
       " 'stark',\n",
       " 'gods',\n",
       " 'think',\n",
       " 'hair',\n",
       " 'many',\n",
       " 'feet',\n",
       " 'hands',\n",
       " 'stannis',\n",
       " 'mother',\n",
       " 'catelyn',\n",
       " 'robert',\n",
       " 'seemed',\n",
       " 'prince',\n",
       " 'may',\n",
       " 'too',\n",
       " 'ever',\n",
       " 'robb',\n",
       " 'done',\n",
       " 'find',\n",
       " 'lannister',\n",
       " 'what',\n",
       " 'hear',\n",
       " 'grey',\n",
       " 'name',\n",
       " 'my',\n",
       " 'horse',\n",
       " 'high',\n",
       " 'all',\n",
       " 'put',\n",
       " 'wine',\n",
       " 'stone',\n",
       " 'hard',\n",
       " 'water',\n",
       " 'fire',\n",
       " 'upon',\n",
       " 'iron',\n",
       " 'this',\n",
       " 'voice',\n",
       " 'gone',\n",
       " 'she',\n",
       " 'give',\n",
       " 'sam',\n",
       " 'better',\n",
       " 'seen',\n",
       " 'shall',\n",
       " 'ned',\n",
       " 'always',\n",
       " 'years',\n",
       " 'dark',\n",
       " 'place',\n",
       " 'not',\n",
       " 'small',\n",
       " 'cold',\n",
       " 'do',\n",
       " 'winterfell',\n",
       " 'hundred',\n",
       " 'stood',\n",
       " 'end',\n",
       " 'sister',\n",
       " 'words',\n",
       " 'sea',\n",
       " 'right',\n",
       " 'nothing',\n",
       " 'if',\n",
       " 'walls',\n",
       " 'fingers',\n",
       " 'house',\n",
       " 'so',\n",
       " 'cloak',\n",
       " 'young',\n",
       " 'beside',\n",
       " 'get',\n",
       " 'mouth',\n",
       " 'seven',\n",
       " 'watch',\n",
       " 'door',\n",
       " 'joffrey',\n",
       " 'green',\n",
       " 'big',\n",
       " 'out',\n",
       " 'sent',\n",
       " 'perhaps',\n",
       " 'almost',\n",
       " 'wanted',\n",
       " 'true',\n",
       " 'daughter',\n",
       " 'leave',\n",
       " 'city',\n",
       " 'wind',\n",
       " 'light',\n",
       " 'then',\n",
       " 'arms',\n",
       " 'but',\n",
       " 'children',\n",
       " 'sweet',\n",
       " 'others',\n",
       " 'lost',\n",
       " 're',\n",
       " 'theon',\n",
       " 'felt',\n",
       " 'side',\n",
       " 'yes',\n",
       " 'brothers',\n",
       " 'best',\n",
       " 'die',\n",
       " 'brought',\n",
       " 'soon',\n",
       " 'died',\n",
       " 'far',\n",
       " 'north',\n",
       " 'fear',\n",
       " 'child',\n",
       " 'did',\n",
       " 'your',\n",
       " 'along',\n",
       " 'is',\n",
       " 'brienne',\n",
       " 'word',\n",
       " 'taken',\n",
       " 'battle',\n",
       " 'help',\n",
       " 'new',\n",
       " 'tywin',\n",
       " 'davos',\n",
       " 'lords',\n",
       " 'something',\n",
       " 'up',\n",
       " 'wife',\n",
       " 'mean',\n",
       " 'hall',\n",
       " 'rest',\n",
       " 'kill',\n",
       " 'strong',\n",
       " 'steel',\n",
       " 'began',\n",
       " 'sound',\n",
       " 'dragon',\n",
       " 'past',\n",
       " 'life',\n",
       " 'tower',\n",
       " 'killed',\n",
       " 'was',\n",
       " 'arm',\n",
       " 'sons',\n",
       " 'tried',\n",
       " 'free',\n",
       " 'thing',\n",
       " 'days',\n",
       " 'once',\n",
       " 'bear',\n",
       " 'bloody',\n",
       " 'heart',\n",
       " 'pale',\n",
       " 'love',\n",
       " 'moment',\n",
       " 'sat',\n",
       " 'bring',\n",
       " 'bed',\n",
       " 'close',\n",
       " 'knights',\n",
       " 'cut',\n",
       " 'his',\n",
       " 'wolf',\n",
       " 'horses',\n",
       " 'smile',\n",
       " 'death',\n",
       " 'inside',\n",
       " 'four',\n",
       " 'brown',\n",
       " 'hot',\n",
       " 'dragons',\n",
       " 'silver',\n",
       " 'part',\n",
       " 'bastard',\n",
       " 'open',\n",
       " 'thousand',\n",
       " 'landing',\n",
       " 'uncle',\n",
       " 'going',\n",
       " 've',\n",
       " 'blue',\n",
       " 'captain',\n",
       " 'air',\n",
       " 'please',\n",
       " 'laughed',\n",
       " 'be',\n",
       " 'river',\n",
       " 'sun',\n",
       " 'rose',\n",
       " 'fell',\n",
       " 'war',\n",
       " 'more',\n",
       " 'golden',\n",
       " 'sleep',\n",
       " 'without',\n",
       " 'swords',\n",
       " 'renly',\n",
       " 'speak',\n",
       " 'certain',\n",
       " 'fool',\n",
       " 'full',\n",
       " 'beyond',\n",
       " 'feel',\n",
       " 'send',\n",
       " 'tongue',\n",
       " 'got',\n",
       " 'fight',\n",
       " 'rode',\n",
       " 'set',\n",
       " 'thick',\n",
       " 'throat',\n",
       " 'world',\n",
       " 'deep',\n",
       " 'legs',\n",
       " 'call',\n",
       " 'himself',\n",
       " 'honor',\n",
       " 'rock',\n",
       " 'trees',\n",
       " 'down',\n",
       " 'tall',\n",
       " 'table',\n",
       " 'pulled',\n",
       " 'broken',\n",
       " 'mormont',\n",
       " 'women',\n",
       " 'why',\n",
       " 'steps',\n",
       " 'things',\n",
       " 'next',\n",
       " 'hodor',\n",
       " 'heavy',\n",
       " 'burned',\n",
       " 'oh',\n",
       " 'toward',\n",
       " 'can',\n",
       " 'will',\n",
       " 'together',\n",
       " 'on',\n",
       " 'skin',\n",
       " 'given',\n",
       " 'since',\n",
       " 'dwarf',\n",
       " 'moved',\n",
       " 'who',\n",
       " 'smiled',\n",
       " 'alone',\n",
       " 'storm',\n",
       " 'off',\n",
       " 'raised',\n",
       " 'ask',\n",
       " 'ride',\n",
       " 'eye',\n",
       " 'hope',\n",
       " 'reached',\n",
       " 'soft',\n",
       " 'second',\n",
       " 'frey',\n",
       " 'remember',\n",
       " 'how',\n",
       " 'someone',\n",
       " 'remembered',\n",
       " 'coming',\n",
       " 'hold',\n",
       " 'cannot',\n",
       " 'meant',\n",
       " 'morning',\n",
       " 'ten',\n",
       " 'else',\n",
       " 'teeth',\n",
       " 'throne',\n",
       " 'command',\n",
       " 'fat',\n",
       " 'truth',\n",
       " 'commander',\n",
       " 'walder',\n",
       " 'ground',\n",
       " 'doubt',\n",
       " 'jorah',\n",
       " 'cup',\n",
       " 'outside',\n",
       " 'known',\n",
       " 'wore',\n",
       " 'ran',\n",
       " 'gate',\n",
       " 'room',\n",
       " 'held',\n",
       " 'in',\n",
       " 'closed',\n",
       " 'home',\n",
       " 'matter',\n",
       " 'south',\n",
       " 'sky',\n",
       " 'wood',\n",
       " 'as',\n",
       " 'to',\n",
       " 'dozen',\n",
       " 'wed',\n",
       " 'people',\n",
       " 'neck',\n",
       " 'riverrun',\n",
       " 'food',\n",
       " 'near',\n",
       " 'instead',\n",
       " 'turn',\n",
       " 'talk',\n",
       " 'none',\n",
       " 'ships',\n",
       " 'tyrell',\n",
       " 'don',\n",
       " 'moon',\n",
       " 'lips',\n",
       " 'summer',\n",
       " 'shadow',\n",
       " 'bolton',\n",
       " 'watched',\n",
       " 'times',\n",
       " 'leather',\n",
       " 'before',\n",
       " 'varys',\n",
       " 'shoulder',\n",
       " 'warm',\n",
       " 'septon',\n",
       " 'believe',\n",
       " 'caught',\n",
       " 'are',\n",
       " 'least',\n",
       " 'guards',\n",
       " 'answer',\n",
       " 'god',\n",
       " 'blade',\n",
       " 'ice',\n",
       " 'wondered',\n",
       " 'mine',\n",
       " 'opened',\n",
       " 'barristan',\n",
       " 'shield',\n",
       " 'armor',\n",
       " 'safe',\n",
       " 'six',\n",
       " 'kept',\n",
       " 'wish',\n",
       " 'return',\n",
       " 'tommen',\n",
       " 'used',\n",
       " 'smell',\n",
       " 'less',\n",
       " 'foot',\n",
       " 'squire',\n",
       " 'floor',\n",
       " 'eddard',\n",
       " 'empty',\n",
       " 'run',\n",
       " 'followed',\n",
       " 'serve',\n",
       " 'friends',\n",
       " 'boys',\n",
       " 'beard',\n",
       " 'wedding',\n",
       " 'cloaks',\n",
       " 'baratheon',\n",
       " 'eat',\n",
       " 'wrong',\n",
       " 'daenerys',\n",
       " 'ghost',\n",
       " 'hound',\n",
       " 'flesh',\n",
       " 'five',\n",
       " 'sight',\n",
       " 'ship',\n",
       " 'strength',\n",
       " 'for',\n",
       " 'bones',\n",
       " 'nose',\n",
       " 'returned',\n",
       " 'crown',\n",
       " 'yellow',\n",
       " 'chest',\n",
       " 'covered',\n",
       " 'says',\n",
       " 'commanded',\n",
       " 'petyr',\n",
       " 'sometimes',\n",
       " 'filled',\n",
       " 'aemon',\n",
       " 'led',\n",
       " 'friend',\n",
       " 'common',\n",
       " 'aye',\n",
       " 'spoke',\n",
       " 'fighting',\n",
       " 'show',\n",
       " 'flames',\n",
       " 'huge',\n",
       " 'lysa',\n",
       " 'asha',\n",
       " 'aside',\n",
       " 'crow',\n",
       " 'belly',\n",
       " 'master',\n",
       " 'breath',\n",
       " 'seem',\n",
       " 'yard',\n",
       " 'gates',\n",
       " 'waiting',\n",
       " 'within',\n",
       " 'looking',\n",
       " 'wet',\n",
       " 'wooden',\n",
       " 'realm',\n",
       " 'herself',\n",
       " 'thin',\n",
       " 'work',\n",
       " 'promised',\n",
       " 'bad',\n",
       " 'use',\n",
       " 'later',\n",
       " 'husband',\n",
       " 'grew',\n",
       " 'tree',\n",
       " 'onto',\n",
       " 'wildlings',\n",
       " 'loved',\n",
       " 'greyjoy',\n",
       " 'girls',\n",
       " 'afraid',\n",
       " 'rain',\n",
       " 'shoulders',\n",
       " 'have',\n",
       " 'shouted',\n",
       " 'walked',\n",
       " 'maid',\n",
       " 'mance',\n",
       " 'late',\n",
       " 'guard',\n",
       " 'remained',\n",
       " 'fall',\n",
       " 'meereen',\n",
       " 'liked',\n",
       " 'littlefinger',\n",
       " 'year',\n",
       " 'margaery',\n",
       " 'dog',\n",
       " 'hurt',\n",
       " 'passed',\n",
       " 'taste',\n",
       " 'balon',\n",
       " 'lay',\n",
       " 'dothraki',\n",
       " 'drew',\n",
       " 'spear',\n",
       " 'pushed',\n",
       " 'song',\n",
       " 'realized',\n",
       " 'named',\n",
       " 'sure',\n",
       " 'finally',\n",
       " 'stand',\n",
       " 'whispered',\n",
       " 'reach',\n",
       " 'brave',\n",
       " 'different',\n",
       " 'suddenly',\n",
       " 'wolves',\n",
       " 'poor',\n",
       " 'kingsguard',\n",
       " 'stay',\n",
       " 'other',\n",
       " 'drogo',\n",
       " 'arryn',\n",
       " 'kingdoms',\n",
       " 'stop',\n",
       " 'edmure',\n",
       " 'broke',\n",
       " 'ears',\n",
       " 'burning',\n",
       " 'princess',\n",
       " 'faces',\n",
       " 'dream',\n",
       " 'lannisters',\n",
       " 'at',\n",
       " 'axe',\n",
       " 'direwolf',\n",
       " 'west',\n",
       " 'tears',\n",
       " 'heir',\n",
       " 'darkness',\n",
       " 'drink',\n",
       " 'clegane',\n",
       " 'either',\n",
       " 'pointed',\n",
       " 'raven',\n",
       " 'hill',\n",
       " 'try',\n",
       " 'pain',\n",
       " 'forward',\n",
       " 'sworn',\n",
       " 'lie',\n",
       " 'khal',\n",
       " 'truly',\n",
       " 'kings',\n",
       " 'dagger',\n",
       " 'grown',\n",
       " 'seat',\n",
       " 'road',\n",
       " 'born',\n",
       " 'care',\n",
       " 'harrenhal',\n",
       " 'bronn',\n",
       " 'round',\n",
       " 'helm',\n",
       " 'feast',\n",
       " 'meat',\n",
       " 'understand',\n",
       " 'pycelle',\n",
       " 'same',\n",
       " 'quick',\n",
       " 'amongst',\n",
       " 'longer',\n",
       " 'lifted',\n",
       " 'whilst',\n",
       " 'reminded',\n",
       " 'maybe',\n",
       " 'mountain',\n",
       " 'short',\n",
       " 'step',\n",
       " 'rodrik',\n",
       " 'when',\n",
       " 'pretty',\n",
       " 'ones',\n",
       " 'melisandre',\n",
       " 'third',\n",
       " 'aegon',\n",
       " 'stopped',\n",
       " 'lands',\n",
       " 'worse',\n",
       " 'bit',\n",
       " 'sit',\n",
       " 'sharp',\n",
       " 'victarion',\n",
       " 'save',\n",
       " 'knows',\n",
       " 'whose',\n",
       " 'live',\n",
       " 'smoke',\n",
       " 'horn',\n",
       " 'pray',\n",
       " 'leg',\n",
       " 'window',\n",
       " 'westeros',\n",
       " 'younger',\n",
       " 'heads',\n",
       " 'silk',\n",
       " 'twenty',\n",
       " 'peace',\n",
       " 'ago',\n",
       " 'slaves',\n",
       " 'septa',\n",
       " 'pie',\n",
       " 'hizdahr',\n",
       " 'low',\n",
       " 'laugh',\n",
       " 'wants',\n",
       " 'mind',\n",
       " 'bread',\n",
       " 'blind',\n",
       " 'east',\n",
       " 'reek',\n",
       " 'towers',\n",
       " 'mad',\n",
       " 'bright',\n",
       " 'sooner',\n",
       " 'slain',\n",
       " 'camp',\n",
       " 'making',\n",
       " 'coin',\n",
       " 'older',\n",
       " 'narrow',\n",
       " 'served',\n",
       " 'drowned',\n",
       " 'wait',\n",
       " 'walk',\n",
       " 'salt',\n",
       " 'point',\n",
       " 'glanced',\n",
       " 'own',\n",
       " 'luwin',\n",
       " 'cheeks',\n",
       " 'cousin',\n",
       " 'knife',\n",
       " 'sort',\n",
       " 'shook',\n",
       " 'targaryen',\n",
       " 'riding',\n",
       " 'touched',\n",
       " 'stepped',\n",
       " 'often',\n",
       " 'quiet',\n",
       " 'twisted',\n",
       " 'loras',\n",
       " 'naked',\n",
       " 'choice',\n",
       " 'silence',\n",
       " 'kevan',\n",
       " 'lion',\n",
       " 'fish',\n",
       " 'forgotten',\n",
       " 'yours',\n",
       " 'read',\n",
       " 'ramsay',\n",
       " 'hung',\n",
       " 'gift',\n",
       " 'running',\n",
       " 'fallen',\n",
       " 'replied',\n",
       " 'knees',\n",
       " 'large',\n",
       " 'silent',\n",
       " 'fought',\n",
       " 'cat',\n",
       " 'ahead',\n",
       " 'company',\n",
       " 'sept',\n",
       " 'rhaegar',\n",
       " 'needs',\n",
       " 'beautiful',\n",
       " 'dawn',\n",
       " 'dogs',\n",
       " 'dorne',\n",
       " 'casterly',\n",
       " 'pass',\n",
       " 'knee',\n",
       " 'mud',\n",
       " 'tully',\n",
       " 'stupid',\n",
       " 'body',\n",
       " 'where',\n",
       " 'singer',\n",
       " 'court',\n",
       " 'gregor',\n",
       " 'trying',\n",
       " 'meera',\n",
       " 'age',\n",
       " 'top',\n",
       " 'kind',\n",
       " 'swear',\n",
       " 'offered',\n",
       " 'gendry',\n",
       " 'closer',\n",
       " 'leaves',\n",
       " 'clothes',\n",
       " 'whole',\n",
       " 'kiss',\n",
       " 'anything',\n",
       " 'agreed',\n",
       " 'pay',\n",
       " 'wonder',\n",
       " 'whatever',\n",
       " 'threw',\n",
       " 'climbed',\n",
       " 'answered',\n",
       " 'wide',\n",
       " 'saying',\n",
       " 'saddle',\n",
       " 'stars',\n",
       " 'comes',\n",
       " 'stones',\n",
       " 'host',\n",
       " 'trust',\n",
       " 'chain',\n",
       " 'pleased',\n",
       " 'fair',\n",
       " 'trident',\n",
       " 'yunkai',\n",
       " 'insisted',\n",
       " 'dying',\n",
       " 'spears',\n",
       " 'eight',\n",
       " 'hour',\n",
       " 'dry',\n",
       " 'ear',\n",
       " 'fast',\n",
       " 'ought',\n",
       " 'service',\n",
       " 'carried',\n",
       " 'doors',\n",
       " 'mail',\n",
       " 'woods',\n",
       " 'council',\n",
       " 'fist',\n",
       " 'thank',\n",
       " 'of',\n",
       " 'crossed',\n",
       " 'fine',\n",
       " 'milk',\n",
       " 'needed',\n",
       " 'wildling',\n",
       " 'join',\n",
       " 'gilly',\n",
       " 'quentyn',\n",
       " 'finger',\n",
       " 'tent',\n",
       " 'shadows',\n",
       " 'win',\n",
       " 'boots',\n",
       " 'helped',\n",
       " 'land',\n",
       " 'bird',\n",
       " 'imp',\n",
       " 'somehow',\n",
       " 'folk',\n",
       " 'crows',\n",
       " 'names',\n",
       " 'letter',\n",
       " 'banners',\n",
       " 'kissed',\n",
       " 'winter',\n",
       " 'angry',\n",
       " 'pink',\n",
       " 'screamed',\n",
       " 'frightened',\n",
       " 'torch',\n",
       " 'learn',\n",
       " 'alive',\n",
       " 'eunuch',\n",
       " 'chair',\n",
       " 'daughters',\n",
       " 'watching',\n",
       " 'harm',\n",
       " 'fires',\n",
       " 'tarly',\n",
       " 'dragonstone',\n",
       " 'standing',\n",
       " 'serving',\n",
       " 'neither',\n",
       " 'easy',\n",
       " 'won',\n",
       " 'nine',\n",
       " 'learned',\n",
       " 'drunk',\n",
       " 'wings',\n",
       " 'question',\n",
       " 'sail',\n",
       " 'by',\n",
       " 'sisters',\n",
       " 'nodded',\n",
       " 'myrcella',\n",
       " 'priest',\n",
       " 'harbor',\n",
       " 'giant',\n",
       " 'warned',\n",
       " 'forth',\n",
       " 'bone',\n",
       " 'slow',\n",
       " 'slipped',\n",
       " 'field',\n",
       " 'slid',\n",
       " 'dreams',\n",
       " 'bronze',\n",
       " 'falling',\n",
       " 'slowly',\n",
       " 'atop',\n",
       " 'promise',\n",
       " 'rise',\n",
       " 'line',\n",
       " 'slave',\n",
       " 'whore',\n",
       " 'illyrio',\n",
       " 'move',\n",
       " 'makes',\n",
       " 'some',\n",
       " 'flowers',\n",
       " 'laughter',\n",
       " 'pyke',\n",
       " 'faced',\n",
       " 'grass',\n",
       " 'bay',\n",
       " 'earth',\n",
       " 'declared',\n",
       " 'loose',\n",
       " 'twice',\n",
       " 'lived',\n",
       " 'front',\n",
       " 'viserys',\n",
       " 'power',\n",
       " 'cell',\n",
       " 'happened',\n",
       " 'play',\n",
       " 'chains',\n",
       " 'dance',\n",
       " 'oldtown',\n",
       " 'with',\n",
       " 'break',\n",
       " 'aerys',\n",
       " 'surely',\n",
       " 'clean',\n",
       " 'jeyne',\n",
       " 'claim',\n",
       " 'eyrie',\n",
       " 'unless',\n",
       " 'cried',\n",
       " 'fresh',\n",
       " 'pair',\n",
       " 'laid',\n",
       " 'quite',\n",
       " 'tormund',\n",
       " 'craster',\n",
       " 'sad',\n",
       " 'game',\n",
       " 'met',\n",
       " 'morrow',\n",
       " 'shouting',\n",
       " 'already',\n",
       " 'softly',\n",
       " 'touch',\n",
       " 'rule',\n",
       " 'sense',\n",
       " 'afterward',\n",
       " 'started',\n",
       " 'woke',\n",
       " 'steward',\n",
       " 'mounted',\n",
       " 'count',\n",
       " 'hide',\n",
       " 'jojen',\n",
       " 'captive',\n",
       " 'sudden',\n",
       " 'highgarden',\n",
       " 'waters',\n",
       " 'cheek',\n",
       " 'ravens',\n",
       " 'course',\n",
       " 'purple',\n",
       " 'however',\n",
       " 'follow',\n",
       " 'anyone',\n",
       " 'among',\n",
       " 'means',\n",
       " 'taking',\n",
       " 'rickon',\n",
       " 'bare',\n",
       " 'wench',\n",
       " 'noble',\n",
       " 'carved',\n",
       " 'waited',\n",
       " 'grenn',\n",
       " 'cruel',\n",
       " 'rising',\n",
       " 'murdered',\n",
       " 'thinking',\n",
       " 'weak',\n",
       " 'vale',\n",
       " 'roose',\n",
       " 'roof',\n",
       " 'eyed',\n",
       " 'hidden',\n",
       " 'arrow',\n",
       " 'blow',\n",
       " 'below',\n",
       " 'forest',\n",
       " 'town',\n",
       " 'grand',\n",
       " 'hungry',\n",
       " 'growing',\n",
       " 'today',\n",
       " 'voices',\n",
       " 'wise',\n",
       " 'army',\n",
       " 'sorry',\n",
       " 'tale',\n",
       " 'protect',\n",
       " 'cry',\n",
       " 'wound',\n",
       " 'griff',\n",
       " 'ugly',\n",
       " 'inn',\n",
       " ...]"
      ]
     },
     "execution_count": 61,
     "metadata": {},
     "output_type": "execute_result"
    }
   ],
   "source": [
    "y"
   ]
  },
  {
   "cell_type": "code",
   "execution_count": 62,
   "metadata": {},
   "outputs": [
    {
     "data": {
      "text/plain": [
       "17451"
      ]
     },
     "execution_count": 62,
     "metadata": {},
     "output_type": "execute_result"
    }
   ],
   "source": [
    "len(y)"
   ]
  },
  {
   "cell_type": "code",
   "execution_count": 63,
   "metadata": {},
   "outputs": [],
   "source": [
    "from sklearn.decomposition import PCA"
   ]
  },
  {
   "cell_type": "code",
   "execution_count": 64,
   "metadata": {},
   "outputs": [],
   "source": [
    "pca = PCA(n_components=3)"
   ]
  },
  {
   "cell_type": "code",
   "execution_count": 65,
   "metadata": {},
   "outputs": [],
   "source": [
    "X = pca.fit_transform(model.wv.get_normed_vectors())"
   ]
  },
  {
   "cell_type": "code",
   "execution_count": 66,
   "metadata": {},
   "outputs": [
    {
     "data": {
      "text/plain": [
       "array([[-0.4421456 ,  0.06048344,  0.2168067 ],\n",
       "       [-0.38680655,  0.5975077 ,  0.2896715 ],\n",
       "       [-0.48148748, -0.03069068, -0.22504695],\n",
       "       [-0.02717981,  0.18737677,  0.01987379],\n",
       "       [-0.58419406, -0.16312674,  0.1074397 ]], dtype=float32)"
      ]
     },
     "execution_count": 66,
     "metadata": {},
     "output_type": "execute_result"
    }
   ],
   "source": [
    "X[:5]"
   ]
  },
  {
   "cell_type": "code",
   "execution_count": 67,
   "metadata": {},
   "outputs": [
    {
     "data": {
      "text/plain": [
       "(17451, 3)"
      ]
     },
     "execution_count": 67,
     "metadata": {},
     "output_type": "execute_result"
    }
   ],
   "source": [
    "X.shape"
   ]
  },
  {
   "cell_type": "code",
   "execution_count": 71,
   "metadata": {},
   "outputs": [
    {
     "name": "stdout",
     "output_type": "stream",
     "text": [
      "Requirement already satisfied: plotly in /Users/sumitkumar/Desktop/personal_project/NLP/envnlp/lib/python3.10/site-packages (5.24.1)\n",
      "Requirement already satisfied: tenacity>=6.2.0 in /Users/sumitkumar/Desktop/personal_project/NLP/envnlp/lib/python3.10/site-packages (from plotly) (8.5.0)\n",
      "Requirement already satisfied: packaging in /Users/sumitkumar/Desktop/personal_project/NLP/envnlp/lib/python3.10/site-packages (from plotly) (23.2)\n",
      "Requirement already satisfied: nbformat in /Users/sumitkumar/Desktop/personal_project/NLP/envnlp/lib/python3.10/site-packages (5.10.4)\n",
      "Requirement already satisfied: fastjsonschema>=2.15 in /Users/sumitkumar/Desktop/personal_project/NLP/envnlp/lib/python3.10/site-packages (from nbformat) (2.20.0)\n",
      "Requirement already satisfied: jsonschema>=2.6 in /Users/sumitkumar/Desktop/personal_project/NLP/envnlp/lib/python3.10/site-packages (from nbformat) (4.23.0)\n",
      "Requirement already satisfied: jupyter-core!=5.0.*,>=4.12 in /Users/sumitkumar/Desktop/personal_project/NLP/envnlp/lib/python3.10/site-packages (from nbformat) (5.7.2)\n",
      "Requirement already satisfied: traitlets>=5.1 in /Users/sumitkumar/Desktop/personal_project/NLP/envnlp/lib/python3.10/site-packages (from nbformat) (5.14.3)\n",
      "Requirement already satisfied: attrs>=22.2.0 in /Users/sumitkumar/Desktop/personal_project/NLP/envnlp/lib/python3.10/site-packages (from jsonschema>=2.6->nbformat) (24.2.0)\n",
      "Requirement already satisfied: jsonschema-specifications>=2023.03.6 in /Users/sumitkumar/Desktop/personal_project/NLP/envnlp/lib/python3.10/site-packages (from jsonschema>=2.6->nbformat) (2024.10.1)\n",
      "Requirement already satisfied: referencing>=0.28.4 in /Users/sumitkumar/Desktop/personal_project/NLP/envnlp/lib/python3.10/site-packages (from jsonschema>=2.6->nbformat) (0.35.1)\n",
      "Requirement already satisfied: rpds-py>=0.7.1 in /Users/sumitkumar/Desktop/personal_project/NLP/envnlp/lib/python3.10/site-packages (from jsonschema>=2.6->nbformat) (0.20.0)\n",
      "Requirement already satisfied: platformdirs>=2.5 in /Users/sumitkumar/Desktop/personal_project/NLP/envnlp/lib/python3.10/site-packages (from jupyter-core!=5.0.*,>=4.12->nbformat) (4.3.6)\n"
     ]
    }
   ],
   "source": [
    "!pip install plotly\n",
    "!pip install nbformat --upgrade  # Restart the kernal and re-run all"
   ]
  },
  {
   "cell_type": "code",
   "execution_count": 72,
   "metadata": {},
   "outputs": [
    {
     "data": {
      "application/vnd.plotly.v1+json": {
       "config": {
        "plotlyServerURL": "https://plot.ly"
       },
       "data": [
        {
         "hovertemplate": "color=said<br>0=%{x}<br>1=%{y}<br>2=%{z}<extra></extra>",
         "legendgroup": "said",
         "marker": {
          "color": "#636efa",
          "symbol": "circle"
         },
         "mode": "markers",
         "name": "said",
         "scene": "scene",
         "showlegend": true,
         "type": "scatter3d",
         "x": [
          -0.44214558601379395
         ],
         "y": [
          0.06048344075679779
         ],
         "z": [
          0.21680669486522675
         ]
        },
        {
         "hovertemplate": "color=lord<br>0=%{x}<br>1=%{y}<br>2=%{z}<extra></extra>",
         "legendgroup": "lord",
         "marker": {
          "color": "#EF553B",
          "symbol": "circle"
         },
         "mode": "markers",
         "name": "lord",
         "scene": "scene",
         "showlegend": true,
         "type": "scatter3d",
         "x": [
          -0.38680654764175415
         ],
         "y": [
          0.5975077152252197
         ],
         "z": [
          0.28967151045799255
         ]
        },
        {
         "hovertemplate": "color=would<br>0=%{x}<br>1=%{y}<br>2=%{z}<extra></extra>",
         "legendgroup": "would",
         "marker": {
          "color": "#00cc96",
          "symbol": "circle"
         },
         "mode": "markers",
         "name": "would",
         "scene": "scene",
         "showlegend": true,
         "type": "scatter3d",
         "x": [
          -0.4814874827861786
         ],
         "y": [
          -0.030690684914588928
         ],
         "z": [
          -0.22504694759845734
         ]
        },
        {
         "hovertemplate": "color=one<br>0=%{x}<br>1=%{y}<br>2=%{z}<extra></extra>",
         "legendgroup": "one",
         "marker": {
          "color": "#ab63fa",
          "symbol": "circle"
         },
         "mode": "markers",
         "name": "one",
         "scene": "scene",
         "showlegend": true,
         "type": "scatter3d",
         "x": [
          -0.027179807424545288
         ],
         "y": [
          0.18737676739692688
         ],
         "z": [
          0.01987379416823387
         ]
        },
        {
         "hovertemplate": "color=you<br>0=%{x}<br>1=%{y}<br>2=%{z}<extra></extra>",
         "legendgroup": "you",
         "marker": {
          "color": "#FFA15A",
          "symbol": "circle"
         },
         "mode": "markers",
         "name": "you",
         "scene": "scene",
         "showlegend": true,
         "type": "scatter3d",
         "x": [
          -0.5841940641403198
         ],
         "y": [
          -0.16312673687934875
         ],
         "z": [
          0.10743969678878784
         ]
        },
        {
         "hovertemplate": "color=ser<br>0=%{x}<br>1=%{y}<br>2=%{z}<extra></extra>",
         "legendgroup": "ser",
         "marker": {
          "color": "#19d3f3",
          "symbol": "circle"
         },
         "mode": "markers",
         "name": "ser",
         "scene": "scene",
         "showlegend": true,
         "type": "scatter3d",
         "x": [
          -0.2588091790676117
         ],
         "y": [
          0.5319905281066895
         ],
         "z": [
          0.46260231733322144
         ]
        },
        {
         "hovertemplate": "color=him<br>0=%{x}<br>1=%{y}<br>2=%{z}<extra></extra>",
         "legendgroup": "him",
         "marker": {
          "color": "#FF6692",
          "symbol": "circle"
         },
         "mode": "markers",
         "name": "him",
         "scene": "scene",
         "showlegend": true,
         "type": "scatter3d",
         "x": [
          -0.1618443727493286
         ],
         "y": [
          -0.11466473340988159
         ],
         "z": [
          0.18353882431983948
         ]
        },
        {
         "hovertemplate": "color=could<br>0=%{x}<br>1=%{y}<br>2=%{z}<extra></extra>",
         "legendgroup": "could",
         "marker": {
          "color": "#B6E880",
          "symbol": "circle"
         },
         "mode": "markers",
         "name": "could",
         "scene": "scene",
         "showlegend": true,
         "type": "scatter3d",
         "x": [
          -0.04590694606304169
         ],
         "y": [
          -0.11767274141311646
         ],
         "z": [
          -0.1770041435956955
         ]
        },
        {
         "hovertemplate": "color=man<br>0=%{x}<br>1=%{y}<br>2=%{z}<extra></extra>",
         "legendgroup": "man",
         "marker": {
          "color": "#FF97FF",
          "symbol": "circle"
         },
         "mode": "markers",
         "name": "man",
         "scene": "scene",
         "showlegend": true,
         "type": "scatter3d",
         "x": [
          -0.09200242161750793
         ],
         "y": [
          0.12726934254169464
         ],
         "z": [
          0.1845702975988388
         ]
        },
        {
         "hovertemplate": "color=it<br>0=%{x}<br>1=%{y}<br>2=%{z}<extra></extra>",
         "legendgroup": "it",
         "marker": {
          "color": "#FECB52",
          "symbol": "circle"
         },
         "mode": "markers",
         "name": "it",
         "scene": "scene",
         "showlegend": true,
         "type": "scatter3d",
         "x": [
          -0.2622948884963989
         ],
         "y": [
          -0.33666375279426575
         ],
         "z": [
          -0.01714479923248291
         ]
        },
        {
         "hovertemplate": "color=king<br>0=%{x}<br>1=%{y}<br>2=%{z}<extra></extra>",
         "legendgroup": "king",
         "marker": {
          "color": "#636efa",
          "symbol": "circle"
         },
         "mode": "markers",
         "name": "king",
         "scene": "scene",
         "showlegend": true,
         "type": "scatter3d",
         "x": [
          -0.35508477687835693
         ],
         "y": [
          0.5232417583465576
         ],
         "z": [
          0.10213670134544373
         ]
        },
        {
         "hovertemplate": "color=men<br>0=%{x}<br>1=%{y}<br>2=%{z}<extra></extra>",
         "legendgroup": "men",
         "marker": {
          "color": "#EF553B",
          "symbol": "circle"
         },
         "mode": "markers",
         "name": "men",
         "scene": "scene",
         "showlegend": true,
         "type": "scatter3d",
         "x": [
          -0.08587243407964706
         ],
         "y": [
          0.47328078746795654
         ],
         "z": [
          -0.3185727596282959
         ]
        },
        {
         "hovertemplate": "color=back<br>0=%{x}<br>1=%{y}<br>2=%{z}<extra></extra>",
         "legendgroup": "back",
         "marker": {
          "color": "#00cc96",
          "symbol": "circle"
         },
         "mode": "markers",
         "name": "back",
         "scene": "scene",
         "showlegend": true,
         "type": "scatter3d",
         "x": [
          0.21113991737365723
         ],
         "y": [
          0.0178002268075943
         ],
         "z": [
          0.07486061751842499
         ]
        },
        {
         "hovertemplate": "color=well<br>0=%{x}<br>1=%{y}<br>2=%{z}<extra></extra>",
         "legendgroup": "well",
         "marker": {
          "color": "#ab63fa",
          "symbol": "circle"
         },
         "mode": "markers",
         "name": "well",
         "scene": "scene",
         "showlegend": true,
         "type": "scatter3d",
         "x": [
          -0.45603635907173157
         ],
         "y": [
          0.23599454760551453
         ],
         "z": [
          -0.16112008690834045
         ]
        },
        {
         "hovertemplate": "color=her<br>0=%{x}<br>1=%{y}<br>2=%{z}<extra></extra>",
         "legendgroup": "her",
         "marker": {
          "color": "#FFA15A",
          "symbol": "circle"
         },
         "mode": "markers",
         "name": "her",
         "scene": "scene",
         "showlegend": true,
         "type": "scatter3d",
         "x": [
          -0.12007739394903183
         ],
         "y": [
          -0.1309983730316162
         ],
         "z": [
          0.19617776572704315
         ]
        },
        {
         "hovertemplate": "color=like<br>0=%{x}<br>1=%{y}<br>2=%{z}<extra></extra>",
         "legendgroup": "like",
         "marker": {
          "color": "#19d3f3",
          "symbol": "circle"
         },
         "mode": "markers",
         "name": "like",
         "scene": "scene",
         "showlegend": true,
         "type": "scatter3d",
         "x": [
          0.1737174689769745
         ],
         "y": [
          -0.10763582587242126
         ],
         "z": [
          -0.1292552500963211
         ]
        },
        {
         "hovertemplate": "color=jon<br>0=%{x}<br>1=%{y}<br>2=%{z}<extra></extra>",
         "legendgroup": "jon",
         "marker": {
          "color": "#FF6692",
          "symbol": "circle"
         },
         "mode": "markers",
         "name": "jon",
         "scene": "scene",
         "showlegend": true,
         "type": "scatter3d",
         "x": [
          -0.030134674161672592
         ],
         "y": [
          0.02711339294910431
         ],
         "z": [
          0.14137928187847137
         ]
        },
        {
         "hovertemplate": "color=me<br>0=%{x}<br>1=%{y}<br>2=%{z}<extra></extra>",
         "legendgroup": "me",
         "marker": {
          "color": "#B6E880",
          "symbol": "circle"
         },
         "mode": "markers",
         "name": "me",
         "scene": "scene",
         "showlegend": true,
         "type": "scatter3d",
         "x": [
          -0.6011816263198853
         ],
         "y": [
          -0.1961793303489685
         ],
         "z": [
          0.12828399240970612
         ]
        },
        {
         "hovertemplate": "color=them<br>0=%{x}<br>1=%{y}<br>2=%{z}<extra></extra>",
         "legendgroup": "them",
         "marker": {
          "color": "#FF97FF",
          "symbol": "circle"
         },
         "mode": "markers",
         "name": "them",
         "scene": "scene",
         "showlegend": true,
         "type": "scatter3d",
         "x": [
          0.03057294338941574
         ],
         "y": [
          0.030456751585006714
         ],
         "z": [
          -0.322087824344635
         ]
        },
        {
         "hovertemplate": "color=he<br>0=%{x}<br>1=%{y}<br>2=%{z}<extra></extra>",
         "legendgroup": "he",
         "marker": {
          "color": "#FECB52",
          "symbol": "circle"
         },
         "mode": "markers",
         "name": "he",
         "scene": "scene",
         "showlegend": true,
         "type": "scatter3d",
         "x": [
          -0.3582388758659363
         ],
         "y": [
          -0.010570794343948364
         ],
         "z": [
          0.059021834284067154
         ]
        },
        {
         "hovertemplate": "color=that<br>0=%{x}<br>1=%{y}<br>2=%{z}<extra></extra>",
         "legendgroup": "that",
         "marker": {
          "color": "#636efa",
          "symbol": "circle"
         },
         "mode": "markers",
         "name": "that",
         "scene": "scene",
         "showlegend": true,
         "type": "scatter3d",
         "x": [
          -0.6487483978271484
         ],
         "y": [
          -0.2111314833164215
         ],
         "z": [
          0.032963719218969345
         ]
        },
        {
         "hovertemplate": "color=father<br>0=%{x}<br>1=%{y}<br>2=%{z}<extra></extra>",
         "legendgroup": "father",
         "marker": {
          "color": "#EF553B",
          "symbol": "circle"
         },
         "mode": "markers",
         "name": "father",
         "scene": "scene",
         "showlegend": true,
         "type": "scatter3d",
         "x": [
          -0.5768586993217468
         ],
         "y": [
          0.3620685935020447
         ],
         "z": [
          0.17880091071128845
         ]
        },
        {
         "hovertemplate": "color=the<br>0=%{x}<br>1=%{y}<br>2=%{z}<extra></extra>",
         "legendgroup": "the",
         "marker": {
          "color": "#00cc96",
          "symbol": "circle"
         },
         "mode": "markers",
         "name": "the",
         "scene": "scene",
         "showlegend": true,
         "type": "scatter3d",
         "x": [
          -0.3538743853569031
         ],
         "y": [
          0.4123651683330536
         ],
         "z": [
          -0.1259465515613556
         ]
        },
        {
         "hovertemplate": "color=old<br>0=%{x}<br>1=%{y}<br>2=%{z}<extra></extra>",
         "legendgroup": "old",
         "marker": {
          "color": "#ab63fa",
          "symbol": "circle"
         },
         "mode": "markers",
         "name": "old",
         "scene": "scene",
         "showlegend": true,
         "type": "scatter3d",
         "x": [
          -0.02502875030040741
         ],
         "y": [
          0.31716492772102356
         ],
         "z": [
          0.021119993180036545
         ]
        },
        {
         "hovertemplate": "color=hand<br>0=%{x}<br>1=%{y}<br>2=%{z}<extra></extra>",
         "legendgroup": "hand",
         "marker": {
          "color": "#FFA15A",
          "symbol": "circle"
         },
         "mode": "markers",
         "name": "hand",
         "scene": "scene",
         "showlegend": true,
         "type": "scatter3d",
         "x": [
          0.07656928896903992
         ],
         "y": [
          0.11589348316192627
         ],
         "z": [
          0.3934847116470337
         ]
        },
        {
         "hovertemplate": "color=even<br>0=%{x}<br>1=%{y}<br>2=%{z}<extra></extra>",
         "legendgroup": "even",
         "marker": {
          "color": "#19d3f3",
          "symbol": "circle"
         },
         "mode": "markers",
         "name": "even",
         "scene": "scene",
         "showlegend": true,
         "type": "scatter3d",
         "x": [
          -0.11302011460065842
         ],
         "y": [
          -0.006574004888534546
         ],
         "z": [
          -0.26576900482177734
         ]
        },
        {
         "hovertemplate": "color=tyrion<br>0=%{x}<br>1=%{y}<br>2=%{z}<extra></extra>",
         "legendgroup": "tyrion",
         "marker": {
          "color": "#FF6692",
          "symbol": "circle"
         },
         "mode": "markers",
         "name": "tyrion",
         "scene": "scene",
         "showlegend": true,
         "type": "scatter3d",
         "x": [
          -0.10698546469211578
         ],
         "y": [
          -0.1627652645111084
         ],
         "z": [
          0.3493565320968628
         ]
        },
        {
         "hovertemplate": "color=never<br>0=%{x}<br>1=%{y}<br>2=%{z}<extra></extra>",
         "legendgroup": "never",
         "marker": {
          "color": "#B6E880",
          "symbol": "circle"
         },
         "mode": "markers",
         "name": "never",
         "scene": "scene",
         "showlegend": true,
         "type": "scatter3d",
         "x": [
          -0.44199830293655396
         ],
         "y": [
          -0.12935400009155273
         ],
         "z": [
          -0.07462379336357117
         ]
        },
        {
         "hovertemplate": "color=see<br>0=%{x}<br>1=%{y}<br>2=%{z}<extra></extra>",
         "legendgroup": "see",
         "marker": {
          "color": "#FF97FF",
          "symbol": "circle"
         },
         "mode": "markers",
         "name": "see",
         "scene": "scene",
         "showlegend": true,
         "type": "scatter3d",
         "x": [
          -0.10087549686431885
         ],
         "y": [
          -0.06316977739334106
         ],
         "z": [
          -0.13423141837120056
         ]
        },
        {
         "hovertemplate": "color=know<br>0=%{x}<br>1=%{y}<br>2=%{z}<extra></extra>",
         "legendgroup": "know",
         "marker": {
          "color": "#FECB52",
          "symbol": "circle"
         },
         "mode": "markers",
         "name": "know",
         "scene": "scene",
         "showlegend": true,
         "type": "scatter3d",
         "x": [
          -0.6883955597877502
         ],
         "y": [
          -0.033289238810539246
         ],
         "z": [
          -0.17824067175388336
         ]
        },
        {
         "hovertemplate": "color=made<br>0=%{x}<br>1=%{y}<br>2=%{z}<extra></extra>",
         "legendgroup": "made",
         "marker": {
          "color": "#636efa",
          "symbol": "circle"
         },
         "mode": "markers",
         "name": "made",
         "scene": "scene",
         "showlegend": true,
         "type": "scatter3d",
         "x": [
          0.06317093968391418
         ],
         "y": [
          -0.08957797288894653
         ],
         "z": [
          -0.06751292943954468
         ]
        },
        {
         "hovertemplate": "color=eyes<br>0=%{x}<br>1=%{y}<br>2=%{z}<extra></extra>",
         "legendgroup": "eyes",
         "marker": {
          "color": "#EF553B",
          "symbol": "circle"
         },
         "mode": "markers",
         "name": "eyes",
         "scene": "scene",
         "showlegend": true,
         "type": "scatter3d",
         "x": [
          0.20439043641090393
         ],
         "y": [
          -0.12311875820159912
         ],
         "z": [
          0.24895791709423065
         ]
        },
        {
         "hovertemplate": "color=black<br>0=%{x}<br>1=%{y}<br>2=%{z}<extra></extra>",
         "legendgroup": "black",
         "marker": {
          "color": "#00cc96",
          "symbol": "circle"
         },
         "mode": "markers",
         "name": "black",
         "scene": "scene",
         "showlegend": true,
         "type": "scatter3d",
         "x": [
          0.41670605540275574
         ],
         "y": [
          0.4498600959777832
         ],
         "z": [
          0.03267182037234306
         ]
        },
        {
         "hovertemplate": "color=told<br>0=%{x}<br>1=%{y}<br>2=%{z}<extra></extra>",
         "legendgroup": "told",
         "marker": {
          "color": "#ab63fa",
          "symbol": "circle"
         },
         "mode": "markers",
         "name": "told",
         "scene": "scene",
         "showlegend": true,
         "type": "scatter3d",
         "x": [
          -0.45055070519447327
         ],
         "y": [
          0.03218802809715271
         ],
         "z": [
          0.004309438169002533
         ]
        },
        {
         "hovertemplate": "color=lady<br>0=%{x}<br>1=%{y}<br>2=%{z}<extra></extra>",
         "legendgroup": "lady",
         "marker": {
          "color": "#FFA15A",
          "symbol": "circle"
         },
         "mode": "markers",
         "name": "lady",
         "scene": "scene",
         "showlegend": true,
         "type": "scatter3d",
         "x": [
          -0.4335695207118988
         ],
         "y": [
          0.4543522596359253
         ],
         "z": [
          0.44195669889450073
         ]
        },
        {
         "hovertemplate": "color=thought<br>0=%{x}<br>1=%{y}<br>2=%{z}<extra></extra>",
         "legendgroup": "thought",
         "marker": {
          "color": "#19d3f3",
          "symbol": "circle"
         },
         "mode": "markers",
         "name": "thought",
         "scene": "scene",
         "showlegend": true,
         "type": "scatter3d",
         "x": [
          -0.3154670298099518
         ],
         "y": [
          -0.19635164737701416
         ],
         "z": [
          -0.054939910769462585
         ]
        },
        {
         "hovertemplate": "color=time<br>0=%{x}<br>1=%{y}<br>2=%{z}<extra></extra>",
         "legendgroup": "time",
         "marker": {
          "color": "#FF6692",
          "symbol": "circle"
         },
         "mode": "markers",
         "name": "time",
         "scene": "scene",
         "showlegend": true,
         "type": "scatter3d",
         "x": [
          -0.057836100459098816
         ],
         "y": [
          -0.04711136221885681
         ],
         "z": [
          -0.11436310410499573
         ]
        },
        {
         "hovertemplate": "color=long<br>0=%{x}<br>1=%{y}<br>2=%{z}<extra></extra>",
         "legendgroup": "long",
         "marker": {
          "color": "#B6E880",
          "symbol": "circle"
         },
         "mode": "markers",
         "name": "long",
         "scene": "scene",
         "showlegend": true,
         "type": "scatter3d",
         "x": [
          0.2636825442314148
         ],
         "y": [
          0.25917407870292664
         ],
         "z": [
          -0.17367741465568542
         ]
        },
        {
         "hovertemplate": "color=might<br>0=%{x}<br>1=%{y}<br>2=%{z}<extra></extra>",
         "legendgroup": "might",
         "marker": {
          "color": "#FF97FF",
          "symbol": "circle"
         },
         "mode": "markers",
         "name": "might",
         "scene": "scene",
         "showlegend": true,
         "type": "scatter3d",
         "x": [
          -0.5399258732795715
         ],
         "y": [
          -0.029005512595176697
         ],
         "z": [
          -0.17376278340816498
         ]
        },
        {
         "hovertemplate": "color=us<br>0=%{x}<br>1=%{y}<br>2=%{z}<extra></extra>",
         "legendgroup": "us",
         "marker": {
          "color": "#FECB52",
          "symbol": "circle"
         },
         "mode": "markers",
         "name": "us",
         "scene": "scene",
         "showlegend": true,
         "type": "scatter3d",
         "x": [
          -0.500730574131012
         ],
         "y": [
          0.18284770846366882
         ],
         "z": [
          -0.3410406708717346
         ]
        },
        {
         "hovertemplate": "color=come<br>0=%{x}<br>1=%{y}<br>2=%{z}<extra></extra>",
         "legendgroup": "come",
         "marker": {
          "color": "#636efa",
          "symbol": "circle"
         },
         "mode": "markers",
         "name": "come",
         "scene": "scene",
         "showlegend": true,
         "type": "scatter3d",
         "x": [
          -0.39667847752571106
         ],
         "y": [
          0.10443133860826492
         ],
         "z": [
          -0.37426960468292236
         ]
        },
        {
         "hovertemplate": "color=face<br>0=%{x}<br>1=%{y}<br>2=%{z}<extra></extra>",
         "legendgroup": "face",
         "marker": {
          "color": "#EF553B",
          "symbol": "circle"
         },
         "mode": "markers",
         "name": "face",
         "scene": "scene",
         "showlegend": true,
         "type": "scatter3d",
         "x": [
          0.2932964265346527
         ],
         "y": [
          -0.19164642691612244
         ],
         "z": [
          0.4186544418334961
         ]
        },
        {
         "hovertemplate": "color=still<br>0=%{x}<br>1=%{y}<br>2=%{z}<extra></extra>",
         "legendgroup": "still",
         "marker": {
          "color": "#00cc96",
          "symbol": "circle"
         },
         "mode": "markers",
         "name": "still",
         "scene": "scene",
         "showlegend": true,
         "type": "scatter3d",
         "x": [
          0.08640619367361069
         ],
         "y": [
          0.06704935431480408
         ],
         "z": [
          -0.2879645824432373
         ]
        },
        {
         "hovertemplate": "color=head<br>0=%{x}<br>1=%{y}<br>2=%{z}<extra></extra>",
         "legendgroup": "head",
         "marker": {
          "color": "#ab63fa",
          "symbol": "circle"
         },
         "mode": "markers",
         "name": "head",
         "scene": "scene",
         "showlegend": true,
         "type": "scatter3d",
         "x": [
          0.29545703530311584
         ],
         "y": [
          0.004468351602554321
         ],
         "z": [
          0.5030786991119385
         ]
        },
        {
         "hovertemplate": "color=red<br>0=%{x}<br>1=%{y}<br>2=%{z}<extra></extra>",
         "legendgroup": "red",
         "marker": {
          "color": "#FFA15A",
          "symbol": "circle"
         },
         "mode": "markers",
         "name": "red",
         "scene": "scene",
         "showlegend": true,
         "type": "scatter3d",
         "x": [
          0.3430037796497345
         ],
         "y": [
          0.39372217655181885
         ],
         "z": [
          0.19000081717967987
         ]
        },
        {
         "hovertemplate": "color=way<br>0=%{x}<br>1=%{y}<br>2=%{z}<extra></extra>",
         "legendgroup": "way",
         "marker": {
          "color": "#19d3f3",
          "symbol": "circle"
         },
         "mode": "markers",
         "name": "way",
         "scene": "scene",
         "showlegend": true,
         "type": "scatter3d",
         "x": [
          0.07672862708568573
         ],
         "y": [
          -0.07408499717712402
         ],
         "z": [
          -0.26453274488449097
         ]
        },
        {
         "hovertemplate": "color=boy<br>0=%{x}<br>1=%{y}<br>2=%{z}<extra></extra>",
         "legendgroup": "boy",
         "marker": {
          "color": "#FF6692",
          "symbol": "circle"
         },
         "mode": "markers",
         "name": "boy",
         "scene": "scene",
         "showlegend": true,
         "type": "scatter3d",
         "x": [
          -0.27881792187690735
         ],
         "y": [
          0.25638723373413086
         ],
         "z": [
          0.37672531604766846
         ]
        },
        {
         "hovertemplate": "color=page<br>0=%{x}<br>1=%{y}<br>2=%{z}<extra></extra>",
         "legendgroup": "page",
         "marker": {
          "color": "#B6E880",
          "symbol": "circle"
         },
         "mode": "markers",
         "name": "page",
         "scene": "scene",
         "showlegend": true,
         "type": "scatter3d",
         "x": [
          -0.1636236608028412
         ],
         "y": [
          0.2009347826242447
         ],
         "z": [
          0.3205530047416687
         ]
        },
        {
         "hovertemplate": "color=must<br>0=%{x}<br>1=%{y}<br>2=%{z}<extra></extra>",
         "legendgroup": "must",
         "marker": {
          "color": "#FF97FF",
          "symbol": "circle"
         },
         "mode": "markers",
         "name": "must",
         "scene": "scene",
         "showlegend": true,
         "type": "scatter3d",
         "x": [
          -0.6391931772232056
         ],
         "y": [
          0.034490153193473816
         ],
         "z": [
          -0.22938622534275055
         ]
        },
        {
         "hovertemplate": "color=queen<br>0=%{x}<br>1=%{y}<br>2=%{z}<extra></extra>",
         "legendgroup": "queen",
         "marker": {
          "color": "#FECB52",
          "symbol": "circle"
         },
         "mode": "markers",
         "name": "queen",
         "scene": "scene",
         "showlegend": true,
         "type": "scatter3d",
         "x": [
          -0.48724958300590515
         ],
         "y": [
          0.334804892539978
         ],
         "z": [
          0.2114478051662445
         ]
        },
        {
         "hovertemplate": "color=good<br>0=%{x}<br>1=%{y}<br>2=%{z}<extra></extra>",
         "legendgroup": "good",
         "marker": {
          "color": "#636efa",
          "symbol": "circle"
         },
         "mode": "markers",
         "name": "good",
         "scene": "scene",
         "showlegend": true,
         "type": "scatter3d",
         "x": [
          -0.5122169852256775
         ],
         "y": [
          -0.02193698287010193
         ],
         "z": [
          -0.1214883029460907
         ]
        },
        {
         "hovertemplate": "color=two<br>0=%{x}<br>1=%{y}<br>2=%{z}<extra></extra>",
         "legendgroup": "two",
         "marker": {
          "color": "#EF553B",
          "symbol": "circle"
         },
         "mode": "markers",
         "name": "two",
         "scene": "scene",
         "showlegend": true,
         "type": "scatter3d",
         "x": [
          0.19571149349212646
         ],
         "y": [
          0.5941256284713745
         ],
         "z": [
          -0.17121826112270355
         ]
        },
        {
         "hovertemplate": "color=brother<br>0=%{x}<br>1=%{y}<br>2=%{z}<extra></extra>",
         "legendgroup": "brother",
         "marker": {
          "color": "#00cc96",
          "symbol": "circle"
         },
         "mode": "markers",
         "name": "brother",
         "scene": "scene",
         "showlegend": true,
         "type": "scatter3d",
         "x": [
          -0.5244754552841187
         ],
         "y": [
          0.4895566403865814
         ],
         "z": [
          0.3515814542770386
         ]
        },
        {
         "hovertemplate": "color=night<br>0=%{x}<br>1=%{y}<br>2=%{z}<extra></extra>",
         "legendgroup": "night",
         "marker": {
          "color": "#ab63fa",
          "symbol": "circle"
         },
         "mode": "markers",
         "name": "night",
         "scene": "scene",
         "showlegend": true,
         "type": "scatter3d",
         "x": [
          0.0022682733833789825
         ],
         "y": [
          0.1385951042175293
         ],
         "z": [
          -0.2509104013442993
         ]
        },
        {
         "hovertemplate": "color=little<br>0=%{x}<br>1=%{y}<br>2=%{z}<extra></extra>",
         "legendgroup": "little",
         "marker": {
          "color": "#FFA15A",
          "symbol": "circle"
         },
         "mode": "markers",
         "name": "little",
         "scene": "scene",
         "showlegend": true,
         "type": "scatter3d",
         "x": [
          -0.12093497067689896
         ],
         "y": [
          -0.07145905494689941
         ],
         "z": [
          0.10166624933481216
         ]
        },
        {
         "hovertemplate": "color=took<br>0=%{x}<br>1=%{y}<br>2=%{z}<extra></extra>",
         "legendgroup": "took",
         "marker": {
          "color": "#19d3f3",
          "symbol": "circle"
         },
         "mode": "markers",
         "name": "took",
         "scene": "scene",
         "showlegend": true,
         "type": "scatter3d",
         "x": [
          0.012191515415906906
         ],
         "y": [
          0.18720823526382446
         ],
         "z": [
          0.19311387836933136
         ]
        },
        {
         "hovertemplate": "color=came<br>0=%{x}<br>1=%{y}<br>2=%{z}<extra></extra>",
         "legendgroup": "came",
         "marker": {
          "color": "#FF6692",
          "symbol": "circle"
         },
         "mode": "markers",
         "name": "came",
         "scene": "scene",
         "showlegend": true,
         "type": "scatter3d",
         "x": [
          0.2491612732410431
         ],
         "y": [
          0.12009447813034058
         ],
         "z": [
          -0.2702895402908325
         ]
        },
        {
         "hovertemplate": "color=ll<br>0=%{x}<br>1=%{y}<br>2=%{z}<extra></extra>",
         "legendgroup": "ll",
         "marker": {
          "color": "#B6E880",
          "symbol": "circle"
         },
         "mode": "markers",
         "name": "ll",
         "scene": "scene",
         "showlegend": true,
         "type": "scatter3d",
         "x": [
          -0.25999245047569275
         ],
         "y": [
          -0.08250382542610168
         ],
         "z": [
          -0.1041928231716156
         ]
        },
        {
         "hovertemplate": "color=though<br>0=%{x}<br>1=%{y}<br>2=%{z}<extra></extra>",
         "legendgroup": "though",
         "marker": {
          "color": "#FF97FF",
          "symbol": "circle"
         },
         "mode": "markers",
         "name": "though",
         "scene": "scene",
         "showlegend": true,
         "type": "scatter3d",
         "x": [
          -0.19869005680084229
         ],
         "y": [
          -0.1049211323261261
         ],
         "z": [
          -0.14744265377521515
         ]
        },
        {
         "hovertemplate": "color=say<br>0=%{x}<br>1=%{y}<br>2=%{z}<extra></extra>",
         "legendgroup": "say",
         "marker": {
          "color": "#FECB52",
          "symbol": "circle"
         },
         "mode": "markers",
         "name": "say",
         "scene": "scene",
         "showlegend": true,
         "type": "scatter3d",
         "x": [
          -0.616306722164154
         ],
         "y": [
          -0.1520945429801941
         ],
         "z": [
          -0.03717771917581558
         ]
        },
        {
         "hovertemplate": "color=three<br>0=%{x}<br>1=%{y}<br>2=%{z}<extra></extra>",
         "legendgroup": "three",
         "marker": {
          "color": "#636efa",
          "symbol": "circle"
         },
         "mode": "markers",
         "name": "three",
         "scene": "scene",
         "showlegend": true,
         "type": "scatter3d",
         "x": [
          0.1075168326497078
         ],
         "y": [
          0.6940665245056152
         ],
         "z": [
          -0.22484715282917023
         ]
        },
        {
         "hovertemplate": "color=away<br>0=%{x}<br>1=%{y}<br>2=%{z}<extra></extra>",
         "legendgroup": "away",
         "marker": {
          "color": "#EF553B",
          "symbol": "circle"
         },
         "mode": "markers",
         "name": "away",
         "scene": "scene",
         "showlegend": true,
         "type": "scatter3d",
         "x": [
          0.24846291542053223
         ],
         "y": [
          -0.15406233072280884
         ],
         "z": [
          0.009839929640293121
         ]
        },
        {
         "hovertemplate": "color=dead<br>0=%{x}<br>1=%{y}<br>2=%{z}<extra></extra>",
         "legendgroup": "dead",
         "marker": {
          "color": "#00cc96",
          "symbol": "circle"
         },
         "mode": "markers",
         "name": "dead",
         "scene": "scene",
         "showlegend": true,
         "type": "scatter3d",
         "x": [
          -0.05376762896776199
         ],
         "y": [
          0.14089056849479675
         ],
         "z": [
          -0.17789532244205475
         ]
        },
        {
         "hovertemplate": "color=son<br>0=%{x}<br>1=%{y}<br>2=%{z}<extra></extra>",
         "legendgroup": "son",
         "marker": {
          "color": "#ab63fa",
          "symbol": "circle"
         },
         "mode": "markers",
         "name": "son",
         "scene": "scene",
         "showlegend": true,
         "type": "scatter3d",
         "x": [
          -0.4069603681564331
         ],
         "y": [
          0.7555842399597168
         ],
         "z": [
          0.4252307415008545
         ]
        },
        {
         "hovertemplate": "color=no<br>0=%{x}<br>1=%{y}<br>2=%{z}<extra></extra>",
         "legendgroup": "no",
         "marker": {
          "color": "#FFA15A",
          "symbol": "circle"
         },
         "mode": "markers",
         "name": "no",
         "scene": "scene",
         "showlegend": true,
         "type": "scatter3d",
         "x": [
          -0.618253231048584
         ],
         "y": [
          -0.2617686986923218
         ],
         "z": [
          0.1834011673927307
         ]
        },
        {
         "hovertemplate": "color=there<br>0=%{x}<br>1=%{y}<br>2=%{z}<extra></extra>",
         "legendgroup": "there",
         "marker": {
          "color": "#19d3f3",
          "symbol": "circle"
         },
         "mode": "markers",
         "name": "there",
         "scene": "scene",
         "showlegend": true,
         "type": "scatter3d",
         "x": [
          -0.24969962239265442
         ],
         "y": [
          -0.09902793169021606
         ],
         "z": [
          -0.41513997316360474
         ]
        },
        {
         "hovertemplate": "color=blood<br>0=%{x}<br>1=%{y}<br>2=%{z}<extra></extra>",
         "legendgroup": "blood",
         "marker": {
          "color": "#FF6692",
          "symbol": "circle"
         },
         "mode": "markers",
         "name": "blood",
         "scene": "scene",
         "showlegend": true,
         "type": "scatter3d",
         "x": [
          0.194841206073761
         ],
         "y": [
          -0.1191699206829071
         ],
         "z": [
          0.01221930980682373
         ]
        },
        {
         "hovertemplate": "color=take<br>0=%{x}<br>1=%{y}<br>2=%{z}<extra></extra>",
         "legendgroup": "take",
         "marker": {
          "color": "#B6E880",
          "symbol": "circle"
         },
         "mode": "markers",
         "name": "take",
         "scene": "scene",
         "showlegend": true,
         "type": "scatter3d",
         "x": [
          -0.46170350909233093
         ],
         "y": [
          0.14259198307991028
         ],
         "z": [
          -0.13614380359649658
         ]
        },
        {
         "hovertemplate": "color=go<br>0=%{x}<br>1=%{y}<br>2=%{z}<extra></extra>",
         "legendgroup": "go",
         "marker": {
          "color": "#FF97FF",
          "symbol": "circle"
         },
         "mode": "markers",
         "name": "go",
         "scene": "scene",
         "showlegend": true,
         "type": "scatter3d",
         "x": [
          -0.3038202226161957
         ],
         "y": [
          -0.21210551261901855
         ],
         "z": [
          -0.2858179807662964
         ]
        },
        {
         "hovertemplate": "color=half<br>0=%{x}<br>1=%{y}<br>2=%{z}<extra></extra>",
         "legendgroup": "half",
         "marker": {
          "color": "#FECB52",
          "symbol": "circle"
         },
         "mode": "markers",
         "name": "half",
         "scene": "scene",
         "showlegend": true,
         "type": "scatter3d",
         "x": [
          0.2689743638038635
         ],
         "y": [
          0.2237837016582489
         ],
         "z": [
          -0.2571931481361389
         ]
        },
        {
         "hovertemplate": "color=make<br>0=%{x}<br>1=%{y}<br>2=%{z}<extra></extra>",
         "legendgroup": "make",
         "marker": {
          "color": "#636efa",
          "symbol": "circle"
         },
         "mode": "markers",
         "name": "make",
         "scene": "scene",
         "showlegend": true,
         "type": "scatter3d",
         "x": [
          -0.4342198967933655
         ],
         "y": [
          -0.21034428477287292
         ],
         "z": [
          -0.2475474625825882
         ]
        },
        {
         "hovertemplate": "color=and<br>0=%{x}<br>1=%{y}<br>2=%{z}<extra></extra>",
         "legendgroup": "and",
         "marker": {
          "color": "#EF553B",
          "symbol": "circle"
         },
         "mode": "markers",
         "name": "and",
         "scene": "scene",
         "showlegend": true,
         "type": "scatter3d",
         "x": [
          -0.35982006788253784
         ],
         "y": [
          0.4568958878517151
         ],
         "z": [
          0.004554718732833862
         ]
        },
        {
         "hovertemplate": "color=arya<br>0=%{x}<br>1=%{y}<br>2=%{z}<extra></extra>",
         "legendgroup": "arya",
         "marker": {
          "color": "#00cc96",
          "symbol": "circle"
         },
         "mode": "markers",
         "name": "arya",
         "scene": "scene",
         "showlegend": true,
         "type": "scatter3d",
         "x": [
          0.10547909885644913
         ],
         "y": [
          -0.3776032626628876
         ],
         "z": [
          0.09339886158704758
         ]
        },
        {
         "hovertemplate": "color=saw<br>0=%{x}<br>1=%{y}<br>2=%{z}<extra></extra>",
         "legendgroup": "saw",
         "marker": {
          "color": "#ab63fa",
          "symbol": "circle"
         },
         "mode": "markers",
         "name": "saw",
         "scene": "scene",
         "showlegend": true,
         "type": "scatter3d",
         "x": [
          0.28199630975723267
         ],
         "y": [
          0.052210599184036255
         ],
         "z": [
          0.03555573895573616
         ]
        },
        {
         "hovertemplate": "color=we<br>0=%{x}<br>1=%{y}<br>2=%{z}<extra></extra>",
         "legendgroup": "we",
         "marker": {
          "color": "#FFA15A",
          "symbol": "circle"
         },
         "mode": "markers",
         "name": "we",
         "scene": "scene",
         "showlegend": true,
         "type": "scatter3d",
         "x": [
          -0.27830129861831665
         ],
         "y": [
          0.06164075434207916
         ],
         "z": [
          -0.26380378007888794
         ]
        },
        {
         "hovertemplate": "color=day<br>0=%{x}<br>1=%{y}<br>2=%{z}<extra></extra>",
         "legendgroup": "day",
         "marker": {
          "color": "#19d3f3",
          "symbol": "circle"
         },
         "mode": "markers",
         "name": "day",
         "scene": "scene",
         "showlegend": true,
         "type": "scatter3d",
         "x": [
          -0.10002769529819489
         ],
         "y": [
          0.23296236991882324
         ],
         "z": [
          -0.3221408724784851
         ]
        },
        {
         "hovertemplate": "color=white<br>0=%{x}<br>1=%{y}<br>2=%{z}<extra></extra>",
         "legendgroup": "white",
         "marker": {
          "color": "#FF6692",
          "symbol": "circle"
         },
         "mode": "markers",
         "name": "white",
         "scene": "scene",
         "showlegend": true,
         "type": "scatter3d",
         "x": [
          0.38192638754844666
         ],
         "y": [
          0.5384384393692017
         ],
         "z": [
          0.2636978030204773
         ]
        },
        {
         "hovertemplate": "color=now<br>0=%{x}<br>1=%{y}<br>2=%{z}<extra></extra>",
         "legendgroup": "now",
         "marker": {
          "color": "#B6E880",
          "symbol": "circle"
         },
         "mode": "markers",
         "name": "now",
         "scene": "scene",
         "showlegend": true,
         "type": "scatter3d",
         "x": [
          -0.4081204831600189
         ],
         "y": [
          -0.22750189900398254
         ],
         "z": [
          -0.24206258356571198
         ]
        },
        {
         "hovertemplate": "color=jaime<br>0=%{x}<br>1=%{y}<br>2=%{z}<extra></extra>",
         "legendgroup": "jaime",
         "marker": {
          "color": "#FF97FF",
          "symbol": "circle"
         },
         "mode": "markers",
         "name": "jaime",
         "scene": "scene",
         "showlegend": true,
         "type": "scatter3d",
         "x": [
          -0.22452345490455627
         ],
         "y": [
          0.09827899932861328
         ],
         "z": [
          0.36525070667266846
         ]
        },
        {
         "hovertemplate": "color=first<br>0=%{x}<br>1=%{y}<br>2=%{z}<extra></extra>",
         "legendgroup": "first",
         "marker": {
          "color": "#FECB52",
          "symbol": "circle"
         },
         "mode": "markers",
         "name": "first",
         "scene": "scene",
         "showlegend": true,
         "type": "scatter3d",
         "x": [
          -0.16401150822639465
         ],
         "y": [
          0.4265008270740509
         ],
         "z": [
          -0.11516429483890533
         ]
        },
        {
         "hovertemplate": "color=look<br>0=%{x}<br>1=%{y}<br>2=%{z}<extra></extra>",
         "legendgroup": "look",
         "marker": {
          "color": "#636efa",
          "symbol": "circle"
         },
         "mode": "markers",
         "name": "look",
         "scene": "scene",
         "showlegend": true,
         "type": "scatter3d",
         "x": [
          -0.05333217605948448
         ],
         "y": [
          -0.21197307109832764
         ],
         "z": [
          0.1853165626525879
         ]
        },
        {
         "hovertemplate": "color=want<br>0=%{x}<br>1=%{y}<br>2=%{z}<extra></extra>",
         "legendgroup": "want",
         "marker": {
          "color": "#EF553B",
          "symbol": "circle"
         },
         "mode": "markers",
         "name": "want",
         "scene": "scene",
         "showlegend": true,
         "type": "scatter3d",
         "x": [
          -0.5488768815994263
         ],
         "y": [
          -0.25105729699134827
         ],
         "z": [
          -0.12652796506881714
         ]
        },
        {
         "hovertemplate": "color=much<br>0=%{x}<br>1=%{y}<br>2=%{z}<extra></extra>",
         "legendgroup": "much",
         "marker": {
          "color": "#00cc96",
          "symbol": "circle"
         },
         "mode": "markers",
         "name": "much",
         "scene": "scene",
         "showlegend": true,
         "type": "scatter3d",
         "x": [
          -0.45149073004722595
         ],
         "y": [
          -0.2396354079246521
         ],
         "z": [
          -0.20116232335567474
         ]
        },
        {
         "hovertemplate": "color=enough<br>0=%{x}<br>1=%{y}<br>2=%{z}<extra></extra>",
         "legendgroup": "enough",
         "marker": {
          "color": "#ab63fa",
          "symbol": "circle"
         },
         "mode": "markers",
         "name": "enough",
         "scene": "scene",
         "showlegend": true,
         "type": "scatter3d",
         "x": [
          -0.19748294353485107
         ],
         "y": [
          -0.09367337822914124
         ],
         "z": [
          -0.28976136445999146
         ]
        },
        {
         "hovertemplate": "color=sword<br>0=%{x}<br>1=%{y}<br>2=%{z}<extra></extra>",
         "legendgroup": "sword",
         "marker": {
          "color": "#FFA15A",
          "symbol": "circle"
         },
         "mode": "markers",
         "name": "sword",
         "scene": "scene",
         "showlegend": true,
         "type": "scatter3d",
         "x": [
          0.1198626235127449
         ],
         "y": [
          0.1496225893497467
         ],
         "z": [
          0.28878509998321533
         ]
        },
        {
         "hovertemplate": "color=tell<br>0=%{x}<br>1=%{y}<br>2=%{z}<extra></extra>",
         "legendgroup": "tell",
         "marker": {
          "color": "#19d3f3",
          "symbol": "circle"
         },
         "mode": "markers",
         "name": "tell",
         "scene": "scene",
         "showlegend": true,
         "type": "scatter3d",
         "x": [
          -0.6659824252128601
         ],
         "y": [
          -0.14875277876853943
         ],
         "z": [
          -0.0852508544921875
         ]
        },
        {
         "hovertemplate": "color=girl<br>0=%{x}<br>1=%{y}<br>2=%{z}<extra></extra>",
         "legendgroup": "girl",
         "marker": {
          "color": "#FF6692",
          "symbol": "circle"
         },
         "mode": "markers",
         "name": "girl",
         "scene": "scene",
         "showlegend": true,
         "type": "scatter3d",
         "x": [
          -0.23011347651481628
         ],
         "y": [
          0.09185413271188736
         ],
         "z": [
          0.3375108242034912
         ]
        },
        {
         "hovertemplate": "color=bran<br>0=%{x}<br>1=%{y}<br>2=%{z}<extra></extra>",
         "legendgroup": "bran",
         "marker": {
          "color": "#B6E880",
          "symbol": "circle"
         },
         "mode": "markers",
         "name": "bran",
         "scene": "scene",
         "showlegend": true,
         "type": "scatter3d",
         "x": [
          0.022850364446640015
         ],
         "y": [
          -0.30993911623954773
         ],
         "z": [
          0.00840732455253601
         ]
        },
        {
         "hovertemplate": "color=great<br>0=%{x}<br>1=%{y}<br>2=%{z}<extra></extra>",
         "legendgroup": "great",
         "marker": {
          "color": "#FF97FF",
          "symbol": "circle"
         },
         "mode": "markers",
         "name": "great",
         "scene": "scene",
         "showlegend": true,
         "type": "scatter3d",
         "x": [
          0.17715677618980408
         ],
         "y": [
          0.756669282913208
         ],
         "z": [
          -0.2074882537126541
         ]
        },
        {
         "hovertemplate": "color=looked<br>0=%{x}<br>1=%{y}<br>2=%{z}<extra></extra>",
         "legendgroup": "looked",
         "marker": {
          "color": "#FECB52",
          "symbol": "circle"
         },
         "mode": "markers",
         "name": "looked",
         "scene": "scene",
         "showlegend": true,
         "type": "scatter3d",
         "x": [
          0.16502714157104492
         ],
         "y": [
          0.003888547420501709
         ],
         "z": [
          0.29014480113983154
         ]
        },
        {
         "hovertemplate": "color=again<br>0=%{x}<br>1=%{y}<br>2=%{z}<extra></extra>",
         "legendgroup": "again",
         "marker": {
          "color": "#636efa",
          "symbol": "circle"
         },
         "mode": "markers",
         "name": "again",
         "scene": "scene",
         "showlegend": true,
         "type": "scatter3d",
         "x": [
          0.10649050027132034
         ],
         "y": [
          -0.4633997976779938
         ],
         "z": [
          -0.06018586456775665
         ]
        },
        {
         "hovertemplate": "color=left<br>0=%{x}<br>1=%{y}<br>2=%{z}<extra></extra>",
         "legendgroup": "left",
         "marker": {
          "color": "#EF553B",
          "symbol": "circle"
         },
         "mode": "markers",
         "name": "left",
         "scene": "scene",
         "showlegend": true,
         "type": "scatter3d",
         "x": [
          0.22686538100242615
         ],
         "y": [
          0.23504363000392914
         ],
         "z": [
          -0.0007804036140441895
         ]
        },
        {
         "hovertemplate": "color=knew<br>0=%{x}<br>1=%{y}<br>2=%{z}<extra></extra>",
         "legendgroup": "knew",
         "marker": {
          "color": "#00cc96",
          "symbol": "circle"
         },
         "mode": "markers",
         "name": "knew",
         "scene": "scene",
         "showlegend": true,
         "type": "scatter3d",
         "x": [
          -0.3469584286212921
         ],
         "y": [
          -0.15499910712242126
         ],
         "z": [
          -0.21462701261043549
         ]
        },
        {
         "hovertemplate": "color=asked<br>0=%{x}<br>1=%{y}<br>2=%{z}<extra></extra>",
         "legendgroup": "asked",
         "marker": {
          "color": "#ab63fa",
          "symbol": "circle"
         },
         "mode": "markers",
         "name": "asked",
         "scene": "scene",
         "showlegend": true,
         "type": "scatter3d",
         "x": [
          -0.583794891834259
         ],
         "y": [
          -0.00682482123374939
         ],
         "z": [
          0.293466180562973
         ]
        },
        {
         "hovertemplate": "color=gave<br>0=%{x}<br>1=%{y}<br>2=%{z}<extra></extra>",
         "legendgroup": "gave",
         "marker": {
          "color": "#FFA15A",
          "symbol": "circle"
         },
         "mode": "markers",
         "name": "gave",
         "scene": "scene",
         "showlegend": true,
         "type": "scatter3d",
         "x": [
          -0.07011592388153076
         ],
         "y": [
          -0.09321215748786926
         ],
         "z": [
          0.5585094690322876
         ]
        },
        {
         "hovertemplate": "color=maester<br>0=%{x}<br>1=%{y}<br>2=%{z}<extra></extra>",
         "legendgroup": "maester",
         "marker": {
          "color": "#19d3f3",
          "symbol": "circle"
         },
         "mode": "markers",
         "name": "maester",
         "scene": "scene",
         "showlegend": true,
         "type": "scatter3d",
         "x": [
          -0.1705010086297989
         ],
         "y": [
          0.25717976689338684
         ],
         "z": [
          0.32245469093322754
         ]
        },
        {
         "hovertemplate": "color=called<br>0=%{x}<br>1=%{y}<br>2=%{z}<extra></extra>",
         "legendgroup": "called",
         "marker": {
          "color": "#FF6692",
          "symbol": "circle"
         },
         "mode": "markers",
         "name": "called",
         "scene": "scene",
         "showlegend": true,
         "type": "scatter3d",
         "x": [
          -0.18825167417526245
         ],
         "y": [
          0.6977112889289856
         ],
         "z": [
          0.3555138111114502
         ]
        },
        {
         "hovertemplate": "color=wall<br>0=%{x}<br>1=%{y}<br>2=%{z}<extra></extra>",
         "legendgroup": "wall",
         "marker": {
          "color": "#B6E880",
          "symbol": "circle"
         },
         "mode": "markers",
         "name": "wall",
         "scene": "scene",
         "showlegend": true,
         "type": "scatter3d",
         "x": [
          0.2151334285736084
         ],
         "y": [
          0.26370978355407715
         ],
         "z": [
          -0.43512314558029175
         ]
        },
        {
         "hovertemplate": "color=every<br>0=%{x}<br>1=%{y}<br>2=%{z}<extra></extra>",
         "legendgroup": "every",
         "marker": {
          "color": "#FF97FF",
          "symbol": "circle"
         },
         "mode": "markers",
         "name": "every",
         "scene": "scene",
         "showlegend": true,
         "type": "scatter3d",
         "x": [
          0.11005381494760513
         ],
         "y": [
          0.22822314500808716
         ],
         "z": [
          -0.2823489308357239
         ]
        },
        {
         "hovertemplate": "color=heard<br>0=%{x}<br>1=%{y}<br>2=%{z}<extra></extra>",
         "legendgroup": "heard",
         "marker": {
          "color": "#FECB52",
          "symbol": "circle"
         },
         "mode": "markers",
         "name": "heard",
         "scene": "scene",
         "showlegend": true,
         "type": "scatter3d",
         "x": [
          -0.0455700121819973
         ],
         "y": [
          -0.1562250852584839
         ],
         "z": [
          -0.15578973293304443
         ]
        },
        {
         "hovertemplate": "color=sansa<br>0=%{x}<br>1=%{y}<br>2=%{z}<extra></extra>",
         "legendgroup": "sansa",
         "marker": {
          "color": "#636efa",
          "symbol": "circle"
         },
         "mode": "markers",
         "name": "sansa",
         "scene": "scene",
         "showlegend": true,
         "type": "scatter3d",
         "x": [
          -0.19176635146141052
         ],
         "y": [
          -0.23261651396751404
         ],
         "z": [
          0.3856084942817688
         ]
        },
        {
         "hovertemplate": "color=let<br>0=%{x}<br>1=%{y}<br>2=%{z}<extra></extra>",
         "legendgroup": "let",
         "marker": {
          "color": "#EF553B",
          "symbol": "circle"
         },
         "mode": "markers",
         "name": "let",
         "scene": "scene",
         "showlegend": true,
         "type": "scatter3d",
         "x": [
          -0.26161429286003113
         ],
         "y": [
          -0.2564065158367157
         ],
         "z": [
          -0.07992862164974213
         ]
        },
        {
         "hovertemplate": "color=yet<br>0=%{x}<br>1=%{y}<br>2=%{z}<extra></extra>",
         "legendgroup": "yet",
         "marker": {
          "color": "#00cc96",
          "symbol": "circle"
         },
         "mode": "markers",
         "name": "yet",
         "scene": "scene",
         "showlegend": true,
         "type": "scatter3d",
         "x": [
          -0.2676229178905487
         ],
         "y": [
          0.055472180247306824
         ],
         "z": [
          -0.2809504270553589
         ]
        },
        {
         "hovertemplate": "color=went<br>0=%{x}<br>1=%{y}<br>2=%{z}<extra></extra>",
         "legendgroup": "went",
         "marker": {
          "color": "#ab63fa",
          "symbol": "circle"
         },
         "mode": "markers",
         "name": "went",
         "scene": "scene",
         "showlegend": true,
         "type": "scatter3d",
         "x": [
          0.2746164798736572
         ],
         "y": [
          0.03573954105377197
         ],
         "z": [
          -0.02759799361228943
         ]
        },
        {
         "hovertemplate": "color=turned<br>0=%{x}<br>1=%{y}<br>2=%{z}<extra></extra>",
         "legendgroup": "turned",
         "marker": {
          "color": "#FFA15A",
          "symbol": "circle"
         },
         "mode": "markers",
         "name": "turned",
         "scene": "scene",
         "showlegend": true,
         "type": "scatter3d",
         "x": [
          0.25516214966773987
         ],
         "y": [
          0.10038765519857407
         ],
         "z": [
          0.28307726979255676
         ]
        },
        {
         "hovertemplate": "color=dany<br>0=%{x}<br>1=%{y}<br>2=%{z}<extra></extra>",
         "legendgroup": "dany",
         "marker": {
          "color": "#19d3f3",
          "symbol": "circle"
         },
         "mode": "markers",
         "name": "dany",
         "scene": "scene",
         "showlegend": true,
         "type": "scatter3d",
         "x": [
          0.0753573328256607
         ],
         "y": [
          -0.19128432869911194
         ],
         "z": [
          0.029392637312412262
         ]
        },
        {
         "hovertemplate": "color=behind<br>0=%{x}<br>1=%{y}<br>2=%{z}<extra></extra>",
         "legendgroup": "behind",
         "marker": {
          "color": "#FF6692",
          "symbol": "circle"
         },
         "mode": "markers",
         "name": "behind",
         "scene": "scene",
         "showlegend": true,
         "type": "scatter3d",
         "x": [
          0.44918304681777954
         ],
         "y": [
          0.26497405767440796
         ],
         "z": [
          -0.058525919914245605
         ]
        },
        {
         "hovertemplate": "color=need<br>0=%{x}<br>1=%{y}<br>2=%{z}<extra></extra>",
         "legendgroup": "need",
         "marker": {
          "color": "#B6E880",
          "symbol": "circle"
         },
         "mode": "markers",
         "name": "need",
         "scene": "scene",
         "showlegend": true,
         "type": "scatter3d",
         "x": [
          -0.48133841156959534
         ],
         "y": [
          -0.05885958671569824
         ],
         "z": [
          -0.3063465356826782
         ]
        },
        {
         "hovertemplate": "color=around<br>0=%{x}<br>1=%{y}<br>2=%{z}<extra></extra>",
         "legendgroup": "around",
         "marker": {
          "color": "#FF97FF",
          "symbol": "circle"
         },
         "mode": "markers",
         "name": "around",
         "scene": "scene",
         "showlegend": true,
         "type": "scatter3d",
         "x": [
          0.6537215113639832
         ],
         "y": [
          0.06686867773532867
         ],
         "z": [
          -0.015891440212726593
         ]
        },
        {
         "hovertemplate": "color=here<br>0=%{x}<br>1=%{y}<br>2=%{z}<extra></extra>",
         "legendgroup": "here",
         "marker": {
          "color": "#FECB52",
          "symbol": "circle"
         },
         "mode": "markers",
         "name": "here",
         "scene": "scene",
         "showlegend": true,
         "type": "scatter3d",
         "x": [
          -0.4353150427341461
         ],
         "y": [
          -0.18205755949020386
         ],
         "z": [
          -0.3646399974822998
         ]
        },
        {
         "hovertemplate": "color=they<br>0=%{x}<br>1=%{y}<br>2=%{z}<extra></extra>",
         "legendgroup": "they",
         "marker": {
          "color": "#636efa",
          "symbol": "circle"
         },
         "mode": "markers",
         "name": "they",
         "scene": "scene",
         "showlegend": true,
         "type": "scatter3d",
         "x": [
          -0.20531105995178223
         ],
         "y": [
          -0.012272119522094727
         ],
         "z": [
          -0.2107614427804947
         ]
        },
        {
         "hovertemplate": "color=woman<br>0=%{x}<br>1=%{y}<br>2=%{z}<extra></extra>",
         "legendgroup": "woman",
         "marker": {
          "color": "#EF553B",
          "symbol": "circle"
         },
         "mode": "markers",
         "name": "woman",
         "scene": "scene",
         "showlegend": true,
         "type": "scatter3d",
         "x": [
          -0.10186406970024109
         ],
         "y": [
          0.0014708936214447021
         ],
         "z": [
          0.2196430265903473
         ]
        },
        {
         "hovertemplate": "color=another<br>0=%{x}<br>1=%{y}<br>2=%{z}<extra></extra>",
         "legendgroup": "another",
         "marker": {
          "color": "#00cc96",
          "symbol": "circle"
         },
         "mode": "markers",
         "name": "another",
         "scene": "scene",
         "showlegend": true,
         "type": "scatter3d",
         "x": [
          0.0070285797119140625
         ],
         "y": [
          0.061704203486442566
         ],
         "z": [
          -0.04072360694408417
         ]
        },
        {
         "hovertemplate": "color=snow<br>0=%{x}<br>1=%{y}<br>2=%{z}<extra></extra>",
         "legendgroup": "snow",
         "marker": {
          "color": "#ab63fa",
          "symbol": "circle"
         },
         "mode": "markers",
         "name": "snow",
         "scene": "scene",
         "showlegend": true,
         "type": "scatter3d",
         "x": [
          0.23385602235794067
         ],
         "y": [
          0.014361530542373657
         ],
         "z": [
          -0.0213313028216362
         ]
        },
        {
         "hovertemplate": "color=beneath<br>0=%{x}<br>1=%{y}<br>2=%{z}<extra></extra>",
         "legendgroup": "beneath",
         "marker": {
          "color": "#FFA15A",
          "symbol": "circle"
         },
         "mode": "markers",
         "name": "beneath",
         "scene": "scene",
         "showlegend": true,
         "type": "scatter3d",
         "x": [
          0.715877890586853
         ],
         "y": [
          0.27336472272872925
         ],
         "z": [
          -0.13735298812389374
         ]
        },
        {
         "hovertemplate": "color=across<br>0=%{x}<br>1=%{y}<br>2=%{z}<extra></extra>",
         "legendgroup": "across",
         "marker": {
          "color": "#19d3f3",
          "symbol": "circle"
         },
         "mode": "markers",
         "name": "across",
         "scene": "scene",
         "showlegend": true,
         "type": "scatter3d",
         "x": [
          0.6665345430374146
         ],
         "y": [
          0.2667221426963806
         ],
         "z": [
          -0.08602000772953033
         ]
        },
        {
         "hovertemplate": "color=knight<br>0=%{x}<br>1=%{y}<br>2=%{z}<extra></extra>",
         "legendgroup": "knight",
         "marker": {
          "color": "#FF6692",
          "symbol": "circle"
         },
         "mode": "markers",
         "name": "knight",
         "scene": "scene",
         "showlegend": true,
         "type": "scatter3d",
         "x": [
          -0.2398238182067871
         ],
         "y": [
          0.5127924084663391
         ],
         "z": [
          0.5227175354957581
         ]
        },
        {
         "hovertemplate": "color=keep<br>0=%{x}<br>1=%{y}<br>2=%{z}<extra></extra>",
         "legendgroup": "keep",
         "marker": {
          "color": "#B6E880",
          "symbol": "circle"
         },
         "mode": "markers",
         "name": "keep",
         "scene": "scene",
         "showlegend": true,
         "type": "scatter3d",
         "x": [
          -0.09463943541049957
         ],
         "y": [
          0.1627439558506012
         ],
         "z": [
          -0.31825876235961914
         ]
        },
        {
         "hovertemplate": "color=grace<br>0=%{x}<br>1=%{y}<br>2=%{z}<extra></extra>",
         "legendgroup": "grace",
         "marker": {
          "color": "#FF97FF",
          "symbol": "circle"
         },
         "mode": "markers",
         "name": "grace",
         "scene": "scene",
         "showlegend": true,
         "type": "scatter3d",
         "x": [
          -0.651217520236969
         ],
         "y": [
          0.23982594907283783
         ],
         "z": [
          0.2444857358932495
         ]
        },
        {
         "hovertemplate": "color=found<br>0=%{x}<br>1=%{y}<br>2=%{z}<extra></extra>",
         "legendgroup": "found",
         "marker": {
          "color": "#FECB52",
          "symbol": "circle"
         },
         "mode": "markers",
         "name": "found",
         "scene": "scene",
         "showlegend": true,
         "type": "scatter3d",
         "x": [
          0.296379417181015
         ],
         "y": [
          0.05211445689201355
         ],
         "z": [
          -0.1121339499950409
         ]
        },
        {
         "hovertemplate": "color=gold<br>0=%{x}<br>1=%{y}<br>2=%{z}<extra></extra>",
         "legendgroup": "gold",
         "marker": {
          "color": "#636efa",
          "symbol": "circle"
         },
         "mode": "markers",
         "name": "gold",
         "scene": "scene",
         "showlegend": true,
         "type": "scatter3d",
         "x": [
          0.0809149518609047
         ],
         "y": [
          0.5014771223068237
         ],
         "z": [
          0.07431638985872269
         ]
        },
        {
         "hovertemplate": "color=last<br>0=%{x}<br>1=%{y}<br>2=%{z}<extra></extra>",
         "legendgroup": "last",
         "marker": {
          "color": "#EF553B",
          "symbol": "circle"
         },
         "mode": "markers",
         "name": "last",
         "scene": "scene",
         "showlegend": true,
         "type": "scatter3d",
         "x": [
          -0.08417428284883499
         ],
         "y": [
          0.24531832337379456
         ],
         "z": [
          -0.08882002532482147
         ]
        },
        {
         "hovertemplate": "color=cersei<br>0=%{x}<br>1=%{y}<br>2=%{z}<extra></extra>",
         "legendgroup": "cersei",
         "marker": {
          "color": "#00cc96",
          "symbol": "circle"
         },
         "mode": "markers",
         "name": "cersei",
         "scene": "scene",
         "showlegend": true,
         "type": "scatter3d",
         "x": [
          -0.37719857692718506
         ],
         "y": [
          0.028430283069610596
         ],
         "z": [
          0.387584924697876
         ]
        },
        {
         "hovertemplate": "color=castle<br>0=%{x}<br>1=%{y}<br>2=%{z}<extra></extra>",
         "legendgroup": "castle",
         "marker": {
          "color": "#ab63fa",
          "symbol": "circle"
         },
         "mode": "markers",
         "name": "castle",
         "scene": "scene",
         "showlegend": true,
         "type": "scatter3d",
         "x": [
          -0.04179813340306282
         ],
         "y": [
          0.6226930618286133
         ],
         "z": [
          -0.3270605206489563
         ]
        },
        {
         "hovertemplate": "color=stark<br>0=%{x}<br>1=%{y}<br>2=%{z}<extra></extra>",
         "legendgroup": "stark",
         "marker": {
          "color": "#FFA15A",
          "symbol": "circle"
         },
         "mode": "markers",
         "name": "stark",
         "scene": "scene",
         "showlegend": true,
         "type": "scatter3d",
         "x": [
          -0.36062687635421753
         ],
         "y": [
          0.4370545744895935
         ],
         "z": [
          0.2515343427658081
         ]
        },
        {
         "hovertemplate": "color=gods<br>0=%{x}<br>1=%{y}<br>2=%{z}<extra></extra>",
         "legendgroup": "gods",
         "marker": {
          "color": "#19d3f3",
          "symbol": "circle"
         },
         "mode": "markers",
         "name": "gods",
         "scene": "scene",
         "showlegend": true,
         "type": "scatter3d",
         "x": [
          -0.4470749497413635
         ],
         "y": [
          0.12215476483106613
         ],
         "z": [
          -0.27419453859329224
         ]
        },
        {
         "hovertemplate": "color=think<br>0=%{x}<br>1=%{y}<br>2=%{z}<extra></extra>",
         "legendgroup": "think",
         "marker": {
          "color": "#FF6692",
          "symbol": "circle"
         },
         "mode": "markers",
         "name": "think",
         "scene": "scene",
         "showlegend": true,
         "type": "scatter3d",
         "x": [
          -0.6054375171661377
         ],
         "y": [
          -0.33420220017433167
         ],
         "z": [
          -0.144931361079216
         ]
        },
        {
         "hovertemplate": "color=hair<br>0=%{x}<br>1=%{y}<br>2=%{z}<extra></extra>",
         "legendgroup": "hair",
         "marker": {
          "color": "#B6E880",
          "symbol": "circle"
         },
         "mode": "markers",
         "name": "hair",
         "scene": "scene",
         "showlegend": true,
         "type": "scatter3d",
         "x": [
          0.43105506896972656
         ],
         "y": [
          -0.02934683859348297
         ],
         "z": [
          0.3880320191383362
         ]
        },
        {
         "hovertemplate": "color=many<br>0=%{x}<br>1=%{y}<br>2=%{z}<extra></extra>",
         "legendgroup": "many",
         "marker": {
          "color": "#FF97FF",
          "symbol": "circle"
         },
         "mode": "markers",
         "name": "many",
         "scene": "scene",
         "showlegend": true,
         "type": "scatter3d",
         "x": [
          -0.2414051592350006
         ],
         "y": [
          0.46187636256217957
         ],
         "z": [
          -0.4876992702484131
         ]
        },
        {
         "hovertemplate": "color=feet<br>0=%{x}<br>1=%{y}<br>2=%{z}<extra></extra>",
         "legendgroup": "feet",
         "marker": {
          "color": "#FECB52",
          "symbol": "circle"
         },
         "mode": "markers",
         "name": "feet",
         "scene": "scene",
         "showlegend": true,
         "type": "scatter3d",
         "x": [
          0.5966804623603821
         ],
         "y": [
          0.16783203184604645
         ],
         "z": [
          0.012991651892662048
         ]
        },
        {
         "hovertemplate": "color=hands<br>0=%{x}<br>1=%{y}<br>2=%{z}<extra></extra>",
         "legendgroup": "hands",
         "marker": {
          "color": "#636efa",
          "symbol": "circle"
         },
         "mode": "markers",
         "name": "hands",
         "scene": "scene",
         "showlegend": true,
         "type": "scatter3d",
         "x": [
          0.455890953540802
         ],
         "y": [
          -0.09360376000404358
         ],
         "z": [
          0.3219901919364929
         ]
        },
        {
         "hovertemplate": "color=stannis<br>0=%{x}<br>1=%{y}<br>2=%{z}<extra></extra>",
         "legendgroup": "stannis",
         "marker": {
          "color": "#EF553B",
          "symbol": "circle"
         },
         "mode": "markers",
         "name": "stannis",
         "scene": "scene",
         "showlegend": true,
         "type": "scatter3d",
         "x": [
          -0.40264227986335754
         ],
         "y": [
          0.5231426358222961
         ],
         "z": [
          0.020090151578187943
         ]
        },
        {
         "hovertemplate": "color=mother<br>0=%{x}<br>1=%{y}<br>2=%{z}<extra></extra>",
         "legendgroup": "mother",
         "marker": {
          "color": "#00cc96",
          "symbol": "circle"
         },
         "mode": "markers",
         "name": "mother",
         "scene": "scene",
         "showlegend": true,
         "type": "scatter3d",
         "x": [
          -0.4702526330947876
         ],
         "y": [
          0.3312194347381592
         ],
         "z": [
          0.10746457427740097
         ]
        },
        {
         "hovertemplate": "color=catelyn<br>0=%{x}<br>1=%{y}<br>2=%{z}<extra></extra>",
         "legendgroup": "catelyn",
         "marker": {
          "color": "#ab63fa",
          "symbol": "circle"
         },
         "mode": "markers",
         "name": "catelyn",
         "scene": "scene",
         "showlegend": true,
         "type": "scatter3d",
         "x": [
          -0.20048940181732178
         ],
         "y": [
          0.08186790347099304
         ],
         "z": [
          0.3233882486820221
         ]
        },
        {
         "hovertemplate": "color=robert<br>0=%{x}<br>1=%{y}<br>2=%{z}<extra></extra>",
         "legendgroup": "robert",
         "marker": {
          "color": "#FFA15A",
          "symbol": "circle"
         },
         "mode": "markers",
         "name": "robert",
         "scene": "scene",
         "showlegend": true,
         "type": "scatter3d",
         "x": [
          -0.48421669006347656
         ],
         "y": [
          0.4384559392929077
         ],
         "z": [
          0.24489808082580566
         ]
        },
        {
         "hovertemplate": "color=seemed<br>0=%{x}<br>1=%{y}<br>2=%{z}<extra></extra>",
         "legendgroup": "seemed",
         "marker": {
          "color": "#19d3f3",
          "symbol": "circle"
         },
         "mode": "markers",
         "name": "seemed",
         "scene": "scene",
         "showlegend": true,
         "type": "scatter3d",
         "x": [
          0.1232776865363121
         ],
         "y": [
          -0.15796658396720886
         ],
         "z": [
          -0.205074742436409
         ]
        },
        {
         "hovertemplate": "color=prince<br>0=%{x}<br>1=%{y}<br>2=%{z}<extra></extra>",
         "legendgroup": "prince",
         "marker": {
          "color": "#FF6692",
          "symbol": "circle"
         },
         "mode": "markers",
         "name": "prince",
         "scene": "scene",
         "showlegend": true,
         "type": "scatter3d",
         "x": [
          -0.45825767517089844
         ],
         "y": [
          0.5936601161956787
         ],
         "z": [
          0.3871740698814392
         ]
        },
        {
         "hovertemplate": "color=may<br>0=%{x}<br>1=%{y}<br>2=%{z}<extra></extra>",
         "legendgroup": "may",
         "marker": {
          "color": "#B6E880",
          "symbol": "circle"
         },
         "mode": "markers",
         "name": "may",
         "scene": "scene",
         "showlegend": true,
         "type": "scatter3d",
         "x": [
          -0.7125852108001709
         ],
         "y": [
          0.10265053808689117
         ],
         "z": [
          -0.2300235480070114
         ]
        },
        {
         "hovertemplate": "color=too<br>0=%{x}<br>1=%{y}<br>2=%{z}<extra></extra>",
         "legendgroup": "too",
         "marker": {
          "color": "#FF97FF",
          "symbol": "circle"
         },
         "mode": "markers",
         "name": "too",
         "scene": "scene",
         "showlegend": true,
         "type": "scatter3d",
         "x": [
          -0.28417083621025085
         ],
         "y": [
          -0.223162442445755
         ],
         "z": [
          -0.1333359032869339
         ]
        },
        {
         "hovertemplate": "color=ever<br>0=%{x}<br>1=%{y}<br>2=%{z}<extra></extra>",
         "legendgroup": "ever",
         "marker": {
          "color": "#FECB52",
          "symbol": "circle"
         },
         "mode": "markers",
         "name": "ever",
         "scene": "scene",
         "showlegend": true,
         "type": "scatter3d",
         "x": [
          -0.38348594307899475
         ],
         "y": [
          -0.06121978163719177
         ],
         "z": [
          -0.1355297714471817
         ]
        },
        {
         "hovertemplate": "color=robb<br>0=%{x}<br>1=%{y}<br>2=%{z}<extra></extra>",
         "legendgroup": "robb",
         "marker": {
          "color": "#636efa",
          "symbol": "circle"
         },
         "mode": "markers",
         "name": "robb",
         "scene": "scene",
         "showlegend": true,
         "type": "scatter3d",
         "x": [
          -0.36883237957954407
         ],
         "y": [
          0.2763577103614807
         ],
         "z": [
          0.2266528457403183
         ]
        },
        {
         "hovertemplate": "color=done<br>0=%{x}<br>1=%{y}<br>2=%{z}<extra></extra>",
         "legendgroup": "done",
         "marker": {
          "color": "#EF553B",
          "symbol": "circle"
         },
         "mode": "markers",
         "name": "done",
         "scene": "scene",
         "showlegend": true,
         "type": "scatter3d",
         "x": [
          -0.6661266684532166
         ],
         "y": [
          -0.0642903745174408
         ],
         "z": [
          -0.16595356166362762
         ]
        },
        {
         "hovertemplate": "color=find<br>0=%{x}<br>1=%{y}<br>2=%{z}<extra></extra>",
         "legendgroup": "find",
         "marker": {
          "color": "#00cc96",
          "symbol": "circle"
         },
         "mode": "markers",
         "name": "find",
         "scene": "scene",
         "showlegend": true,
         "type": "scatter3d",
         "x": [
          -0.4132693409919739
         ],
         "y": [
          -0.12729394435882568
         ],
         "z": [
          -0.3055383563041687
         ]
        },
        {
         "hovertemplate": "color=lannister<br>0=%{x}<br>1=%{y}<br>2=%{z}<extra></extra>",
         "legendgroup": "lannister",
         "marker": {
          "color": "#ab63fa",
          "symbol": "circle"
         },
         "mode": "markers",
         "name": "lannister",
         "scene": "scene",
         "showlegend": true,
         "type": "scatter3d",
         "x": [
          -0.3025972545146942
         ],
         "y": [
          0.5782317519187927
         ],
         "z": [
          0.3245987296104431
         ]
        },
        {
         "hovertemplate": "color=what<br>0=%{x}<br>1=%{y}<br>2=%{z}<extra></extra>",
         "legendgroup": "what",
         "marker": {
          "color": "#FFA15A",
          "symbol": "circle"
         },
         "mode": "markers",
         "name": "what",
         "scene": "scene",
         "showlegend": true,
         "type": "scatter3d",
         "x": [
          -0.7230398058891296
         ],
         "y": [
          -0.1769474446773529
         ],
         "z": [
          -0.1319034844636917
         ]
        },
        {
         "hovertemplate": "color=hear<br>0=%{x}<br>1=%{y}<br>2=%{z}<extra></extra>",
         "legendgroup": "hear",
         "marker": {
          "color": "#19d3f3",
          "symbol": "circle"
         },
         "mode": "markers",
         "name": "hear",
         "scene": "scene",
         "showlegend": true,
         "type": "scatter3d",
         "x": [
          -0.11680874973535538
         ],
         "y": [
          -0.2890327274799347
         ],
         "z": [
          -0.14112454652786255
         ]
        },
        {
         "hovertemplate": "color=grey<br>0=%{x}<br>1=%{y}<br>2=%{z}<extra></extra>",
         "legendgroup": "grey",
         "marker": {
          "color": "#FF6692",
          "symbol": "circle"
         },
         "mode": "markers",
         "name": "grey",
         "scene": "scene",
         "showlegend": true,
         "type": "scatter3d",
         "x": [
          0.4872974753379822
         ],
         "y": [
          0.3636164665222168
         ],
         "z": [
          0.11686299741268158
         ]
        },
        {
         "hovertemplate": "color=name<br>0=%{x}<br>1=%{y}<br>2=%{z}<extra></extra>",
         "legendgroup": "name",
         "marker": {
          "color": "#B6E880",
          "symbol": "circle"
         },
         "mode": "markers",
         "name": "name",
         "scene": "scene",
         "showlegend": true,
         "type": "scatter3d",
         "x": [
          -0.6187520027160645
         ],
         "y": [
          0.29457902908325195
         ],
         "z": [
          0.22035197913646698
         ]
        },
        {
         "hovertemplate": "color=my<br>0=%{x}<br>1=%{y}<br>2=%{z}<extra></extra>",
         "legendgroup": "my",
         "marker": {
          "color": "#FF97FF",
          "symbol": "circle"
         },
         "mode": "markers",
         "name": "my",
         "scene": "scene",
         "showlegend": true,
         "type": "scatter3d",
         "x": [
          -0.6818061470985413
         ],
         "y": [
          0.22490346431732178
         ],
         "z": [
          0.2947697937488556
         ]
        },
        {
         "hovertemplate": "color=horse<br>0=%{x}<br>1=%{y}<br>2=%{z}<extra></extra>",
         "legendgroup": "horse",
         "marker": {
          "color": "#FECB52",
          "symbol": "circle"
         },
         "mode": "markers",
         "name": "horse",
         "scene": "scene",
         "showlegend": true,
         "type": "scatter3d",
         "x": [
          0.401250422000885
         ],
         "y": [
          0.026990830898284912
         ],
         "z": [
          0.03211796656250954
         ]
        },
        {
         "hovertemplate": "color=high<br>0=%{x}<br>1=%{y}<br>2=%{z}<extra></extra>",
         "legendgroup": "high",
         "marker": {
          "color": "#636efa",
          "symbol": "circle"
         },
         "mode": "markers",
         "name": "high",
         "scene": "scene",
         "showlegend": true,
         "type": "scatter3d",
         "x": [
          0.21392276883125305
         ],
         "y": [
          0.6232785582542419
         ],
         "z": [
          -0.09928484261035919
         ]
        },
        {
         "hovertemplate": "color=all<br>0=%{x}<br>1=%{y}<br>2=%{z}<extra></extra>",
         "legendgroup": "all",
         "marker": {
          "color": "#EF553B",
          "symbol": "circle"
         },
         "mode": "markers",
         "name": "all",
         "scene": "scene",
         "showlegend": true,
         "type": "scatter3d",
         "x": [
          -0.6165059208869934
         ],
         "y": [
          -0.02011023461818695
         ],
         "z": [
          -0.33440375328063965
         ]
        },
        {
         "hovertemplate": "color=put<br>0=%{x}<br>1=%{y}<br>2=%{z}<extra></extra>",
         "legendgroup": "put",
         "marker": {
          "color": "#00cc96",
          "symbol": "circle"
         },
         "mode": "markers",
         "name": "put",
         "scene": "scene",
         "showlegend": true,
         "type": "scatter3d",
         "x": [
          -0.17066004872322083
         ],
         "y": [
          0.04218761622905731
         ],
         "z": [
          0.11121693253517151
         ]
        },
        {
         "hovertemplate": "color=wine<br>0=%{x}<br>1=%{y}<br>2=%{z}<extra></extra>",
         "legendgroup": "wine",
         "marker": {
          "color": "#ab63fa",
          "symbol": "circle"
         },
         "mode": "markers",
         "name": "wine",
         "scene": "scene",
         "showlegend": true,
         "type": "scatter3d",
         "x": [
          0.08397794514894485
         ],
         "y": [
          -0.2535719871520996
         ],
         "z": [
          0.1930696666240692
         ]
        },
        {
         "hovertemplate": "color=stone<br>0=%{x}<br>1=%{y}<br>2=%{z}<extra></extra>",
         "legendgroup": "stone",
         "marker": {
          "color": "#FFA15A",
          "symbol": "circle"
         },
         "mode": "markers",
         "name": "stone",
         "scene": "scene",
         "showlegend": true,
         "type": "scatter3d",
         "x": [
          0.655681312084198
         ],
         "y": [
          0.37467432022094727
         ],
         "z": [
          -0.2708896994590759
         ]
        },
        {
         "hovertemplate": "color=hard<br>0=%{x}<br>1=%{y}<br>2=%{z}<extra></extra>",
         "legendgroup": "hard",
         "marker": {
          "color": "#19d3f3",
          "symbol": "circle"
         },
         "mode": "markers",
         "name": "hard",
         "scene": "scene",
         "showlegend": true,
         "type": "scatter3d",
         "x": [
          0.40542906522750854
         ],
         "y": [
          -0.4193952977657318
         ],
         "z": [
          -0.09479247033596039
         ]
        },
        {
         "hovertemplate": "color=water<br>0=%{x}<br>1=%{y}<br>2=%{z}<extra></extra>",
         "legendgroup": "water",
         "marker": {
          "color": "#FF6692",
          "symbol": "circle"
         },
         "mode": "markers",
         "name": "water",
         "scene": "scene",
         "showlegend": true,
         "type": "scatter3d",
         "x": [
          0.5698624849319458
         ],
         "y": [
          -0.265747994184494
         ],
         "z": [
          -0.3002731204032898
         ]
        },
        {
         "hovertemplate": "color=fire<br>0=%{x}<br>1=%{y}<br>2=%{z}<extra></extra>",
         "legendgroup": "fire",
         "marker": {
          "color": "#B6E880",
          "symbol": "circle"
         },
         "mode": "markers",
         "name": "fire",
         "scene": "scene",
         "showlegend": true,
         "type": "scatter3d",
         "x": [
          0.5309224128723145
         ],
         "y": [
          -0.1325259804725647
         ],
         "z": [
          -0.3877272605895996
         ]
        },
        {
         "hovertemplate": "color=upon<br>0=%{x}<br>1=%{y}<br>2=%{z}<extra></extra>",
         "legendgroup": "upon",
         "marker": {
          "color": "#FF97FF",
          "symbol": "circle"
         },
         "mode": "markers",
         "name": "upon",
         "scene": "scene",
         "showlegend": true,
         "type": "scatter3d",
         "x": [
          0.32021063566207886
         ],
         "y": [
          0.4733436405658722
         ],
         "z": [
          -0.1252802610397339
         ]
        },
        {
         "hovertemplate": "color=iron<br>0=%{x}<br>1=%{y}<br>2=%{z}<extra></extra>",
         "legendgroup": "iron",
         "marker": {
          "color": "#FECB52",
          "symbol": "circle"
         },
         "mode": "markers",
         "name": "iron",
         "scene": "scene",
         "showlegend": true,
         "type": "scatter3d",
         "x": [
          0.24951660633087158
         ],
         "y": [
          0.6576906442642212
         ],
         "z": [
          -0.035761721432209015
         ]
        },
        {
         "hovertemplate": "color=this<br>0=%{x}<br>1=%{y}<br>2=%{z}<extra></extra>",
         "legendgroup": "this",
         "marker": {
          "color": "#636efa",
          "symbol": "circle"
         },
         "mode": "markers",
         "name": "this",
         "scene": "scene",
         "showlegend": true,
         "type": "scatter3d",
         "x": [
          -0.6893274784088135
         ],
         "y": [
          -0.1640397310256958
         ],
         "z": [
          -0.0480489656329155
         ]
        },
        {
         "hovertemplate": "color=voice<br>0=%{x}<br>1=%{y}<br>2=%{z}<extra></extra>",
         "legendgroup": "voice",
         "marker": {
          "color": "#EF553B",
          "symbol": "circle"
         },
         "mode": "markers",
         "name": "voice",
         "scene": "scene",
         "showlegend": true,
         "type": "scatter3d",
         "x": [
          0.0017620548605918884
         ],
         "y": [
          -0.3073475658893585
         ],
         "z": [
          0.3881710171699524
         ]
        },
        {
         "hovertemplate": "color=gone<br>0=%{x}<br>1=%{y}<br>2=%{z}<extra></extra>",
         "legendgroup": "gone",
         "marker": {
          "color": "#00cc96",
          "symbol": "circle"
         },
         "mode": "markers",
         "name": "gone",
         "scene": "scene",
         "showlegend": true,
         "type": "scatter3d",
         "x": [
          -0.02087448351085186
         ],
         "y": [
          -0.05459582805633545
         ],
         "z": [
          -0.20717142522335052
         ]
        },
        {
         "hovertemplate": "color=she<br>0=%{x}<br>1=%{y}<br>2=%{z}<extra></extra>",
         "legendgroup": "she",
         "marker": {
          "color": "#ab63fa",
          "symbol": "circle"
         },
         "mode": "markers",
         "name": "she",
         "scene": "scene",
         "showlegend": true,
         "type": "scatter3d",
         "x": [
          -0.46102190017700195
         ],
         "y": [
          -0.25224995613098145
         ],
         "z": [
          0.11919035017490387
         ]
        },
        {
         "hovertemplate": "color=give<br>0=%{x}<br>1=%{y}<br>2=%{z}<extra></extra>",
         "legendgroup": "give",
         "marker": {
          "color": "#FFA15A",
          "symbol": "circle"
         },
         "mode": "markers",
         "name": "give",
         "scene": "scene",
         "showlegend": true,
         "type": "scatter3d",
         "x": [
          -0.6529895663261414
         ],
         "y": [
          0.03784686326980591
         ],
         "z": [
          -0.09148751199245453
         ]
        },
        {
         "hovertemplate": "color=sam<br>0=%{x}<br>1=%{y}<br>2=%{z}<extra></extra>",
         "legendgroup": "sam",
         "marker": {
          "color": "#19d3f3",
          "symbol": "circle"
         },
         "mode": "markers",
         "name": "sam",
         "scene": "scene",
         "showlegend": true,
         "type": "scatter3d",
         "x": [
          0.02143893390893936
         ],
         "y": [
          -0.43370935320854187
         ],
         "z": [
          0.07173573225736618
         ]
        },
        {
         "hovertemplate": "color=better<br>0=%{x}<br>1=%{y}<br>2=%{z}<extra></extra>",
         "legendgroup": "better",
         "marker": {
          "color": "#FF6692",
          "symbol": "circle"
         },
         "mode": "markers",
         "name": "better",
         "scene": "scene",
         "showlegend": true,
         "type": "scatter3d",
         "x": [
          -0.6031529903411865
         ],
         "y": [
          -0.15759426355361938
         ],
         "z": [
          -0.2473011463880539
         ]
        },
        {
         "hovertemplate": "color=seen<br>0=%{x}<br>1=%{y}<br>2=%{z}<extra></extra>",
         "legendgroup": "seen",
         "marker": {
          "color": "#B6E880",
          "symbol": "circle"
         },
         "mode": "markers",
         "name": "seen",
         "scene": "scene",
         "showlegend": true,
         "type": "scatter3d",
         "x": [
          -0.03073287382721901
         ],
         "y": [
          0.17520642280578613
         ],
         "z": [
          -0.26915305852890015
         ]
        },
        {
         "hovertemplate": "color=shall<br>0=%{x}<br>1=%{y}<br>2=%{z}<extra></extra>",
         "legendgroup": "shall",
         "marker": {
          "color": "#FF97FF",
          "symbol": "circle"
         },
         "mode": "markers",
         "name": "shall",
         "scene": "scene",
         "showlegend": true,
         "type": "scatter3d",
         "x": [
          -0.5769181847572327
         ],
         "y": [
          0.2775895297527313
         ],
         "z": [
          -0.1635308414697647
         ]
        },
        {
         "hovertemplate": "color=ned<br>0=%{x}<br>1=%{y}<br>2=%{z}<extra></extra>",
         "legendgroup": "ned",
         "marker": {
          "color": "#FECB52",
          "symbol": "circle"
         },
         "mode": "markers",
         "name": "ned",
         "scene": "scene",
         "showlegend": true,
         "type": "scatter3d",
         "x": [
          -0.2641044855117798
         ],
         "y": [
          -0.024355754256248474
         ],
         "z": [
          0.3463584780693054
         ]
        },
        {
         "hovertemplate": "color=always<br>0=%{x}<br>1=%{y}<br>2=%{z}<extra></extra>",
         "legendgroup": "always",
         "marker": {
          "color": "#636efa",
          "symbol": "circle"
         },
         "mode": "markers",
         "name": "always",
         "scene": "scene",
         "showlegend": true,
         "type": "scatter3d",
         "x": [
          -0.5732510685920715
         ],
         "y": [
          -0.12830471992492676
         ],
         "z": [
          -0.09450860321521759
         ]
        },
        {
         "hovertemplate": "color=years<br>0=%{x}<br>1=%{y}<br>2=%{z}<extra></extra>",
         "legendgroup": "years",
         "marker": {
          "color": "#EF553B",
          "symbol": "circle"
         },
         "mode": "markers",
         "name": "years",
         "scene": "scene",
         "showlegend": true,
         "type": "scatter3d",
         "x": [
          -0.26427945494651794
         ],
         "y": [
          0.6413447856903076
         ],
         "z": [
          -0.1794203668832779
         ]
        },
        {
         "hovertemplate": "color=dark<br>0=%{x}<br>1=%{y}<br>2=%{z}<extra></extra>",
         "legendgroup": "dark",
         "marker": {
          "color": "#00cc96",
          "symbol": "circle"
         },
         "mode": "markers",
         "name": "dark",
         "scene": "scene",
         "showlegend": true,
         "type": "scatter3d",
         "x": [
          0.5555528998374939
         ],
         "y": [
          0.01483801007270813
         ],
         "z": [
          -0.17758877575397491
         ]
        },
        {
         "hovertemplate": "color=place<br>0=%{x}<br>1=%{y}<br>2=%{z}<extra></extra>",
         "legendgroup": "place",
         "marker": {
          "color": "#ab63fa",
          "symbol": "circle"
         },
         "mode": "markers",
         "name": "place",
         "scene": "scene",
         "showlegend": true,
         "type": "scatter3d",
         "x": [
          -0.2655804753303528
         ],
         "y": [
          0.31359365582466125
         ],
         "z": [
          -0.3201780319213867
         ]
        },
        {
         "hovertemplate": "color=not<br>0=%{x}<br>1=%{y}<br>2=%{z}<extra></extra>",
         "legendgroup": "not",
         "marker": {
          "color": "#FFA15A",
          "symbol": "circle"
         },
         "mode": "markers",
         "name": "not",
         "scene": "scene",
         "showlegend": true,
         "type": "scatter3d",
         "x": [
          -0.8178775310516357
         ],
         "y": [
          -0.03232118487358093
         ],
         "z": [
          -0.051382943987846375
         ]
        },
        {
         "hovertemplate": "color=small<br>0=%{x}<br>1=%{y}<br>2=%{z}<extra></extra>",
         "legendgroup": "small",
         "marker": {
          "color": "#19d3f3",
          "symbol": "circle"
         },
         "mode": "markers",
         "name": "small",
         "scene": "scene",
         "showlegend": true,
         "type": "scatter3d",
         "x": [
          0.33349329233169556
         ],
         "y": [
          0.32392996549606323
         ],
         "z": [
          -0.14003008604049683
         ]
        },
        {
         "hovertemplate": "color=cold<br>0=%{x}<br>1=%{y}<br>2=%{z}<extra></extra>",
         "legendgroup": "cold",
         "marker": {
          "color": "#FF6692",
          "symbol": "circle"
         },
         "mode": "markers",
         "name": "cold",
         "scene": "scene",
         "showlegend": true,
         "type": "scatter3d",
         "x": [
          0.38273847103118896
         ],
         "y": [
          -0.329521507024765
         ],
         "z": [
          -0.2974134087562561
         ]
        },
        {
         "hovertemplate": "color=do<br>0=%{x}<br>1=%{y}<br>2=%{z}<extra></extra>",
         "legendgroup": "do",
         "marker": {
          "color": "#B6E880",
          "symbol": "circle"
         },
         "mode": "markers",
         "name": "do",
         "scene": "scene",
         "showlegend": true,
         "type": "scatter3d",
         "x": [
          -0.7843350768089294
         ],
         "y": [
          -0.2620885968208313
         ],
         "z": [
          -0.08401773869991302
         ]
        },
        {
         "hovertemplate": "color=winterfell<br>0=%{x}<br>1=%{y}<br>2=%{z}<extra></extra>",
         "legendgroup": "winterfell",
         "marker": {
          "color": "#FF97FF",
          "symbol": "circle"
         },
         "mode": "markers",
         "name": "winterfell",
         "scene": "scene",
         "showlegend": true,
         "type": "scatter3d",
         "x": [
          -0.2968730628490448
         ],
         "y": [
          0.5021459460258484
         ],
         "z": [
          -0.11826878786087036
         ]
        },
        {
         "hovertemplate": "color=hundred<br>0=%{x}<br>1=%{y}<br>2=%{z}<extra></extra>",
         "legendgroup": "hundred",
         "marker": {
          "color": "#FECB52",
          "symbol": "circle"
         },
         "mode": "markers",
         "name": "hundred",
         "scene": "scene",
         "showlegend": true,
         "type": "scatter3d",
         "x": [
          0.05762553960084915
         ],
         "y": [
          0.6268711090087891
         ],
         "z": [
          -0.41359323263168335
         ]
        },
        {
         "hovertemplate": "color=stood<br>0=%{x}<br>1=%{y}<br>2=%{z}<extra></extra>",
         "legendgroup": "stood",
         "marker": {
          "color": "#636efa",
          "symbol": "circle"
         },
         "mode": "markers",
         "name": "stood",
         "scene": "scene",
         "showlegend": true,
         "type": "scatter3d",
         "x": [
          0.4215547740459442
         ],
         "y": [
          0.5941107273101807
         ],
         "z": [
          0.14897778630256653
         ]
        },
        {
         "hovertemplate": "color=end<br>0=%{x}<br>1=%{y}<br>2=%{z}<extra></extra>",
         "legendgroup": "end",
         "marker": {
          "color": "#EF553B",
          "symbol": "circle"
         },
         "mode": "markers",
         "name": "end",
         "scene": "scene",
         "showlegend": true,
         "type": "scatter3d",
         "x": [
          -0.06443816423416138
         ],
         "y": [
          0.5248154401779175
         ],
         "z": [
          -0.23260773718357086
         ]
        },
        {
         "hovertemplate": "color=sister<br>0=%{x}<br>1=%{y}<br>2=%{z}<extra></extra>",
         "legendgroup": "sister",
         "marker": {
          "color": "#00cc96",
          "symbol": "circle"
         },
         "mode": "markers",
         "name": "sister",
         "scene": "scene",
         "showlegend": true,
         "type": "scatter3d",
         "x": [
          -0.6167898774147034
         ],
         "y": [
          0.18341265618801117
         ],
         "z": [
          0.3629939556121826
         ]
        },
        {
         "hovertemplate": "color=words<br>0=%{x}<br>1=%{y}<br>2=%{z}<extra></extra>",
         "legendgroup": "words",
         "marker": {
          "color": "#ab63fa",
          "symbol": "circle"
         },
         "mode": "markers",
         "name": "words",
         "scene": "scene",
         "showlegend": true,
         "type": "scatter3d",
         "x": [
          -0.3072178065776825
         ],
         "y": [
          -0.44179007411003113
         ],
         "z": [
          0.08727864921092987
         ]
        },
        {
         "hovertemplate": "color=sea<br>0=%{x}<br>1=%{y}<br>2=%{z}<extra></extra>",
         "legendgroup": "sea",
         "marker": {
          "color": "#FFA15A",
          "symbol": "circle"
         },
         "mode": "markers",
         "name": "sea",
         "scene": "scene",
         "showlegend": true,
         "type": "scatter3d",
         "x": [
          0.1505773365497589
         ],
         "y": [
          0.5540096163749695
         ],
         "z": [
          -0.5612338781356812
         ]
        },
        {
         "hovertemplate": "color=right<br>0=%{x}<br>1=%{y}<br>2=%{z}<extra></extra>",
         "legendgroup": "right",
         "marker": {
          "color": "#19d3f3",
          "symbol": "circle"
         },
         "mode": "markers",
         "name": "right",
         "scene": "scene",
         "showlegend": true,
         "type": "scatter3d",
         "x": [
          0.1393890380859375
         ],
         "y": [
          -0.09215521812438965
         ],
         "z": [
          0.20420841872692108
         ]
        },
        {
         "hovertemplate": "color=nothing<br>0=%{x}<br>1=%{y}<br>2=%{z}<extra></extra>",
         "legendgroup": "nothing",
         "marker": {
          "color": "#FF6692",
          "symbol": "circle"
         },
         "mode": "markers",
         "name": "nothing",
         "scene": "scene",
         "showlegend": true,
         "type": "scatter3d",
         "x": [
          -0.2867805063724518
         ],
         "y": [
          -0.424844890832901
         ],
         "z": [
          -0.2935975193977356
         ]
        },
        {
         "hovertemplate": "color=if<br>0=%{x}<br>1=%{y}<br>2=%{z}<extra></extra>",
         "legendgroup": "if",
         "marker": {
          "color": "#B6E880",
          "symbol": "circle"
         },
         "mode": "markers",
         "name": "if",
         "scene": "scene",
         "showlegend": true,
         "type": "scatter3d",
         "x": [
          -0.7446415424346924
         ],
         "y": [
          -0.03061060607433319
         ],
         "z": [
          -0.1627923846244812
         ]
        },
        {
         "hovertemplate": "color=walls<br>0=%{x}<br>1=%{y}<br>2=%{z}<extra></extra>",
         "legendgroup": "walls",
         "marker": {
          "color": "#FF97FF",
          "symbol": "circle"
         },
         "mode": "markers",
         "name": "walls",
         "scene": "scene",
         "showlegend": true,
         "type": "scatter3d",
         "x": [
          0.44142916798591614
         ],
         "y": [
          0.4422162175178528
         ],
         "z": [
          -0.5071878433227539
         ]
        },
        {
         "hovertemplate": "color=fingers<br>0=%{x}<br>1=%{y}<br>2=%{z}<extra></extra>",
         "legendgroup": "fingers",
         "marker": {
          "color": "#FECB52",
          "symbol": "circle"
         },
         "mode": "markers",
         "name": "fingers",
         "scene": "scene",
         "showlegend": true,
         "type": "scatter3d",
         "x": [
          0.6043554544448853
         ],
         "y": [
          -0.18680164217948914
         ],
         "z": [
          0.2633002996444702
         ]
        },
        {
         "hovertemplate": "color=house<br>0=%{x}<br>1=%{y}<br>2=%{z}<extra></extra>",
         "legendgroup": "house",
         "marker": {
          "color": "#636efa",
          "symbol": "circle"
         },
         "mode": "markers",
         "name": "house",
         "scene": "scene",
         "showlegend": true,
         "type": "scatter3d",
         "x": [
          -0.187272310256958
         ],
         "y": [
          0.847222089767456
         ],
         "z": [
          0.28030383586883545
         ]
        },
        {
         "hovertemplate": "color=so<br>0=%{x}<br>1=%{y}<br>2=%{z}<extra></extra>",
         "legendgroup": "so",
         "marker": {
          "color": "#EF553B",
          "symbol": "circle"
         },
         "mode": "markers",
         "name": "so",
         "scene": "scene",
         "showlegend": true,
         "type": "scatter3d",
         "x": [
          -0.7197627425193787
         ],
         "y": [
          -0.10828226804733276
         ],
         "z": [
          0.0364629365503788
         ]
        },
        {
         "hovertemplate": "color=cloak<br>0=%{x}<br>1=%{y}<br>2=%{z}<extra></extra>",
         "legendgroup": "cloak",
         "marker": {
          "color": "#00cc96",
          "symbol": "circle"
         },
         "mode": "markers",
         "name": "cloak",
         "scene": "scene",
         "showlegend": true,
         "type": "scatter3d",
         "x": [
          0.5122196674346924
         ],
         "y": [
          0.27929478883743286
         ],
         "z": [
          0.503596842288971
         ]
        },
        {
         "hovertemplate": "color=young<br>0=%{x}<br>1=%{y}<br>2=%{z}<extra></extra>",
         "legendgroup": "young",
         "marker": {
          "color": "#ab63fa",
          "symbol": "circle"
         },
         "mode": "markers",
         "name": "young",
         "scene": "scene",
         "showlegend": true,
         "type": "scatter3d",
         "x": [
          -0.3776744306087494
         ],
         "y": [
          0.5910216569900513
         ],
         "z": [
          0.3317871689796448
         ]
        },
        {
         "hovertemplate": "color=beside<br>0=%{x}<br>1=%{y}<br>2=%{z}<extra></extra>",
         "legendgroup": "beside",
         "marker": {
          "color": "#FFA15A",
          "symbol": "circle"
         },
         "mode": "markers",
         "name": "beside",
         "scene": "scene",
         "showlegend": true,
         "type": "scatter3d",
         "x": [
          0.36198729276657104
         ],
         "y": [
          0.38902390003204346
         ],
         "z": [
          0.24240875244140625
         ]
        },
        {
         "hovertemplate": "color=get<br>0=%{x}<br>1=%{y}<br>2=%{z}<extra></extra>",
         "legendgroup": "get",
         "marker": {
          "color": "#19d3f3",
          "symbol": "circle"
         },
         "mode": "markers",
         "name": "get",
         "scene": "scene",
         "showlegend": true,
         "type": "scatter3d",
         "x": [
          -0.14342065155506134
         ],
         "y": [
          -0.3444803059101105
         ],
         "z": [
          -0.2610006332397461
         ]
        },
        {
         "hovertemplate": "color=mouth<br>0=%{x}<br>1=%{y}<br>2=%{z}<extra></extra>",
         "legendgroup": "mouth",
         "marker": {
          "color": "#FF6692",
          "symbol": "circle"
         },
         "mode": "markers",
         "name": "mouth",
         "scene": "scene",
         "showlegend": true,
         "type": "scatter3d",
         "x": [
          0.4076407849788666
         ],
         "y": [
          -0.470286101102829
         ],
         "z": [
          0.31197017431259155
         ]
        },
        {
         "hovertemplate": "color=seven<br>0=%{x}<br>1=%{y}<br>2=%{z}<extra></extra>",
         "legendgroup": "seven",
         "marker": {
          "color": "#B6E880",
          "symbol": "circle"
         },
         "mode": "markers",
         "name": "seven",
         "scene": "scene",
         "showlegend": true,
         "type": "scatter3d",
         "x": [
          -0.2662692368030548
         ],
         "y": [
          0.6376681327819824
         ],
         "z": [
          -0.3037920594215393
         ]
        },
        {
         "hovertemplate": "color=watch<br>0=%{x}<br>1=%{y}<br>2=%{z}<extra></extra>",
         "legendgroup": "watch",
         "marker": {
          "color": "#FF97FF",
          "symbol": "circle"
         },
         "mode": "markers",
         "name": "watch",
         "scene": "scene",
         "showlegend": true,
         "type": "scatter3d",
         "x": [
          -0.2600449025630951
         ],
         "y": [
          0.44950807094573975
         ],
         "z": [
          -0.16396403312683105
         ]
        },
        {
         "hovertemplate": "color=door<br>0=%{x}<br>1=%{y}<br>2=%{z}<extra></extra>",
         "legendgroup": "door",
         "marker": {
          "color": "#FECB52",
          "symbol": "circle"
         },
         "mode": "markers",
         "name": "door",
         "scene": "scene",
         "showlegend": true,
         "type": "scatter3d",
         "x": [
          0.49522995948791504
         ],
         "y": [
          0.09568805247545242
         ],
         "z": [
          0.21316765248775482
         ]
        },
        {
         "hovertemplate": "color=joffrey<br>0=%{x}<br>1=%{y}<br>2=%{z}<extra></extra>",
         "legendgroup": "joffrey",
         "marker": {
          "color": "#636efa",
          "symbol": "circle"
         },
         "mode": "markers",
         "name": "joffrey",
         "scene": "scene",
         "showlegend": true,
         "type": "scatter3d",
         "x": [
          -0.4795700013637543
         ],
         "y": [
          0.22203479707241058
         ],
         "z": [
          0.34788161516189575
         ]
        },
        {
         "hovertemplate": "color=green<br>0=%{x}<br>1=%{y}<br>2=%{z}<extra></extra>",
         "legendgroup": "green",
         "marker": {
          "color": "#EF553B",
          "symbol": "circle"
         },
         "mode": "markers",
         "name": "green",
         "scene": "scene",
         "showlegend": true,
         "type": "scatter3d",
         "x": [
          0.4767172336578369
         ],
         "y": [
          0.43463134765625
         ],
         "z": [
          0.07930589467287064
         ]
        },
        {
         "hovertemplate": "color=big<br>0=%{x}<br>1=%{y}<br>2=%{z}<extra></extra>",
         "legendgroup": "big",
         "marker": {
          "color": "#00cc96",
          "symbol": "circle"
         },
         "mode": "markers",
         "name": "big",
         "scene": "scene",
         "showlegend": true,
         "type": "scatter3d",
         "x": [
          0.34822824597358704
         ],
         "y": [
          0.11121375858783722
         ],
         "z": [
          0.2559279501438141
         ]
        },
        {
         "hovertemplate": "color=out<br>0=%{x}<br>1=%{y}<br>2=%{z}<extra></extra>",
         "legendgroup": "out",
         "marker": {
          "color": "#ab63fa",
          "symbol": "circle"
         },
         "mode": "markers",
         "name": "out",
         "scene": "scene",
         "showlegend": true,
         "type": "scatter3d",
         "x": [
          0.18036988377571106
         ],
         "y": [
          -0.2629859745502472
         ],
         "z": [
          0.021643895655870438
         ]
        },
        {
         "hovertemplate": "color=sent<br>0=%{x}<br>1=%{y}<br>2=%{z}<extra></extra>",
         "legendgroup": "sent",
         "marker": {
          "color": "#FFA15A",
          "symbol": "circle"
         },
         "mode": "markers",
         "name": "sent",
         "scene": "scene",
         "showlegend": true,
         "type": "scatter3d",
         "x": [
          -0.24557137489318848
         ],
         "y": [
          0.42732787132263184
         ],
         "z": [
          -0.004916474223136902
         ]
        },
        {
         "hovertemplate": "color=perhaps<br>0=%{x}<br>1=%{y}<br>2=%{z}<extra></extra>",
         "legendgroup": "perhaps",
         "marker": {
          "color": "#19d3f3",
          "symbol": "circle"
         },
         "mode": "markers",
         "name": "perhaps",
         "scene": "scene",
         "showlegend": true,
         "type": "scatter3d",
         "x": [
          -0.7608066201210022
         ],
         "y": [
          -0.014069721102714539
         ],
         "z": [
          -0.22405798733234406
         ]
        },
        {
         "hovertemplate": "color=almost<br>0=%{x}<br>1=%{y}<br>2=%{z}<extra></extra>",
         "legendgroup": "almost",
         "marker": {
          "color": "#FF6692",
          "symbol": "circle"
         },
         "mode": "markers",
         "name": "almost",
         "scene": "scene",
         "showlegend": true,
         "type": "scatter3d",
         "x": [
          0.3018505871295929
         ],
         "y": [
          -0.34495463967323303
         ],
         "z": [
          0.04858582466840744
         ]
        },
        {
         "hovertemplate": "color=wanted<br>0=%{x}<br>1=%{y}<br>2=%{z}<extra></extra>",
         "legendgroup": "wanted",
         "marker": {
          "color": "#B6E880",
          "symbol": "circle"
         },
         "mode": "markers",
         "name": "wanted",
         "scene": "scene",
         "showlegend": true,
         "type": "scatter3d",
         "x": [
          -0.4892103374004364
         ],
         "y": [
          -0.43280908465385437
         ],
         "z": [
          -0.08299021422863007
         ]
        },
        {
         "hovertemplate": "color=true<br>0=%{x}<br>1=%{y}<br>2=%{z}<extra></extra>",
         "legendgroup": "true",
         "marker": {
          "color": "#FF97FF",
          "symbol": "circle"
         },
         "mode": "markers",
         "name": "true",
         "scene": "scene",
         "showlegend": true,
         "type": "scatter3d",
         "x": [
          -0.7181748747825623
         ],
         "y": [
          0.18395505845546722
         ],
         "z": [
          -0.03635192662477493
         ]
        },
        {
         "hovertemplate": "color=daughter<br>0=%{x}<br>1=%{y}<br>2=%{z}<extra></extra>",
         "legendgroup": "daughter",
         "marker": {
          "color": "#FECB52",
          "symbol": "circle"
         },
         "mode": "markers",
         "name": "daughter",
         "scene": "scene",
         "showlegend": true,
         "type": "scatter3d",
         "x": [
          -0.41777217388153076
         ],
         "y": [
          0.7004594802856445
         ],
         "z": [
          0.4674620032310486
         ]
        },
        {
         "hovertemplate": "color=leave<br>0=%{x}<br>1=%{y}<br>2=%{z}<extra></extra>",
         "legendgroup": "leave",
         "marker": {
          "color": "#636efa",
          "symbol": "circle"
         },
         "mode": "markers",
         "name": "leave",
         "scene": "scene",
         "showlegend": true,
         "type": "scatter3d",
         "x": [
          -0.5403136610984802
         ],
         "y": [
          0.016606569290161133
         ],
         "z": [
          -0.12732049822807312
         ]
        },
        {
         "hovertemplate": "color=city<br>0=%{x}<br>1=%{y}<br>2=%{z}<extra></extra>",
         "legendgroup": "city",
         "marker": {
          "color": "#EF553B",
          "symbol": "circle"
         },
         "mode": "markers",
         "name": "city",
         "scene": "scene",
         "showlegend": true,
         "type": "scatter3d",
         "x": [
          -0.13002562522888184
         ],
         "y": [
          0.5684496164321899
         ],
         "z": [
          -0.48321986198425293
         ]
        },
        {
         "hovertemplate": "color=wind<br>0=%{x}<br>1=%{y}<br>2=%{z}<extra></extra>",
         "legendgroup": "wind",
         "marker": {
          "color": "#00cc96",
          "symbol": "circle"
         },
         "mode": "markers",
         "name": "wind",
         "scene": "scene",
         "showlegend": true,
         "type": "scatter3d",
         "x": [
          0.6209573149681091
         ],
         "y": [
          -0.04162520170211792
         ],
         "z": [
          -0.2502443194389343
         ]
        },
        {
         "hovertemplate": "color=light<br>0=%{x}<br>1=%{y}<br>2=%{z}<extra></extra>",
         "legendgroup": "light",
         "marker": {
          "color": "#ab63fa",
          "symbol": "circle"
         },
         "mode": "markers",
         "name": "light",
         "scene": "scene",
         "showlegend": true,
         "type": "scatter3d",
         "x": [
          0.46234798431396484
         ],
         "y": [
          0.13699966669082642
         ],
         "z": [
          -0.23254190385341644
         ]
        },
        {
         "hovertemplate": "color=then<br>0=%{x}<br>1=%{y}<br>2=%{z}<extra></extra>",
         "legendgroup": "then",
         "marker": {
          "color": "#FFA15A",
          "symbol": "circle"
         },
         "mode": "markers",
         "name": "then",
         "scene": "scene",
         "showlegend": true,
         "type": "scatter3d",
         "x": [
          -0.5154917240142822
         ],
         "y": [
          -0.3338698446750641
         ],
         "z": [
          -0.1281229704618454
         ]
        },
        {
         "hovertemplate": "color=arms<br>0=%{x}<br>1=%{y}<br>2=%{z}<extra></extra>",
         "legendgroup": "arms",
         "marker": {
          "color": "#19d3f3",
          "symbol": "circle"
         },
         "mode": "markers",
         "name": "arms",
         "scene": "scene",
         "showlegend": true,
         "type": "scatter3d",
         "x": [
          0.27599823474884033
         ],
         "y": [
          0.47850650548934937
         ],
         "z": [
          0.38195568323135376
         ]
        },
        {
         "hovertemplate": "color=but<br>0=%{x}<br>1=%{y}<br>2=%{z}<extra></extra>",
         "legendgroup": "but",
         "marker": {
          "color": "#FF6692",
          "symbol": "circle"
         },
         "mode": "markers",
         "name": "but",
         "scene": "scene",
         "showlegend": true,
         "type": "scatter3d",
         "x": [
          -0.8031999468803406
         ],
         "y": [
          0.020930558443069458
         ],
         "z": [
          0.048107489943504333
         ]
        },
        {
         "hovertemplate": "color=children<br>0=%{x}<br>1=%{y}<br>2=%{z}<extra></extra>",
         "legendgroup": "children",
         "marker": {
          "color": "#B6E880",
          "symbol": "circle"
         },
         "mode": "markers",
         "name": "children",
         "scene": "scene",
         "showlegend": true,
         "type": "scatter3d",
         "x": [
          -0.3686106503009796
         ],
         "y": [
          0.48335716128349304
         ],
         "z": [
          -0.39588677883148193
         ]
        },
        {
         "hovertemplate": "color=sweet<br>0=%{x}<br>1=%{y}<br>2=%{z}<extra></extra>",
         "legendgroup": "sweet",
         "marker": {
          "color": "#FF97FF",
          "symbol": "circle"
         },
         "mode": "markers",
         "name": "sweet",
         "scene": "scene",
         "showlegend": true,
         "type": "scatter3d",
         "x": [
          -0.31826111674308777
         ],
         "y": [
          -0.26735496520996094
         ],
         "z": [
          0.1853223443031311
         ]
        },
        {
         "hovertemplate": "color=others<br>0=%{x}<br>1=%{y}<br>2=%{z}<extra></extra>",
         "legendgroup": "others",
         "marker": {
          "color": "#FECB52",
          "symbol": "circle"
         },
         "mode": "markers",
         "name": "others",
         "scene": "scene",
         "showlegend": true,
         "type": "scatter3d",
         "x": [
          -0.06765793263912201
         ],
         "y": [
          0.21961885690689087
         ],
         "z": [
          -0.2655177712440491
         ]
        },
        {
         "hovertemplate": "color=lost<br>0=%{x}<br>1=%{y}<br>2=%{z}<extra></extra>",
         "legendgroup": "lost",
         "marker": {
          "color": "#636efa",
          "symbol": "circle"
         },
         "mode": "markers",
         "name": "lost",
         "scene": "scene",
         "showlegend": true,
         "type": "scatter3d",
         "x": [
          -0.22040840983390808
         ],
         "y": [
          0.37849006056785583
         ],
         "z": [
          -0.11980541050434113
         ]
        },
        {
         "hovertemplate": "color=re<br>0=%{x}<br>1=%{y}<br>2=%{z}<extra></extra>",
         "legendgroup": "re",
         "marker": {
          "color": "#EF553B",
          "symbol": "circle"
         },
         "mode": "markers",
         "name": "re",
         "scene": "scene",
         "showlegend": true,
         "type": "scatter3d",
         "x": [
          -0.24784225225448608
         ],
         "y": [
          -0.05061507225036621
         ],
         "z": [
          -0.1425354927778244
         ]
        },
        {
         "hovertemplate": "color=theon<br>0=%{x}<br>1=%{y}<br>2=%{z}<extra></extra>",
         "legendgroup": "theon",
         "marker": {
          "color": "#00cc96",
          "symbol": "circle"
         },
         "mode": "markers",
         "name": "theon",
         "scene": "scene",
         "showlegend": true,
         "type": "scatter3d",
         "x": [
          -0.15143898129463196
         ],
         "y": [
          0.062382087111473083
         ],
         "z": [
          0.3241094946861267
         ]
        },
        {
         "hovertemplate": "color=felt<br>0=%{x}<br>1=%{y}<br>2=%{z}<extra></extra>",
         "legendgroup": "felt",
         "marker": {
          "color": "#ab63fa",
          "symbol": "circle"
         },
         "mode": "markers",
         "name": "felt",
         "scene": "scene",
         "showlegend": true,
         "type": "scatter3d",
         "x": [
          0.23739510774612427
         ],
         "y": [
          -0.4814433157444
         ],
         "z": [
          0.039960525929927826
         ]
        },
        {
         "hovertemplate": "color=side<br>0=%{x}<br>1=%{y}<br>2=%{z}<extra></extra>",
         "legendgroup": "side",
         "marker": {
          "color": "#FFA15A",
          "symbol": "circle"
         },
         "mode": "markers",
         "name": "side",
         "scene": "scene",
         "showlegend": true,
         "type": "scatter3d",
         "x": [
          0.4287964999675751
         ],
         "y": [
          0.3812182545661926
         ],
         "z": [
          -0.03427452594041824
         ]
        },
        {
         "hovertemplate": "color=yes<br>0=%{x}<br>1=%{y}<br>2=%{z}<extra></extra>",
         "legendgroup": "yes",
         "marker": {
          "color": "#19d3f3",
          "symbol": "circle"
         },
         "mode": "markers",
         "name": "yes",
         "scene": "scene",
         "showlegend": true,
         "type": "scatter3d",
         "x": [
          -0.7518669962882996
         ],
         "y": [
          -0.1366375982761383
         ],
         "z": [
          0.12504878640174866
         ]
        },
        {
         "hovertemplate": "color=brothers<br>0=%{x}<br>1=%{y}<br>2=%{z}<extra></extra>",
         "legendgroup": "brothers",
         "marker": {
          "color": "#FF6692",
          "symbol": "circle"
         },
         "mode": "markers",
         "name": "brothers",
         "scene": "scene",
         "showlegend": true,
         "type": "scatter3d",
         "x": [
          -0.3055478632450104
         ],
         "y": [
          0.6690699458122253
         ],
         "z": [
          -0.1188918799161911
         ]
        },
        {
         "hovertemplate": "color=best<br>0=%{x}<br>1=%{y}<br>2=%{z}<extra></extra>",
         "legendgroup": "best",
         "marker": {
          "color": "#B6E880",
          "symbol": "circle"
         },
         "mode": "markers",
         "name": "best",
         "scene": "scene",
         "showlegend": true,
         "type": "scatter3d",
         "x": [
          -0.6291022300720215
         ],
         "y": [
          -0.11107948422431946
         ],
         "z": [
          -0.39755141735076904
         ]
        },
        {
         "hovertemplate": "color=die<br>0=%{x}<br>1=%{y}<br>2=%{z}<extra></extra>",
         "legendgroup": "die",
         "marker": {
          "color": "#FF97FF",
          "symbol": "circle"
         },
         "mode": "markers",
         "name": "die",
         "scene": "scene",
         "showlegend": true,
         "type": "scatter3d",
         "x": [
          -0.6290321946144104
         ],
         "y": [
          -0.05961969494819641
         ],
         "z": [
          -0.3436715602874756
         ]
        },
        {
         "hovertemplate": "color=brought<br>0=%{x}<br>1=%{y}<br>2=%{z}<extra></extra>",
         "legendgroup": "brought",
         "marker": {
          "color": "#FECB52",
          "symbol": "circle"
         },
         "mode": "markers",
         "name": "brought",
         "scene": "scene",
         "showlegend": true,
         "type": "scatter3d",
         "x": [
          -0.038100503385066986
         ],
         "y": [
          0.31582772731781006
         ],
         "z": [
          0.07850174605846405
         ]
        },
        {
         "hovertemplate": "color=soon<br>0=%{x}<br>1=%{y}<br>2=%{z}<extra></extra>",
         "legendgroup": "soon",
         "marker": {
          "color": "#636efa",
          "symbol": "circle"
         },
         "mode": "markers",
         "name": "soon",
         "scene": "scene",
         "showlegend": true,
         "type": "scatter3d",
         "x": [
          -0.2882899343967438
         ],
         "y": [
          0.0016296803951263428
         ],
         "z": [
          -0.4614129662513733
         ]
        },
        {
         "hovertemplate": "color=died<br>0=%{x}<br>1=%{y}<br>2=%{z}<extra></extra>",
         "legendgroup": "died",
         "marker": {
          "color": "#EF553B",
          "symbol": "circle"
         },
         "mode": "markers",
         "name": "died",
         "scene": "scene",
         "showlegend": true,
         "type": "scatter3d",
         "x": [
          -0.3358248472213745
         ],
         "y": [
          0.595690131187439
         ],
         "z": [
          0.11028838157653809
         ]
        },
        {
         "hovertemplate": "color=far<br>0=%{x}<br>1=%{y}<br>2=%{z}<extra></extra>",
         "legendgroup": "far",
         "marker": {
          "color": "#00cc96",
          "symbol": "circle"
         },
         "mode": "markers",
         "name": "far",
         "scene": "scene",
         "showlegend": true,
         "type": "scatter3d",
         "x": [
          0.04794033616781235
         ],
         "y": [
          0.06372718513011932
         ],
         "z": [
          -0.5507473945617676
         ]
        },
        {
         "hovertemplate": "color=north<br>0=%{x}<br>1=%{y}<br>2=%{z}<extra></extra>",
         "legendgroup": "north",
         "marker": {
          "color": "#ab63fa",
          "symbol": "circle"
         },
         "mode": "markers",
         "name": "north",
         "scene": "scene",
         "showlegend": true,
         "type": "scatter3d",
         "x": [
          -0.11908227950334549
         ],
         "y": [
          0.6266216039657593
         ],
         "z": [
          -0.3393111824989319
         ]
        },
        {
         "hovertemplate": "color=fear<br>0=%{x}<br>1=%{y}<br>2=%{z}<extra></extra>",
         "legendgroup": "fear",
         "marker": {
          "color": "#FFA15A",
          "symbol": "circle"
         },
         "mode": "markers",
         "name": "fear",
         "scene": "scene",
         "showlegend": true,
         "type": "scatter3d",
         "x": [
          -0.38462382555007935
         ],
         "y": [
          -0.44902071356773376
         ],
         "z": [
          -0.28142446279525757
         ]
        },
        {
         "hovertemplate": "color=child<br>0=%{x}<br>1=%{y}<br>2=%{z}<extra></extra>",
         "legendgroup": "child",
         "marker": {
          "color": "#19d3f3",
          "symbol": "circle"
         },
         "mode": "markers",
         "name": "child",
         "scene": "scene",
         "showlegend": true,
         "type": "scatter3d",
         "x": [
          -0.6003534197807312
         ],
         "y": [
          -0.022998645901679993
         ],
         "z": [
          0.09947143495082855
         ]
        },
        {
         "hovertemplate": "color=did<br>0=%{x}<br>1=%{y}<br>2=%{z}<extra></extra>",
         "legendgroup": "did",
         "marker": {
          "color": "#FF6692",
          "symbol": "circle"
         },
         "mode": "markers",
         "name": "did",
         "scene": "scene",
         "showlegend": true,
         "type": "scatter3d",
         "x": [
          -0.6771734356880188
         ],
         "y": [
          -0.31685248017311096
         ],
         "z": [
          0.0638948306441307
         ]
        },
        {
         "hovertemplate": "color=your<br>0=%{x}<br>1=%{y}<br>2=%{z}<extra></extra>",
         "legendgroup": "your",
         "marker": {
          "color": "#B6E880",
          "symbol": "circle"
         },
         "mode": "markers",
         "name": "your",
         "scene": "scene",
         "showlegend": true,
         "type": "scatter3d",
         "x": [
          -0.6768441796302795
         ],
         "y": [
          0.19794940948486328
         ],
         "z": [
          0.2600497901439667
         ]
        },
        {
         "hovertemplate": "color=along<br>0=%{x}<br>1=%{y}<br>2=%{z}<extra></extra>",
         "legendgroup": "along",
         "marker": {
          "color": "#FF97FF",
          "symbol": "circle"
         },
         "mode": "markers",
         "name": "along",
         "scene": "scene",
         "showlegend": true,
         "type": "scatter3d",
         "x": [
          0.5085152387619019
         ],
         "y": [
          0.4160350561141968
         ],
         "z": [
          -0.422376811504364
         ]
        },
        {
         "hovertemplate": "color=is<br>0=%{x}<br>1=%{y}<br>2=%{z}<extra></extra>",
         "legendgroup": "is",
         "marker": {
          "color": "#FECB52",
          "symbol": "circle"
         },
         "mode": "markers",
         "name": "is",
         "scene": "scene",
         "showlegend": true,
         "type": "scatter3d",
         "x": [
          -0.7701480388641357
         ],
         "y": [
          -0.06969258189201355
         ],
         "z": [
          0.08449158817529678
         ]
        },
        {
         "hovertemplate": "color=brienne<br>0=%{x}<br>1=%{y}<br>2=%{z}<extra></extra>",
         "legendgroup": "brienne",
         "marker": {
          "color": "#636efa",
          "symbol": "circle"
         },
         "mode": "markers",
         "name": "brienne",
         "scene": "scene",
         "showlegend": true,
         "type": "scatter3d",
         "x": [
          0.03392591327428818
         ],
         "y": [
          -0.25913006067276
         ],
         "z": [
          0.29355546832084656
         ]
        },
        {
         "hovertemplate": "color=word<br>0=%{x}<br>1=%{y}<br>2=%{z}<extra></extra>",
         "legendgroup": "word",
         "marker": {
          "color": "#EF553B",
          "symbol": "circle"
         },
         "mode": "markers",
         "name": "word",
         "scene": "scene",
         "showlegend": true,
         "type": "scatter3d",
         "x": [
          -0.5991548895835876
         ],
         "y": [
          -0.012369289994239807
         ],
         "z": [
          0.07548448443412781
         ]
        },
        {
         "hovertemplate": "color=taken<br>0=%{x}<br>1=%{y}<br>2=%{z}<extra></extra>",
         "legendgroup": "taken",
         "marker": {
          "color": "#00cc96",
          "symbol": "circle"
         },
         "mode": "markers",
         "name": "taken",
         "scene": "scene",
         "showlegend": true,
         "type": "scatter3d",
         "x": [
          -0.33527567982673645
         ],
         "y": [
          0.632000744342804
         ],
         "z": [
          -0.11019419133663177
         ]
        },
        {
         "hovertemplate": "color=battle<br>0=%{x}<br>1=%{y}<br>2=%{z}<extra></extra>",
         "legendgroup": "battle",
         "marker": {
          "color": "#ab63fa",
          "symbol": "circle"
         },
         "mode": "markers",
         "name": "battle",
         "scene": "scene",
         "showlegend": true,
         "type": "scatter3d",
         "x": [
          -0.33221957087516785
         ],
         "y": [
          0.6802138090133667
         ],
         "z": [
          -0.11690917611122131
         ]
        },
        {
         "hovertemplate": "color=help<br>0=%{x}<br>1=%{y}<br>2=%{z}<extra></extra>",
         "legendgroup": "help",
         "marker": {
          "color": "#FFA15A",
          "symbol": "circle"
         },
         "mode": "markers",
         "name": "help",
         "scene": "scene",
         "showlegend": true,
         "type": "scatter3d",
         "x": [
          -0.5315266847610474
         ],
         "y": [
          -0.2230842113494873
         ],
         "z": [
          -0.049171678721904755
         ]
        },
        {
         "hovertemplate": "color=new<br>0=%{x}<br>1=%{y}<br>2=%{z}<extra></extra>",
         "legendgroup": "new",
         "marker": {
          "color": "#19d3f3",
          "symbol": "circle"
         },
         "mode": "markers",
         "name": "new",
         "scene": "scene",
         "showlegend": true,
         "type": "scatter3d",
         "x": [
          -0.3117576539516449
         ],
         "y": [
          0.6650285720825195
         ],
         "z": [
          -0.18175555765628815
         ]
        },
        {
         "hovertemplate": "color=tywin<br>0=%{x}<br>1=%{y}<br>2=%{z}<extra></extra>",
         "legendgroup": "tywin",
         "marker": {
          "color": "#FF6692",
          "symbol": "circle"
         },
         "mode": "markers",
         "name": "tywin",
         "scene": "scene",
         "showlegend": true,
         "type": "scatter3d",
         "x": [
          -0.3702700436115265
         ],
         "y": [
          0.3674830198287964
         ],
         "z": [
          0.20328208804130554
         ]
        },
        {
         "hovertemplate": "color=davos<br>0=%{x}<br>1=%{y}<br>2=%{z}<extra></extra>",
         "legendgroup": "davos",
         "marker": {
          "color": "#B6E880",
          "symbol": "circle"
         },
         "mode": "markers",
         "name": "davos",
         "scene": "scene",
         "showlegend": true,
         "type": "scatter3d",
         "x": [
          -0.14250239729881287
         ],
         "y": [
          0.046515196561813354
         ],
         "z": [
          0.2033829540014267
         ]
        },
        {
         "hovertemplate": "color=lords<br>0=%{x}<br>1=%{y}<br>2=%{z}<extra></extra>",
         "legendgroup": "lords",
         "marker": {
          "color": "#FF97FF",
          "symbol": "circle"
         },
         "mode": "markers",
         "name": "lords",
         "scene": "scene",
         "showlegend": true,
         "type": "scatter3d",
         "x": [
          -0.42170897126197815
         ],
         "y": [
          0.8163648843765259
         ],
         "z": [
          -0.13948258757591248
         ]
        },
        {
         "hovertemplate": "color=something<br>0=%{x}<br>1=%{y}<br>2=%{z}<extra></extra>",
         "legendgroup": "something",
         "marker": {
          "color": "#FECB52",
          "symbol": "circle"
         },
         "mode": "markers",
         "name": "something",
         "scene": "scene",
         "showlegend": true,
         "type": "scatter3d",
         "x": [
          -0.11412075161933899
         ],
         "y": [
          -0.6462643146514893
         ],
         "z": [
          0.02035609632730484
         ]
        },
        {
         "hovertemplate": "color=up<br>0=%{x}<br>1=%{y}<br>2=%{z}<extra></extra>",
         "legendgroup": "up",
         "marker": {
          "color": "#636efa",
          "symbol": "circle"
         },
         "mode": "markers",
         "name": "up",
         "scene": "scene",
         "showlegend": true,
         "type": "scatter3d",
         "x": [
          0.4393142759799957
         ],
         "y": [
          -0.25750142335891724
         ],
         "z": [
          -0.011289425194263458
         ]
        },
        {
         "hovertemplate": "color=wife<br>0=%{x}<br>1=%{y}<br>2=%{z}<extra></extra>",
         "legendgroup": "wife",
         "marker": {
          "color": "#EF553B",
          "symbol": "circle"
         },
         "mode": "markers",
         "name": "wife",
         "scene": "scene",
         "showlegend": true,
         "type": "scatter3d",
         "x": [
          -0.5364438891410828
         ],
         "y": [
          0.586415708065033
         ],
         "z": [
          0.27020132541656494
         ]
        },
        {
         "hovertemplate": "color=mean<br>0=%{x}<br>1=%{y}<br>2=%{z}<extra></extra>",
         "legendgroup": "mean",
         "marker": {
          "color": "#00cc96",
          "symbol": "circle"
         },
         "mode": "markers",
         "name": "mean",
         "scene": "scene",
         "showlegend": true,
         "type": "scatter3d",
         "x": [
          -0.7733548879623413
         ],
         "y": [
          0.01769411563873291
         ],
         "z": [
          -0.18290235102176666
         ]
        },
        {
         "hovertemplate": "color=hall<br>0=%{x}<br>1=%{y}<br>2=%{z}<extra></extra>",
         "legendgroup": "hall",
         "marker": {
          "color": "#ab63fa",
          "symbol": "circle"
         },
         "mode": "markers",
         "name": "hall",
         "scene": "scene",
         "showlegend": true,
         "type": "scatter3d",
         "x": [
          0.3705485165119171
         ],
         "y": [
          0.5116744041442871
         ],
         "z": [
          -0.08979156613349915
         ]
        },
        {
         "hovertemplate": "color=rest<br>0=%{x}<br>1=%{y}<br>2=%{z}<extra></extra>",
         "legendgroup": "rest",
         "marker": {
          "color": "#FFA15A",
          "symbol": "circle"
         },
         "mode": "markers",
         "name": "rest",
         "scene": "scene",
         "showlegend": true,
         "type": "scatter3d",
         "x": [
          -0.21949252486228943
         ],
         "y": [
          0.1640654355287552
         ],
         "z": [
          -0.37553155422210693
         ]
        },
        {
         "hovertemplate": "color=kill<br>0=%{x}<br>1=%{y}<br>2=%{z}<extra></extra>",
         "legendgroup": "kill",
         "marker": {
          "color": "#19d3f3",
          "symbol": "circle"
         },
         "mode": "markers",
         "name": "kill",
         "scene": "scene",
         "showlegend": true,
         "type": "scatter3d",
         "x": [
          -0.62916100025177
         ],
         "y": [
          -0.2343875765800476
         ],
         "z": [
          -0.048288002610206604
         ]
        },
        {
         "hovertemplate": "color=strong<br>0=%{x}<br>1=%{y}<br>2=%{z}<extra></extra>",
         "legendgroup": "strong",
         "marker": {
          "color": "#FF6692",
          "symbol": "circle"
         },
         "mode": "markers",
         "name": "strong",
         "scene": "scene",
         "showlegend": true,
         "type": "scatter3d",
         "x": [
          -0.18638402223587036
         ],
         "y": [
          0.11844734847545624
         ],
         "z": [
          -0.13623766601085663
         ]
        },
        {
         "hovertemplate": "color=steel<br>0=%{x}<br>1=%{y}<br>2=%{z}<extra></extra>",
         "legendgroup": "steel",
         "marker": {
          "color": "#B6E880",
          "symbol": "circle"
         },
         "mode": "markers",
         "name": "steel",
         "scene": "scene",
         "showlegend": true,
         "type": "scatter3d",
         "x": [
          0.6260586380958557
         ],
         "y": [
          0.12184162437915802
         ],
         "z": [
          0.07579260319471359
         ]
        },
        {
         "hovertemplate": "color=began<br>0=%{x}<br>1=%{y}<br>2=%{z}<extra></extra>",
         "legendgroup": "began",
         "marker": {
          "color": "#FF97FF",
          "symbol": "circle"
         },
         "mode": "markers",
         "name": "began",
         "scene": "scene",
         "showlegend": true,
         "type": "scatter3d",
         "x": [
          0.48232501745224
         ],
         "y": [
          -0.20214122533798218
         ],
         "z": [
          -0.08866241574287415
         ]
        },
        {
         "hovertemplate": "color=sound<br>0=%{x}<br>1=%{y}<br>2=%{z}<extra></extra>",
         "legendgroup": "sound",
         "marker": {
          "color": "#FECB52",
          "symbol": "circle"
         },
         "mode": "markers",
         "name": "sound",
         "scene": "scene",
         "showlegend": true,
         "type": "scatter3d",
         "x": [
          0.44950953125953674
         ],
         "y": [
          -0.34824517369270325
         ],
         "z": [
          -0.1680603176355362
         ]
        },
        {
         "hovertemplate": "color=dragon<br>0=%{x}<br>1=%{y}<br>2=%{z}<extra></extra>",
         "legendgroup": "dragon",
         "marker": {
          "color": "#636efa",
          "symbol": "circle"
         },
         "mode": "markers",
         "name": "dragon",
         "scene": "scene",
         "showlegend": true,
         "type": "scatter3d",
         "x": [
          0.06944390386343002
         ],
         "y": [
          0.24956420063972473
         ],
         "z": [
          -0.2738613486289978
         ]
        },
        {
         "hovertemplate": "color=past<br>0=%{x}<br>1=%{y}<br>2=%{z}<extra></extra>",
         "legendgroup": "past",
         "marker": {
          "color": "#EF553B",
          "symbol": "circle"
         },
         "mode": "markers",
         "name": "past",
         "scene": "scene",
         "showlegend": true,
         "type": "scatter3d",
         "x": [
          0.4479193389415741
         ],
         "y": [
          0.4530643820762634
         ],
         "z": [
          -0.22816084325313568
         ]
        },
        {
         "hovertemplate": "color=life<br>0=%{x}<br>1=%{y}<br>2=%{z}<extra></extra>",
         "legendgroup": "life",
         "marker": {
          "color": "#00cc96",
          "symbol": "circle"
         },
         "mode": "markers",
         "name": "life",
         "scene": "scene",
         "showlegend": true,
         "type": "scatter3d",
         "x": [
          -0.5874871015548706
         ],
         "y": [
          0.08715847134590149
         ],
         "z": [
          -0.3359474539756775
         ]
        },
        {
         "hovertemplate": "color=tower<br>0=%{x}<br>1=%{y}<br>2=%{z}<extra></extra>",
         "legendgroup": "tower",
         "marker": {
          "color": "#ab63fa",
          "symbol": "circle"
         },
         "mode": "markers",
         "name": "tower",
         "scene": "scene",
         "showlegend": true,
         "type": "scatter3d",
         "x": [
          0.3625015318393707
         ],
         "y": [
          0.570652961730957
         ],
         "z": [
          -0.19543249905109406
         ]
        },
        {
         "hovertemplate": "color=killed<br>0=%{x}<br>1=%{y}<br>2=%{z}<extra></extra>",
         "legendgroup": "killed",
         "marker": {
          "color": "#FFA15A",
          "symbol": "circle"
         },
         "mode": "markers",
         "name": "killed",
         "scene": "scene",
         "showlegend": true,
         "type": "scatter3d",
         "x": [
          -0.5322206020355225
         ],
         "y": [
          0.20722319185733795
         ],
         "z": [
          0.18489335477352142
         ]
        },
        {
         "hovertemplate": "color=was<br>0=%{x}<br>1=%{y}<br>2=%{z}<extra></extra>",
         "legendgroup": "was",
         "marker": {
          "color": "#19d3f3",
          "symbol": "circle"
         },
         "mode": "markers",
         "name": "was",
         "scene": "scene",
         "showlegend": true,
         "type": "scatter3d",
         "x": [
          -0.27964338660240173
         ],
         "y": [
          -0.2264285683631897
         ],
         "z": [
          0.14726880192756653
         ]
        },
        {
         "hovertemplate": "color=arm<br>0=%{x}<br>1=%{y}<br>2=%{z}<extra></extra>",
         "legendgroup": "arm",
         "marker": {
          "color": "#FF6692",
          "symbol": "circle"
         },
         "mode": "markers",
         "name": "arm",
         "scene": "scene",
         "showlegend": true,
         "type": "scatter3d",
         "x": [
          0.4024132490158081
         ],
         "y": [
          -0.048974454402923584
         ],
         "z": [
          0.4510918855667114
         ]
        },
        {
         "hovertemplate": "color=sons<br>0=%{x}<br>1=%{y}<br>2=%{z}<extra></extra>",
         "legendgroup": "sons",
         "marker": {
          "color": "#B6E880",
          "symbol": "circle"
         },
         "mode": "markers",
         "name": "sons",
         "scene": "scene",
         "showlegend": true,
         "type": "scatter3d",
         "x": [
          -0.43806135654449463
         ],
         "y": [
          0.857634425163269
         ],
         "z": [
          0.0659630075097084
         ]
        },
        {
         "hovertemplate": "color=tried<br>0=%{x}<br>1=%{y}<br>2=%{z}<extra></extra>",
         "legendgroup": "tried",
         "marker": {
          "color": "#FF97FF",
          "symbol": "circle"
         },
         "mode": "markers",
         "name": "tried",
         "scene": "scene",
         "showlegend": true,
         "type": "scatter3d",
         "x": [
          -0.047349315136671066
         ],
         "y": [
          -0.44981470704078674
         ],
         "z": [
          0.07040924578905106
         ]
        },
        {
         "hovertemplate": "color=free<br>0=%{x}<br>1=%{y}<br>2=%{z}<extra></extra>",
         "legendgroup": "free",
         "marker": {
          "color": "#FECB52",
          "symbol": "circle"
         },
         "mode": "markers",
         "name": "free",
         "scene": "scene",
         "showlegend": true,
         "type": "scatter3d",
         "x": [
          -0.14092248678207397
         ],
         "y": [
          0.35959917306900024
         ],
         "z": [
          -0.5438696146011353
         ]
        },
        {
         "hovertemplate": "color=thing<br>0=%{x}<br>1=%{y}<br>2=%{z}<extra></extra>",
         "legendgroup": "thing",
         "marker": {
          "color": "#636efa",
          "symbol": "circle"
         },
         "mode": "markers",
         "name": "thing",
         "scene": "scene",
         "showlegend": true,
         "type": "scatter3d",
         "x": [
          -0.22046294808387756
         ],
         "y": [
          -0.25337332487106323
         ],
         "z": [
          -0.19241271913051605
         ]
        },
        {
         "hovertemplate": "color=days<br>0=%{x}<br>1=%{y}<br>2=%{z}<extra></extra>",
         "legendgroup": "days",
         "marker": {
          "color": "#EF553B",
          "symbol": "circle"
         },
         "mode": "markers",
         "name": "days",
         "scene": "scene",
         "showlegend": true,
         "type": "scatter3d",
         "x": [
          -0.06796655058860779
         ],
         "y": [
          0.39640286564826965
         ],
         "z": [
          -0.5920456051826477
         ]
        },
        {
         "hovertemplate": "color=once<br>0=%{x}<br>1=%{y}<br>2=%{z}<extra></extra>",
         "legendgroup": "once",
         "marker": {
          "color": "#00cc96",
          "symbol": "circle"
         },
         "mode": "markers",
         "name": "once",
         "scene": "scene",
         "showlegend": true,
         "type": "scatter3d",
         "x": [
          -0.3489898443222046
         ],
         "y": [
          -0.09900814294815063
         ],
         "z": [
          0.12238934636116028
         ]
        },
        {
         "hovertemplate": "color=bear<br>0=%{x}<br>1=%{y}<br>2=%{z}<extra></extra>",
         "legendgroup": "bear",
         "marker": {
          "color": "#ab63fa",
          "symbol": "circle"
         },
         "mode": "markers",
         "name": "bear",
         "scene": "scene",
         "showlegend": true,
         "type": "scatter3d",
         "x": [
          -0.12862825393676758
         ],
         "y": [
          0.1306331306695938
         ],
         "z": [
          0.06372804939746857
         ]
        },
        {
         "hovertemplate": "color=bloody<br>0=%{x}<br>1=%{y}<br>2=%{z}<extra></extra>",
         "legendgroup": "bloody",
         "marker": {
          "color": "#FFA15A",
          "symbol": "circle"
         },
         "mode": "markers",
         "name": "bloody",
         "scene": "scene",
         "showlegend": true,
         "type": "scatter3d",
         "x": [
          -0.03172672167420387
         ],
         "y": [
          -0.21699491143226624
         ],
         "z": [
          -0.12981055676937103
         ]
        },
        {
         "hovertemplate": "color=heart<br>0=%{x}<br>1=%{y}<br>2=%{z}<extra></extra>",
         "legendgroup": "heart",
         "marker": {
          "color": "#19d3f3",
          "symbol": "circle"
         },
         "mode": "markers",
         "name": "heart",
         "scene": "scene",
         "showlegend": true,
         "type": "scatter3d",
         "x": [
          0.204570472240448
         ],
         "y": [
          -0.07077658176422119
         ],
         "z": [
          -0.011812858283519745
         ]
        },
        {
         "hovertemplate": "color=pale<br>0=%{x}<br>1=%{y}<br>2=%{z}<extra></extra>",
         "legendgroup": "pale",
         "marker": {
          "color": "#FF6692",
          "symbol": "circle"
         },
         "mode": "markers",
         "name": "pale",
         "scene": "scene",
         "showlegend": true,
         "type": "scatter3d",
         "x": [
          0.6494172215461731
         ],
         "y": [
          0.15930938720703125
         ],
         "z": [
          0.20322544872760773
         ]
        },
        {
         "hovertemplate": "color=love<br>0=%{x}<br>1=%{y}<br>2=%{z}<extra></extra>",
         "legendgroup": "love",
         "marker": {
          "color": "#B6E880",
          "symbol": "circle"
         },
         "mode": "markers",
         "name": "love",
         "scene": "scene",
         "showlegend": true,
         "type": "scatter3d",
         "x": [
          -0.788421630859375
         ],
         "y": [
          -0.03263108432292938
         ],
         "z": [
          -0.03969188779592514
         ]
        },
        {
         "hovertemplate": "color=moment<br>0=%{x}<br>1=%{y}<br>2=%{z}<extra></extra>",
         "legendgroup": "moment",
         "marker": {
          "color": "#FF97FF",
          "symbol": "circle"
         },
         "mode": "markers",
         "name": "moment",
         "scene": "scene",
         "showlegend": true,
         "type": "scatter3d",
         "x": [
          0.008856888860464096
         ],
         "y": [
          -0.3659832179546356
         ],
         "z": [
          0.2838839590549469
         ]
        },
        {
         "hovertemplate": "color=sat<br>0=%{x}<br>1=%{y}<br>2=%{z}<extra></extra>",
         "legendgroup": "sat",
         "marker": {
          "color": "#FECB52",
          "symbol": "circle"
         },
         "mode": "markers",
         "name": "sat",
         "scene": "scene",
         "showlegend": true,
         "type": "scatter3d",
         "x": [
          0.4732844829559326
         ],
         "y": [
          0.36295512318611145
         ],
         "z": [
          0.28607797622680664
         ]
        },
        {
         "hovertemplate": "color=bring<br>0=%{x}<br>1=%{y}<br>2=%{z}<extra></extra>",
         "legendgroup": "bring",
         "marker": {
          "color": "#636efa",
          "symbol": "circle"
         },
         "mode": "markers",
         "name": "bring",
         "scene": "scene",
         "showlegend": true,
         "type": "scatter3d",
         "x": [
          -0.5209507346153259
         ],
         "y": [
          0.10788594186306
         ],
         "z": [
          -0.1167198121547699
         ]
        },
        {
         "hovertemplate": "color=bed<br>0=%{x}<br>1=%{y}<br>2=%{z}<extra></extra>",
         "legendgroup": "bed",
         "marker": {
          "color": "#EF553B",
          "symbol": "circle"
         },
         "mode": "markers",
         "name": "bed",
         "scene": "scene",
         "showlegend": true,
         "type": "scatter3d",
         "x": [
          0.09611444920301437
         ],
         "y": [
          -0.23465248942375183
         ],
         "z": [
          0.09033885598182678
         ]
        },
        {
         "hovertemplate": "color=close<br>0=%{x}<br>1=%{y}<br>2=%{z}<extra></extra>",
         "legendgroup": "close",
         "marker": {
          "color": "#00cc96",
          "symbol": "circle"
         },
         "mode": "markers",
         "name": "close",
         "scene": "scene",
         "showlegend": true,
         "type": "scatter3d",
         "x": [
          0.3101609945297241
         ],
         "y": [
          -0.17283788323402405
         ],
         "z": [
          -0.07216890156269073
         ]
        },
        {
         "hovertemplate": "color=knights<br>0=%{x}<br>1=%{y}<br>2=%{z}<extra></extra>",
         "legendgroup": "knights",
         "marker": {
          "color": "#ab63fa",
          "symbol": "circle"
         },
         "mode": "markers",
         "name": "knights",
         "scene": "scene",
         "showlegend": true,
         "type": "scatter3d",
         "x": [
          -0.2348904311656952
         ],
         "y": [
          0.8468536138534546
         ],
         "z": [
          -0.030879519879817963
         ]
        },
        {
         "hovertemplate": "color=cut<br>0=%{x}<br>1=%{y}<br>2=%{z}<extra></extra>",
         "legendgroup": "cut",
         "marker": {
          "color": "#FFA15A",
          "symbol": "circle"
         },
         "mode": "markers",
         "name": "cut",
         "scene": "scene",
         "showlegend": true,
         "type": "scatter3d",
         "x": [
          0.29506513476371765
         ],
         "y": [
          -0.20754337310791016
         ],
         "z": [
          0.0730193555355072
         ]
        },
        {
         "hovertemplate": "color=his<br>0=%{x}<br>1=%{y}<br>2=%{z}<extra></extra>",
         "legendgroup": "his",
         "marker": {
          "color": "#19d3f3",
          "symbol": "circle"
         },
         "mode": "markers",
         "name": "his",
         "scene": "scene",
         "showlegend": true,
         "type": "scatter3d",
         "x": [
          -0.4306928515434265
         ],
         "y": [
          0.7409180402755737
         ],
         "z": [
          0.4354104995727539
         ]
        },
        {
         "hovertemplate": "color=wolf<br>0=%{x}<br>1=%{y}<br>2=%{z}<extra></extra>",
         "legendgroup": "wolf",
         "marker": {
          "color": "#FF6692",
          "symbol": "circle"
         },
         "mode": "markers",
         "name": "wolf",
         "scene": "scene",
         "showlegend": true,
         "type": "scatter3d",
         "x": [
          0.011133849620819092
         ],
         "y": [
          -0.05610525608062744
         ],
         "z": [
          0.09688130021095276
         ]
        },
        {
         "hovertemplate": "color=horses<br>0=%{x}<br>1=%{y}<br>2=%{z}<extra></extra>",
         "legendgroup": "horses",
         "marker": {
          "color": "#B6E880",
          "symbol": "circle"
         },
         "mode": "markers",
         "name": "horses",
         "scene": "scene",
         "showlegend": true,
         "type": "scatter3d",
         "x": [
          0.36915281414985657
         ],
         "y": [
          0.08445249497890472
         ],
         "z": [
          -0.5107660889625549
         ]
        },
        {
         "hovertemplate": "color=smile<br>0=%{x}<br>1=%{y}<br>2=%{z}<extra></extra>",
         "legendgroup": "smile",
         "marker": {
          "color": "#FF97FF",
          "symbol": "circle"
         },
         "mode": "markers",
         "name": "smile",
         "scene": "scene",
         "showlegend": true,
         "type": "scatter3d",
         "x": [
          -0.027797585353255272
         ],
         "y": [
          -0.32545068860054016
         ],
         "z": [
          0.5869634747505188
         ]
        },
        {
         "hovertemplate": "color=death<br>0=%{x}<br>1=%{y}<br>2=%{z}<extra></extra>",
         "legendgroup": "death",
         "marker": {
          "color": "#FECB52",
          "symbol": "circle"
         },
         "mode": "markers",
         "name": "death",
         "scene": "scene",
         "showlegend": true,
         "type": "scatter3d",
         "x": [
          -0.45476990938186646
         ],
         "y": [
          0.07144486904144287
         ],
         "z": [
          -0.1667214334011078
         ]
        },
        {
         "hovertemplate": "color=inside<br>0=%{x}<br>1=%{y}<br>2=%{z}<extra></extra>",
         "legendgroup": "inside",
         "marker": {
          "color": "#636efa",
          "symbol": "circle"
         },
         "mode": "markers",
         "name": "inside",
         "scene": "scene",
         "showlegend": true,
         "type": "scatter3d",
         "x": [
          0.6231427788734436
         ],
         "y": [
          -0.13714349269866943
         ],
         "z": [
          -0.225994274020195
         ]
        },
        {
         "hovertemplate": "color=four<br>0=%{x}<br>1=%{y}<br>2=%{z}<extra></extra>",
         "legendgroup": "four",
         "marker": {
          "color": "#EF553B",
          "symbol": "circle"
         },
         "mode": "markers",
         "name": "four",
         "scene": "scene",
         "showlegend": true,
         "type": "scatter3d",
         "x": [
          0.04351276904344559
         ],
         "y": [
          0.6953021287918091
         ],
         "z": [
          -0.21036411821842194
         ]
        },
        {
         "hovertemplate": "color=brown<br>0=%{x}<br>1=%{y}<br>2=%{z}<extra></extra>",
         "legendgroup": "brown",
         "marker": {
          "color": "#00cc96",
          "symbol": "circle"
         },
         "mode": "markers",
         "name": "brown",
         "scene": "scene",
         "showlegend": true,
         "type": "scatter3d",
         "x": [
          0.5428330302238464
         ],
         "y": [
          0.14929327368736267
         ],
         "z": [
          0.2500092387199402
         ]
        },
        {
         "hovertemplate": "color=hot<br>0=%{x}<br>1=%{y}<br>2=%{z}<extra></extra>",
         "legendgroup": "hot",
         "marker": {
          "color": "#ab63fa",
          "symbol": "circle"
         },
         "mode": "markers",
         "name": "hot",
         "scene": "scene",
         "showlegend": true,
         "type": "scatter3d",
         "x": [
          0.3895701766014099
         ],
         "y": [
          -0.46584466099739075
         ],
         "z": [
          -0.2105461210012436
         ]
        },
        {
         "hovertemplate": "color=dragons<br>0=%{x}<br>1=%{y}<br>2=%{z}<extra></extra>",
         "legendgroup": "dragons",
         "marker": {
          "color": "#FFA15A",
          "symbol": "circle"
         },
         "mode": "markers",
         "name": "dragons",
         "scene": "scene",
         "showlegend": true,
         "type": "scatter3d",
         "x": [
          -0.2395380139350891
         ],
         "y": [
          0.2919405400753021
         ],
         "z": [
          -0.5081130266189575
         ]
        },
        {
         "hovertemplate": "color=silver<br>0=%{x}<br>1=%{y}<br>2=%{z}<extra></extra>",
         "legendgroup": "silver",
         "marker": {
          "color": "#19d3f3",
          "symbol": "circle"
         },
         "mode": "markers",
         "name": "silver",
         "scene": "scene",
         "showlegend": true,
         "type": "scatter3d",
         "x": [
          0.45489436388015747
         ],
         "y": [
          0.4302746653556824
         ],
         "z": [
          0.18048980832099915
         ]
        },
        {
         "hovertemplate": "color=part<br>0=%{x}<br>1=%{y}<br>2=%{z}<extra></extra>",
         "legendgroup": "part",
         "marker": {
          "color": "#FF6692",
          "symbol": "circle"
         },
         "mode": "markers",
         "name": "part",
         "scene": "scene",
         "showlegend": true,
         "type": "scatter3d",
         "x": [
          -0.6048755049705505
         ],
         "y": [
          0.1623239517211914
         ],
         "z": [
          -0.3052127957344055
         ]
        },
        {
         "hovertemplate": "color=bastard<br>0=%{x}<br>1=%{y}<br>2=%{z}<extra></extra>",
         "legendgroup": "bastard",
         "marker": {
          "color": "#B6E880",
          "symbol": "circle"
         },
         "mode": "markers",
         "name": "bastard",
         "scene": "scene",
         "showlegend": true,
         "type": "scatter3d",
         "x": [
          -0.5522125363349915
         ],
         "y": [
          0.5950689911842346
         ],
         "z": [
          0.3171403408050537
         ]
        },
        {
         "hovertemplate": "color=open<br>0=%{x}<br>1=%{y}<br>2=%{z}<extra></extra>",
         "legendgroup": "open",
         "marker": {
          "color": "#FF97FF",
          "symbol": "circle"
         },
         "mode": "markers",
         "name": "open",
         "scene": "scene",
         "showlegend": true,
         "type": "scatter3d",
         "x": [
          0.4665783643722534
         ],
         "y": [
          -0.11889141798019409
         ],
         "z": [
          0.03308159112930298
         ]
        },
        {
         "hovertemplate": "color=thousand<br>0=%{x}<br>1=%{y}<br>2=%{z}<extra></extra>",
         "legendgroup": "thousand",
         "marker": {
          "color": "#FECB52",
          "symbol": "circle"
         },
         "mode": "markers",
         "name": "thousand",
         "scene": "scene",
         "showlegend": true,
         "type": "scatter3d",
         "x": [
          -0.02610003761947155
         ],
         "y": [
          0.5537171363830566
         ],
         "z": [
          -0.5295082330703735
         ]
        },
        {
         "hovertemplate": "color=landing<br>0=%{x}<br>1=%{y}<br>2=%{z}<extra></extra>",
         "legendgroup": "landing",
         "marker": {
          "color": "#636efa",
          "symbol": "circle"
         },
         "mode": "markers",
         "name": "landing",
         "scene": "scene",
         "showlegend": true,
         "type": "scatter3d",
         "x": [
          -0.3049740493297577
         ],
         "y": [
          0.4695276618003845
         ],
         "z": [
          -0.07517741620540619
         ]
        },
        {
         "hovertemplate": "color=uncle<br>0=%{x}<br>1=%{y}<br>2=%{z}<extra></extra>",
         "legendgroup": "uncle",
         "marker": {
          "color": "#EF553B",
          "symbol": "circle"
         },
         "mode": "markers",
         "name": "uncle",
         "scene": "scene",
         "showlegend": true,
         "type": "scatter3d",
         "x": [
          -0.6457734704017639
         ],
         "y": [
          0.5551871061325073
         ],
         "z": [
          0.30978259444236755
         ]
        },
        {
         "hovertemplate": "color=going<br>0=%{x}<br>1=%{y}<br>2=%{z}<extra></extra>",
         "legendgroup": "going",
         "marker": {
          "color": "#00cc96",
          "symbol": "circle"
         },
         "mode": "markers",
         "name": "going",
         "scene": "scene",
         "showlegend": true,
         "type": "scatter3d",
         "x": [
          -0.26333677768707275
         ],
         "y": [
          -0.3531058728694916
         ],
         "z": [
          -0.32463008165359497
         ]
        },
        {
         "hovertemplate": "color=ve<br>0=%{x}<br>1=%{y}<br>2=%{z}<extra></extra>",
         "legendgroup": "ve",
         "marker": {
          "color": "#ab63fa",
          "symbol": "circle"
         },
         "mode": "markers",
         "name": "ve",
         "scene": "scene",
         "showlegend": true,
         "type": "scatter3d",
         "x": [
          -0.4273323118686676
         ],
         "y": [
          0.021550625562667847
         ],
         "z": [
          -0.3169793486595154
         ]
        },
        {
         "hovertemplate": "color=blue<br>0=%{x}<br>1=%{y}<br>2=%{z}<extra></extra>",
         "legendgroup": "blue",
         "marker": {
          "color": "#FFA15A",
          "symbol": "circle"
         },
         "mode": "markers",
         "name": "blue",
         "scene": "scene",
         "showlegend": true,
         "type": "scatter3d",
         "x": [
          0.5133770108222961
         ],
         "y": [
          0.3218762278556824
         ],
         "z": [
          0.13258226215839386
         ]
        },
        {
         "hovertemplate": "color=captain<br>0=%{x}<br>1=%{y}<br>2=%{z}<extra></extra>",
         "legendgroup": "captain",
         "marker": {
          "color": "#19d3f3",
          "symbol": "circle"
         },
         "mode": "markers",
         "name": "captain",
         "scene": "scene",
         "showlegend": true,
         "type": "scatter3d",
         "x": [
          -0.23596182465553284
         ],
         "y": [
          0.7510534524917603
         ],
         "z": [
          0.32108333706855774
         ]
        },
        {
         "hovertemplate": "color=air<br>0=%{x}<br>1=%{y}<br>2=%{z}<extra></extra>",
         "legendgroup": "air",
         "marker": {
          "color": "#FF6692",
          "symbol": "circle"
         },
         "mode": "markers",
         "name": "air",
         "scene": "scene",
         "showlegend": true,
         "type": "scatter3d",
         "x": [
          0.704917311668396
         ],
         "y": [
          -0.222726970911026
         ],
         "z": [
          -0.17449988424777985
         ]
        },
        {
         "hovertemplate": "color=please<br>0=%{x}<br>1=%{y}<br>2=%{z}<extra></extra>",
         "legendgroup": "please",
         "marker": {
          "color": "#B6E880",
          "symbol": "circle"
         },
         "mode": "markers",
         "name": "please",
         "scene": "scene",
         "showlegend": true,
         "type": "scatter3d",
         "x": [
          -0.6566362977027893
         ],
         "y": [
          -0.1961565613746643
         ],
         "z": [
          0.17684799432754517
         ]
        },
        {
         "hovertemplate": "color=laughed<br>0=%{x}<br>1=%{y}<br>2=%{z}<extra></extra>",
         "legendgroup": "laughed",
         "marker": {
          "color": "#FF97FF",
          "symbol": "circle"
         },
         "mode": "markers",
         "name": "laughed",
         "scene": "scene",
         "showlegend": true,
         "type": "scatter3d",
         "x": [
          -0.357212096452713
         ],
         "y": [
          -0.191042959690094
         ],
         "z": [
          0.5217695832252502
         ]
        },
        {
         "hovertemplate": "color=be<br>0=%{x}<br>1=%{y}<br>2=%{z}<extra></extra>",
         "legendgroup": "be",
         "marker": {
          "color": "#FECB52",
          "symbol": "circle"
         },
         "mode": "markers",
         "name": "be",
         "scene": "scene",
         "showlegend": true,
         "type": "scatter3d",
         "x": [
          -0.6284052729606628
         ],
         "y": [
          -0.20186561346054077
         ],
         "z": [
          -0.104949951171875
         ]
        },
        {
         "hovertemplate": "color=river<br>0=%{x}<br>1=%{y}<br>2=%{z}<extra></extra>",
         "legendgroup": "river",
         "marker": {
          "color": "#636efa",
          "symbol": "circle"
         },
         "mode": "markers",
         "name": "river",
         "scene": "scene",
         "showlegend": true,
         "type": "scatter3d",
         "x": [
          0.4122355580329895
         ],
         "y": [
          0.35814782977104187
         ],
         "z": [
          -0.5338962078094482
         ]
        },
        {
         "hovertemplate": "color=sun<br>0=%{x}<br>1=%{y}<br>2=%{z}<extra></extra>",
         "legendgroup": "sun",
         "marker": {
          "color": "#EF553B",
          "symbol": "circle"
         },
         "mode": "markers",
         "name": "sun",
         "scene": "scene",
         "showlegend": true,
         "type": "scatter3d",
         "x": [
          0.5225578546524048
         ],
         "y": [
          0.1702795922756195
         ],
         "z": [
          -0.351590633392334
         ]
        },
        {
         "hovertemplate": "color=rose<br>0=%{x}<br>1=%{y}<br>2=%{z}<extra></extra>",
         "legendgroup": "rose",
         "marker": {
          "color": "#00cc96",
          "symbol": "circle"
         },
         "mode": "markers",
         "name": "rose",
         "scene": "scene",
         "showlegend": true,
         "type": "scatter3d",
         "x": [
          0.6456384658813477
         ],
         "y": [
          0.3357006907463074
         ],
         "z": [
          0.17072156071662903
         ]
        },
        {
         "hovertemplate": "color=fell<br>0=%{x}<br>1=%{y}<br>2=%{z}<extra></extra>",
         "legendgroup": "fell",
         "marker": {
          "color": "#ab63fa",
          "symbol": "circle"
         },
         "mode": "markers",
         "name": "fell",
         "scene": "scene",
         "showlegend": true,
         "type": "scatter3d",
         "x": [
          0.5732093453407288
         ],
         "y": [
          0.10478921234607697
         ],
         "z": [
          0.1518699824810028
         ]
        },
        {
         "hovertemplate": "color=war<br>0=%{x}<br>1=%{y}<br>2=%{z}<extra></extra>",
         "legendgroup": "war",
         "marker": {
          "color": "#FFA15A",
          "symbol": "circle"
         },
         "mode": "markers",
         "name": "war",
         "scene": "scene",
         "showlegend": true,
         "type": "scatter3d",
         "x": [
          -0.5504611730575562
         ],
         "y": [
          0.6091598272323608
         ],
         "z": [
          -0.3734094500541687
         ]
        },
        {
         "hovertemplate": "color=more<br>0=%{x}<br>1=%{y}<br>2=%{z}<extra></extra>",
         "legendgroup": "more",
         "marker": {
          "color": "#19d3f3",
          "symbol": "circle"
         },
         "mode": "markers",
         "name": "more",
         "scene": "scene",
         "showlegend": true,
         "type": "scatter3d",
         "x": [
          -0.3545524477958679
         ],
         "y": [
          -0.18217220902442932
         ],
         "z": [
          -0.3471612334251404
         ]
        },
        {
         "hovertemplate": "color=golden<br>0=%{x}<br>1=%{y}<br>2=%{z}<extra></extra>",
         "legendgroup": "golden",
         "marker": {
          "color": "#FF6692",
          "symbol": "circle"
         },
         "mode": "markers",
         "name": "golden",
         "scene": "scene",
         "showlegend": true,
         "type": "scatter3d",
         "x": [
          0.4160903990268707
         ],
         "y": [
          0.6308283805847168
         ],
         "z": [
          0.21512266993522644
         ]
        },
        {
         "hovertemplate": "color=sleep<br>0=%{x}<br>1=%{y}<br>2=%{z}<extra></extra>",
         "legendgroup": "sleep",
         "marker": {
          "color": "#B6E880",
          "symbol": "circle"
         },
         "mode": "markers",
         "name": "sleep",
         "scene": "scene",
         "showlegend": true,
         "type": "scatter3d",
         "x": [
          -0.016024302691221237
         ],
         "y": [
          -0.5177617073059082
         ],
         "z": [
          -0.20877264440059662
         ]
        },
        {
         "hovertemplate": "color=without<br>0=%{x}<br>1=%{y}<br>2=%{z}<extra></extra>",
         "legendgroup": "without",
         "marker": {
          "color": "#FF97FF",
          "symbol": "circle"
         },
         "mode": "markers",
         "name": "without",
         "scene": "scene",
         "showlegend": true,
         "type": "scatter3d",
         "x": [
          -0.513454020023346
         ],
         "y": [
          -0.03053469955921173
         ],
         "z": [
          -0.3975505828857422
         ]
        },
        {
         "hovertemplate": "color=swords<br>0=%{x}<br>1=%{y}<br>2=%{z}<extra></extra>",
         "legendgroup": "swords",
         "marker": {
          "color": "#FECB52",
          "symbol": "circle"
         },
         "mode": "markers",
         "name": "swords",
         "scene": "scene",
         "showlegend": true,
         "type": "scatter3d",
         "x": [
          -0.04119566082954407
         ],
         "y": [
          0.6495906114578247
         ],
         "z": [
          -0.37632280588150024
         ]
        },
        {
         "hovertemplate": "color=renly<br>0=%{x}<br>1=%{y}<br>2=%{z}<extra></extra>",
         "legendgroup": "renly",
         "marker": {
          "color": "#636efa",
          "symbol": "circle"
         },
         "mode": "markers",
         "name": "renly",
         "scene": "scene",
         "showlegend": true,
         "type": "scatter3d",
         "x": [
          -0.44362401962280273
         ],
         "y": [
          0.5028040409088135
         ],
         "z": [
          0.2687375545501709
         ]
        },
        {
         "hovertemplate": "color=speak<br>0=%{x}<br>1=%{y}<br>2=%{z}<extra></extra>",
         "legendgroup": "speak",
         "marker": {
          "color": "#EF553B",
          "symbol": "circle"
         },
         "mode": "markers",
         "name": "speak",
         "scene": "scene",
         "showlegend": true,
         "type": "scatter3d",
         "x": [
          -0.6993695497512817
         ],
         "y": [
          -0.1503206193447113
         ],
         "z": [
          -0.0281260684132576
         ]
        },
        {
         "hovertemplate": "color=certain<br>0=%{x}<br>1=%{y}<br>2=%{z}<extra></extra>",
         "legendgroup": "certain",
         "marker": {
          "color": "#00cc96",
          "symbol": "circle"
         },
         "mode": "markers",
         "name": "certain",
         "scene": "scene",
         "showlegend": true,
         "type": "scatter3d",
         "x": [
          -0.6243488788604736
         ],
         "y": [
          -0.20716530084609985
         ],
         "z": [
          -0.21810005605220795
         ]
        },
        {
         "hovertemplate": "color=fool<br>0=%{x}<br>1=%{y}<br>2=%{z}<extra></extra>",
         "legendgroup": "fool",
         "marker": {
          "color": "#ab63fa",
          "symbol": "circle"
         },
         "mode": "markers",
         "name": "fool",
         "scene": "scene",
         "showlegend": true,
         "type": "scatter3d",
         "x": [
          -0.6197558045387268
         ],
         "y": [
          -0.16370537877082825
         ],
         "z": [
          0.23335067927837372
         ]
        },
        {
         "hovertemplate": "color=full<br>0=%{x}<br>1=%{y}<br>2=%{z}<extra></extra>",
         "legendgroup": "full",
         "marker": {
          "color": "#FFA15A",
          "symbol": "circle"
         },
         "mode": "markers",
         "name": "full",
         "scene": "scene",
         "showlegend": true,
         "type": "scatter3d",
         "x": [
          0.40265050530433655
         ],
         "y": [
          -0.07261738181114197
         ],
         "z": [
          -0.3195943832397461
         ]
        },
        {
         "hovertemplate": "color=beyond<br>0=%{x}<br>1=%{y}<br>2=%{z}<extra></extra>",
         "legendgroup": "beyond",
         "marker": {
          "color": "#19d3f3",
          "symbol": "circle"
         },
         "mode": "markers",
         "name": "beyond",
         "scene": "scene",
         "showlegend": true,
         "type": "scatter3d",
         "x": [
          0.10178040713071823
         ],
         "y": [
          0.4475736618041992
         ],
         "z": [
          -0.5737119317054749
         ]
        },
        {
         "hovertemplate": "color=feel<br>0=%{x}<br>1=%{y}<br>2=%{z}<extra></extra>",
         "legendgroup": "feel",
         "marker": {
          "color": "#FF6692",
          "symbol": "circle"
         },
         "mode": "markers",
         "name": "feel",
         "scene": "scene",
         "showlegend": true,
         "type": "scatter3d",
         "x": [
          0.17513492703437805
         ],
         "y": [
          -0.45276352763175964
         ],
         "z": [
          -0.07425470650196075
         ]
        },
        {
         "hovertemplate": "color=send<br>0=%{x}<br>1=%{y}<br>2=%{z}<extra></extra>",
         "legendgroup": "send",
         "marker": {
          "color": "#B6E880",
          "symbol": "circle"
         },
         "mode": "markers",
         "name": "send",
         "scene": "scene",
         "showlegend": true,
         "type": "scatter3d",
         "x": [
          -0.572782039642334
         ],
         "y": [
          0.17933127284049988
         ],
         "z": [
          -0.13374625146389008
         ]
        },
        {
         "hovertemplate": "color=tongue<br>0=%{x}<br>1=%{y}<br>2=%{z}<extra></extra>",
         "legendgroup": "tongue",
         "marker": {
          "color": "#FF97FF",
          "symbol": "circle"
         },
         "mode": "markers",
         "name": "tongue",
         "scene": "scene",
         "showlegend": true,
         "type": "scatter3d",
         "x": [
          -0.16266292333602905
         ],
         "y": [
          -0.3902833163738251
         ],
         "z": [
          0.2366788238286972
         ]
        },
        {
         "hovertemplate": "color=got<br>0=%{x}<br>1=%{y}<br>2=%{z}<extra></extra>",
         "legendgroup": "got",
         "marker": {
          "color": "#FECB52",
          "symbol": "circle"
         },
         "mode": "markers",
         "name": "got",
         "scene": "scene",
         "showlegend": true,
         "type": "scatter3d",
         "x": [
          -0.040588729083538055
         ],
         "y": [
          -0.3616107404232025
         ],
         "z": [
          -0.027751632034778595
         ]
        },
        {
         "hovertemplate": "color=fight<br>0=%{x}<br>1=%{y}<br>2=%{z}<extra></extra>",
         "legendgroup": "fight",
         "marker": {
          "color": "#636efa",
          "symbol": "circle"
         },
         "mode": "markers",
         "name": "fight",
         "scene": "scene",
         "showlegend": true,
         "type": "scatter3d",
         "x": [
          -0.5196312665939331
         ],
         "y": [
          -0.05439862608909607
         ],
         "z": [
          -0.41740548610687256
         ]
        },
        {
         "hovertemplate": "color=rode<br>0=%{x}<br>1=%{y}<br>2=%{z}<extra></extra>",
         "legendgroup": "rode",
         "marker": {
          "color": "#EF553B",
          "symbol": "circle"
         },
         "mode": "markers",
         "name": "rode",
         "scene": "scene",
         "showlegend": true,
         "type": "scatter3d",
         "x": [
          0.3679797947406769
         ],
         "y": [
          0.5336374044418335
         ],
         "z": [
          -0.012359008193016052
         ]
        },
        {
         "hovertemplate": "color=set<br>0=%{x}<br>1=%{y}<br>2=%{z}<extra></extra>",
         "legendgroup": "set",
         "marker": {
          "color": "#00cc96",
          "symbol": "circle"
         },
         "mode": "markers",
         "name": "set",
         "scene": "scene",
         "showlegend": true,
         "type": "scatter3d",
         "x": [
          0.2689213752746582
         ],
         "y": [
          0.3632790446281433
         ],
         "z": [
          -0.0896715372800827
         ]
        },
        {
         "hovertemplate": "color=thick<br>0=%{x}<br>1=%{y}<br>2=%{z}<extra></extra>",
         "legendgroup": "thick",
         "marker": {
          "color": "#ab63fa",
          "symbol": "circle"
         },
         "mode": "markers",
         "name": "thick",
         "scene": "scene",
         "showlegend": true,
         "type": "scatter3d",
         "x": [
          0.7189911603927612
         ],
         "y": [
          0.11729701608419418
         ],
         "z": [
          0.056380026042461395
         ]
        },
        {
         "hovertemplate": "color=throat<br>0=%{x}<br>1=%{y}<br>2=%{z}<extra></extra>",
         "legendgroup": "throat",
         "marker": {
          "color": "#FFA15A",
          "symbol": "circle"
         },
         "mode": "markers",
         "name": "throat",
         "scene": "scene",
         "showlegend": true,
         "type": "scatter3d",
         "x": [
          0.4288334846496582
         ],
         "y": [
          -0.40042367577552795
         ],
         "z": [
          0.45504337549209595
         ]
        },
        {
         "hovertemplate": "color=world<br>0=%{x}<br>1=%{y}<br>2=%{z}<extra></extra>",
         "legendgroup": "world",
         "marker": {
          "color": "#19d3f3",
          "symbol": "circle"
         },
         "mode": "markers",
         "name": "world",
         "scene": "scene",
         "showlegend": true,
         "type": "scatter3d",
         "x": [
          0.035529568791389465
         ],
         "y": [
          -0.01956021785736084
         ],
         "z": [
          -0.6366676688194275
         ]
        },
        {
         "hovertemplate": "color=deep<br>0=%{x}<br>1=%{y}<br>2=%{z}<extra></extra>",
         "legendgroup": "deep",
         "marker": {
          "color": "#FF6692",
          "symbol": "circle"
         },
         "mode": "markers",
         "name": "deep",
         "scene": "scene",
         "showlegend": true,
         "type": "scatter3d",
         "x": [
          0.7379165291786194
         ],
         "y": [
          0.011963129043579102
         ],
         "z": [
          -0.07031005620956421
         ]
        },
        {
         "hovertemplate": "color=legs<br>0=%{x}<br>1=%{y}<br>2=%{z}<extra></extra>",
         "legendgroup": "legs",
         "marker": {
          "color": "#B6E880",
          "symbol": "circle"
         },
         "mode": "markers",
         "name": "legs",
         "scene": "scene",
         "showlegend": true,
         "type": "scatter3d",
         "x": [
          0.6605433821678162
         ],
         "y": [
          -0.2378142774105072
         ],
         "z": [
          0.10925407707691193
         ]
        },
        {
         "hovertemplate": "color=call<br>0=%{x}<br>1=%{y}<br>2=%{z}<extra></extra>",
         "legendgroup": "call",
         "marker": {
          "color": "#FF97FF",
          "symbol": "circle"
         },
         "mode": "markers",
         "name": "call",
         "scene": "scene",
         "showlegend": true,
         "type": "scatter3d",
         "x": [
          -0.6540449857711792
         ],
         "y": [
          0.007683306932449341
         ],
         "z": [
          -0.045088887214660645
         ]
        },
        {
         "hovertemplate": "color=himself<br>0=%{x}<br>1=%{y}<br>2=%{z}<extra></extra>",
         "legendgroup": "himself",
         "marker": {
          "color": "#FECB52",
          "symbol": "circle"
         },
         "mode": "markers",
         "name": "himself",
         "scene": "scene",
         "showlegend": true,
         "type": "scatter3d",
         "x": [
          -0.3782155215740204
         ],
         "y": [
          -0.08736220002174377
         ],
         "z": [
          0.19836923480033875
         ]
        },
        {
         "hovertemplate": "color=honor<br>0=%{x}<br>1=%{y}<br>2=%{z}<extra></extra>",
         "legendgroup": "honor",
         "marker": {
          "color": "#636efa",
          "symbol": "circle"
         },
         "mode": "markers",
         "name": "honor",
         "scene": "scene",
         "showlegend": true,
         "type": "scatter3d",
         "x": [
          -0.7180739045143127
         ],
         "y": [
          0.4809245765209198
         ],
         "z": [
          0.0432790070772171
         ]
        },
        {
         "hovertemplate": "color=rock<br>0=%{x}<br>1=%{y}<br>2=%{z}<extra></extra>",
         "legendgroup": "rock",
         "marker": {
          "color": "#EF553B",
          "symbol": "circle"
         },
         "mode": "markers",
         "name": "rock",
         "scene": "scene",
         "showlegend": true,
         "type": "scatter3d",
         "x": [
          0.11950669437646866
         ],
         "y": [
          0.6063038110733032
         ],
         "z": [
          -0.024423256516456604
         ]
        },
        {
         "hovertemplate": "color=trees<br>0=%{x}<br>1=%{y}<br>2=%{z}<extra></extra>",
         "legendgroup": "trees",
         "marker": {
          "color": "#00cc96",
          "symbol": "circle"
         },
         "mode": "markers",
         "name": "trees",
         "scene": "scene",
         "showlegend": true,
         "type": "scatter3d",
         "x": [
          0.6552505493164062
         ],
         "y": [
          0.09774257242679596
         ],
         "z": [
          -0.4111902713775635
         ]
        },
        {
         "hovertemplate": "color=down<br>0=%{x}<br>1=%{y}<br>2=%{z}<extra></extra>",
         "legendgroup": "down",
         "marker": {
          "color": "#ab63fa",
          "symbol": "circle"
         },
         "mode": "markers",
         "name": "down",
         "scene": "scene",
         "showlegend": true,
         "type": "scatter3d",
         "x": [
          0.45391541719436646
         ],
         "y": [
          -0.16495394706726074
         ],
         "z": [
          -0.06265696883201599
         ]
        },
        {
         "hovertemplate": "color=tall<br>0=%{x}<br>1=%{y}<br>2=%{z}<extra></extra>",
         "legendgroup": "tall",
         "marker": {
          "color": "#FFA15A",
          "symbol": "circle"
         },
         "mode": "markers",
         "name": "tall",
         "scene": "scene",
         "showlegend": true,
         "type": "scatter3d",
         "x": [
          0.5098856687545776
         ],
         "y": [
          0.535218358039856
         ],
         "z": [
          0.09489981830120087
         ]
        },
        {
         "hovertemplate": "color=table<br>0=%{x}<br>1=%{y}<br>2=%{z}<extra></extra>",
         "legendgroup": "table",
         "marker": {
          "color": "#19d3f3",
          "symbol": "circle"
         },
         "mode": "markers",
         "name": "table",
         "scene": "scene",
         "showlegend": true,
         "type": "scatter3d",
         "x": [
          0.4527694582939148
         ],
         "y": [
          0.3876574635505676
         ],
         "z": [
          0.32545363903045654
         ]
        },
        {
         "hovertemplate": "color=pulled<br>0=%{x}<br>1=%{y}<br>2=%{z}<extra></extra>",
         "legendgroup": "pulled",
         "marker": {
          "color": "#FF6692",
          "symbol": "circle"
         },
         "mode": "markers",
         "name": "pulled",
         "scene": "scene",
         "showlegend": true,
         "type": "scatter3d",
         "x": [
          0.5916827321052551
         ],
         "y": [
          -0.03470128774642944
         ],
         "z": [
          0.4355069398880005
         ]
        },
        {
         "hovertemplate": "color=broken<br>0=%{x}<br>1=%{y}<br>2=%{z}<extra></extra>",
         "legendgroup": "broken",
         "marker": {
          "color": "#B6E880",
          "symbol": "circle"
         },
         "mode": "markers",
         "name": "broken",
         "scene": "scene",
         "showlegend": true,
         "type": "scatter3d",
         "x": [
          0.7020342350006104
         ],
         "y": [
          0.17887988686561584
         ],
         "z": [
          -0.1365981251001358
         ]
        },
        {
         "hovertemplate": "color=mormont<br>0=%{x}<br>1=%{y}<br>2=%{z}<extra></extra>",
         "legendgroup": "mormont",
         "marker": {
          "color": "#FF97FF",
          "symbol": "circle"
         },
         "mode": "markers",
         "name": "mormont",
         "scene": "scene",
         "showlegend": true,
         "type": "scatter3d",
         "x": [
          -0.06413094699382782
         ],
         "y": [
          0.2602972984313965
         ],
         "z": [
          0.5258445739746094
         ]
        },
        {
         "hovertemplate": "color=women<br>0=%{x}<br>1=%{y}<br>2=%{z}<extra></extra>",
         "legendgroup": "women",
         "marker": {
          "color": "#FECB52",
          "symbol": "circle"
         },
         "mode": "markers",
         "name": "women",
         "scene": "scene",
         "showlegend": true,
         "type": "scatter3d",
         "x": [
          -0.14872556924819946
         ],
         "y": [
          0.22043806314468384
         ],
         "z": [
          -0.4524431824684143
         ]
        },
        {
         "hovertemplate": "color=why<br>0=%{x}<br>1=%{y}<br>2=%{z}<extra></extra>",
         "legendgroup": "why",
         "marker": {
          "color": "#636efa",
          "symbol": "circle"
         },
         "mode": "markers",
         "name": "why",
         "scene": "scene",
         "showlegend": true,
         "type": "scatter3d",
         "x": [
          -0.7935230135917664
         ],
         "y": [
          -0.2211960256099701
         ],
         "z": [
          -0.015265822410583496
         ]
        },
        {
         "hovertemplate": "color=steps<br>0=%{x}<br>1=%{y}<br>2=%{z}<extra></extra>",
         "legendgroup": "steps",
         "marker": {
          "color": "#EF553B",
          "symbol": "circle"
         },
         "mode": "markers",
         "name": "steps",
         "scene": "scene",
         "showlegend": true,
         "type": "scatter3d",
         "x": [
          0.589979350566864
         ],
         "y": [
          0.2212221473455429
         ],
         "z": [
          -0.1351851522922516
         ]
        },
        {
         "hovertemplate": "color=things<br>0=%{x}<br>1=%{y}<br>2=%{z}<extra></extra>",
         "legendgroup": "things",
         "marker": {
          "color": "#00cc96",
          "symbol": "circle"
         },
         "mode": "markers",
         "name": "things",
         "scene": "scene",
         "showlegend": true,
         "type": "scatter3d",
         "x": [
          -0.36304643750190735
         ],
         "y": [
          -0.27832409739494324
         ],
         "z": [
          -0.4542997479438782
         ]
        },
        {
         "hovertemplate": "color=next<br>0=%{x}<br>1=%{y}<br>2=%{z}<extra></extra>",
         "legendgroup": "next",
         "marker": {
          "color": "#ab63fa",
          "symbol": "circle"
         },
         "mode": "markers",
         "name": "next",
         "scene": "scene",
         "showlegend": true,
         "type": "scatter3d",
         "x": [
          -0.0799090713262558
         ],
         "y": [
          -0.041298359632492065
         ],
         "z": [
          -0.1406153440475464
         ]
        },
        {
         "hovertemplate": "color=hodor<br>0=%{x}<br>1=%{y}<br>2=%{z}<extra></extra>",
         "legendgroup": "hodor",
         "marker": {
          "color": "#FFA15A",
          "symbol": "circle"
         },
         "mode": "markers",
         "name": "hodor",
         "scene": "scene",
         "showlegend": true,
         "type": "scatter3d",
         "x": [
          0.2692541480064392
         ],
         "y": [
          -0.4805689752101898
         ],
         "z": [
          0.12512648105621338
         ]
        },
        {
         "hovertemplate": "color=heavy<br>0=%{x}<br>1=%{y}<br>2=%{z}<extra></extra>",
         "legendgroup": "heavy",
         "marker": {
          "color": "#19d3f3",
          "symbol": "circle"
         },
         "mode": "markers",
         "name": "heavy",
         "scene": "scene",
         "showlegend": true,
         "type": "scatter3d",
         "x": [
          0.7393758893013
         ],
         "y": [
          0.1377827525138855
         ],
         "z": [
          0.10943762958049774
         ]
        },
        {
         "hovertemplate": "color=burned<br>0=%{x}<br>1=%{y}<br>2=%{z}<extra></extra>",
         "legendgroup": "burned",
         "marker": {
          "color": "#FF6692",
          "symbol": "circle"
         },
         "mode": "markers",
         "name": "burned",
         "scene": "scene",
         "showlegend": true,
         "type": "scatter3d",
         "x": [
          0.438840389251709
         ],
         "y": [
          0.23659488558769226
         ],
         "z": [
          -0.40567195415496826
         ]
        },
        {
         "hovertemplate": "color=oh<br>0=%{x}<br>1=%{y}<br>2=%{z}<extra></extra>",
         "legendgroup": "oh",
         "marker": {
          "color": "#B6E880",
          "symbol": "circle"
         },
         "mode": "markers",
         "name": "oh",
         "scene": "scene",
         "showlegend": true,
         "type": "scatter3d",
         "x": [
          -0.6743054986000061
         ],
         "y": [
          -0.23089411854743958
         ],
         "z": [
          0.21869505941867828
         ]
        },
        {
         "hovertemplate": "color=toward<br>0=%{x}<br>1=%{y}<br>2=%{z}<extra></extra>",
         "legendgroup": "toward",
         "marker": {
          "color": "#FF97FF",
          "symbol": "circle"
         },
         "mode": "markers",
         "name": "toward",
         "scene": "scene",
         "showlegend": true,
         "type": "scatter3d",
         "x": [
          0.5966064929962158
         ],
         "y": [
          0.17230120301246643
         ],
         "z": [
          0.07842448353767395
         ]
        },
        {
         "hovertemplate": "color=can<br>0=%{x}<br>1=%{y}<br>2=%{z}<extra></extra>",
         "legendgroup": "can",
         "marker": {
          "color": "#FECB52",
          "symbol": "circle"
         },
         "mode": "markers",
         "name": "can",
         "scene": "scene",
         "showlegend": true,
         "type": "scatter3d",
         "x": [
          -0.5254828333854675
         ],
         "y": [
          -0.3627460300922394
         ],
         "z": [
          -0.1954924315214157
         ]
        },
        {
         "hovertemplate": "color=will<br>0=%{x}<br>1=%{y}<br>2=%{z}<extra></extra>",
         "legendgroup": "will",
         "marker": {
          "color": "#636efa",
          "symbol": "circle"
         },
         "mode": "markers",
         "name": "will",
         "scene": "scene",
         "showlegend": true,
         "type": "scatter3d",
         "x": [
          -0.7214195728302002
         ],
         "y": [
          -0.1497800648212433
         ],
         "z": [
          0.16671988368034363
         ]
        },
        {
         "hovertemplate": "color=together<br>0=%{x}<br>1=%{y}<br>2=%{z}<extra></extra>",
         "legendgroup": "together",
         "marker": {
          "color": "#EF553B",
          "symbol": "circle"
         },
         "mode": "markers",
         "name": "together",
         "scene": "scene",
         "showlegend": true,
         "type": "scatter3d",
         "x": [
          0.5218244791030884
         ],
         "y": [
          0.2367756962776184
         ],
         "z": [
          -0.28067535161972046
         ]
        },
        {
         "hovertemplate": "color=on<br>0=%{x}<br>1=%{y}<br>2=%{z}<extra></extra>",
         "legendgroup": "on",
         "marker": {
          "color": "#00cc96",
          "symbol": "circle"
         },
         "mode": "markers",
         "name": "on",
         "scene": "scene",
         "showlegend": true,
         "type": "scatter3d",
         "x": [
          -0.0296157393604517
         ],
         "y": [
          0.005834862589836121
         ],
         "z": [
          -0.18652962148189545
         ]
        },
        {
         "hovertemplate": "color=skin<br>0=%{x}<br>1=%{y}<br>2=%{z}<extra></extra>",
         "legendgroup": "skin",
         "marker": {
          "color": "#ab63fa",
          "symbol": "circle"
         },
         "mode": "markers",
         "name": "skin",
         "scene": "scene",
         "showlegend": true,
         "type": "scatter3d",
         "x": [
          0.6069554090499878
         ],
         "y": [
          -0.24817878007888794
         ],
         "z": [
          0.20182910561561584
         ]
        },
        {
         "hovertemplate": "color=given<br>0=%{x}<br>1=%{y}<br>2=%{z}<extra></extra>",
         "legendgroup": "given",
         "marker": {
          "color": "#FFA15A",
          "symbol": "circle"
         },
         "mode": "markers",
         "name": "given",
         "scene": "scene",
         "showlegend": true,
         "type": "scatter3d",
         "x": [
          -0.43773186206817627
         ],
         "y": [
          0.3211032450199127
         ],
         "z": [
          0.0035643726587295532
         ]
        },
        {
         "hovertemplate": "color=since<br>0=%{x}<br>1=%{y}<br>2=%{z}<extra></extra>",
         "legendgroup": "since",
         "marker": {
          "color": "#19d3f3",
          "symbol": "circle"
         },
         "mode": "markers",
         "name": "since",
         "scene": "scene",
         "showlegend": true,
         "type": "scatter3d",
         "x": [
          -0.25562503933906555
         ],
         "y": [
          0.4554558992385864
         ],
         "z": [
          -0.265558660030365
         ]
        },
        {
         "hovertemplate": "color=dwarf<br>0=%{x}<br>1=%{y}<br>2=%{z}<extra></extra>",
         "legendgroup": "dwarf",
         "marker": {
          "color": "#FF6692",
          "symbol": "circle"
         },
         "mode": "markers",
         "name": "dwarf",
         "scene": "scene",
         "showlegend": true,
         "type": "scatter3d",
         "x": [
          -0.3959238827228546
         ],
         "y": [
          -0.32130029797554016
         ],
         "z": [
          0.42891913652420044
         ]
        },
        {
         "hovertemplate": "color=moved<br>0=%{x}<br>1=%{y}<br>2=%{z}<extra></extra>",
         "legendgroup": "moved",
         "marker": {
          "color": "#B6E880",
          "symbol": "circle"
         },
         "mode": "markers",
         "name": "moved",
         "scene": "scene",
         "showlegend": true,
         "type": "scatter3d",
         "x": [
          0.5084735751152039
         ],
         "y": [
          -0.022915825247764587
         ],
         "z": [
          0.12922225892543793
         ]
        },
        {
         "hovertemplate": "color=who<br>0=%{x}<br>1=%{y}<br>2=%{z}<extra></extra>",
         "legendgroup": "who",
         "marker": {
          "color": "#FF97FF",
          "symbol": "circle"
         },
         "mode": "markers",
         "name": "who",
         "scene": "scene",
         "showlegend": true,
         "type": "scatter3d",
         "x": [
          -0.6664912104606628
         ],
         "y": [
          0.053021565079689026
         ],
         "z": [
          -0.01812317967414856
         ]
        },
        {
         "hovertemplate": "color=smiled<br>0=%{x}<br>1=%{y}<br>2=%{z}<extra></extra>",
         "legendgroup": "smiled",
         "marker": {
          "color": "#FECB52",
          "symbol": "circle"
         },
         "mode": "markers",
         "name": "smiled",
         "scene": "scene",
         "showlegend": true,
         "type": "scatter3d",
         "x": [
          -0.15355408191680908
         ],
         "y": [
          -0.25515857338905334
         ],
         "z": [
          0.6663386821746826
         ]
        },
        {
         "hovertemplate": "color=alone<br>0=%{x}<br>1=%{y}<br>2=%{z}<extra></extra>",
         "legendgroup": "alone",
         "marker": {
          "color": "#636efa",
          "symbol": "circle"
         },
         "mode": "markers",
         "name": "alone",
         "scene": "scene",
         "showlegend": true,
         "type": "scatter3d",
         "x": [
          -0.23839640617370605
         ],
         "y": [
          0.003697618842124939
         ],
         "z": [
          -0.3461166024208069
         ]
        },
        {
         "hovertemplate": "color=storm<br>0=%{x}<br>1=%{y}<br>2=%{z}<extra></extra>",
         "legendgroup": "storm",
         "marker": {
          "color": "#EF553B",
          "symbol": "circle"
         },
         "mode": "markers",
         "name": "storm",
         "scene": "scene",
         "showlegend": true,
         "type": "scatter3d",
         "x": [
          -0.10436864197254181
         ],
         "y": [
          0.6238740682601929
         ],
         "z": [
          -0.27141034603118896
         ]
        },
        {
         "hovertemplate": "color=off<br>0=%{x}<br>1=%{y}<br>2=%{z}<extra></extra>",
         "legendgroup": "off",
         "marker": {
          "color": "#00cc96",
          "symbol": "circle"
         },
         "mode": "markers",
         "name": "off",
         "scene": "scene",
         "showlegend": true,
         "type": "scatter3d",
         "x": [
          0.3572331964969635
         ],
         "y": [
          -0.27794191241264343
         ],
         "z": [
          0.2219129502773285
         ]
        },
        {
         "hovertemplate": "color=raised<br>0=%{x}<br>1=%{y}<br>2=%{z}<extra></extra>",
         "legendgroup": "raised",
         "marker": {
          "color": "#ab63fa",
          "symbol": "circle"
         },
         "mode": "markers",
         "name": "raised",
         "scene": "scene",
         "showlegend": true,
         "type": "scatter3d",
         "x": [
          0.264651358127594
         ],
         "y": [
          0.416267454624176
         ],
         "z": [
          0.31332093477249146
         ]
        },
        {
         "hovertemplate": "color=ask<br>0=%{x}<br>1=%{y}<br>2=%{z}<extra></extra>",
         "legendgroup": "ask",
         "marker": {
          "color": "#FFA15A",
          "symbol": "circle"
         },
         "mode": "markers",
         "name": "ask",
         "scene": "scene",
         "showlegend": true,
         "type": "scatter3d",
         "x": [
          -0.8277121186256409
         ],
         "y": [
          -0.11431512236595154
         ],
         "z": [
          -0.016763761639595032
         ]
        },
        {
         "hovertemplate": "color=ride<br>0=%{x}<br>1=%{y}<br>2=%{z}<extra></extra>",
         "legendgroup": "ride",
         "marker": {
          "color": "#19d3f3",
          "symbol": "circle"
         },
         "mode": "markers",
         "name": "ride",
         "scene": "scene",
         "showlegend": true,
         "type": "scatter3d",
         "x": [
          -0.3096645474433899
         ],
         "y": [
          0.15533290803432465
         ],
         "z": [
          -0.42464905977249146
         ]
        },
        {
         "hovertemplate": "color=eye<br>0=%{x}<br>1=%{y}<br>2=%{z}<extra></extra>",
         "legendgroup": "eye",
         "marker": {
          "color": "#FF6692",
          "symbol": "circle"
         },
         "mode": "markers",
         "name": "eye",
         "scene": "scene",
         "showlegend": true,
         "type": "scatter3d",
         "x": [
          0.3230936825275421
         ],
         "y": [
          0.21599556505680084
         ],
         "z": [
          -0.03258247673511505
         ]
        },
        {
         "hovertemplate": "color=hope<br>0=%{x}<br>1=%{y}<br>2=%{z}<extra></extra>",
         "legendgroup": "hope",
         "marker": {
          "color": "#B6E880",
          "symbol": "circle"
         },
         "mode": "markers",
         "name": "hope",
         "scene": "scene",
         "showlegend": true,
         "type": "scatter3d",
         "x": [
          -0.7095029354095459
         ],
         "y": [
          -0.06594887375831604
         ],
         "z": [
          -0.24104739725589752
         ]
        },
        {
         "hovertemplate": "color=reached<br>0=%{x}<br>1=%{y}<br>2=%{z}<extra></extra>",
         "legendgroup": "reached",
         "marker": {
          "color": "#FF97FF",
          "symbol": "circle"
         },
         "mode": "markers",
         "name": "reached",
         "scene": "scene",
         "showlegend": true,
         "type": "scatter3d",
         "x": [
          0.46126025915145874
         ],
         "y": [
          0.13287672400474548
         ],
         "z": [
          0.07429949194192886
         ]
        },
        {
         "hovertemplate": "color=soft<br>0=%{x}<br>1=%{y}<br>2=%{z}<extra></extra>",
         "legendgroup": "soft",
         "marker": {
          "color": "#FECB52",
          "symbol": "circle"
         },
         "mode": "markers",
         "name": "soft",
         "scene": "scene",
         "showlegend": true,
         "type": "scatter3d",
         "x": [
          0.6202728748321533
         ],
         "y": [
          -0.20435017347335815
         ],
         "z": [
          0.27106040716171265
         ]
        },
        {
         "hovertemplate": "color=second<br>0=%{x}<br>1=%{y}<br>2=%{z}<extra></extra>",
         "legendgroup": "second",
         "marker": {
          "color": "#636efa",
          "symbol": "circle"
         },
         "mode": "markers",
         "name": "second",
         "scene": "scene",
         "showlegend": true,
         "type": "scatter3d",
         "x": [
          0.010829050093889236
         ],
         "y": [
          0.6906086206436157
         ],
         "z": [
          0.24054007232189178
         ]
        },
        {
         "hovertemplate": "color=frey<br>0=%{x}<br>1=%{y}<br>2=%{z}<extra></extra>",
         "legendgroup": "frey",
         "marker": {
          "color": "#EF553B",
          "symbol": "circle"
         },
         "mode": "markers",
         "name": "frey",
         "scene": "scene",
         "showlegend": true,
         "type": "scatter3d",
         "x": [
          -0.29108965396881104
         ],
         "y": [
          0.6960879564285278
         ],
         "z": [
          0.48712193965911865
         ]
        },
        {
         "hovertemplate": "color=remember<br>0=%{x}<br>1=%{y}<br>2=%{z}<extra></extra>",
         "legendgroup": "remember",
         "marker": {
          "color": "#00cc96",
          "symbol": "circle"
         },
         "mode": "markers",
         "name": "remember",
         "scene": "scene",
         "showlegend": true,
         "type": "scatter3d",
         "x": [
          -0.5434507131576538
         ],
         "y": [
          -0.31789955496788025
         ],
         "z": [
          -0.10393074154853821
         ]
        },
        {
         "hovertemplate": "color=how<br>0=%{x}<br>1=%{y}<br>2=%{z}<extra></extra>",
         "legendgroup": "how",
         "marker": {
          "color": "#ab63fa",
          "symbol": "circle"
         },
         "mode": "markers",
         "name": "how",
         "scene": "scene",
         "showlegend": true,
         "type": "scatter3d",
         "x": [
          -0.6687779426574707
         ],
         "y": [
          -0.056813180446624756
         ],
         "z": [
          -0.32082849740982056
         ]
        },
        {
         "hovertemplate": "color=someone<br>0=%{x}<br>1=%{y}<br>2=%{z}<extra></extra>",
         "legendgroup": "someone",
         "marker": {
          "color": "#FFA15A",
          "symbol": "circle"
         },
         "mode": "markers",
         "name": "someone",
         "scene": "scene",
         "showlegend": true,
         "type": "scatter3d",
         "x": [
          -0.3448701798915863
         ],
         "y": [
          -0.4800364077091217
         ],
         "z": [
          -0.0018279105424880981
         ]
        },
        {
         "hovertemplate": "color=remembered<br>0=%{x}<br>1=%{y}<br>2=%{z}<extra></extra>",
         "legendgroup": "remembered",
         "marker": {
          "color": "#19d3f3",
          "symbol": "circle"
         },
         "mode": "markers",
         "name": "remembered",
         "scene": "scene",
         "showlegend": true,
         "type": "scatter3d",
         "x": [
          -0.05649188160896301
         ],
         "y": [
          -0.06457701325416565
         ],
         "z": [
          0.07964151352643967
         ]
        },
        {
         "hovertemplate": "color=coming<br>0=%{x}<br>1=%{y}<br>2=%{z}<extra></extra>",
         "legendgroup": "coming",
         "marker": {
          "color": "#FF6692",
          "symbol": "circle"
         },
         "mode": "markers",
         "name": "coming",
         "scene": "scene",
         "showlegend": true,
         "type": "scatter3d",
         "x": [
          -0.007011525332927704
         ],
         "y": [
          -0.1770639419555664
         ],
         "z": [
          -0.5092918872833252
         ]
        },
        {
         "hovertemplate": "color=hold<br>0=%{x}<br>1=%{y}<br>2=%{z}<extra></extra>",
         "legendgroup": "hold",
         "marker": {
          "color": "#B6E880",
          "symbol": "circle"
         },
         "mode": "markers",
         "name": "hold",
         "scene": "scene",
         "showlegend": true,
         "type": "scatter3d",
         "x": [
          -0.35763871669769287
         ],
         "y": [
          0.09460137784481049
         ],
         "z": [
          -0.15954183042049408
         ]
        },
        {
         "hovertemplate": "color=cannot<br>0=%{x}<br>1=%{y}<br>2=%{z}<extra></extra>",
         "legendgroup": "cannot",
         "marker": {
          "color": "#FF97FF",
          "symbol": "circle"
         },
         "mode": "markers",
         "name": "cannot",
         "scene": "scene",
         "showlegend": true,
         "type": "scatter3d",
         "x": [
          -0.7038037180900574
         ],
         "y": [
          -0.03244243562221527
         ],
         "z": [
          -0.2482714205980301
         ]
        },
        {
         "hovertemplate": "color=meant<br>0=%{x}<br>1=%{y}<br>2=%{z}<extra></extra>",
         "legendgroup": "meant",
         "marker": {
          "color": "#FECB52",
          "symbol": "circle"
         },
         "mode": "markers",
         "name": "meant",
         "scene": "scene",
         "showlegend": true,
         "type": "scatter3d",
         "x": [
          -0.6738103628158569
         ],
         "y": [
          -0.24348843097686768
         ],
         "z": [
          -0.18434758484363556
         ]
        },
        {
         "hovertemplate": "color=morning<br>0=%{x}<br>1=%{y}<br>2=%{z}<extra></extra>",
         "legendgroup": "morning",
         "marker": {
          "color": "#636efa",
          "symbol": "circle"
         },
         "mode": "markers",
         "name": "morning",
         "scene": "scene",
         "showlegend": true,
         "type": "scatter3d",
         "x": [
          0.3289434015750885
         ],
         "y": [
          0.06994114816188812
         ],
         "z": [
          -0.25537389516830444
         ]
        },
        {
         "hovertemplate": "color=ten<br>0=%{x}<br>1=%{y}<br>2=%{z}<extra></extra>",
         "legendgroup": "ten",
         "marker": {
          "color": "#EF553B",
          "symbol": "circle"
         },
         "mode": "markers",
         "name": "ten",
         "scene": "scene",
         "showlegend": true,
         "type": "scatter3d",
         "x": [
          -0.09128667414188385
         ],
         "y": [
          0.6538071632385254
         ],
         "z": [
          -0.2768544554710388
         ]
        },
        {
         "hovertemplate": "color=else<br>0=%{x}<br>1=%{y}<br>2=%{z}<extra></extra>",
         "legendgroup": "else",
         "marker": {
          "color": "#00cc96",
          "symbol": "circle"
         },
         "mode": "markers",
         "name": "else",
         "scene": "scene",
         "showlegend": true,
         "type": "scatter3d",
         "x": [
          -0.5382124185562134
         ],
         "y": [
          -0.4576484262943268
         ],
         "z": [
          -0.2617706060409546
         ]
        },
        {
         "hovertemplate": "color=teeth<br>0=%{x}<br>1=%{y}<br>2=%{z}<extra></extra>",
         "legendgroup": "teeth",
         "marker": {
          "color": "#ab63fa",
          "symbol": "circle"
         },
         "mode": "markers",
         "name": "teeth",
         "scene": "scene",
         "showlegend": true,
         "type": "scatter3d",
         "x": [
          0.6336177587509155
         ],
         "y": [
          -0.3145817220211029
         ],
         "z": [
          0.225822314620018
         ]
        },
        {
         "hovertemplate": "color=throne<br>0=%{x}<br>1=%{y}<br>2=%{z}<extra></extra>",
         "legendgroup": "throne",
         "marker": {
          "color": "#FFA15A",
          "symbol": "circle"
         },
         "mode": "markers",
         "name": "throne",
         "scene": "scene",
         "showlegend": true,
         "type": "scatter3d",
         "x": [
          -0.23189973831176758
         ],
         "y": [
          0.5194969177246094
         ],
         "z": [
          0.00582452118396759
         ]
        },
        {
         "hovertemplate": "color=command<br>0=%{x}<br>1=%{y}<br>2=%{z}<extra></extra>",
         "legendgroup": "command",
         "marker": {
          "color": "#19d3f3",
          "symbol": "circle"
         },
         "mode": "markers",
         "name": "command",
         "scene": "scene",
         "showlegend": true,
         "type": "scatter3d",
         "x": [
          -0.5970251560211182
         ],
         "y": [
          0.5524795651435852
         ],
         "z": [
          0.10789608955383301
         ]
        },
        {
         "hovertemplate": "color=fat<br>0=%{x}<br>1=%{y}<br>2=%{z}<extra></extra>",
         "legendgroup": "fat",
         "marker": {
          "color": "#FF6692",
          "symbol": "circle"
         },
         "mode": "markers",
         "name": "fat",
         "scene": "scene",
         "showlegend": true,
         "type": "scatter3d",
         "x": [
          0.1066301241517067
         ],
         "y": [
          0.16089597344398499
         ],
         "z": [
          0.44363290071487427
         ]
        },
        {
         "hovertemplate": "color=truth<br>0=%{x}<br>1=%{y}<br>2=%{z}<extra></extra>",
         "legendgroup": "truth",
         "marker": {
          "color": "#B6E880",
          "symbol": "circle"
         },
         "mode": "markers",
         "name": "truth",
         "scene": "scene",
         "showlegend": true,
         "type": "scatter3d",
         "x": [
          -0.6155622601509094
         ],
         "y": [
          -0.18999579548835754
         ],
         "z": [
          -0.1268342286348343
         ]
        },
        {
         "hovertemplate": "color=commander<br>0=%{x}<br>1=%{y}<br>2=%{z}<extra></extra>",
         "legendgroup": "commander",
         "marker": {
          "color": "#FF97FF",
          "symbol": "circle"
         },
         "mode": "markers",
         "name": "commander",
         "scene": "scene",
         "showlegend": true,
         "type": "scatter3d",
         "x": [
          -0.29438120126724243
         ],
         "y": [
          0.626090407371521
         ],
         "z": [
          0.23630256950855255
         ]
        },
        {
         "hovertemplate": "color=walder<br>0=%{x}<br>1=%{y}<br>2=%{z}<extra></extra>",
         "legendgroup": "walder",
         "marker": {
          "color": "#FECB52",
          "symbol": "circle"
         },
         "mode": "markers",
         "name": "walder",
         "scene": "scene",
         "showlegend": true,
         "type": "scatter3d",
         "x": [
          -0.2442575991153717
         ],
         "y": [
          0.6398187875747681
         ],
         "z": [
          0.38553810119628906
         ]
        },
        {
         "hovertemplate": "color=ground<br>0=%{x}<br>1=%{y}<br>2=%{z}<extra></extra>",
         "legendgroup": "ground",
         "marker": {
          "color": "#636efa",
          "symbol": "circle"
         },
         "mode": "markers",
         "name": "ground",
         "scene": "scene",
         "showlegend": true,
         "type": "scatter3d",
         "x": [
          0.7546471953392029
         ],
         "y": [
          -0.03018568456172943
         ],
         "z": [
          -0.12527519464492798
         ]
        },
        {
         "hovertemplate": "color=doubt<br>0=%{x}<br>1=%{y}<br>2=%{z}<extra></extra>",
         "legendgroup": "doubt",
         "marker": {
          "color": "#EF553B",
          "symbol": "circle"
         },
         "mode": "markers",
         "name": "doubt",
         "scene": "scene",
         "showlegend": true,
         "type": "scatter3d",
         "x": [
          -0.7615793943405151
         ],
         "y": [
          0.03179985284805298
         ],
         "z": [
          -0.06611880660057068
         ]
        },
        {
         "hovertemplate": "color=jorah<br>0=%{x}<br>1=%{y}<br>2=%{z}<extra></extra>",
         "legendgroup": "jorah",
         "marker": {
          "color": "#00cc96",
          "symbol": "circle"
         },
         "mode": "markers",
         "name": "jorah",
         "scene": "scene",
         "showlegend": true,
         "type": "scatter3d",
         "x": [
          -0.11956768482923508
         ],
         "y": [
          -0.030750155448913574
         ],
         "z": [
          0.37434864044189453
         ]
        },
        {
         "hovertemplate": "color=cup<br>0=%{x}<br>1=%{y}<br>2=%{z}<extra></extra>",
         "legendgroup": "cup",
         "marker": {
          "color": "#ab63fa",
          "symbol": "circle"
         },
         "mode": "markers",
         "name": "cup",
         "scene": "scene",
         "showlegend": true,
         "type": "scatter3d",
         "x": [
          0.09751933068037033
         ],
         "y": [
          -0.22315165400505066
         ],
         "z": [
          0.3886200785636902
         ]
        },
        {
         "hovertemplate": "color=outside<br>0=%{x}<br>1=%{y}<br>2=%{z}<extra></extra>",
         "legendgroup": "outside",
         "marker": {
          "color": "#FFA15A",
          "symbol": "circle"
         },
         "mode": "markers",
         "name": "outside",
         "scene": "scene",
         "showlegend": true,
         "type": "scatter3d",
         "x": [
          0.446000337600708
         ],
         "y": [
          0.2245340347290039
         ],
         "z": [
          -0.3660030961036682
         ]
        },
        {
         "hovertemplate": "color=known<br>0=%{x}<br>1=%{y}<br>2=%{z}<extra></extra>",
         "legendgroup": "known",
         "marker": {
          "color": "#19d3f3",
          "symbol": "circle"
         },
         "mode": "markers",
         "name": "known",
         "scene": "scene",
         "showlegend": true,
         "type": "scatter3d",
         "x": [
          -0.529472827911377
         ],
         "y": [
          0.09052246063947678
         ],
         "z": [
          -0.09345482289791107
         ]
        },
        {
         "hovertemplate": "color=wore<br>0=%{x}<br>1=%{y}<br>2=%{z}<extra></extra>",
         "legendgroup": "wore",
         "marker": {
          "color": "#FF6692",
          "symbol": "circle"
         },
         "mode": "markers",
         "name": "wore",
         "scene": "scene",
         "showlegend": true,
         "type": "scatter3d",
         "x": [
          0.4597548246383667
         ],
         "y": [
          0.4684875011444092
         ],
         "z": [
          0.267705500125885
         ]
        },
        {
         "hovertemplate": "color=ran<br>0=%{x}<br>1=%{y}<br>2=%{z}<extra></extra>",
         "legendgroup": "ran",
         "marker": {
          "color": "#B6E880",
          "symbol": "circle"
         },
         "mode": "markers",
         "name": "ran",
         "scene": "scene",
         "showlegend": true,
         "type": "scatter3d",
         "x": [
          0.6572579145431519
         ],
         "y": [
          -0.10423821210861206
         ],
         "z": [
          0.10628514736890793
         ]
        },
        {
         "hovertemplate": "color=gate<br>0=%{x}<br>1=%{y}<br>2=%{z}<extra></extra>",
         "legendgroup": "gate",
         "marker": {
          "color": "#FF97FF",
          "symbol": "circle"
         },
         "mode": "markers",
         "name": "gate",
         "scene": "scene",
         "showlegend": true,
         "type": "scatter3d",
         "x": [
          0.41241443157196045
         ],
         "y": [
          0.43762069940567017
         ],
         "z": [
          -0.2622414827346802
         ]
        },
        {
         "hovertemplate": "color=room<br>0=%{x}<br>1=%{y}<br>2=%{z}<extra></extra>",
         "legendgroup": "room",
         "marker": {
          "color": "#FECB52",
          "symbol": "circle"
         },
         "mode": "markers",
         "name": "room",
         "scene": "scene",
         "showlegend": true,
         "type": "scatter3d",
         "x": [
          0.5671942830085754
         ],
         "y": [
          0.14684388041496277
         ],
         "z": [
          -0.09411510825157166
         ]
        },
        {
         "hovertemplate": "color=held<br>0=%{x}<br>1=%{y}<br>2=%{z}<extra></extra>",
         "legendgroup": "held",
         "marker": {
          "color": "#636efa",
          "symbol": "circle"
         },
         "mode": "markers",
         "name": "held",
         "scene": "scene",
         "showlegend": true,
         "type": "scatter3d",
         "x": [
          0.31479737162590027
         ],
         "y": [
          0.23788239061832428
         ],
         "z": [
          0.39807528257369995
         ]
        },
        {
         "hovertemplate": "color=in<br>0=%{x}<br>1=%{y}<br>2=%{z}<extra></extra>",
         "legendgroup": "in",
         "marker": {
          "color": "#EF553B",
          "symbol": "circle"
         },
         "mode": "markers",
         "name": "in",
         "scene": "scene",
         "showlegend": true,
         "type": "scatter3d",
         "x": [
          -0.08827391266822815
         ],
         "y": [
          0.3127574622631073
         ],
         "z": [
          -0.25028979778289795
         ]
        },
        {
         "hovertemplate": "color=closed<br>0=%{x}<br>1=%{y}<br>2=%{z}<extra></extra>",
         "legendgroup": "closed",
         "marker": {
          "color": "#00cc96",
          "symbol": "circle"
         },
         "mode": "markers",
         "name": "closed",
         "scene": "scene",
         "showlegend": true,
         "type": "scatter3d",
         "x": [
          0.44293904304504395
         ],
         "y": [
          -0.042576491832733154
         ],
         "z": [
          0.002278044819831848
         ]
        },
        {
         "hovertemplate": "color=home<br>0=%{x}<br>1=%{y}<br>2=%{z}<extra></extra>",
         "legendgroup": "home",
         "marker": {
          "color": "#ab63fa",
          "symbol": "circle"
         },
         "mode": "markers",
         "name": "home",
         "scene": "scene",
         "showlegend": true,
         "type": "scatter3d",
         "x": [
          -0.4508383572101593
         ],
         "y": [
          0.0573401153087616
         ],
         "z": [
          -0.3393617272377014
         ]
        },
        {
         "hovertemplate": "color=matter<br>0=%{x}<br>1=%{y}<br>2=%{z}<extra></extra>",
         "legendgroup": "matter",
         "marker": {
          "color": "#FFA15A",
          "symbol": "circle"
         },
         "mode": "markers",
         "name": "matter",
         "scene": "scene",
         "showlegend": true,
         "type": "scatter3d",
         "x": [
          -0.6535372734069824
         ],
         "y": [
          -0.1505017876625061
         ],
         "z": [
          -0.16493947803974152
         ]
        },
        {
         "hovertemplate": "color=south<br>0=%{x}<br>1=%{y}<br>2=%{z}<extra></extra>",
         "legendgroup": "south",
         "marker": {
          "color": "#19d3f3",
          "symbol": "circle"
         },
         "mode": "markers",
         "name": "south",
         "scene": "scene",
         "showlegend": true,
         "type": "scatter3d",
         "x": [
          0.019794166088104248
         ],
         "y": [
          0.6627248525619507
         ],
         "z": [
          -0.4014650583267212
         ]
        },
        {
         "hovertemplate": "color=sky<br>0=%{x}<br>1=%{y}<br>2=%{z}<extra></extra>",
         "legendgroup": "sky",
         "marker": {
          "color": "#FF6692",
          "symbol": "circle"
         },
         "mode": "markers",
         "name": "sky",
         "scene": "scene",
         "showlegend": true,
         "type": "scatter3d",
         "x": [
          0.6456330418586731
         ],
         "y": [
          0.15424427390098572
         ],
         "z": [
          -0.2622421383857727
         ]
        },
        {
         "hovertemplate": "color=wood<br>0=%{x}<br>1=%{y}<br>2=%{z}<extra></extra>",
         "legendgroup": "wood",
         "marker": {
          "color": "#B6E880",
          "symbol": "circle"
         },
         "mode": "markers",
         "name": "wood",
         "scene": "scene",
         "showlegend": true,
         "type": "scatter3d",
         "x": [
          0.6987518668174744
         ],
         "y": [
          0.2469337284564972
         ],
         "z": [
          -0.24020181596279144
         ]
        },
        {
         "hovertemplate": "color=as<br>0=%{x}<br>1=%{y}<br>2=%{z}<extra></extra>",
         "legendgroup": "as",
         "marker": {
          "color": "#FF97FF",
          "symbol": "circle"
         },
         "mode": "markers",
         "name": "as",
         "scene": "scene",
         "showlegend": true,
         "type": "scatter3d",
         "x": [
          -0.6797035932540894
         ],
         "y": [
          -0.007868766784667969
         ],
         "z": [
          0.29227834939956665
         ]
        },
        {
         "hovertemplate": "color=to<br>0=%{x}<br>1=%{y}<br>2=%{z}<extra></extra>",
         "legendgroup": "to",
         "marker": {
          "color": "#FECB52",
          "symbol": "circle"
         },
         "mode": "markers",
         "name": "to",
         "scene": "scene",
         "showlegend": true,
         "type": "scatter3d",
         "x": [
          -0.6955556273460388
         ],
         "y": [
          -0.24566462635993958
         ],
         "z": [
          0.0008922591805458069
         ]
        },
        {
         "hovertemplate": "color=dozen<br>0=%{x}<br>1=%{y}<br>2=%{z}<extra></extra>",
         "legendgroup": "dozen",
         "marker": {
          "color": "#636efa",
          "symbol": "circle"
         },
         "mode": "markers",
         "name": "dozen",
         "scene": "scene",
         "showlegend": true,
         "type": "scatter3d",
         "x": [
          0.3205494284629822
         ],
         "y": [
          0.5713145136833191
         ],
         "z": [
          -0.313721239566803
         ]
        },
        {
         "hovertemplate": "color=wed<br>0=%{x}<br>1=%{y}<br>2=%{z}<extra></extra>",
         "legendgroup": "wed",
         "marker": {
          "color": "#EF553B",
          "symbol": "circle"
         },
         "mode": "markers",
         "name": "wed",
         "scene": "scene",
         "showlegend": true,
         "type": "scatter3d",
         "x": [
          -0.718603789806366
         ],
         "y": [
          0.48259079456329346
         ],
         "z": [
          0.2210426926612854
         ]
        },
        {
         "hovertemplate": "color=people<br>0=%{x}<br>1=%{y}<br>2=%{z}<extra></extra>",
         "legendgroup": "people",
         "marker": {
          "color": "#00cc96",
          "symbol": "circle"
         },
         "mode": "markers",
         "name": "people",
         "scene": "scene",
         "showlegend": true,
         "type": "scatter3d",
         "x": [
          -0.3816482722759247
         ],
         "y": [
          0.22796715795993805
         ],
         "z": [
          -0.644927978515625
         ]
        },
        {
         "hovertemplate": "color=neck<br>0=%{x}<br>1=%{y}<br>2=%{z}<extra></extra>",
         "legendgroup": "neck",
         "marker": {
          "color": "#ab63fa",
          "symbol": "circle"
         },
         "mode": "markers",
         "name": "neck",
         "scene": "scene",
         "showlegend": true,
         "type": "scatter3d",
         "x": [
          0.6853678822517395
         ],
         "y": [
          0.02914316952228546
         ],
         "z": [
          0.24513210356235504
         ]
        },
        {
         "hovertemplate": "color=riverrun<br>0=%{x}<br>1=%{y}<br>2=%{z}<extra></extra>",
         "legendgroup": "riverrun",
         "marker": {
          "color": "#FFA15A",
          "symbol": "circle"
         },
         "mode": "markers",
         "name": "riverrun",
         "scene": "scene",
         "showlegend": true,
         "type": "scatter3d",
         "x": [
          -0.4291902482509613
         ],
         "y": [
          0.6810035705566406
         ],
         "z": [
          0.05254053324460983
         ]
        },
        {
         "hovertemplate": "color=food<br>0=%{x}<br>1=%{y}<br>2=%{z}<extra></extra>",
         "legendgroup": "food",
         "marker": {
          "color": "#19d3f3",
          "symbol": "circle"
         },
         "mode": "markers",
         "name": "food",
         "scene": "scene",
         "showlegend": true,
         "type": "scatter3d",
         "x": [
          -0.10365815460681915
         ],
         "y": [
          -0.21227172017097473
         ],
         "z": [
          -0.47673577070236206
         ]
        },
        {
         "hovertemplate": "color=near<br>0=%{x}<br>1=%{y}<br>2=%{z}<extra></extra>",
         "legendgroup": "near",
         "marker": {
          "color": "#FF6692",
          "symbol": "circle"
         },
         "mode": "markers",
         "name": "near",
         "scene": "scene",
         "showlegend": true,
         "type": "scatter3d",
         "x": [
          0.2653997242450714
         ],
         "y": [
          0.4469836354255676
         ],
         "z": [
          -0.3130646347999573
         ]
        },
        {
         "hovertemplate": "color=instead<br>0=%{x}<br>1=%{y}<br>2=%{z}<extra></extra>",
         "legendgroup": "instead",
         "marker": {
          "color": "#B6E880",
          "symbol": "circle"
         },
         "mode": "markers",
         "name": "instead",
         "scene": "scene",
         "showlegend": true,
         "type": "scatter3d",
         "x": [
          0.13137924671173096
         ],
         "y": [
          0.07942789793014526
         ],
         "z": [
          0.1437583863735199
         ]
        },
        {
         "hovertemplate": "color=turn<br>0=%{x}<br>1=%{y}<br>2=%{z}<extra></extra>",
         "legendgroup": "turn",
         "marker": {
          "color": "#FF97FF",
          "symbol": "circle"
         },
         "mode": "markers",
         "name": "turn",
         "scene": "scene",
         "showlegend": true,
         "type": "scatter3d",
         "x": [
          -0.2098337709903717
         ],
         "y": [
          -0.15817326307296753
         ],
         "z": [
          -0.27981698513031006
         ]
        },
        {
         "hovertemplate": "color=talk<br>0=%{x}<br>1=%{y}<br>2=%{z}<extra></extra>",
         "legendgroup": "talk",
         "marker": {
          "color": "#FECB52",
          "symbol": "circle"
         },
         "mode": "markers",
         "name": "talk",
         "scene": "scene",
         "showlegend": true,
         "type": "scatter3d",
         "x": [
          -0.6498249769210815
         ],
         "y": [
          -0.2654886543750763
         ],
         "z": [
          -0.3034224510192871
         ]
        },
        {
         "hovertemplate": "color=none<br>0=%{x}<br>1=%{y}<br>2=%{z}<extra></extra>",
         "legendgroup": "none",
         "marker": {
          "color": "#636efa",
          "symbol": "circle"
         },
         "mode": "markers",
         "name": "none",
         "scene": "scene",
         "showlegend": true,
         "type": "scatter3d",
         "x": [
          -0.603518545627594
         ],
         "y": [
          -0.15607881546020508
         ],
         "z": [
          -0.3592183589935303
         ]
        },
        {
         "hovertemplate": "color=ships<br>0=%{x}<br>1=%{y}<br>2=%{z}<extra></extra>",
         "legendgroup": "ships",
         "marker": {
          "color": "#EF553B",
          "symbol": "circle"
         },
         "mode": "markers",
         "name": "ships",
         "scene": "scene",
         "showlegend": true,
         "type": "scatter3d",
         "x": [
          -0.07393220067024231
         ],
         "y": [
          0.5314050912857056
         ],
         "z": [
          -0.6395935416221619
         ]
        },
        {
         "hovertemplate": "color=tyrell<br>0=%{x}<br>1=%{y}<br>2=%{z}<extra></extra>",
         "legendgroup": "tyrell",
         "marker": {
          "color": "#00cc96",
          "symbol": "circle"
         },
         "mode": "markers",
         "name": "tyrell",
         "scene": "scene",
         "showlegend": true,
         "type": "scatter3d",
         "x": [
          -0.41566529870033264
         ],
         "y": [
          0.709082841873169
         ],
         "z": [
          0.43075031042099
         ]
        },
        {
         "hovertemplate": "color=don<br>0=%{x}<br>1=%{y}<br>2=%{z}<extra></extra>",
         "legendgroup": "don",
         "marker": {
          "color": "#ab63fa",
          "symbol": "circle"
         },
         "mode": "markers",
         "name": "don",
         "scene": "scene",
         "showlegend": true,
         "type": "scatter3d",
         "x": [
          -0.5543362498283386
         ],
         "y": [
          -0.48507627844810486
         ],
         "z": [
          0.0016846731305122375
         ]
        },
        {
         "hovertemplate": "color=moon<br>0=%{x}<br>1=%{y}<br>2=%{z}<extra></extra>",
         "legendgroup": "moon",
         "marker": {
          "color": "#FFA15A",
          "symbol": "circle"
         },
         "mode": "markers",
         "name": "moon",
         "scene": "scene",
         "showlegend": true,
         "type": "scatter3d",
         "x": [
          0.3851977586746216
         ],
         "y": [
          0.3540869355201721
         ],
         "z": [
          -0.16905999183654785
         ]
        },
        {
         "hovertemplate": "color=lips<br>0=%{x}<br>1=%{y}<br>2=%{z}<extra></extra>",
         "legendgroup": "lips",
         "marker": {
          "color": "#19d3f3",
          "symbol": "circle"
         },
         "mode": "markers",
         "name": "lips",
         "scene": "scene",
         "showlegend": true,
         "type": "scatter3d",
         "x": [
          0.4140026867389679
         ],
         "y": [
          -0.3813876807689667
         ],
         "z": [
          0.4748411774635315
         ]
        },
        {
         "hovertemplate": "color=summer<br>0=%{x}<br>1=%{y}<br>2=%{z}<extra></extra>",
         "legendgroup": "summer",
         "marker": {
          "color": "#FF6692",
          "symbol": "circle"
         },
         "mode": "markers",
         "name": "summer",
         "scene": "scene",
         "showlegend": true,
         "type": "scatter3d",
         "x": [
          0.31182560324668884
         ],
         "y": [
          0.02316288650035858
         ],
         "z": [
          -0.3282856345176697
         ]
        },
        {
         "hovertemplate": "color=shadow<br>0=%{x}<br>1=%{y}<br>2=%{z}<extra></extra>",
         "legendgroup": "shadow",
         "marker": {
          "color": "#B6E880",
          "symbol": "circle"
         },
         "mode": "markers",
         "name": "shadow",
         "scene": "scene",
         "showlegend": true,
         "type": "scatter3d",
         "x": [
          0.46692633628845215
         ],
         "y": [
          0.3910781741142273
         ],
         "z": [
          -0.2591237425804138
         ]
        },
        {
         "hovertemplate": "color=bolton<br>0=%{x}<br>1=%{y}<br>2=%{z}<extra></extra>",
         "legendgroup": "bolton",
         "marker": {
          "color": "#FF97FF",
          "symbol": "circle"
         },
         "mode": "markers",
         "name": "bolton",
         "scene": "scene",
         "showlegend": true,
         "type": "scatter3d",
         "x": [
          -0.42524978518486023
         ],
         "y": [
          0.5475477576255798
         ],
         "z": [
          0.36388522386550903
         ]
        },
        {
         "hovertemplate": "color=watched<br>0=%{x}<br>1=%{y}<br>2=%{z}<extra></extra>",
         "legendgroup": "watched",
         "marker": {
          "color": "#FECB52",
          "symbol": "circle"
         },
         "mode": "markers",
         "name": "watched",
         "scene": "scene",
         "showlegend": true,
         "type": "scatter3d",
         "x": [
          0.4870111346244812
         ],
         "y": [
          0.019039899110794067
         ],
         "z": [
          0.13257569074630737
         ]
        },
        {
         "hovertemplate": "color=times<br>0=%{x}<br>1=%{y}<br>2=%{z}<extra></extra>",
         "legendgroup": "times",
         "marker": {
          "color": "#636efa",
          "symbol": "circle"
         },
         "mode": "markers",
         "name": "times",
         "scene": "scene",
         "showlegend": true,
         "type": "scatter3d",
         "x": [
          -0.21959230303764343
         ],
         "y": [
          0.29907625913619995
         ],
         "z": [
          -0.49356645345687866
         ]
        },
        {
         "hovertemplate": "color=leather<br>0=%{x}<br>1=%{y}<br>2=%{z}<extra></extra>",
         "legendgroup": "leather",
         "marker": {
          "color": "#EF553B",
          "symbol": "circle"
         },
         "mode": "markers",
         "name": "leather",
         "scene": "scene",
         "showlegend": true,
         "type": "scatter3d",
         "x": [
          0.684783935546875
         ],
         "y": [
          0.27438676357269287
         ],
         "z": [
          0.20917634665966034
         ]
        },
        {
         "hovertemplate": "color=before<br>0=%{x}<br>1=%{y}<br>2=%{z}<extra></extra>",
         "legendgroup": "before",
         "marker": {
          "color": "#00cc96",
          "symbol": "circle"
         },
         "mode": "markers",
         "name": "before",
         "scene": "scene",
         "showlegend": true,
         "type": "scatter3d",
         "x": [
          -0.22310897707939148
         ],
         "y": [
          -0.09225666522979736
         ],
         "z": [
          -0.3868061304092407
         ]
        },
        {
         "hovertemplate": "color=varys<br>0=%{x}<br>1=%{y}<br>2=%{z}<extra></extra>",
         "legendgroup": "varys",
         "marker": {
          "color": "#ab63fa",
          "symbol": "circle"
         },
         "mode": "markers",
         "name": "varys",
         "scene": "scene",
         "showlegend": true,
         "type": "scatter3d",
         "x": [
          -0.5173006057739258
         ],
         "y": [
          -0.05711445212364197
         ],
         "z": [
          0.43880367279052734
         ]
        },
        {
         "hovertemplate": "color=shoulder<br>0=%{x}<br>1=%{y}<br>2=%{z}<extra></extra>",
         "legendgroup": "shoulder",
         "marker": {
          "color": "#FFA15A",
          "symbol": "circle"
         },
         "mode": "markers",
         "name": "shoulder",
         "scene": "scene",
         "showlegend": true,
         "type": "scatter3d",
         "x": [
          0.5738674402236938
         ],
         "y": [
          0.09311506897211075
         ],
         "z": [
          0.42995983362197876
         ]
        },
        {
         "hovertemplate": "color=warm<br>0=%{x}<br>1=%{y}<br>2=%{z}<extra></extra>",
         "legendgroup": "warm",
         "marker": {
          "color": "#19d3f3",
          "symbol": "circle"
         },
         "mode": "markers",
         "name": "warm",
         "scene": "scene",
         "showlegend": true,
         "type": "scatter3d",
         "x": [
          0.3543851375579834
         ],
         "y": [
          -0.433032363653183
         ],
         "z": [
          -0.2787652611732483
         ]
        },
        {
         "hovertemplate": "color=septon<br>0=%{x}<br>1=%{y}<br>2=%{z}<extra></extra>",
         "legendgroup": "septon",
         "marker": {
          "color": "#FF6692",
          "symbol": "circle"
         },
         "mode": "markers",
         "name": "septon",
         "scene": "scene",
         "showlegend": true,
         "type": "scatter3d",
         "x": [
          -0.2356087565422058
         ],
         "y": [
          0.4875395894050598
         ],
         "z": [
          -0.008096642792224884
         ]
        },
        {
         "hovertemplate": "color=believe<br>0=%{x}<br>1=%{y}<br>2=%{z}<extra></extra>",
         "legendgroup": "believe",
         "marker": {
          "color": "#B6E880",
          "symbol": "circle"
         },
         "mode": "markers",
         "name": "believe",
         "scene": "scene",
         "showlegend": true,
         "type": "scatter3d",
         "x": [
          -0.7480596303939819
         ],
         "y": [
          -0.1711343228816986
         ],
         "z": [
          -0.06756049394607544
         ]
        },
        {
         "hovertemplate": "color=caught<br>0=%{x}<br>1=%{y}<br>2=%{z}<extra></extra>",
         "legendgroup": "caught",
         "marker": {
          "color": "#FF97FF",
          "symbol": "circle"
         },
         "mode": "markers",
         "name": "caught",
         "scene": "scene",
         "showlegend": true,
         "type": "scatter3d",
         "x": [
          0.4780481457710266
         ],
         "y": [
          -0.22864481806755066
         ],
         "z": [
          0.14936146140098572
         ]
        },
        {
         "hovertemplate": "color=are<br>0=%{x}<br>1=%{y}<br>2=%{z}<extra></extra>",
         "legendgroup": "are",
         "marker": {
          "color": "#FECB52",
          "symbol": "circle"
         },
         "mode": "markers",
         "name": "are",
         "scene": "scene",
         "showlegend": true,
         "type": "scatter3d",
         "x": [
          -0.719316840171814
         ],
         "y": [
          -0.15432807803153992
         ],
         "z": [
          -0.13909152150154114
         ]
        },
        {
         "hovertemplate": "color=least<br>0=%{x}<br>1=%{y}<br>2=%{z}<extra></extra>",
         "legendgroup": "least",
         "marker": {
          "color": "#636efa",
          "symbol": "circle"
         },
         "mode": "markers",
         "name": "least",
         "scene": "scene",
         "showlegend": true,
         "type": "scatter3d",
         "x": [
          -0.595869243144989
         ],
         "y": [
          -0.08804887533187866
         ],
         "z": [
          -0.28964507579803467
         ]
        },
        {
         "hovertemplate": "color=guards<br>0=%{x}<br>1=%{y}<br>2=%{z}<extra></extra>",
         "legendgroup": "guards",
         "marker": {
          "color": "#EF553B",
          "symbol": "circle"
         },
         "mode": "markers",
         "name": "guards",
         "scene": "scene",
         "showlegend": true,
         "type": "scatter3d",
         "x": [
          0.09816131740808487
         ],
         "y": [
          0.593193769454956
         ],
         "z": [
          -0.04364576190710068
         ]
        },
        {
         "hovertemplate": "color=answer<br>0=%{x}<br>1=%{y}<br>2=%{z}<extra></extra>",
         "legendgroup": "answer",
         "marker": {
          "color": "#00cc96",
          "symbol": "circle"
         },
         "mode": "markers",
         "name": "answer",
         "scene": "scene",
         "showlegend": true,
         "type": "scatter3d",
         "x": [
          -0.5927639603614807
         ],
         "y": [
          -0.33265647292137146
         ],
         "z": [
          0.19499246776103973
         ]
        },
        {
         "hovertemplate": "color=god<br>0=%{x}<br>1=%{y}<br>2=%{z}<extra></extra>",
         "legendgroup": "god",
         "marker": {
          "color": "#ab63fa",
          "symbol": "circle"
         },
         "mode": "markers",
         "name": "god",
         "scene": "scene",
         "showlegend": true,
         "type": "scatter3d",
         "x": [
          -0.23788246512413025
         ],
         "y": [
          0.4085519015789032
         ],
         "z": [
          -0.4378126859664917
         ]
        },
        {
         "hovertemplate": "color=blade<br>0=%{x}<br>1=%{y}<br>2=%{z}<extra></extra>",
         "legendgroup": "blade",
         "marker": {
          "color": "#FFA15A",
          "symbol": "circle"
         },
         "mode": "markers",
         "name": "blade",
         "scene": "scene",
         "showlegend": true,
         "type": "scatter3d",
         "x": [
          0.5048741698265076
         ],
         "y": [
          -0.10701251029968262
         ],
         "z": [
          0.3806002140045166
         ]
        },
        {
         "hovertemplate": "color=ice<br>0=%{x}<br>1=%{y}<br>2=%{z}<extra></extra>",
         "legendgroup": "ice",
         "marker": {
          "color": "#19d3f3",
          "symbol": "circle"
         },
         "mode": "markers",
         "name": "ice",
         "scene": "scene",
         "showlegend": true,
         "type": "scatter3d",
         "x": [
          0.6485540866851807
         ],
         "y": [
          0.11469343304634094
         ],
         "z": [
          -0.31823301315307617
         ]
        },
        {
         "hovertemplate": "color=wondered<br>0=%{x}<br>1=%{y}<br>2=%{z}<extra></extra>",
         "legendgroup": "wondered",
         "marker": {
          "color": "#FF6692",
          "symbol": "circle"
         },
         "mode": "markers",
         "name": "wondered",
         "scene": "scene",
         "showlegend": true,
         "type": "scatter3d",
         "x": [
          -0.4597950875759125
         ],
         "y": [
          -0.16401895880699158
         ],
         "z": [
          -0.035761766135692596
         ]
        },
        {
         "hovertemplate": "color=mine<br>0=%{x}<br>1=%{y}<br>2=%{z}<extra></extra>",
         "legendgroup": "mine",
         "marker": {
          "color": "#B6E880",
          "symbol": "circle"
         },
         "mode": "markers",
         "name": "mine",
         "scene": "scene",
         "showlegend": true,
         "type": "scatter3d",
         "x": [
          -0.6775900721549988
         ],
         "y": [
          0.03887525200843811
         ],
         "z": [
          -0.03304639458656311
         ]
        },
        {
         "hovertemplate": "color=opened<br>0=%{x}<br>1=%{y}<br>2=%{z}<extra></extra>",
         "legendgroup": "opened",
         "marker": {
          "color": "#FF97FF",
          "symbol": "circle"
         },
         "mode": "markers",
         "name": "opened",
         "scene": "scene",
         "showlegend": true,
         "type": "scatter3d",
         "x": [
          0.5602829456329346
         ],
         "y": [
          -0.06283563375473022
         ],
         "z": [
          0.14437225461006165
         ]
        },
        {
         "hovertemplate": "color=barristan<br>0=%{x}<br>1=%{y}<br>2=%{z}<extra></extra>",
         "legendgroup": "barristan",
         "marker": {
          "color": "#FECB52",
          "symbol": "circle"
         },
         "mode": "markers",
         "name": "barristan",
         "scene": "scene",
         "showlegend": true,
         "type": "scatter3d",
         "x": [
          -0.29676029086112976
         ],
         "y": [
          0.11783085763454437
         ],
         "z": [
          0.38215547800064087
         ]
        },
        {
         "hovertemplate": "color=shield<br>0=%{x}<br>1=%{y}<br>2=%{z}<extra></extra>",
         "legendgroup": "shield",
         "marker": {
          "color": "#636efa",
          "symbol": "circle"
         },
         "mode": "markers",
         "name": "shield",
         "scene": "scene",
         "showlegend": true,
         "type": "scatter3d",
         "x": [
          0.4042918384075165
         ],
         "y": [
          0.5121352672576904
         ],
         "z": [
          0.3120651841163635
         ]
        },
        {
         "hovertemplate": "color=armor<br>0=%{x}<br>1=%{y}<br>2=%{z}<extra></extra>",
         "legendgroup": "armor",
         "marker": {
          "color": "#EF553B",
          "symbol": "circle"
         },
         "mode": "markers",
         "name": "armor",
         "scene": "scene",
         "showlegend": true,
         "type": "scatter3d",
         "x": [
          0.4625532627105713
         ],
         "y": [
          0.4996330440044403
         ],
         "z": [
          0.22447717189788818
         ]
        },
        {
         "hovertemplate": "color=safe<br>0=%{x}<br>1=%{y}<br>2=%{z}<extra></extra>",
         "legendgroup": "safe",
         "marker": {
          "color": "#00cc96",
          "symbol": "circle"
         },
         "mode": "markers",
         "name": "safe",
         "scene": "scene",
         "showlegend": true,
         "type": "scatter3d",
         "x": [
          -0.464357852935791
         ],
         "y": [
          0.0781048983335495
         ],
         "z": [
          -0.41029590368270874
         ]
        },
        {
         "hovertemplate": "color=six<br>0=%{x}<br>1=%{y}<br>2=%{z}<extra></extra>",
         "legendgroup": "six",
         "marker": {
          "color": "#ab63fa",
          "symbol": "circle"
         },
         "mode": "markers",
         "name": "six",
         "scene": "scene",
         "showlegend": true,
         "type": "scatter3d",
         "x": [
          0.06238706409931183
         ],
         "y": [
          0.674164891242981
         ],
         "z": [
          -0.2802315354347229
         ]
        },
        {
         "hovertemplate": "color=kept<br>0=%{x}<br>1=%{y}<br>2=%{z}<extra></extra>",
         "legendgroup": "kept",
         "marker": {
          "color": "#FFA15A",
          "symbol": "circle"
         },
         "mode": "markers",
         "name": "kept",
         "scene": "scene",
         "showlegend": true,
         "type": "scatter3d",
         "x": [
          0.02567916363477707
         ],
         "y": [
          0.011548846960067749
         ],
         "z": [
          -0.14418716728687286
         ]
        },
        {
         "hovertemplate": "color=wish<br>0=%{x}<br>1=%{y}<br>2=%{z}<extra></extra>",
         "legendgroup": "wish",
         "marker": {
          "color": "#19d3f3",
          "symbol": "circle"
         },
         "mode": "markers",
         "name": "wish",
         "scene": "scene",
         "showlegend": true,
         "type": "scatter3d",
         "x": [
          -0.831172525882721
         ],
         "y": [
          -0.06369084119796753
         ],
         "z": [
          0.09289047122001648
         ]
        },
        {
         "hovertemplate": "color=return<br>0=%{x}<br>1=%{y}<br>2=%{z}<extra></extra>",
         "legendgroup": "return",
         "marker": {
          "color": "#FF6692",
          "symbol": "circle"
         },
         "mode": "markers",
         "name": "return",
         "scene": "scene",
         "showlegend": true,
         "type": "scatter3d",
         "x": [
          -0.6837496757507324
         ],
         "y": [
          0.2926819920539856
         ],
         "z": [
          -0.28018897771835327
         ]
        },
        {
         "hovertemplate": "color=tommen<br>0=%{x}<br>1=%{y}<br>2=%{z}<extra></extra>",
         "legendgroup": "tommen",
         "marker": {
          "color": "#B6E880",
          "symbol": "circle"
         },
         "mode": "markers",
         "name": "tommen",
         "scene": "scene",
         "showlegend": true,
         "type": "scatter3d",
         "x": [
          -0.5665987133979797
         ],
         "y": [
          0.4029654860496521
         ],
         "z": [
          0.2687980532646179
         ]
        },
        {
         "hovertemplate": "color=used<br>0=%{x}<br>1=%{y}<br>2=%{z}<extra></extra>",
         "legendgroup": "used",
         "marker": {
          "color": "#FF97FF",
          "symbol": "circle"
         },
         "mode": "markers",
         "name": "used",
         "scene": "scene",
         "showlegend": true,
         "type": "scatter3d",
         "x": [
          -0.2603021264076233
         ],
         "y": [
          -0.25111842155456543
         ],
         "z": [
          -0.19095979630947113
         ]
        },
        {
         "hovertemplate": "color=smell<br>0=%{x}<br>1=%{y}<br>2=%{z}<extra></extra>",
         "legendgroup": "smell",
         "marker": {
          "color": "#FECB52",
          "symbol": "circle"
         },
         "mode": "markers",
         "name": "smell",
         "scene": "scene",
         "showlegend": true,
         "type": "scatter3d",
         "x": [
          0.2762168347835541
         ],
         "y": [
          -0.48944881558418274
         ],
         "z": [
          -0.2048463672399521
         ]
        },
        {
         "hovertemplate": "color=less<br>0=%{x}<br>1=%{y}<br>2=%{z}<extra></extra>",
         "legendgroup": "less",
         "marker": {
          "color": "#636efa",
          "symbol": "circle"
         },
         "mode": "markers",
         "name": "less",
         "scene": "scene",
         "showlegend": true,
         "type": "scatter3d",
         "x": [
          -0.5063776969909668
         ],
         "y": [
          -0.028373509645462036
         ],
         "z": [
          -0.24238984286785126
         ]
        },
        {
         "hovertemplate": "color=foot<br>0=%{x}<br>1=%{y}<br>2=%{z}<extra></extra>",
         "legendgroup": "foot",
         "marker": {
          "color": "#EF553B",
          "symbol": "circle"
         },
         "mode": "markers",
         "name": "foot",
         "scene": "scene",
         "showlegend": true,
         "type": "scatter3d",
         "x": [
          0.5477990508079529
         ],
         "y": [
          0.2997933030128479
         ],
         "z": [
          0.01969417929649353
         ]
        },
        {
         "hovertemplate": "color=squire<br>0=%{x}<br>1=%{y}<br>2=%{z}<extra></extra>",
         "legendgroup": "squire",
         "marker": {
          "color": "#00cc96",
          "symbol": "circle"
         },
         "mode": "markers",
         "name": "squire",
         "scene": "scene",
         "showlegend": true,
         "type": "scatter3d",
         "x": [
          -0.2941831350326538
         ],
         "y": [
          0.7064678072929382
         ],
         "z": [
          0.5256621241569519
         ]
        },
        {
         "hovertemplate": "color=floor<br>0=%{x}<br>1=%{y}<br>2=%{z}<extra></extra>",
         "legendgroup": "floor",
         "marker": {
          "color": "#ab63fa",
          "symbol": "circle"
         },
         "mode": "markers",
         "name": "floor",
         "scene": "scene",
         "showlegend": true,
         "type": "scatter3d",
         "x": [
          0.7697141766548157
         ],
         "y": [
          0.08988866955041885
         ],
         "z": [
          0.06661418080329895
         ]
        },
        {
         "hovertemplate": "color=eddard<br>0=%{x}<br>1=%{y}<br>2=%{z}<extra></extra>",
         "legendgroup": "eddard",
         "marker": {
          "color": "#FFA15A",
          "symbol": "circle"
         },
         "mode": "markers",
         "name": "eddard",
         "scene": "scene",
         "showlegend": true,
         "type": "scatter3d",
         "x": [
          -0.3913087546825409
         ],
         "y": [
          0.3232646584510803
         ],
         "z": [
          0.23444250226020813
         ]
        },
        {
         "hovertemplate": "color=empty<br>0=%{x}<br>1=%{y}<br>2=%{z}<extra></extra>",
         "legendgroup": "empty",
         "marker": {
          "color": "#19d3f3",
          "symbol": "circle"
         },
         "mode": "markers",
         "name": "empty",
         "scene": "scene",
         "showlegend": true,
         "type": "scatter3d",
         "x": [
          0.5621541738510132
         ],
         "y": [
          0.10037878155708313
         ],
         "z": [
          -0.22073160111904144
         ]
        },
        {
         "hovertemplate": "color=run<br>0=%{x}<br>1=%{y}<br>2=%{z}<extra></extra>",
         "legendgroup": "run",
         "marker": {
          "color": "#FF6692",
          "symbol": "circle"
         },
         "mode": "markers",
         "name": "run",
         "scene": "scene",
         "showlegend": true,
         "type": "scatter3d",
         "x": [
          -0.0789245069026947
         ],
         "y": [
          -0.46255555748939514
         ],
         "z": [
          -0.3405822515487671
         ]
        },
        {
         "hovertemplate": "color=followed<br>0=%{x}<br>1=%{y}<br>2=%{z}<extra></extra>",
         "legendgroup": "followed",
         "marker": {
          "color": "#B6E880",
          "symbol": "circle"
         },
         "mode": "markers",
         "name": "followed",
         "scene": "scene",
         "showlegend": true,
         "type": "scatter3d",
         "x": [
          0.39610838890075684
         ],
         "y": [
          0.24869313836097717
         ],
         "z": [
          -0.017819002270698547
         ]
        },
        {
         "hovertemplate": "color=serve<br>0=%{x}<br>1=%{y}<br>2=%{z}<extra></extra>",
         "legendgroup": "serve",
         "marker": {
          "color": "#FF97FF",
          "symbol": "circle"
         },
         "mode": "markers",
         "name": "serve",
         "scene": "scene",
         "showlegend": true,
         "type": "scatter3d",
         "x": [
          -0.7580873370170593
         ],
         "y": [
          0.19263888895511627
         ],
         "z": [
          -0.17234481871128082
         ]
        },
        {
         "hovertemplate": "color=friends<br>0=%{x}<br>1=%{y}<br>2=%{z}<extra></extra>",
         "legendgroup": "friends",
         "marker": {
          "color": "#FECB52",
          "symbol": "circle"
         },
         "mode": "markers",
         "name": "friends",
         "scene": "scene",
         "showlegend": true,
         "type": "scatter3d",
         "x": [
          -0.691376805305481
         ],
         "y": [
          0.3435741364955902
         ],
         "z": [
          -0.3621305227279663
         ]
        },
        {
         "hovertemplate": "color=boys<br>0=%{x}<br>1=%{y}<br>2=%{z}<extra></extra>",
         "legendgroup": "boys",
         "marker": {
          "color": "#636efa",
          "symbol": "circle"
         },
         "mode": "markers",
         "name": "boys",
         "scene": "scene",
         "showlegend": true,
         "type": "scatter3d",
         "x": [
          -0.1647375226020813
         ],
         "y": [
          0.37183117866516113
         ],
         "z": [
          -0.25740593671798706
         ]
        },
        {
         "hovertemplate": "color=beard<br>0=%{x}<br>1=%{y}<br>2=%{z}<extra></extra>",
         "legendgroup": "beard",
         "marker": {
          "color": "#EF553B",
          "symbol": "circle"
         },
         "mode": "markers",
         "name": "beard",
         "scene": "scene",
         "showlegend": true,
         "type": "scatter3d",
         "x": [
          0.4928044080734253
         ],
         "y": [
          0.08805710822343826
         ],
         "z": [
          0.4171406626701355
         ]
        },
        {
         "hovertemplate": "color=wedding<br>0=%{x}<br>1=%{y}<br>2=%{z}<extra></extra>",
         "legendgroup": "wedding",
         "marker": {
          "color": "#00cc96",
          "symbol": "circle"
         },
         "mode": "markers",
         "name": "wedding",
         "scene": "scene",
         "showlegend": true,
         "type": "scatter3d",
         "x": [
          -0.48818790912628174
         ],
         "y": [
          0.4551007151603699
         ],
         "z": [
          0.19002866744995117
         ]
        },
        {
         "hovertemplate": "color=cloaks<br>0=%{x}<br>1=%{y}<br>2=%{z}<extra></extra>",
         "legendgroup": "cloaks",
         "marker": {
          "color": "#ab63fa",
          "symbol": "circle"
         },
         "mode": "markers",
         "name": "cloaks",
         "scene": "scene",
         "showlegend": true,
         "type": "scatter3d",
         "x": [
          0.3510110378265381
         ],
         "y": [
          0.5751152634620667
         ],
         "z": [
          0.05350279062986374
         ]
        },
        {
         "hovertemplate": "color=baratheon<br>0=%{x}<br>1=%{y}<br>2=%{z}<extra></extra>",
         "legendgroup": "baratheon",
         "marker": {
          "color": "#FFA15A",
          "symbol": "circle"
         },
         "mode": "markers",
         "name": "baratheon",
         "scene": "scene",
         "showlegend": true,
         "type": "scatter3d",
         "x": [
          -0.30676865577697754
         ],
         "y": [
          0.6285516619682312
         ],
         "z": [
          0.14949554204940796
         ]
        },
        {
         "hovertemplate": "color=eat<br>0=%{x}<br>1=%{y}<br>2=%{z}<extra></extra>",
         "legendgroup": "eat",
         "marker": {
          "color": "#19d3f3",
          "symbol": "circle"
         },
         "mode": "markers",
         "name": "eat",
         "scene": "scene",
         "showlegend": true,
         "type": "scatter3d",
         "x": [
          -0.22388336062431335
         ],
         "y": [
          -0.48734328150749207
         ],
         "z": [
          -0.3246896266937256
         ]
        },
        {
         "hovertemplate": "color=wrong<br>0=%{x}<br>1=%{y}<br>2=%{z}<extra></extra>",
         "legendgroup": "wrong",
         "marker": {
          "color": "#FF6692",
          "symbol": "circle"
         },
         "mode": "markers",
         "name": "wrong",
         "scene": "scene",
         "showlegend": true,
         "type": "scatter3d",
         "x": [
          -0.4611198604106903
         ],
         "y": [
          -0.4829564392566681
         ],
         "z": [
          -0.08275867998600006
         ]
        },
        {
         "hovertemplate": "color=daenerys<br>0=%{x}<br>1=%{y}<br>2=%{z}<extra></extra>",
         "legendgroup": "daenerys",
         "marker": {
          "color": "#B6E880",
          "symbol": "circle"
         },
         "mode": "markers",
         "name": "daenerys",
         "scene": "scene",
         "showlegend": true,
         "type": "scatter3d",
         "x": [
          -0.5358371734619141
         ],
         "y": [
          0.25887003540992737
         ],
         "z": [
          -0.028090044856071472
         ]
        },
        {
         "hovertemplate": "color=ghost<br>0=%{x}<br>1=%{y}<br>2=%{z}<extra></extra>",
         "legendgroup": "ghost",
         "marker": {
          "color": "#FF97FF",
          "symbol": "circle"
         },
         "mode": "markers",
         "name": "ghost",
         "scene": "scene",
         "showlegend": true,
         "type": "scatter3d",
         "x": [
          0.26635703444480896
         ],
         "y": [
          -0.13940289616584778
         ],
         "z": [
          0.15366511046886444
         ]
        },
        {
         "hovertemplate": "color=hound<br>0=%{x}<br>1=%{y}<br>2=%{z}<extra></extra>",
         "legendgroup": "hound",
         "marker": {
          "color": "#FECB52",
          "symbol": "circle"
         },
         "mode": "markers",
         "name": "hound",
         "scene": "scene",
         "showlegend": true,
         "type": "scatter3d",
         "x": [
          -0.07538428157567978
         ],
         "y": [
          -0.2571234703063965
         ],
         "z": [
          0.4295368194580078
         ]
        },
        {
         "hovertemplate": "color=flesh<br>0=%{x}<br>1=%{y}<br>2=%{z}<extra></extra>",
         "legendgroup": "flesh",
         "marker": {
          "color": "#636efa",
          "symbol": "circle"
         },
         "mode": "markers",
         "name": "flesh",
         "scene": "scene",
         "showlegend": true,
         "type": "scatter3d",
         "x": [
          0.6093985438346863
         ],
         "y": [
          -0.19740042090415955
         ],
         "z": [
          -0.05482706427574158
         ]
        },
        {
         "hovertemplate": "color=five<br>0=%{x}<br>1=%{y}<br>2=%{z}<extra></extra>",
         "legendgroup": "five",
         "marker": {
          "color": "#EF553B",
          "symbol": "circle"
         },
         "mode": "markers",
         "name": "five",
         "scene": "scene",
         "showlegend": true,
         "type": "scatter3d",
         "x": [
          -0.03438221663236618
         ],
         "y": [
          0.6475570797920227
         ],
         "z": [
          -0.3017510771751404
         ]
        },
        {
         "hovertemplate": "color=sight<br>0=%{x}<br>1=%{y}<br>2=%{z}<extra></extra>",
         "legendgroup": "sight",
         "marker": {
          "color": "#00cc96",
          "symbol": "circle"
         },
         "mode": "markers",
         "name": "sight",
         "scene": "scene",
         "showlegend": true,
         "type": "scatter3d",
         "x": [
          0.12891238927841187
         ],
         "y": [
          -0.28288379311561584
         ],
         "z": [
          -0.22750325500965118
         ]
        },
        {
         "hovertemplate": "color=ship<br>0=%{x}<br>1=%{y}<br>2=%{z}<extra></extra>",
         "legendgroup": "ship",
         "marker": {
          "color": "#ab63fa",
          "symbol": "circle"
         },
         "mode": "markers",
         "name": "ship",
         "scene": "scene",
         "showlegend": true,
         "type": "scatter3d",
         "x": [
          -0.009119376540184021
         ],
         "y": [
          0.1880718320608139
         ],
         "z": [
          -0.5198502540588379
         ]
        },
        {
         "hovertemplate": "color=strength<br>0=%{x}<br>1=%{y}<br>2=%{z}<extra></extra>",
         "legendgroup": "strength",
         "marker": {
          "color": "#FFA15A",
          "symbol": "circle"
         },
         "mode": "markers",
         "name": "strength",
         "scene": "scene",
         "showlegend": true,
         "type": "scatter3d",
         "x": [
          -0.39847129583358765
         ],
         "y": [
          0.32178184390068054
         ],
         "z": [
          -0.29608088731765747
         ]
        },
        {
         "hovertemplate": "color=for<br>0=%{x}<br>1=%{y}<br>2=%{z}<extra></extra>",
         "legendgroup": "for",
         "marker": {
          "color": "#19d3f3",
          "symbol": "circle"
         },
         "mode": "markers",
         "name": "for",
         "scene": "scene",
         "showlegend": true,
         "type": "scatter3d",
         "x": [
          -0.8028217554092407
         ],
         "y": [
          -0.11999249458312988
         ],
         "z": [
          0.03379371017217636
         ]
        },
        {
         "hovertemplate": "color=bones<br>0=%{x}<br>1=%{y}<br>2=%{z}<extra></extra>",
         "legendgroup": "bones",
         "marker": {
          "color": "#FF6692",
          "symbol": "circle"
         },
         "mode": "markers",
         "name": "bones",
         "scene": "scene",
         "showlegend": true,
         "type": "scatter3d",
         "x": [
          0.4957314133644104
         ],
         "y": [
          0.15701192617416382
         ],
         "z": [
          -0.23409713804721832
         ]
        },
        {
         "hovertemplate": "color=nose<br>0=%{x}<br>1=%{y}<br>2=%{z}<extra></extra>",
         "legendgroup": "nose",
         "marker": {
          "color": "#B6E880",
          "symbol": "circle"
         },
         "mode": "markers",
         "name": "nose",
         "scene": "scene",
         "showlegend": true,
         "type": "scatter3d",
         "x": [
          0.4896619915962219
         ],
         "y": [
          -0.2636466920375824
         ],
         "z": [
          0.36807769536972046
         ]
        },
        {
         "hovertemplate": "color=returned<br>0=%{x}<br>1=%{y}<br>2=%{z}<extra></extra>",
         "legendgroup": "returned",
         "marker": {
          "color": "#FF97FF",
          "symbol": "circle"
         },
         "mode": "markers",
         "name": "returned",
         "scene": "scene",
         "showlegend": true,
         "type": "scatter3d",
         "x": [
          -0.28932565450668335
         ],
         "y": [
          0.4456016719341278
         ],
         "z": [
          0.11399057507514954
         ]
        },
        {
         "hovertemplate": "color=crown<br>0=%{x}<br>1=%{y}<br>2=%{z}<extra></extra>",
         "legendgroup": "crown",
         "marker": {
          "color": "#FECB52",
          "symbol": "circle"
         },
         "mode": "markers",
         "name": "crown",
         "scene": "scene",
         "showlegend": true,
         "type": "scatter3d",
         "x": [
          -0.03154880553483963
         ],
         "y": [
          0.5827722549438477
         ],
         "z": [
          0.18707653880119324
         ]
        }
       ],
       "layout": {
        "legend": {
         "title": {
          "text": "color"
         },
         "tracegroupgap": 0
        },
        "margin": {
         "t": 60
        },
        "scene": {
         "domain": {
          "x": [
           0,
           1
          ],
          "y": [
           0,
           1
          ]
         },
         "xaxis": {
          "title": {
           "text": "0"
          }
         },
         "yaxis": {
          "title": {
           "text": "1"
          }
         },
         "zaxis": {
          "title": {
           "text": "2"
          }
         }
        },
        "template": {
         "data": {
          "bar": [
           {
            "error_x": {
             "color": "#2a3f5f"
            },
            "error_y": {
             "color": "#2a3f5f"
            },
            "marker": {
             "line": {
              "color": "#E5ECF6",
              "width": 0.5
             },
             "pattern": {
              "fillmode": "overlay",
              "size": 10,
              "solidity": 0.2
             }
            },
            "type": "bar"
           }
          ],
          "barpolar": [
           {
            "marker": {
             "line": {
              "color": "#E5ECF6",
              "width": 0.5
             },
             "pattern": {
              "fillmode": "overlay",
              "size": 10,
              "solidity": 0.2
             }
            },
            "type": "barpolar"
           }
          ],
          "carpet": [
           {
            "aaxis": {
             "endlinecolor": "#2a3f5f",
             "gridcolor": "white",
             "linecolor": "white",
             "minorgridcolor": "white",
             "startlinecolor": "#2a3f5f"
            },
            "baxis": {
             "endlinecolor": "#2a3f5f",
             "gridcolor": "white",
             "linecolor": "white",
             "minorgridcolor": "white",
             "startlinecolor": "#2a3f5f"
            },
            "type": "carpet"
           }
          ],
          "choropleth": [
           {
            "colorbar": {
             "outlinewidth": 0,
             "ticks": ""
            },
            "type": "choropleth"
           }
          ],
          "contour": [
           {
            "colorbar": {
             "outlinewidth": 0,
             "ticks": ""
            },
            "colorscale": [
             [
              0,
              "#0d0887"
             ],
             [
              0.1111111111111111,
              "#46039f"
             ],
             [
              0.2222222222222222,
              "#7201a8"
             ],
             [
              0.3333333333333333,
              "#9c179e"
             ],
             [
              0.4444444444444444,
              "#bd3786"
             ],
             [
              0.5555555555555556,
              "#d8576b"
             ],
             [
              0.6666666666666666,
              "#ed7953"
             ],
             [
              0.7777777777777778,
              "#fb9f3a"
             ],
             [
              0.8888888888888888,
              "#fdca26"
             ],
             [
              1,
              "#f0f921"
             ]
            ],
            "type": "contour"
           }
          ],
          "contourcarpet": [
           {
            "colorbar": {
             "outlinewidth": 0,
             "ticks": ""
            },
            "type": "contourcarpet"
           }
          ],
          "heatmap": [
           {
            "colorbar": {
             "outlinewidth": 0,
             "ticks": ""
            },
            "colorscale": [
             [
              0,
              "#0d0887"
             ],
             [
              0.1111111111111111,
              "#46039f"
             ],
             [
              0.2222222222222222,
              "#7201a8"
             ],
             [
              0.3333333333333333,
              "#9c179e"
             ],
             [
              0.4444444444444444,
              "#bd3786"
             ],
             [
              0.5555555555555556,
              "#d8576b"
             ],
             [
              0.6666666666666666,
              "#ed7953"
             ],
             [
              0.7777777777777778,
              "#fb9f3a"
             ],
             [
              0.8888888888888888,
              "#fdca26"
             ],
             [
              1,
              "#f0f921"
             ]
            ],
            "type": "heatmap"
           }
          ],
          "heatmapgl": [
           {
            "colorbar": {
             "outlinewidth": 0,
             "ticks": ""
            },
            "colorscale": [
             [
              0,
              "#0d0887"
             ],
             [
              0.1111111111111111,
              "#46039f"
             ],
             [
              0.2222222222222222,
              "#7201a8"
             ],
             [
              0.3333333333333333,
              "#9c179e"
             ],
             [
              0.4444444444444444,
              "#bd3786"
             ],
             [
              0.5555555555555556,
              "#d8576b"
             ],
             [
              0.6666666666666666,
              "#ed7953"
             ],
             [
              0.7777777777777778,
              "#fb9f3a"
             ],
             [
              0.8888888888888888,
              "#fdca26"
             ],
             [
              1,
              "#f0f921"
             ]
            ],
            "type": "heatmapgl"
           }
          ],
          "histogram": [
           {
            "marker": {
             "pattern": {
              "fillmode": "overlay",
              "size": 10,
              "solidity": 0.2
             }
            },
            "type": "histogram"
           }
          ],
          "histogram2d": [
           {
            "colorbar": {
             "outlinewidth": 0,
             "ticks": ""
            },
            "colorscale": [
             [
              0,
              "#0d0887"
             ],
             [
              0.1111111111111111,
              "#46039f"
             ],
             [
              0.2222222222222222,
              "#7201a8"
             ],
             [
              0.3333333333333333,
              "#9c179e"
             ],
             [
              0.4444444444444444,
              "#bd3786"
             ],
             [
              0.5555555555555556,
              "#d8576b"
             ],
             [
              0.6666666666666666,
              "#ed7953"
             ],
             [
              0.7777777777777778,
              "#fb9f3a"
             ],
             [
              0.8888888888888888,
              "#fdca26"
             ],
             [
              1,
              "#f0f921"
             ]
            ],
            "type": "histogram2d"
           }
          ],
          "histogram2dcontour": [
           {
            "colorbar": {
             "outlinewidth": 0,
             "ticks": ""
            },
            "colorscale": [
             [
              0,
              "#0d0887"
             ],
             [
              0.1111111111111111,
              "#46039f"
             ],
             [
              0.2222222222222222,
              "#7201a8"
             ],
             [
              0.3333333333333333,
              "#9c179e"
             ],
             [
              0.4444444444444444,
              "#bd3786"
             ],
             [
              0.5555555555555556,
              "#d8576b"
             ],
             [
              0.6666666666666666,
              "#ed7953"
             ],
             [
              0.7777777777777778,
              "#fb9f3a"
             ],
             [
              0.8888888888888888,
              "#fdca26"
             ],
             [
              1,
              "#f0f921"
             ]
            ],
            "type": "histogram2dcontour"
           }
          ],
          "mesh3d": [
           {
            "colorbar": {
             "outlinewidth": 0,
             "ticks": ""
            },
            "type": "mesh3d"
           }
          ],
          "parcoords": [
           {
            "line": {
             "colorbar": {
              "outlinewidth": 0,
              "ticks": ""
             }
            },
            "type": "parcoords"
           }
          ],
          "pie": [
           {
            "automargin": true,
            "type": "pie"
           }
          ],
          "scatter": [
           {
            "fillpattern": {
             "fillmode": "overlay",
             "size": 10,
             "solidity": 0.2
            },
            "type": "scatter"
           }
          ],
          "scatter3d": [
           {
            "line": {
             "colorbar": {
              "outlinewidth": 0,
              "ticks": ""
             }
            },
            "marker": {
             "colorbar": {
              "outlinewidth": 0,
              "ticks": ""
             }
            },
            "type": "scatter3d"
           }
          ],
          "scattercarpet": [
           {
            "marker": {
             "colorbar": {
              "outlinewidth": 0,
              "ticks": ""
             }
            },
            "type": "scattercarpet"
           }
          ],
          "scattergeo": [
           {
            "marker": {
             "colorbar": {
              "outlinewidth": 0,
              "ticks": ""
             }
            },
            "type": "scattergeo"
           }
          ],
          "scattergl": [
           {
            "marker": {
             "colorbar": {
              "outlinewidth": 0,
              "ticks": ""
             }
            },
            "type": "scattergl"
           }
          ],
          "scattermapbox": [
           {
            "marker": {
             "colorbar": {
              "outlinewidth": 0,
              "ticks": ""
             }
            },
            "type": "scattermapbox"
           }
          ],
          "scatterpolar": [
           {
            "marker": {
             "colorbar": {
              "outlinewidth": 0,
              "ticks": ""
             }
            },
            "type": "scatterpolar"
           }
          ],
          "scatterpolargl": [
           {
            "marker": {
             "colorbar": {
              "outlinewidth": 0,
              "ticks": ""
             }
            },
            "type": "scatterpolargl"
           }
          ],
          "scatterternary": [
           {
            "marker": {
             "colorbar": {
              "outlinewidth": 0,
              "ticks": ""
             }
            },
            "type": "scatterternary"
           }
          ],
          "surface": [
           {
            "colorbar": {
             "outlinewidth": 0,
             "ticks": ""
            },
            "colorscale": [
             [
              0,
              "#0d0887"
             ],
             [
              0.1111111111111111,
              "#46039f"
             ],
             [
              0.2222222222222222,
              "#7201a8"
             ],
             [
              0.3333333333333333,
              "#9c179e"
             ],
             [
              0.4444444444444444,
              "#bd3786"
             ],
             [
              0.5555555555555556,
              "#d8576b"
             ],
             [
              0.6666666666666666,
              "#ed7953"
             ],
             [
              0.7777777777777778,
              "#fb9f3a"
             ],
             [
              0.8888888888888888,
              "#fdca26"
             ],
             [
              1,
              "#f0f921"
             ]
            ],
            "type": "surface"
           }
          ],
          "table": [
           {
            "cells": {
             "fill": {
              "color": "#EBF0F8"
             },
             "line": {
              "color": "white"
             }
            },
            "header": {
             "fill": {
              "color": "#C8D4E3"
             },
             "line": {
              "color": "white"
             }
            },
            "type": "table"
           }
          ]
         },
         "layout": {
          "annotationdefaults": {
           "arrowcolor": "#2a3f5f",
           "arrowhead": 0,
           "arrowwidth": 1
          },
          "autotypenumbers": "strict",
          "coloraxis": {
           "colorbar": {
            "outlinewidth": 0,
            "ticks": ""
           }
          },
          "colorscale": {
           "diverging": [
            [
             0,
             "#8e0152"
            ],
            [
             0.1,
             "#c51b7d"
            ],
            [
             0.2,
             "#de77ae"
            ],
            [
             0.3,
             "#f1b6da"
            ],
            [
             0.4,
             "#fde0ef"
            ],
            [
             0.5,
             "#f7f7f7"
            ],
            [
             0.6,
             "#e6f5d0"
            ],
            [
             0.7,
             "#b8e186"
            ],
            [
             0.8,
             "#7fbc41"
            ],
            [
             0.9,
             "#4d9221"
            ],
            [
             1,
             "#276419"
            ]
           ],
           "sequential": [
            [
             0,
             "#0d0887"
            ],
            [
             0.1111111111111111,
             "#46039f"
            ],
            [
             0.2222222222222222,
             "#7201a8"
            ],
            [
             0.3333333333333333,
             "#9c179e"
            ],
            [
             0.4444444444444444,
             "#bd3786"
            ],
            [
             0.5555555555555556,
             "#d8576b"
            ],
            [
             0.6666666666666666,
             "#ed7953"
            ],
            [
             0.7777777777777778,
             "#fb9f3a"
            ],
            [
             0.8888888888888888,
             "#fdca26"
            ],
            [
             1,
             "#f0f921"
            ]
           ],
           "sequentialminus": [
            [
             0,
             "#0d0887"
            ],
            [
             0.1111111111111111,
             "#46039f"
            ],
            [
             0.2222222222222222,
             "#7201a8"
            ],
            [
             0.3333333333333333,
             "#9c179e"
            ],
            [
             0.4444444444444444,
             "#bd3786"
            ],
            [
             0.5555555555555556,
             "#d8576b"
            ],
            [
             0.6666666666666666,
             "#ed7953"
            ],
            [
             0.7777777777777778,
             "#fb9f3a"
            ],
            [
             0.8888888888888888,
             "#fdca26"
            ],
            [
             1,
             "#f0f921"
            ]
           ]
          },
          "colorway": [
           "#636efa",
           "#EF553B",
           "#00cc96",
           "#ab63fa",
           "#FFA15A",
           "#19d3f3",
           "#FF6692",
           "#B6E880",
           "#FF97FF",
           "#FECB52"
          ],
          "font": {
           "color": "#2a3f5f"
          },
          "geo": {
           "bgcolor": "white",
           "lakecolor": "white",
           "landcolor": "#E5ECF6",
           "showlakes": true,
           "showland": true,
           "subunitcolor": "white"
          },
          "hoverlabel": {
           "align": "left"
          },
          "hovermode": "closest",
          "mapbox": {
           "style": "light"
          },
          "paper_bgcolor": "white",
          "plot_bgcolor": "#E5ECF6",
          "polar": {
           "angularaxis": {
            "gridcolor": "white",
            "linecolor": "white",
            "ticks": ""
           },
           "bgcolor": "#E5ECF6",
           "radialaxis": {
            "gridcolor": "white",
            "linecolor": "white",
            "ticks": ""
           }
          },
          "scene": {
           "xaxis": {
            "backgroundcolor": "#E5ECF6",
            "gridcolor": "white",
            "gridwidth": 2,
            "linecolor": "white",
            "showbackground": true,
            "ticks": "",
            "zerolinecolor": "white"
           },
           "yaxis": {
            "backgroundcolor": "#E5ECF6",
            "gridcolor": "white",
            "gridwidth": 2,
            "linecolor": "white",
            "showbackground": true,
            "ticks": "",
            "zerolinecolor": "white"
           },
           "zaxis": {
            "backgroundcolor": "#E5ECF6",
            "gridcolor": "white",
            "gridwidth": 2,
            "linecolor": "white",
            "showbackground": true,
            "ticks": "",
            "zerolinecolor": "white"
           }
          },
          "shapedefaults": {
           "line": {
            "color": "#2a3f5f"
           }
          },
          "ternary": {
           "aaxis": {
            "gridcolor": "white",
            "linecolor": "white",
            "ticks": ""
           },
           "baxis": {
            "gridcolor": "white",
            "linecolor": "white",
            "ticks": ""
           },
           "bgcolor": "#E5ECF6",
           "caxis": {
            "gridcolor": "white",
            "linecolor": "white",
            "ticks": ""
           }
          },
          "title": {
           "x": 0.05
          },
          "xaxis": {
           "automargin": true,
           "gridcolor": "white",
           "linecolor": "white",
           "ticks": "",
           "title": {
            "standoff": 15
           },
           "zerolinecolor": "white",
           "zerolinewidth": 2
          },
          "yaxis": {
           "automargin": true,
           "gridcolor": "white",
           "linecolor": "white",
           "ticks": "",
           "title": {
            "standoff": 15
           },
           "zerolinecolor": "white",
           "zerolinewidth": 2
          }
         }
        }
       }
      }
     },
     "metadata": {},
     "output_type": "display_data"
    }
   ],
   "source": [
    "import plotly.express as px\n",
    "\n",
    "fig = px.scatter_3d(X[:500],x=0,y=1,z=2, color=y[:500])\n",
    "fig.show()"
   ]
  },
  {
   "cell_type": "code",
   "execution_count": null,
   "metadata": {},
   "outputs": [],
   "source": []
  }
 ],
 "metadata": {
  "kernelspec": {
   "display_name": "Python 3 (ipykernel)",
   "language": "python",
   "name": "python3"
  },
  "language_info": {
   "codemirror_mode": {
    "name": "ipython",
    "version": 3
   },
   "file_extension": ".py",
   "mimetype": "text/x-python",
   "name": "python",
   "nbconvert_exporter": "python",
   "pygments_lexer": "ipython3",
   "version": "3.10.15"
  }
 },
 "nbformat": 4,
 "nbformat_minor": 4
}
